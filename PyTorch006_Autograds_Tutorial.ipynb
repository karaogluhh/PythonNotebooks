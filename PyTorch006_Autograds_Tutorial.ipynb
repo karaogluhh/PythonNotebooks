{
  "cells": [
    {
      "cell_type": "markdown",
      "metadata": {
        "id": "view-in-github",
        "colab_type": "text"
      },
      "source": [
        "<a href=\"https://colab.research.google.com/github/karaogluhh/PythonNotebooks/blob/main/PyTorch006_Autograds_Tutorial.ipynb\" target=\"_parent\"><img src=\"https://colab.research.google.com/assets/colab-badge.svg\" alt=\"Open In Colab\"/></a>"
      ]
    },
    {
      "cell_type": "code",
      "execution_count": null,
      "metadata": {
        "id": "c9vTuUBcuGAz"
      },
      "outputs": [],
      "source": [
        "# For tips on running notebooks in Google Colab, see\n",
        "# https://pytorch.org/tutorials/beginner/colab\n",
        "%matplotlib inline"
      ]
    },
    {
      "cell_type": "markdown",
      "metadata": {
        "id": "5tn3KBA0uGA1"
      },
      "source": [
        "\n",
        "[Learn the Basics](intro.html) ||\n",
        "[Quickstart](quickstart_tutorial.html) ||\n",
        "[Tensors](tensorqs_tutorial.html) ||\n",
        "[Datasets & DataLoaders](data_tutorial.html) ||\n",
        "[Transforms](transforms_tutorial.html) ||\n",
        "[Build Model](buildmodel_tutorial.html) ||\n",
        "**Autograd** ||\n",
        "[Optimization](optimization_tutorial.html) ||\n",
        "[Save & Load Model](saveloadrun_tutorial.html)\n",
        "\n",
        "# Automatic Differentiation with ``torch.autograd``\n",
        "\n",
        "When training neural networks, the most frequently used algorithm is\n",
        "**back propagation**. In this algorithm, parameters (model weights) are\n",
        "adjusted according to the **gradient** of the loss function with respect\n",
        "to the given parameter.\n",
        "\n",
        "To compute those gradients, PyTorch has a built-in differentiation engine\n",
        "called ``torch.autograd``. It supports automatic computation of gradient for any\n",
        "computational graph.\n",
        "\n",
        "Consider the simplest one-layer neural network, with input ``x``,\n",
        "parameters ``w`` and ``b``, and some loss function. It can be defined in\n",
        "PyTorch in the following manner:\n"
      ]
    },
    {
      "cell_type": "code",
      "execution_count": null,
      "metadata": {
        "id": "msdYYaiiuGA2"
      },
      "outputs": [],
      "source": [
        "import torch\n",
        "\n",
        "x = torch.ones(5)  # input tensor\n",
        "y = torch.zeros(3)  # expected output\n",
        "w = torch.randn(5, 3, requires_grad=True)\n",
        "b = torch.randn(3, requires_grad=True)\n",
        "z = torch.matmul(x, w)+b\n",
        "loss = torch.nn.functional.binary_cross_entropy_with_logits(z, y)"
      ]
    },
    {
      "cell_type": "markdown",
      "metadata": {
        "id": "7H0XOa8muGA2"
      },
      "source": [
        "## Tensors, Functions and Computational graph\n",
        "\n",
        "This code defines the following **computational graph**:\n",
        "\n",
        ".. figure:: /_static/img/basics/comp-graph.png\n",
        "   :alt:\n",
        "\n",
        "In this network, ``w`` and ``b`` are **parameters**, which we need to\n",
        "optimize. Thus, we need to be able to compute the gradients of loss\n",
        "function with respect to those variables. In order to do that, we set\n",
        "the ``requires_grad`` property of those tensors.\n",
        "\n"
      ]
    },
    {
      "cell_type": "markdown",
      "metadata": {
        "id": "Ef7kqNgNuGA2"
      },
      "source": [
        "<div class=\"alert alert-info\"><h4>Note</h4><p>You can set the value of ``requires_grad`` when creating a\n",
        "          tensor, or later by using ``x.requires_grad_(True)`` method.</p></div>\n",
        "\n"
      ]
    },
    {
      "cell_type": "markdown",
      "metadata": {
        "id": "OUxEL2G-uGA3"
      },
      "source": [
        "A function that we apply to tensors to construct computational graph is\n",
        "in fact an object of class ``Function``. This object knows how to\n",
        "compute the function in the *forward* direction, and also how to compute\n",
        "its derivative during the *backward propagation* step. A reference to\n",
        "the backward propagation function is stored in ``grad_fn`` property of a\n",
        "tensor. You can find more information of ``Function`` [in the\n",
        "documentation](https://pytorch.org/docs/stable/autograd.html#function)_.\n",
        "\n",
        "\n"
      ]
    },
    {
      "cell_type": "code",
      "execution_count": null,
      "metadata": {
        "id": "yWb7tIqnuGA3",
        "outputId": "178856a6-d411-4011-b338-1d773c25d35f",
        "colab": {
          "base_uri": "https://localhost:8080/"
        }
      },
      "outputs": [
        {
          "output_type": "stream",
          "name": "stdout",
          "text": [
            "Gradient function for z = <AddBackward0 object at 0x7c631e666c80>\n",
            "Gradient function for loss = <BinaryCrossEntropyWithLogitsBackward0 object at 0x7c631d826350>\n"
          ]
        }
      ],
      "source": [
        "print(f\"Gradient function for z = {z.grad_fn}\")\n",
        "print(f\"Gradient function for loss = {loss.grad_fn}\")"
      ]
    },
    {
      "cell_type": "markdown",
      "metadata": {
        "id": "sQO6yVlvuGA4"
      },
      "source": [
        "## Computing Gradients\n",
        "\n",
        "To optimize weights of parameters in the neural network, we need to\n",
        "compute the derivatives of our loss function with respect to parameters,\n",
        "namely, we need $\\frac{\\partial loss}{\\partial w}$ and\n",
        "$\\frac{\\partial loss}{\\partial b}$ under some fixed values of\n",
        "``x`` and ``y``. To compute those derivatives, we call\n",
        "``loss.backward()``, and then retrieve the values from ``w.grad`` and\n",
        "``b.grad``:\n",
        "\n",
        "\n"
      ]
    },
    {
      "cell_type": "code",
      "execution_count": null,
      "metadata": {
        "id": "FgHktdlIuGA4",
        "outputId": "2128819e-e68e-4605-9a02-b65f0a9e3513",
        "colab": {
          "base_uri": "https://localhost:8080/"
        }
      },
      "outputs": [
        {
          "output_type": "stream",
          "name": "stdout",
          "text": [
            "tensor([[4.2998e-02, 1.5417e-04, 2.0034e-01],\n",
            "        [4.2998e-02, 1.5417e-04, 2.0034e-01],\n",
            "        [4.2998e-02, 1.5417e-04, 2.0034e-01],\n",
            "        [4.2998e-02, 1.5417e-04, 2.0034e-01],\n",
            "        [4.2998e-02, 1.5417e-04, 2.0034e-01]])\n",
            "tensor([4.2998e-02, 1.5417e-04, 2.0034e-01])\n"
          ]
        }
      ],
      "source": [
        "loss.backward()\n",
        "print(w.grad)\n",
        "print(b.grad)"
      ]
    },
    {
      "cell_type": "markdown",
      "metadata": {
        "id": "lZem5M8MuGA5"
      },
      "source": [
        "<div class=\"alert alert-info\"><h4>Note</h4><p>- We can only obtain the ``grad`` properties for the leaf\n",
        "    nodes of the computational graph, which have ``requires_grad`` property\n",
        "    set to ``True``. For all other nodes in our graph, gradients will not be\n",
        "    available.\n",
        "  - We can only perform gradient calculations using\n",
        "    ``backward`` once on a given graph, for performance reasons. If we need\n",
        "    to do several ``backward`` calls on the same graph, we need to pass\n",
        "    ``retain_graph=True`` to the ``backward`` call.</p></div>\n",
        "\n",
        "\n"
      ]
    },
    {
      "cell_type": "markdown",
      "metadata": {
        "id": "w4-npdlnuGA5"
      },
      "source": [
        "## Disabling Gradient Tracking\n",
        "\n",
        "By default, all tensors with ``requires_grad=True`` are tracking their\n",
        "computational history and support gradient computation. However, there\n",
        "are some cases when we do not need to do that, for example, when we have\n",
        "trained the model and just want to apply it to some input data, i.e. we\n",
        "only want to do *forward* computations through the network. We can stop\n",
        "tracking computations by surrounding our computation code with\n",
        "``torch.no_grad()`` block:\n",
        "\n",
        "\n"
      ]
    },
    {
      "cell_type": "code",
      "execution_count": null,
      "metadata": {
        "id": "TQNsDxmruGA5",
        "outputId": "3e54fd06-ce24-4c14-ab03-395f3e63031c",
        "colab": {
          "base_uri": "https://localhost:8080/"
        }
      },
      "outputs": [
        {
          "output_type": "stream",
          "name": "stdout",
          "text": [
            "True\n",
            "False\n"
          ]
        }
      ],
      "source": [
        "z = torch.matmul(x, w)+b\n",
        "print(z.requires_grad)\n",
        "\n",
        "with torch.no_grad():\n",
        "    z = torch.matmul(x, w)+b\n",
        "print(z.requires_grad)"
      ]
    },
    {
      "cell_type": "markdown",
      "metadata": {
        "id": "hsYnkdfTuGA5"
      },
      "source": [
        "Another way to achieve the same result is to use the ``detach()`` method\n",
        "on the tensor:\n",
        "\n",
        "\n"
      ]
    },
    {
      "cell_type": "code",
      "execution_count": null,
      "metadata": {
        "id": "KHJTvUHeuGA5",
        "outputId": "0cf33694-f863-4065-a0a9-f9e345b1ded3",
        "colab": {
          "base_uri": "https://localhost:8080/"
        }
      },
      "outputs": [
        {
          "output_type": "stream",
          "name": "stdout",
          "text": [
            "False\n"
          ]
        }
      ],
      "source": [
        "z = torch.matmul(x, w)+b\n",
        "z_det = z.detach()\n",
        "print(z_det.requires_grad)"
      ]
    },
    {
      "cell_type": "markdown",
      "metadata": {
        "id": "13WCzqgWuGA5"
      },
      "source": [
        "There are reasons you might want to disable gradient tracking:\n",
        "  - To mark some parameters in your neural network as **frozen parameters**.\n",
        "  - To **speed up computations** when you are only doing forward pass, because computations on tensors that do\n",
        "    not track gradients would be more efficient.\n",
        "\n"
      ]
    },
    {
      "cell_type": "markdown",
      "metadata": {
        "id": "AvVmfJFKuGA6"
      },
      "source": [
        "## More on Computational Graphs\n",
        "Conceptually, autograd keeps a record of data (tensors) and all executed\n",
        "operations (along with the resulting new tensors) in a directed acyclic\n",
        "graph (DAG) consisting of\n",
        "[Function](https://pytorch.org/docs/stable/autograd.html#torch.autograd.Function)_\n",
        "objects. In this DAG, leaves are the input tensors, roots are the output\n",
        "tensors. By tracing this graph from roots to leaves, you can\n",
        "automatically compute the gradients using the chain rule.\n",
        "\n",
        "In a forward pass, autograd does two things simultaneously:\n",
        "\n",
        "- run the requested operation to compute a resulting tensor\n",
        "- maintain the operation’s *gradient function* in the DAG.\n",
        "\n",
        "The backward pass kicks off when ``.backward()`` is called on the DAG\n",
        "root. ``autograd`` then:\n",
        "\n",
        "- computes the gradients from each ``.grad_fn``,\n",
        "- accumulates them in the respective tensor’s ``.grad`` attribute\n",
        "- using the chain rule, propagates all the way to the leaf tensors.\n",
        "\n",
        "<div class=\"alert alert-info\"><h4>Note</h4><p>**DAGs are dynamic in PyTorch**\n",
        "  An important thing to note is that the graph is recreated from scratch; after each\n",
        "  ``.backward()`` call, autograd starts populating a new graph. This is\n",
        "  exactly what allows you to use control flow statements in your model;\n",
        "  you can change the shape, size and operations at every iteration if\n",
        "  needed.</p></div>\n",
        "\n"
      ]
    },
    {
      "cell_type": "markdown",
      "metadata": {
        "id": "_uRJcDu3uGA6"
      },
      "source": [
        "## Optional Reading: Tensor Gradients and Jacobian Products\n",
        "\n",
        "In many cases, we have a scalar loss function, and we need to compute\n",
        "the gradient with respect to some parameters. However, there are cases\n",
        "when the output function is an arbitrary tensor. In this case, PyTorch\n",
        "allows you to compute so-called **Jacobian product**, and not the actual\n",
        "gradient.\n",
        "\n",
        "For a vector function $\\vec{y}=f(\\vec{x})$, where\n",
        "$\\vec{x}=\\langle x_1,\\dots,x_n\\rangle$ and\n",
        "$\\vec{y}=\\langle y_1,\\dots,y_m\\rangle$, a gradient of\n",
        "$\\vec{y}$ with respect to $\\vec{x}$ is given by **Jacobian\n",
        "matrix**:\n",
        "\n",
        "\\begin{align}J=\\left(\\begin{array}{ccc}\n",
        "      \\frac{\\partial y_{1}}{\\partial x_{1}} & \\cdots & \\frac{\\partial y_{1}}{\\partial x_{n}}\\\\\n",
        "      \\vdots & \\ddots & \\vdots\\\\\n",
        "      \\frac{\\partial y_{m}}{\\partial x_{1}} & \\cdots & \\frac{\\partial y_{m}}{\\partial x_{n}}\n",
        "      \\end{array}\\right)\\end{align}\n",
        "\n",
        "Instead of computing the Jacobian matrix itself, PyTorch allows you to\n",
        "compute **Jacobian Product** $v^T\\cdot J$ for a given input vector\n",
        "$v=(v_1 \\dots v_m)$. This is achieved by calling ``backward`` with\n",
        "$v$ as an argument. The size of $v$ should be the same as\n",
        "the size of the original tensor, with respect to which we want to\n",
        "compute the product:\n",
        "\n",
        "\n"
      ]
    },
    {
      "cell_type": "code",
      "execution_count": null,
      "metadata": {
        "id": "zYqqoSovuGA6",
        "outputId": "c5dc0b55-d61b-4f65-8137-74ab9c7a8ba4",
        "colab": {
          "base_uri": "https://localhost:8080/"
        }
      },
      "outputs": [
        {
          "output_type": "stream",
          "name": "stdout",
          "text": [
            "First call\n",
            "tensor([[4., 2., 2., 2., 2.],\n",
            "        [2., 4., 2., 2., 2.],\n",
            "        [2., 2., 4., 2., 2.],\n",
            "        [2., 2., 2., 4., 2.]])\n",
            "\n",
            "Second call\n",
            "tensor([[8., 4., 4., 4., 4.],\n",
            "        [4., 8., 4., 4., 4.],\n",
            "        [4., 4., 8., 4., 4.],\n",
            "        [4., 4., 4., 8., 4.]])\n",
            "\n",
            "Call after zeroing gradients\n",
            "tensor([[4., 2., 2., 2., 2.],\n",
            "        [2., 4., 2., 2., 2.],\n",
            "        [2., 2., 4., 2., 2.],\n",
            "        [2., 2., 2., 4., 2.]])\n"
          ]
        }
      ],
      "source": [
        "inp = torch.eye(4, 5, requires_grad=True)\n",
        "out = (inp+1).pow(2).t()\n",
        "out.backward(torch.ones_like(out), retain_graph=True)\n",
        "print(f\"First call\\n{inp.grad}\")\n",
        "out.backward(torch.ones_like(out), retain_graph=True)\n",
        "print(f\"\\nSecond call\\n{inp.grad}\")\n",
        "inp.grad.zero_()\n",
        "out.backward(torch.ones_like(out), retain_graph=True)\n",
        "print(f\"\\nCall after zeroing gradients\\n{inp.grad}\")"
      ]
    },
    {
      "cell_type": "markdown",
      "metadata": {
        "id": "737axZSOuGA6"
      },
      "source": [
        "Notice that when we call ``backward`` for the second time with the same\n",
        "argument, the value of the gradient is different. This happens because\n",
        "when doing ``backward`` propagation, PyTorch **accumulates the\n",
        "gradients**, i.e. the value of computed gradients is added to the\n",
        "``grad`` property of all leaf nodes of computational graph. If you want\n",
        "to compute the proper gradients, you need to zero out the ``grad``\n",
        "property before. In real-life training an *optimizer* helps us to do\n",
        "this.\n",
        "\n"
      ]
    },
    {
      "cell_type": "markdown",
      "metadata": {
        "id": "PLxnOaiwuGA6"
      },
      "source": [
        "<div class=\"alert alert-info\"><h4>Note</h4><p>Previously we were calling ``backward()`` function without\n",
        "          parameters. This is essentially equivalent to calling\n",
        "          ``backward(torch.tensor(1.0))``, which is a useful way to compute the\n",
        "          gradients in case of a scalar-valued function, such as loss during\n",
        "          neural network training.</p></div>\n",
        "\n",
        "\n"
      ]
    },
    {
      "cell_type": "markdown",
      "metadata": {
        "id": "4x1DtGOnuGA6"
      },
      "source": [
        "--------------\n",
        "\n",
        "\n"
      ]
    },
    {
      "cell_type": "code",
      "execution_count": null,
      "metadata": {
        "id": "Fo7lOMtUIrEE"
      },
      "outputs": [],
      "source": [
        "# For tips on running notebooks in Google Colab, see\n",
        "# https://pytorch.org/tutorials/beginner/colab\n",
        "%matplotlib inline"
      ]
    },
    {
      "cell_type": "markdown",
      "metadata": {
        "id": "e068ogP6IrEG"
      },
      "source": [
        "\n",
        "# A Gentle Introduction to ``torch.autograd``\n",
        "\n",
        "``torch.autograd`` is PyTorch’s automatic differentiation engine that powers\n",
        "neural network training. In this section, you will get a conceptual\n",
        "understanding of how autograd helps a neural network train.\n",
        "\n",
        "## Background\n",
        "Neural networks (NNs) are a collection of nested functions that are\n",
        "executed on some input data. These functions are defined by *parameters*\n",
        "(consisting of weights and biases), which in PyTorch are stored in\n",
        "tensors.\n",
        "\n",
        "Training a NN happens in two steps:\n",
        "\n",
        "**Forward Propagation**: In forward prop, the NN makes its best guess\n",
        "about the correct output. It runs the input data through each of its\n",
        "functions to make this guess.\n",
        "\n",
        "**Backward Propagation**: In backprop, the NN adjusts its parameters\n",
        "proportionate to the error in its guess. It does this by traversing\n",
        "backwards from the output, collecting the derivatives of the error with\n",
        "respect to the parameters of the functions (*gradients*), and optimizing\n",
        "the parameters using gradient descent. For a more detailed walkthrough\n",
        "of backprop, check out this [video from\n",
        "3Blue1Brown](https://www.youtube.com/watch?v=tIeHLnjs5U8)_.\n",
        "\n",
        "\n",
        "\n",
        "\n",
        "## Usage in PyTorch\n",
        "Let's take a look at a single training step.\n",
        "For this example, we load a pretrained resnet18 model from ``torchvision``.\n",
        "We create a random data tensor to represent a single image with 3 channels, and height & width of 64,\n",
        "and its corresponding ``label`` initialized to some random values. Label in pretrained models has\n",
        "shape (1,1000).\n",
        "\n",
        "<div class=\"alert alert-info\"><h4>Note</h4><p>This tutorial works only on the CPU and will not work on GPU devices (even if tensors are moved to CUDA).</p></div>\n"
      ]
    },
    {
      "cell_type": "code",
      "execution_count": 2,
      "metadata": {
        "id": "YY-4BmBwIrEH"
      },
      "outputs": [],
      "source": [
        "import torch\n",
        "from torchvision.models import resnet18, ResNet18_Weights\n",
        "model = resnet18(weights=ResNet18_Weights.DEFAULT)\n",
        "data = torch.rand(1, 3, 64, 64)\n",
        "labels = torch.rand(1, 1000)"
      ]
    },
    {
      "cell_type": "markdown",
      "metadata": {
        "id": "nYOcIPUzIrEH"
      },
      "source": [
        "Next, we run the input data through the model through each of its layers to make a prediction.\n",
        "This is the **forward pass**.\n",
        "\n",
        "\n"
      ]
    },
    {
      "cell_type": "code",
      "execution_count": 5,
      "metadata": {
        "id": "z66wO31rIrEI",
        "outputId": "ce8a6761-79be-4b78-da2a-0301077b7cdd",
        "colab": {
          "base_uri": "https://localhost:8080/"
        }
      },
      "outputs": [
        {
          "output_type": "stream",
          "name": "stdout",
          "text": [
            "ResNet(\n",
            "  (conv1): Conv2d(3, 64, kernel_size=(7, 7), stride=(2, 2), padding=(3, 3), bias=False)\n",
            "  (bn1): BatchNorm2d(64, eps=1e-05, momentum=0.1, affine=True, track_running_stats=True)\n",
            "  (relu): ReLU(inplace=True)\n",
            "  (maxpool): MaxPool2d(kernel_size=3, stride=2, padding=1, dilation=1, ceil_mode=False)\n",
            "  (layer1): Sequential(\n",
            "    (0): BasicBlock(\n",
            "      (conv1): Conv2d(64, 64, kernel_size=(3, 3), stride=(1, 1), padding=(1, 1), bias=False)\n",
            "      (bn1): BatchNorm2d(64, eps=1e-05, momentum=0.1, affine=True, track_running_stats=True)\n",
            "      (relu): ReLU(inplace=True)\n",
            "      (conv2): Conv2d(64, 64, kernel_size=(3, 3), stride=(1, 1), padding=(1, 1), bias=False)\n",
            "      (bn2): BatchNorm2d(64, eps=1e-05, momentum=0.1, affine=True, track_running_stats=True)\n",
            "    )\n",
            "    (1): BasicBlock(\n",
            "      (conv1): Conv2d(64, 64, kernel_size=(3, 3), stride=(1, 1), padding=(1, 1), bias=False)\n",
            "      (bn1): BatchNorm2d(64, eps=1e-05, momentum=0.1, affine=True, track_running_stats=True)\n",
            "      (relu): ReLU(inplace=True)\n",
            "      (conv2): Conv2d(64, 64, kernel_size=(3, 3), stride=(1, 1), padding=(1, 1), bias=False)\n",
            "      (bn2): BatchNorm2d(64, eps=1e-05, momentum=0.1, affine=True, track_running_stats=True)\n",
            "    )\n",
            "  )\n",
            "  (layer2): Sequential(\n",
            "    (0): BasicBlock(\n",
            "      (conv1): Conv2d(64, 128, kernel_size=(3, 3), stride=(2, 2), padding=(1, 1), bias=False)\n",
            "      (bn1): BatchNorm2d(128, eps=1e-05, momentum=0.1, affine=True, track_running_stats=True)\n",
            "      (relu): ReLU(inplace=True)\n",
            "      (conv2): Conv2d(128, 128, kernel_size=(3, 3), stride=(1, 1), padding=(1, 1), bias=False)\n",
            "      (bn2): BatchNorm2d(128, eps=1e-05, momentum=0.1, affine=True, track_running_stats=True)\n",
            "      (downsample): Sequential(\n",
            "        (0): Conv2d(64, 128, kernel_size=(1, 1), stride=(2, 2), bias=False)\n",
            "        (1): BatchNorm2d(128, eps=1e-05, momentum=0.1, affine=True, track_running_stats=True)\n",
            "      )\n",
            "    )\n",
            "    (1): BasicBlock(\n",
            "      (conv1): Conv2d(128, 128, kernel_size=(3, 3), stride=(1, 1), padding=(1, 1), bias=False)\n",
            "      (bn1): BatchNorm2d(128, eps=1e-05, momentum=0.1, affine=True, track_running_stats=True)\n",
            "      (relu): ReLU(inplace=True)\n",
            "      (conv2): Conv2d(128, 128, kernel_size=(3, 3), stride=(1, 1), padding=(1, 1), bias=False)\n",
            "      (bn2): BatchNorm2d(128, eps=1e-05, momentum=0.1, affine=True, track_running_stats=True)\n",
            "    )\n",
            "  )\n",
            "  (layer3): Sequential(\n",
            "    (0): BasicBlock(\n",
            "      (conv1): Conv2d(128, 256, kernel_size=(3, 3), stride=(2, 2), padding=(1, 1), bias=False)\n",
            "      (bn1): BatchNorm2d(256, eps=1e-05, momentum=0.1, affine=True, track_running_stats=True)\n",
            "      (relu): ReLU(inplace=True)\n",
            "      (conv2): Conv2d(256, 256, kernel_size=(3, 3), stride=(1, 1), padding=(1, 1), bias=False)\n",
            "      (bn2): BatchNorm2d(256, eps=1e-05, momentum=0.1, affine=True, track_running_stats=True)\n",
            "      (downsample): Sequential(\n",
            "        (0): Conv2d(128, 256, kernel_size=(1, 1), stride=(2, 2), bias=False)\n",
            "        (1): BatchNorm2d(256, eps=1e-05, momentum=0.1, affine=True, track_running_stats=True)\n",
            "      )\n",
            "    )\n",
            "    (1): BasicBlock(\n",
            "      (conv1): Conv2d(256, 256, kernel_size=(3, 3), stride=(1, 1), padding=(1, 1), bias=False)\n",
            "      (bn1): BatchNorm2d(256, eps=1e-05, momentum=0.1, affine=True, track_running_stats=True)\n",
            "      (relu): ReLU(inplace=True)\n",
            "      (conv2): Conv2d(256, 256, kernel_size=(3, 3), stride=(1, 1), padding=(1, 1), bias=False)\n",
            "      (bn2): BatchNorm2d(256, eps=1e-05, momentum=0.1, affine=True, track_running_stats=True)\n",
            "    )\n",
            "  )\n",
            "  (layer4): Sequential(\n",
            "    (0): BasicBlock(\n",
            "      (conv1): Conv2d(256, 512, kernel_size=(3, 3), stride=(2, 2), padding=(1, 1), bias=False)\n",
            "      (bn1): BatchNorm2d(512, eps=1e-05, momentum=0.1, affine=True, track_running_stats=True)\n",
            "      (relu): ReLU(inplace=True)\n",
            "      (conv2): Conv2d(512, 512, kernel_size=(3, 3), stride=(1, 1), padding=(1, 1), bias=False)\n",
            "      (bn2): BatchNorm2d(512, eps=1e-05, momentum=0.1, affine=True, track_running_stats=True)\n",
            "      (downsample): Sequential(\n",
            "        (0): Conv2d(256, 512, kernel_size=(1, 1), stride=(2, 2), bias=False)\n",
            "        (1): BatchNorm2d(512, eps=1e-05, momentum=0.1, affine=True, track_running_stats=True)\n",
            "      )\n",
            "    )\n",
            "    (1): BasicBlock(\n",
            "      (conv1): Conv2d(512, 512, kernel_size=(3, 3), stride=(1, 1), padding=(1, 1), bias=False)\n",
            "      (bn1): BatchNorm2d(512, eps=1e-05, momentum=0.1, affine=True, track_running_stats=True)\n",
            "      (relu): ReLU(inplace=True)\n",
            "      (conv2): Conv2d(512, 512, kernel_size=(3, 3), stride=(1, 1), padding=(1, 1), bias=False)\n",
            "      (bn2): BatchNorm2d(512, eps=1e-05, momentum=0.1, affine=True, track_running_stats=True)\n",
            "    )\n",
            "  )\n",
            "  (avgpool): AdaptiveAvgPool2d(output_size=(1, 1))\n",
            "  (fc): Linear(in_features=512, out_features=1000, bias=True)\n",
            ")\n"
          ]
        }
      ],
      "source": [
        "prediction = model(data) # forward pass\n",
        "print(model)"
      ]
    },
    {
      "cell_type": "markdown",
      "metadata": {
        "id": "NqH9uIZbIrEI"
      },
      "source": [
        "We use the model's prediction and the corresponding label to calculate the error (``loss``).\n",
        "The next step is to backpropagate this error through the network.\n",
        "Backward propagation is kicked off when we call ``.backward()`` on the error tensor.\n",
        "Autograd then calculates and stores the gradients for each model parameter in the parameter's ``.grad`` attribute.\n",
        "\n",
        "\n"
      ]
    },
    {
      "cell_type": "code",
      "execution_count": 6,
      "metadata": {
        "id": "7JC9TK1WIrEI"
      },
      "outputs": [],
      "source": [
        "loss = (prediction - labels).sum()\n",
        "loss.backward() # backward pass"
      ]
    },
    {
      "cell_type": "markdown",
      "metadata": {
        "id": "ndzIHVoWIrEI"
      },
      "source": [
        "Next, we load an optimizer, in this case SGD with a learning rate of 0.01 and [momentum](https://towardsdatascience.com/stochastic-gradient-descent-with-momentum-a84097641a5d)_ of 0.9.\n",
        "We register all the parameters of the model in the optimizer.\n",
        "\n",
        "\n"
      ]
    },
    {
      "cell_type": "code",
      "execution_count": 7,
      "metadata": {
        "id": "zP3tMN6TIrEI"
      },
      "outputs": [],
      "source": [
        "optim = torch.optim.SGD(model.parameters(), lr=1e-2, momentum=0.9)"
      ]
    },
    {
      "cell_type": "markdown",
      "metadata": {
        "id": "GoHugcN3IrEJ"
      },
      "source": [
        "Finally, we call ``.step()`` to initiate gradient descent. The optimizer adjusts each parameter by its gradient stored in ``.grad``.\n",
        "\n",
        "\n"
      ]
    },
    {
      "cell_type": "code",
      "execution_count": 8,
      "metadata": {
        "id": "_YgVECFPIrEJ"
      },
      "outputs": [],
      "source": [
        "optim.step() #gradient descent"
      ]
    },
    {
      "cell_type": "markdown",
      "metadata": {
        "id": "yCdIaPpZIrEJ"
      },
      "source": [
        "At this point, you have everything you need to train your neural network.\n",
        "The below sections detail the workings of autograd - feel free to skip them.\n",
        "\n",
        "\n"
      ]
    },
    {
      "cell_type": "markdown",
      "metadata": {
        "id": "S4jSsx8_IrEJ"
      },
      "source": [
        "--------------\n",
        "\n",
        "\n"
      ]
    },
    {
      "cell_type": "markdown",
      "metadata": {
        "id": "mW6HqYqUIrEJ"
      },
      "source": [
        "## Differentiation in Autograd\n",
        "Let's take a look at how ``autograd`` collects gradients. We create two tensors ``a`` and ``b`` with\n",
        "``requires_grad=True``. This signals to ``autograd`` that every operation on them should be tracked.\n",
        "\n",
        "\n"
      ]
    },
    {
      "cell_type": "code",
      "execution_count": 9,
      "metadata": {
        "id": "Iv5S-G3OIrEJ"
      },
      "outputs": [],
      "source": [
        "import torch\n",
        "\n",
        "a = torch.tensor([2., 3.], requires_grad=True)\n",
        "b = torch.tensor([6., 4.], requires_grad=True)"
      ]
    },
    {
      "cell_type": "markdown",
      "metadata": {
        "id": "_ia9HT9vIrEJ"
      },
      "source": [
        "We create another tensor ``Q`` from ``a`` and ``b``.\n",
        "\n",
        "\\begin{align}Q = 3a^3 - b^2\\end{align}\n",
        "\n"
      ]
    },
    {
      "cell_type": "code",
      "execution_count": 10,
      "metadata": {
        "id": "wqvPSpSQIrEJ"
      },
      "outputs": [],
      "source": [
        "Q = 3*a**3 - b**2"
      ]
    },
    {
      "cell_type": "markdown",
      "metadata": {
        "id": "98P9LtSRIrEJ"
      },
      "source": [
        "Let's assume ``a`` and ``b`` to be parameters of an NN, and ``Q``\n",
        "to be the error. In NN training, we want gradients of the error\n",
        "w.r.t. parameters, i.e.\n",
        "\n",
        "\\begin{align}\\frac{\\partial Q}{\\partial a} = 9a^2\\end{align}\n",
        "\n",
        "\\begin{align}\\frac{\\partial Q}{\\partial b} = -2b\\end{align}\n",
        "\n",
        "\n",
        "When we call ``.backward()`` on ``Q``, autograd calculates these gradients\n",
        "and stores them in the respective tensors' ``.grad`` attribute.\n",
        "\n",
        "We need to explicitly pass a ``gradient`` argument in ``Q.backward()`` because it is a vector.\n",
        "``gradient`` is a tensor of the same shape as ``Q``, and it represents the\n",
        "gradient of Q w.r.t. itself, i.e.\n",
        "\n",
        "\\begin{align}\\frac{dQ}{dQ} = 1\\end{align}\n",
        "\n",
        "Equivalently, we can also aggregate Q into a scalar and call backward implicitly, like ``Q.sum().backward()``.\n",
        "\n",
        "\n"
      ]
    },
    {
      "cell_type": "code",
      "execution_count": 11,
      "metadata": {
        "id": "ubPFcas9IrEJ"
      },
      "outputs": [],
      "source": [
        "external_grad = torch.tensor([1., 1.])\n",
        "Q.backward(gradient=external_grad)"
      ]
    },
    {
      "cell_type": "markdown",
      "metadata": {
        "id": "HGn2oNk9IrEJ"
      },
      "source": [
        "Gradients are now deposited in ``a.grad`` and ``b.grad``\n",
        "\n"
      ]
    },
    {
      "cell_type": "code",
      "execution_count": 12,
      "metadata": {
        "id": "AXaGkL2KIrEJ",
        "outputId": "9879fec9-8af9-472d-ab9f-4803292182dc",
        "colab": {
          "base_uri": "https://localhost:8080/"
        }
      },
      "outputs": [
        {
          "output_type": "stream",
          "name": "stdout",
          "text": [
            "tensor([True, True])\n",
            "tensor([True, True])\n"
          ]
        }
      ],
      "source": [
        "# check if collected gradients are correct\n",
        "print(9*a**2 == a.grad)\n",
        "print(-2*b == b.grad)"
      ]
    },
    {
      "cell_type": "markdown",
      "metadata": {
        "id": "yJ5aGcj4IrEJ"
      },
      "source": [
        "### Optional Reading - Vector Calculus using ``autograd``\n",
        "\n",
        "Mathematically, if you have a vector valued function\n",
        "$\\vec{y}=f(\\vec{x})$, then the gradient of $\\vec{y}$ with\n",
        "respect to $\\vec{x}$ is a Jacobian matrix $J$:\n",
        "\n",
        "\\begin{align}J\n",
        "     =\n",
        "      \\left(\\begin{array}{cc}\n",
        "      \\frac{\\partial \\bf{y}}{\\partial x_{1}} &\n",
        "      ... &\n",
        "      \\frac{\\partial \\bf{y}}{\\partial x_{n}}\n",
        "      \\end{array}\\right)\n",
        "     =\n",
        "     \\left(\\begin{array}{ccc}\n",
        "      \\frac{\\partial y_{1}}{\\partial x_{1}} & \\cdots & \\frac{\\partial y_{1}}{\\partial x_{n}}\\\\\n",
        "      \\vdots & \\ddots & \\vdots\\\\\n",
        "      \\frac{\\partial y_{m}}{\\partial x_{1}} & \\cdots & \\frac{\\partial y_{m}}{\\partial x_{n}}\n",
        "      \\end{array}\\right)\\end{align}\n",
        "\n",
        "Generally speaking, ``torch.autograd`` is an engine for computing\n",
        "vector-Jacobian product. That is, given any vector $\\vec{v}$, compute the product\n",
        "$J^{T}\\cdot \\vec{v}$\n",
        "\n",
        "If $\\vec{v}$ happens to be the gradient of a scalar function $l=g\\left(\\vec{y}\\right)$:\n",
        "\n",
        "\\begin{align}\\vec{v}\n",
        "   =\n",
        "   \\left(\\begin{array}{ccc}\\frac{\\partial l}{\\partial y_{1}} & \\cdots & \\frac{\\partial l}{\\partial y_{m}}\\end{array}\\right)^{T}\\end{align}\n",
        "\n",
        "then by the chain rule, the vector-Jacobian product would be the\n",
        "gradient of $l$ with respect to $\\vec{x}$:\n",
        "\n",
        "\\begin{align}J^{T}\\cdot \\vec{v}=\\left(\\begin{array}{ccc}\n",
        "      \\frac{\\partial y_{1}}{\\partial x_{1}} & \\cdots & \\frac{\\partial y_{m}}{\\partial x_{1}}\\\\\n",
        "      \\vdots & \\ddots & \\vdots\\\\\n",
        "      \\frac{\\partial y_{1}}{\\partial x_{n}} & \\cdots & \\frac{\\partial y_{m}}{\\partial x_{n}}\n",
        "      \\end{array}\\right)\\left(\\begin{array}{c}\n",
        "      \\frac{\\partial l}{\\partial y_{1}}\\\\\n",
        "      \\vdots\\\\\n",
        "      \\frac{\\partial l}{\\partial y_{m}}\n",
        "      \\end{array}\\right)=\\left(\\begin{array}{c}\n",
        "      \\frac{\\partial l}{\\partial x_{1}}\\\\\n",
        "      \\vdots\\\\\n",
        "      \\frac{\\partial l}{\\partial x_{n}}\n",
        "      \\end{array}\\right)\\end{align}\n",
        "\n",
        "This characteristic of vector-Jacobian product is what we use in the above example;\n",
        "``external_grad`` represents $\\vec{v}$.\n",
        "\n",
        "\n"
      ]
    },
    {
      "cell_type": "markdown",
      "metadata": {
        "id": "dYJVZsCSIrEK"
      },
      "source": [
        "## Computational Graph\n",
        "\n",
        "Conceptually, autograd keeps a record of data (tensors) & all executed\n",
        "operations (along with the resulting new tensors) in a directed acyclic\n",
        "graph (DAG) consisting of\n",
        "[Function](https://pytorch.org/docs/stable/autograd.html#torch.autograd.Function)_\n",
        "objects. In this DAG, leaves are the input tensors, roots are the output\n",
        "tensors. By tracing this graph from roots to leaves, you can\n",
        "automatically compute the gradients using the chain rule.\n",
        "\n",
        "In a forward pass, autograd does two things simultaneously:\n",
        "\n",
        "- run the requested operation to compute a resulting tensor, and\n",
        "- maintain the operation’s *gradient function* in the DAG.\n",
        "\n",
        "The backward pass kicks off when ``.backward()`` is called on the DAG\n",
        "root. ``autograd`` then:\n",
        "\n",
        "- computes the gradients from each ``.grad_fn``,\n",
        "- accumulates them in the respective tensor’s ``.grad`` attribute, and\n",
        "- using the chain rule, propagates all the way to the leaf tensors.\n",
        "\n",
        "Below is a visual representation of the DAG in our example. In the graph,\n",
        "the arrows are in the direction of the forward pass. The nodes represent the backward functions\n",
        "of each operation in the forward pass. The leaf nodes in blue represent our leaf tensors ``a`` and ``b``.\n",
        "\n",
        ".. figure:: /_static/img/dag_autograd.png\n",
        "\n",
        "<div class=\"alert alert-info\"><h4>Note</h4><p>**DAGs are dynamic in PyTorch**\n",
        "  An important thing to note is that the graph is recreated from scratch; after each\n",
        "  ``.backward()`` call, autograd starts populating a new graph. This is\n",
        "  exactly what allows you to use control flow statements in your model;\n",
        "  you can change the shape, size and operations at every iteration if\n",
        "  needed.</p></div>\n",
        "\n",
        "### Exclusion from the DAG\n",
        "\n",
        "``torch.autograd`` tracks operations on all tensors which have their\n",
        "``requires_grad`` flag set to ``True``. For tensors that don’t require\n",
        "gradients, setting this attribute to ``False`` excludes it from the\n",
        "gradient computation DAG.\n",
        "\n",
        "The output tensor of an operation will require gradients even if only a\n",
        "single input tensor has ``requires_grad=True``.\n",
        "\n",
        "\n"
      ]
    },
    {
      "cell_type": "code",
      "execution_count": null,
      "metadata": {
        "id": "cvi4T3EzIrEK"
      },
      "outputs": [],
      "source": [
        "x = torch.rand(5, 5)\n",
        "y = torch.rand(5, 5)\n",
        "z = torch.rand((5, 5), requires_grad=True)\n",
        "\n",
        "a = x + y\n",
        "print(f\"Does `a` require gradients? : {a.requires_grad}\")\n",
        "b = x + z\n",
        "print(f\"Does `b` require gradients?: {b.requires_grad}\")"
      ]
    },
    {
      "cell_type": "markdown",
      "metadata": {
        "id": "_AZvPXTEIrEK"
      },
      "source": [
        "In a NN, parameters that don't compute gradients are usually called **frozen parameters**.\n",
        "It is useful to \"freeze\" part of your model if you know in advance that you won't need the gradients of those parameters\n",
        "(this offers some performance benefits by reducing autograd computations).\n",
        "\n",
        "In finetuning, we freeze most of the model and typically only modify the classifier layers to make predictions on new labels.\n",
        "Let's walk through a small example to demonstrate this. As before, we load a pretrained resnet18 model, and freeze all the parameters.\n",
        "\n"
      ]
    },
    {
      "cell_type": "code",
      "execution_count": 13,
      "metadata": {
        "id": "v0t9_afPIrEK"
      },
      "outputs": [],
      "source": [
        "from torch import nn, optim\n",
        "\n",
        "model = resnet18(weights=ResNet18_Weights.DEFAULT)\n",
        "\n",
        "# Freeze all the parameters in the network\n",
        "for param in model.parameters():\n",
        "    param.requires_grad = False"
      ]
    },
    {
      "cell_type": "markdown",
      "metadata": {
        "id": "5Mgz2pnXIrEK"
      },
      "source": [
        "Let's say we want to finetune the model on a new dataset with 10 labels.\n",
        "In resnet, the classifier is the last linear layer ``model.fc``.\n",
        "We can simply replace it with a new linear layer (unfrozen by default)\n",
        "that acts as our classifier.\n",
        "\n"
      ]
    },
    {
      "cell_type": "code",
      "execution_count": null,
      "metadata": {
        "id": "uGda15OUIrEK"
      },
      "outputs": [],
      "source": [
        "model.fc = nn.Linear(512, 10)"
      ]
    },
    {
      "cell_type": "markdown",
      "metadata": {
        "id": "3JvZDrDmIrEK"
      },
      "source": [
        "Now all parameters in the model, except the parameters of ``model.fc``, are frozen.\n",
        "The only parameters that compute gradients are the weights and bias of ``model.fc``.\n",
        "\n"
      ]
    },
    {
      "cell_type": "code",
      "execution_count": null,
      "metadata": {
        "id": "v_fc5hT8IrEK"
      },
      "outputs": [],
      "source": [
        "# Optimize only the classifier\n",
        "optimizer = optim.SGD(model.parameters(), lr=1e-2, momentum=0.9)"
      ]
    },
    {
      "cell_type": "markdown",
      "metadata": {
        "id": "R7bfQogHIrEK"
      },
      "source": [
        "Notice although we register all the parameters in the optimizer,\n",
        "the only parameters that are computing gradients (and hence updated in gradient descent)\n",
        "are the weights and bias of the classifier.\n",
        "\n",
        "The same exclusionary functionality is available as a context manager in\n",
        "[torch.no_grad()](https://pytorch.org/docs/stable/generated/torch.no_grad.html)_\n",
        "\n",
        "\n"
      ]
    },
    {
      "cell_type": "markdown",
      "metadata": {
        "id": "lgjfkwnIIrEK"
      },
      "source": [
        "--------------\n",
        "\n",
        "\n"
      ]
    },
    {
      "cell_type": "markdown",
      "metadata": {
        "id": "Y7VDOwc0IrEK"
      },
      "source": [
        "## Further readings:\n",
        "\n",
        "-  [In-place operations & Multithreaded Autograd](https://pytorch.org/docs/stable/notes/autograd.html)_\n",
        "-  [Example implementation of reverse-mode autodiff](https://colab.research.google.com/drive/1VpeE6UvEPRz9HmsHh1KS0XxXjYu533EC)_\n",
        "-  [Video: PyTorch Autograd Explained - In-depth Tutorial](https://www.youtube.com/watch?v=MswxJw-8PvE)_\n",
        "\n"
      ]
    },
    {
      "cell_type": "markdown",
      "metadata": {
        "id": "SUaXvt6wuGA6"
      },
      "source": [
        "### Further Reading\n",
        "- [Autograd Mechanics](https://pytorch.org/docs/stable/notes/autograd.html)\n",
        "\n"
      ]
    }
  ],
  "metadata": {
    "kernelspec": {
      "display_name": "Python 3",
      "name": "python3"
    },
    "language_info": {
      "codemirror_mode": {
        "name": "ipython",
        "version": 3
      },
      "file_extension": ".py",
      "mimetype": "text/x-python",
      "name": "python",
      "nbconvert_exporter": "python",
      "pygments_lexer": "ipython3",
      "version": "3.10.13"
    },
    "colab": {
      "provenance": [],
      "gpuType": "T4",
      "include_colab_link": true
    },
    "accelerator": "GPU"
  },
  "nbformat": 4,
  "nbformat_minor": 0
}