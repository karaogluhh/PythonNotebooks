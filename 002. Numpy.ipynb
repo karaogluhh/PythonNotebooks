{
  "cells": [
    {
      "cell_type": "markdown",
      "metadata": {
        "id": "view-in-github",
        "colab_type": "text"
      },
      "source": [
        "<a href=\"https://colab.research.google.com/github/karaogluhh/PythonNotebooks/blob/main/002.%20Numpy.ipynb\" target=\"_parent\"><img src=\"https://colab.research.google.com/assets/colab-badge.svg\" alt=\"Open In Colab\"/></a>"
      ]
    },
    {
      "cell_type": "markdown",
      "source": [
        "# Numpy"
      ],
      "metadata": {
        "id": "vFGDwbHvfOmU"
      }
    },
    {
      "cell_type": "code",
      "source": [
        "import numpy as np\n",
        "print(np.__version__)"
      ],
      "metadata": {
        "id": "rhioHeGagTd-",
        "outputId": "af8bab0e-a305-4590-95b7-a9df10cdfac1",
        "colab": {
          "base_uri": "https://localhost:8080/"
        }
      },
      "execution_count": 124,
      "outputs": [
        {
          "output_type": "stream",
          "name": "stdout",
          "text": [
            "1.25.2\n"
          ]
        }
      ]
    },
    {
      "cell_type": "code",
      "source": [
        "v = np.array([1,2,3,4]) # Vector\n",
        "print(v)"
      ],
      "metadata": {
        "id": "StHqWnD9gi_3",
        "outputId": "96910381-c492-49e6-a3c5-0c7b0bc6dbb5",
        "colab": {
          "base_uri": "https://localhost:8080/"
        }
      },
      "execution_count": 125,
      "outputs": [
        {
          "output_type": "stream",
          "name": "stdout",
          "text": [
            "[1 2 3 4]\n"
          ]
        }
      ]
    },
    {
      "cell_type": "code",
      "source": [
        "V = np.array([[1,2],[3,4]])\n",
        "print(V)"
      ],
      "metadata": {
        "id": "YFgU0o1Wg4zB",
        "outputId": "e6065319-31b5-4dfe-8cf4-caf267025bb2",
        "colab": {
          "base_uri": "https://localhost:8080/"
        }
      },
      "execution_count": 126,
      "outputs": [
        {
          "output_type": "stream",
          "name": "stdout",
          "text": [
            "[[1 2]\n",
            " [3 4]]\n"
          ]
        }
      ]
    },
    {
      "cell_type": "code",
      "source": [
        "print(type(v), type(V))"
      ],
      "metadata": {
        "id": "O4wB0ftEhOWv",
        "outputId": "a1449ad4-e8d4-42a1-d8fe-d34adc5e389a",
        "colab": {
          "base_uri": "https://localhost:8080/"
        }
      },
      "execution_count": 127,
      "outputs": [
        {
          "output_type": "stream",
          "name": "stdout",
          "text": [
            "<class 'numpy.ndarray'> <class 'numpy.ndarray'>\n"
          ]
        }
      ]
    },
    {
      "cell_type": "code",
      "source": [
        "v.shape"
      ],
      "metadata": {
        "id": "GkC9Mb3ohZDh",
        "outputId": "9db8a629-9de2-4368-9f17-c2070d2880d9",
        "colab": {
          "base_uri": "https://localhost:8080/"
        }
      },
      "execution_count": 128,
      "outputs": [
        {
          "output_type": "execute_result",
          "data": {
            "text/plain": [
              "(4,)"
            ]
          },
          "metadata": {},
          "execution_count": 128
        }
      ]
    },
    {
      "cell_type": "code",
      "source": [
        "V.shape"
      ],
      "metadata": {
        "id": "PpwLSkVUhdVg",
        "outputId": "03cc1fef-2ee9-45b7-d059-d243b1efacbd",
        "colab": {
          "base_uri": "https://localhost:8080/"
        }
      },
      "execution_count": 129,
      "outputs": [
        {
          "output_type": "execute_result",
          "data": {
            "text/plain": [
              "(2, 2)"
            ]
          },
          "metadata": {},
          "execution_count": 129
        }
      ]
    },
    {
      "cell_type": "code",
      "source": [
        "np.shape(v)"
      ],
      "metadata": {
        "id": "aEFz7KsVhiVE",
        "outputId": "2b7b0c32-639c-4893-906f-aedd2bbad882",
        "colab": {
          "base_uri": "https://localhost:8080/"
        }
      },
      "execution_count": 130,
      "outputs": [
        {
          "output_type": "execute_result",
          "data": {
            "text/plain": [
              "(4,)"
            ]
          },
          "metadata": {},
          "execution_count": 130
        }
      ]
    },
    {
      "cell_type": "code",
      "source": [
        "np.shape(V)"
      ],
      "metadata": {
        "id": "7IxRnMIZh1rA",
        "outputId": "4450946c-4ccd-4cf3-9756-8b49a288b7b5",
        "colab": {
          "base_uri": "https://localhost:8080/"
        }
      },
      "execution_count": 131,
      "outputs": [
        {
          "output_type": "execute_result",
          "data": {
            "text/plain": [
              "(2, 2)"
            ]
          },
          "metadata": {},
          "execution_count": 131
        }
      ]
    },
    {
      "cell_type": "code",
      "source": [
        "v.size"
      ],
      "metadata": {
        "id": "iTA-p87_h6mz",
        "outputId": "07443b39-0292-46b6-c50e-adffd8a303a1",
        "colab": {
          "base_uri": "https://localhost:8080/"
        }
      },
      "execution_count": 132,
      "outputs": [
        {
          "output_type": "execute_result",
          "data": {
            "text/plain": [
              "4"
            ]
          },
          "metadata": {},
          "execution_count": 132
        }
      ]
    },
    {
      "cell_type": "code",
      "source": [
        "V.size"
      ],
      "metadata": {
        "id": "mxuR0qWtrZVe",
        "outputId": "f4f2e0fc-d666-45a3-adad-bd4bb232ff08",
        "colab": {
          "base_uri": "https://localhost:8080/"
        }
      },
      "execution_count": 133,
      "outputs": [
        {
          "output_type": "execute_result",
          "data": {
            "text/plain": [
              "4"
            ]
          },
          "metadata": {},
          "execution_count": 133
        }
      ]
    },
    {
      "cell_type": "markdown",
      "source": [
        "There are several reasons:\n",
        "\n",
        "1. Python lists are very general. They can contain any kind of object. They are dynamically typed. They do not support mathematical functions such as matrix and dot multiplications, etc. Implementing such functions for Python lists would not be very efficient because of the dynamic typing.\n",
        "2. Numpy arrays are statically typed and homogeneous. The type of the elements is determined when the array is created.\n",
        "3. Numpy arrays are memory efficient.\n",
        "4. Because of the static typing, fast implementation of mathematical functions such as multiplication and addition of numpy arrays can be implemented in a compiled language (C and Fortran is used)."
      ],
      "metadata": {
        "id": "VDqZe2kEruVE"
      }
    },
    {
      "cell_type": "code",
      "source": [
        "V.dtype"
      ],
      "metadata": {
        "id": "v2X7ynl7rcPl",
        "outputId": "c9c2ac4d-db36-4385-a75a-08c5c505b27b",
        "colab": {
          "base_uri": "https://localhost:8080/"
        }
      },
      "execution_count": 134,
      "outputs": [
        {
          "output_type": "execute_result",
          "data": {
            "text/plain": [
              "dtype('int64')"
            ]
          },
          "metadata": {},
          "execution_count": 134
        }
      ]
    },
    {
      "cell_type": "code",
      "source": [
        "# V[0,1] = 'm'"
      ],
      "metadata": {
        "id": "6rIAs3KZsGqI"
      },
      "execution_count": 135,
      "outputs": []
    },
    {
      "cell_type": "code",
      "source": [
        "N = np.array([[1, 2],[3, 4]], dtype=complex)"
      ],
      "metadata": {
        "id": "I1U210JksSql"
      },
      "execution_count": 136,
      "outputs": []
    },
    {
      "cell_type": "code",
      "source": [
        "print(N)"
      ],
      "metadata": {
        "id": "RVNqBfWAswmS",
        "outputId": "79dff433-1782-440f-e165-bcff18530d45",
        "colab": {
          "base_uri": "https://localhost:8080/"
        }
      },
      "execution_count": 137,
      "outputs": [
        {
          "output_type": "stream",
          "name": "stdout",
          "text": [
            "[[1.+0.j 2.+0.j]\n",
            " [3.+0.j 4.+0.j]]\n"
          ]
        }
      ]
    },
    {
      "cell_type": "markdown",
      "source": [
        "### Array Generating Functions"
      ],
      "metadata": {
        "id": "WqZt2c_Gt0Ca"
      }
    },
    {
      "cell_type": "code",
      "source": [
        "x = np.arange(0, 10, 2)\n",
        "print(x)"
      ],
      "metadata": {
        "id": "gbTZMXunuDAp",
        "colab": {
          "base_uri": "https://localhost:8080/"
        },
        "outputId": "c3bd3c4f-114e-4dc6-9bcb-3c3dea02f92a"
      },
      "execution_count": 138,
      "outputs": [
        {
          "output_type": "stream",
          "name": "stdout",
          "text": [
            "[0 2 4 6 8]\n"
          ]
        }
      ]
    },
    {
      "cell_type": "code",
      "source": [
        "x = np.arange(-1, 1, 0.1)\n",
        "print(x)"
      ],
      "metadata": {
        "colab": {
          "base_uri": "https://localhost:8080/"
        },
        "id": "trZT9gM62JfC",
        "outputId": "e4530099-8138-4ff5-9bdb-585b87b64730"
      },
      "execution_count": 139,
      "outputs": [
        {
          "output_type": "stream",
          "name": "stdout",
          "text": [
            "[-1.00000000e+00 -9.00000000e-01 -8.00000000e-01 -7.00000000e-01\n",
            " -6.00000000e-01 -5.00000000e-01 -4.00000000e-01 -3.00000000e-01\n",
            " -2.00000000e-01 -1.00000000e-01 -2.22044605e-16  1.00000000e-01\n",
            "  2.00000000e-01  3.00000000e-01  4.00000000e-01  5.00000000e-01\n",
            "  6.00000000e-01  7.00000000e-01  8.00000000e-01  9.00000000e-01]\n"
          ]
        }
      ]
    },
    {
      "cell_type": "code",
      "source": [
        "x = np.linspace(0,10, 5)\n",
        "print(x)"
      ],
      "metadata": {
        "colab": {
          "base_uri": "https://localhost:8080/"
        },
        "id": "KU7nIqzx2M2u",
        "outputId": "22b57e49-6c5d-48cd-a9f5-f6dd514f298d"
      },
      "execution_count": 140,
      "outputs": [
        {
          "output_type": "stream",
          "name": "stdout",
          "text": [
            "[ 0.   2.5  5.   7.5 10. ]\n"
          ]
        }
      ]
    },
    {
      "cell_type": "code",
      "source": [
        "x = np.logspace(0,2,5)\n",
        "print(x)"
      ],
      "metadata": {
        "colab": {
          "base_uri": "https://localhost:8080/"
        },
        "id": "F-bTkK6v2U4d",
        "outputId": "48f404bc-d971-419b-d1f7-d26431b66c87"
      },
      "execution_count": 141,
      "outputs": [
        {
          "output_type": "stream",
          "name": "stdout",
          "text": [
            "[  1.           3.16227766  10.          31.6227766  100.        ]\n"
          ]
        }
      ]
    },
    {
      "cell_type": "code",
      "source": [
        "x, y = np.mgrid[0:5, 0:5]\n",
        "print(x)\n",
        "print(y)"
      ],
      "metadata": {
        "colab": {
          "base_uri": "https://localhost:8080/"
        },
        "id": "qGUXy1772Y3s",
        "outputId": "ffd44089-6f33-4dad-8d78-9bf3dbe2368a"
      },
      "execution_count": 142,
      "outputs": [
        {
          "output_type": "stream",
          "name": "stdout",
          "text": [
            "[[0 0 0 0 0]\n",
            " [1 1 1 1 1]\n",
            " [2 2 2 2 2]\n",
            " [3 3 3 3 3]\n",
            " [4 4 4 4 4]]\n",
            "[[0 1 2 3 4]\n",
            " [0 1 2 3 4]\n",
            " [0 1 2 3 4]\n",
            " [0 1 2 3 4]\n",
            " [0 1 2 3 4]]\n"
          ]
        }
      ]
    },
    {
      "cell_type": "code",
      "source": [
        "x = np.random.rand(5,5) # uniform random numbers in [0,1]\n",
        "print(x)"
      ],
      "metadata": {
        "colab": {
          "base_uri": "https://localhost:8080/"
        },
        "id": "BZhk6-x22i11",
        "outputId": "8bc9f96d-e104-4e48-e5ee-a0ad82bcf438"
      },
      "execution_count": 143,
      "outputs": [
        {
          "output_type": "stream",
          "name": "stdout",
          "text": [
            "[[0.82610691 0.69425238 0.99580266 0.20232132 0.72367984]\n",
            " [0.57039789 0.69090472 0.52616822 0.50111114 0.07289511]\n",
            " [0.38998254 0.80390348 0.20739329 0.17709391 0.32833146]\n",
            " [0.46033521 0.77833512 0.27659465 0.33934937 0.31985837]\n",
            " [0.91695061 0.07980886 0.44867464 0.91984165 0.57917611]]\n"
          ]
        }
      ]
    },
    {
      "cell_type": "code",
      "source": [
        "x = np.random.randn(5,5) # normal random numbers\n",
        "print(x)"
      ],
      "metadata": {
        "colab": {
          "base_uri": "https://localhost:8080/"
        },
        "id": "0jsoTe2S2sxe",
        "outputId": "636cd2b5-0c43-48f9-bb16-2b36d38bd1d3"
      },
      "execution_count": 144,
      "outputs": [
        {
          "output_type": "stream",
          "name": "stdout",
          "text": [
            "[[ 0.06184846 -0.07805132 -3.39923265  1.08478491 -1.10431761]\n",
            " [ 0.05137204  0.33106142 -0.08265604  0.65790678 -1.30823758]\n",
            " [ 0.96236637  0.74502755 -1.05302912 -0.42591759  0.45237286]\n",
            " [ 0.0048307  -0.87718817  1.08694606  0.59804603  0.55745645]\n",
            " [ 0.92428517  1.15003975 -0.39393017  0.961236   -2.21072626]]\n"
          ]
        }
      ]
    },
    {
      "cell_type": "code",
      "source": [
        "x = np.diag([-3,-2,-1])\n",
        "print(x)"
      ],
      "metadata": {
        "colab": {
          "base_uri": "https://localhost:8080/"
        },
        "id": "I7ZNkMDR25ph",
        "outputId": "0329c06b-bdd9-41ab-b802-70b26ec80cc0"
      },
      "execution_count": 145,
      "outputs": [
        {
          "output_type": "stream",
          "name": "stdout",
          "text": [
            "[[-3  0  0]\n",
            " [ 0 -2  0]\n",
            " [ 0  0 -1]]\n"
          ]
        }
      ]
    },
    {
      "cell_type": "code",
      "source": [
        "x = np.diag([-3,-2,-1], 1)\n",
        "print(x)"
      ],
      "metadata": {
        "colab": {
          "base_uri": "https://localhost:8080/"
        },
        "id": "ZAYo3mkW2-aR",
        "outputId": "98ca5507-2fa4-482c-a05c-c89a4a12894f"
      },
      "execution_count": 146,
      "outputs": [
        {
          "output_type": "stream",
          "name": "stdout",
          "text": [
            "[[ 0 -3  0  0]\n",
            " [ 0  0 -2  0]\n",
            " [ 0  0  0 -1]\n",
            " [ 0  0  0  0]]\n"
          ]
        }
      ]
    },
    {
      "cell_type": "code",
      "source": [
        "x = np.diag([-3,-2,-1], -2)\n",
        "print(x)"
      ],
      "metadata": {
        "outputId": "db49ba6c-fde1-4ce8-dfb7-305bf1218728",
        "colab": {
          "base_uri": "https://localhost:8080/"
        },
        "id": "cdBP-0Of3LcL"
      },
      "execution_count": 147,
      "outputs": [
        {
          "output_type": "stream",
          "name": "stdout",
          "text": [
            "[[ 0  0  0  0  0]\n",
            " [ 0  0  0  0  0]\n",
            " [-3  0  0  0  0]\n",
            " [ 0 -2  0  0  0]\n",
            " [ 0  0 -1  0  0]]\n"
          ]
        }
      ]
    },
    {
      "cell_type": "code",
      "source": [
        "x = np.zeros((3,2))\n",
        "print(x)"
      ],
      "metadata": {
        "colab": {
          "base_uri": "https://localhost:8080/"
        },
        "id": "cOZWP-K23GVX",
        "outputId": "583c3b48-22a5-4c27-f288-2865dca22786"
      },
      "execution_count": 148,
      "outputs": [
        {
          "output_type": "stream",
          "name": "stdout",
          "text": [
            "[[0. 0.]\n",
            " [0. 0.]\n",
            " [0. 0.]]\n"
          ]
        }
      ]
    },
    {
      "cell_type": "code",
      "source": [
        "x = np.ones((2,3))\n",
        "print(x)"
      ],
      "metadata": {
        "colab": {
          "base_uri": "https://localhost:8080/"
        },
        "id": "0WWItSQn3UZE",
        "outputId": "1c7b153c-3fbd-4c2f-ee56-3f18c6c7ede0"
      },
      "execution_count": 149,
      "outputs": [
        {
          "output_type": "stream",
          "name": "stdout",
          "text": [
            "[[1. 1. 1.]\n",
            " [1. 1. 1.]]\n"
          ]
        }
      ]
    },
    {
      "cell_type": "markdown",
      "source": [
        "## File I/O\n",
        "### Comma-separated values (CSV)"
      ],
      "metadata": {
        "id": "LzRc9bic3ctM"
      }
    },
    {
      "cell_type": "code",
      "source": [
        "!head stockholm_td_adj.dat"
      ],
      "metadata": {
        "colab": {
          "base_uri": "https://localhost:8080/"
        },
        "id": "ACjDMg7o3ZAd",
        "outputId": "5e97623b-c207-48ff-df60-a4c8e4e51abe"
      },
      "execution_count": 150,
      "outputs": [
        {
          "output_type": "stream",
          "name": "stdout",
          "text": [
            "1800  1  1    -6.1    -6.1    -6.1 1\n",
            "1800  1  2   -15.4   -15.4   -15.4 1\n",
            "1800  1  3   -15.0   -15.0   -15.0 1\n",
            "1800  1  4   -19.3   -19.3   -19.3 1\n",
            "1800  1  5   -16.8   -16.8   -16.8 1\n",
            "1800  1  6   -11.4   -11.4   -11.4 1\n",
            "1800  1  7    -7.6    -7.6    -7.6 1\n",
            "1800  1  8    -7.1    -7.1    -7.1 1\n",
            "1800  1  9   -10.1   -10.1   -10.1 1\n",
            "1800  1 10    -9.5    -9.5    -9.5 1\n"
          ]
        }
      ]
    },
    {
      "cell_type": "code",
      "source": [
        "data = np.genfromtxt(\"stockholm_td_adj.dat\")\n",
        "print(data.shape)"
      ],
      "metadata": {
        "colab": {
          "base_uri": "https://localhost:8080/"
        },
        "id": "9RJlzLWp3mra",
        "outputId": "102ab59d-9565-4b84-8935-a32aca1d4d6b"
      },
      "execution_count": 151,
      "outputs": [
        {
          "output_type": "stream",
          "name": "stdout",
          "text": [
            "(77431, 7)\n"
          ]
        }
      ]
    },
    {
      "cell_type": "code",
      "source": [
        "%matplotlib inline\n",
        "import matplotlib.pyplot as plt\n",
        "\n",
        "fig, ax = plt.subplots(figsize = (14,4))\n",
        "ax.plot(data[:,0]+data[:,1]/12.0+data[:,2]/365, data[:,5])\n",
        "ax.axis('tight')\n",
        "ax.set_title('tempeatures in Stockholm')\n",
        "ax.set_xlabel(\"year\")\n",
        "ax.set_ylabel(\"temperature (C)\")"
      ],
      "metadata": {
        "colab": {
          "base_uri": "https://localhost:8080/",
          "height": 324
        },
        "id": "knd7kcfh3vPc",
        "outputId": "1f4418f5-0c34-4ac5-a268-ce0d24fe48d6"
      },
      "execution_count": 152,
      "outputs": [
        {
          "output_type": "execute_result",
          "data": {
            "text/plain": [
              "Text(0, 0.5, 'temperature (C)')"
            ]
          },
          "metadata": {},
          "execution_count": 152
        },
        {
          "output_type": "display_data",
          "data": {
            "text/plain": [
              "<Figure size 1400x400 with 1 Axes>"
            ],
            "image/png": "[encoded data removed]"
          },
          "metadata": {}
        }
      ]
    },
    {
      "cell_type": "markdown",
      "source": [
        "Using `numpy.savetxt` we can store a Numpy array to a file in CSV format:\n",
        "\n"
      ],
      "metadata": {
        "id": "4rZ6Ms125TpO"
      }
    },
    {
      "cell_type": "code",
      "source": [
        "M = np.random.randn(3,5)\n",
        "print(M)"
      ],
      "metadata": {
        "colab": {
          "base_uri": "https://localhost:8080/"
        },
        "id": "FNRTlosZ4Zg1",
        "outputId": "1f6be98b-8f74-4c0a-f891-2ce936395942"
      },
      "execution_count": 153,
      "outputs": [
        {
          "output_type": "stream",
          "name": "stdout",
          "text": [
            "[[-1.94643454 -1.81962083  0.64401663  0.54429166  1.04347095]\n",
            " [-1.38331664  0.4261018  -0.23520109  2.1885638   1.23550954]\n",
            " [-1.74811644  1.12476196  0.90919422 -0.99331199 -0.18446994]]\n"
          ]
        }
      ]
    },
    {
      "cell_type": "code",
      "source": [
        "np.savetxt(\"random-matrix.csv\", M)"
      ],
      "metadata": {
        "id": "PVuHL2xX5dyS"
      },
      "execution_count": 154,
      "outputs": []
    },
    {
      "cell_type": "code",
      "source": [
        "!cat random-matrix.csv"
      ],
      "metadata": {
        "colab": {
          "base_uri": "https://localhost:8080/"
        },
        "id": "354kH7pQ5xnr",
        "outputId": "e0551dde-16c9-48ba-9ea4-5e6ba7230cca"
      },
      "execution_count": 155,
      "outputs": [
        {
          "output_type": "stream",
          "name": "stdout",
          "text": [
            "-1.946434535291521994e+00 -1.819620833276846428e+00 6.440166290513125169e-01 5.442916596804843188e-01 1.043470951207650099e+00\n",
            "-1.383316637467954191e+00 4.261018034663470733e-01 -2.352010870452018454e-01 2.188563801901057815e+00 1.235509537855080664e+00\n",
            "-1.748116441073835015e+00 1.124761959194984895e+00 9.091942152834007196e-01 -9.933119857661566465e-01 -1.844699393744503313e-01\n"
          ]
        }
      ]
    },
    {
      "cell_type": "code",
      "source": [
        "np.savetxt(\"random-matrix.csv\", M, fmt=\"%.3f\")"
      ],
      "metadata": {
        "id": "5bwGqMeW53Ua"
      },
      "execution_count": 156,
      "outputs": []
    },
    {
      "cell_type": "code",
      "source": [
        "!cat random-matrix.csv\n"
      ],
      "metadata": {
        "colab": {
          "base_uri": "https://localhost:8080/"
        },
        "id": "YudO5NnB6Hin",
        "outputId": "3b6d926d-1cc9-4589-8c2f-bf542fdaabd2"
      },
      "execution_count": 157,
      "outputs": [
        {
          "output_type": "stream",
          "name": "stdout",
          "text": [
            "-1.946 -1.820 0.644 0.544 1.043\n",
            "-1.383 0.426 -0.235 2.189 1.236\n",
            "-1.748 1.125 0.909 -0.993 -0.184\n"
          ]
        }
      ]
    },
    {
      "cell_type": "markdown",
      "source": [
        "### Numpy's native file format (Loading and Saving)\n"
      ],
      "metadata": {
        "id": "hbSm3Hzc662k"
      }
    },
    {
      "cell_type": "code",
      "source": [
        "np.save(\"random-matrix.npy\", M)\n",
        "!file random-matrix.npy"
      ],
      "metadata": {
        "id": "mgscEAR-6aAt",
        "outputId": "9da98f15-e209-42c7-8d1b-97cae7dde497",
        "colab": {
          "base_uri": "https://localhost:8080/"
        }
      },
      "execution_count": 158,
      "outputs": [
        {
          "output_type": "stream",
          "name": "stdout",
          "text": [
            "random-matrix.npy: NumPy array, version 1.0, header length 118\n"
          ]
        }
      ]
    },
    {
      "cell_type": "code",
      "source": [
        "np.load(\"random-matrix.npy\")"
      ],
      "metadata": {
        "colab": {
          "base_uri": "https://localhost:8080/"
        },
        "id": "vCu7N-Oc7AT9",
        "outputId": "86052d20-56bf-4f78-9892-58a64bf251f9"
      },
      "execution_count": 159,
      "outputs": [
        {
          "output_type": "execute_result",
          "data": {
            "text/plain": [
              "array([[-1.94643454, -1.81962083,  0.64401663,  0.54429166,  1.04347095],\n",
              "       [-1.38331664,  0.4261018 , -0.23520109,  2.1885638 ,  1.23550954],\n",
              "       [-1.74811644,  1.12476196,  0.90919422, -0.99331199, -0.18446994]])"
            ]
          },
          "metadata": {},
          "execution_count": 159
        }
      ]
    },
    {
      "cell_type": "code",
      "source": [
        "M.itemsize # DO NOT TYPE np.itemsize(M) and itemsize(M)"
      ],
      "metadata": {
        "colab": {
          "base_uri": "https://localhost:8080/"
        },
        "id": "UQrqj4BI7Mcw",
        "outputId": "c9763d95-464c-4f75-8c07-772b4ba138e5"
      },
      "execution_count": 160,
      "outputs": [
        {
          "output_type": "execute_result",
          "data": {
            "text/plain": [
              "8"
            ]
          },
          "metadata": {},
          "execution_count": 160
        }
      ]
    },
    {
      "cell_type": "code",
      "source": [
        "M.nbytes # DO NOT TYPE np.nbytes(M) and nbytes(M)"
      ],
      "metadata": {
        "colab": {
          "base_uri": "https://localhost:8080/"
        },
        "id": "VaBgu5aA7Tfu",
        "outputId": "b3185a3e-d21e-4b97-882d-e6acdda40a3d"
      },
      "execution_count": 161,
      "outputs": [
        {
          "output_type": "execute_result",
          "data": {
            "text/plain": [
              "120"
            ]
          },
          "metadata": {},
          "execution_count": 161
        }
      ]
    },
    {
      "cell_type": "code",
      "source": [
        "M.ndim # DO NOT TYPE np.ndim(M) and ndim(M)"
      ],
      "metadata": {
        "colab": {
          "base_uri": "https://localhost:8080/"
        },
        "id": "GgQtqBh27Yon",
        "outputId": "ed4adace-ef66-42b5-be77-660d34045104"
      },
      "execution_count": 162,
      "outputs": [
        {
          "output_type": "execute_result",
          "data": {
            "text/plain": [
              "2"
            ]
          },
          "metadata": {},
          "execution_count": 162
        }
      ]
    },
    {
      "cell_type": "markdown",
      "source": [
        "## Manipulating Arrays\n",
        "### Indexing"
      ],
      "metadata": {
        "id": "mJqYggrF-icX"
      }
    },
    {
      "cell_type": "code",
      "source": [
        "v[0]"
      ],
      "metadata": {
        "colab": {
          "base_uri": "https://localhost:8080/"
        },
        "id": "L_QDSuvf7cr7",
        "outputId": "8dec06f5-d3ce-4dd6-9229-4c8e3d38c1fd"
      },
      "execution_count": 163,
      "outputs": [
        {
          "output_type": "execute_result",
          "data": {
            "text/plain": [
              "1"
            ]
          },
          "metadata": {},
          "execution_count": 163
        }
      ]
    },
    {
      "cell_type": "code",
      "source": [
        " M"
      ],
      "metadata": {
        "id": "Q64nZ55S-vuK",
        "outputId": "2ce50f02-0dba-46a5-da81-ee093c270639",
        "colab": {
          "base_uri": "https://localhost:8080/"
        }
      },
      "execution_count": 164,
      "outputs": [
        {
          "output_type": "execute_result",
          "data": {
            "text/plain": [
              "array([[-1.94643454, -1.81962083,  0.64401663,  0.54429166,  1.04347095],\n",
              "       [-1.38331664,  0.4261018 , -0.23520109,  2.1885638 ,  1.23550954],\n",
              "       [-1.74811644,  1.12476196,  0.90919422, -0.99331199, -0.18446994]])"
            ]
          },
          "metadata": {},
          "execution_count": 164
        }
      ]
    },
    {
      "cell_type": "code",
      "source": [
        "M[1,1]"
      ],
      "metadata": {
        "id": "SGGplE8O-0I1",
        "outputId": "d13b4ff4-5a0b-489c-a2db-723a2f624083",
        "colab": {
          "base_uri": "https://localhost:8080/"
        }
      },
      "execution_count": 165,
      "outputs": [
        {
          "output_type": "execute_result",
          "data": {
            "text/plain": [
              "0.4261018034663471"
            ]
          },
          "metadata": {},
          "execution_count": 165
        }
      ]
    },
    {
      "cell_type": "code",
      "source": [
        "M[1]"
      ],
      "metadata": {
        "id": "K1pF2GEX-7X3",
        "outputId": "d1d9fc23-47d0-4c55-f104-7da666897a28",
        "colab": {
          "base_uri": "https://localhost:8080/"
        }
      },
      "execution_count": 166,
      "outputs": [
        {
          "output_type": "execute_result",
          "data": {
            "text/plain": [
              "array([-1.38331664,  0.4261018 , -0.23520109,  2.1885638 ,  1.23550954])"
            ]
          },
          "metadata": {},
          "execution_count": 166
        }
      ]
    },
    {
      "cell_type": "code",
      "source": [
        "M[1,:]"
      ],
      "metadata": {
        "id": "uUt1-6Bq-8UD",
        "outputId": "785aea34-25e2-46be-cf81-e4576392eb97",
        "colab": {
          "base_uri": "https://localhost:8080/"
        }
      },
      "execution_count": 167,
      "outputs": [
        {
          "output_type": "execute_result",
          "data": {
            "text/plain": [
              "array([-1.38331664,  0.4261018 , -0.23520109,  2.1885638 ,  1.23550954])"
            ]
          },
          "metadata": {},
          "execution_count": 167
        }
      ]
    },
    {
      "cell_type": "code",
      "source": [
        "M[:,1]"
      ],
      "metadata": {
        "id": "USJ4O-JO-_hI",
        "outputId": "ceeef53d-d01b-45d5-e7fe-2ac48e3262fc",
        "colab": {
          "base_uri": "https://localhost:8080/"
        }
      },
      "execution_count": 168,
      "outputs": [
        {
          "output_type": "execute_result",
          "data": {
            "text/plain": [
              "array([-1.81962083,  0.4261018 ,  1.12476196])"
            ]
          },
          "metadata": {},
          "execution_count": 168
        }
      ]
    },
    {
      "cell_type": "code",
      "source": [
        "M[0,0] = 1"
      ],
      "metadata": {
        "id": "RasUU-uz_Hso"
      },
      "execution_count": 169,
      "outputs": []
    },
    {
      "cell_type": "code",
      "source": [
        "M"
      ],
      "metadata": {
        "id": "rLGWQnKc_LZk",
        "outputId": "bbeaf17d-3bd9-486d-acda-9abb7996bbab",
        "colab": {
          "base_uri": "https://localhost:8080/"
        }
      },
      "execution_count": 170,
      "outputs": [
        {
          "output_type": "execute_result",
          "data": {
            "text/plain": [
              "array([[ 1.        , -1.81962083,  0.64401663,  0.54429166,  1.04347095],\n",
              "       [-1.38331664,  0.4261018 , -0.23520109,  2.1885638 ,  1.23550954],\n",
              "       [-1.74811644,  1.12476196,  0.90919422, -0.99331199, -0.18446994]])"
            ]
          },
          "metadata": {},
          "execution_count": 170
        }
      ]
    },
    {
      "cell_type": "code",
      "source": [
        "M[1,:] = 0\n",
        "M"
      ],
      "metadata": {
        "id": "sBDyUQ9o_NvN",
        "outputId": "38e53053-81c7-4f1f-d621-faccc463c77b",
        "colab": {
          "base_uri": "https://localhost:8080/"
        }
      },
      "execution_count": 171,
      "outputs": [
        {
          "output_type": "execute_result",
          "data": {
            "text/plain": [
              "array([[ 1.        , -1.81962083,  0.64401663,  0.54429166,  1.04347095],\n",
              "       [ 0.        ,  0.        ,  0.        ,  0.        ,  0.        ],\n",
              "       [-1.74811644,  1.12476196,  0.90919422, -0.99331199, -0.18446994]])"
            ]
          },
          "metadata": {},
          "execution_count": 171
        }
      ]
    },
    {
      "cell_type": "code",
      "source": [
        "M[:,2] = -1\n",
        "M"
      ],
      "metadata": {
        "id": "b9Qva2TIBUcF",
        "outputId": "8f36b51a-db30-4a16-d6fc-b70c1f0c6f91",
        "colab": {
          "base_uri": "https://localhost:8080/"
        }
      },
      "execution_count": 172,
      "outputs": [
        {
          "output_type": "execute_result",
          "data": {
            "text/plain": [
              "array([[ 1.        , -1.81962083, -1.        ,  0.54429166,  1.04347095],\n",
              "       [ 0.        ,  0.        , -1.        ,  0.        ,  0.        ],\n",
              "       [-1.74811644,  1.12476196, -1.        , -0.99331199, -0.18446994]])"
            ]
          },
          "metadata": {},
          "execution_count": 172
        }
      ]
    },
    {
      "cell_type": "markdown",
      "source": [
        "### Index slicing\n"
      ],
      "metadata": {
        "id": "Db5jIFTHBgUt"
      }
    },
    {
      "cell_type": "code",
      "source": [
        "A = np.array(np.arange(1,6))\n",
        "print(A)\n",
        "print(A.dtype)"
      ],
      "metadata": {
        "id": "tZ7CQBxIBaGn",
        "outputId": "ba41c418-f218-4e20-aa28-129d2b8900ef",
        "colab": {
          "base_uri": "https://localhost:8080/"
        }
      },
      "execution_count": 173,
      "outputs": [
        {
          "output_type": "stream",
          "name": "stdout",
          "text": [
            "[1 2 3 4 5]\n",
            "int64\n"
          ]
        }
      ]
    },
    {
      "cell_type": "code",
      "source": [
        "A[1:3]"
      ],
      "metadata": {
        "id": "9RlIgfc0Bph0",
        "outputId": "5735da49-277e-48f8-c23a-f4129e4b5c19",
        "colab": {
          "base_uri": "https://localhost:8080/"
        }
      },
      "execution_count": 174,
      "outputs": [
        {
          "output_type": "execute_result",
          "data": {
            "text/plain": [
              "array([2, 3])"
            ]
          },
          "metadata": {},
          "execution_count": 174
        }
      ]
    },
    {
      "cell_type": "code",
      "source": [
        "A[1:3] = [-2,-3]\n",
        "A"
      ],
      "metadata": {
        "id": "1kTvgxoYB4Pm",
        "outputId": "1619d974-444b-49c4-9ad8-55bb820adafe",
        "colab": {
          "base_uri": "https://localhost:8080/"
        }
      },
      "execution_count": 175,
      "outputs": [
        {
          "output_type": "execute_result",
          "data": {
            "text/plain": [
              "array([ 1, -2, -3,  4,  5])"
            ]
          },
          "metadata": {},
          "execution_count": 175
        }
      ]
    },
    {
      "cell_type": "code",
      "source": [
        "A[::]"
      ],
      "metadata": {
        "id": "vF1DC0NxCCU0",
        "outputId": "f5d49ec0-def8-4b65-bc27-fe693b9eba80",
        "colab": {
          "base_uri": "https://localhost:8080/"
        }
      },
      "execution_count": 176,
      "outputs": [
        {
          "output_type": "execute_result",
          "data": {
            "text/plain": [
              "array([ 1, -2, -3,  4,  5])"
            ]
          },
          "metadata": {},
          "execution_count": 176
        }
      ]
    },
    {
      "cell_type": "code",
      "source": [
        "A[::2]"
      ],
      "metadata": {
        "id": "UxcTOP7OCKba",
        "outputId": "fffd8afc-da0a-4a84-999e-952b355cd291",
        "colab": {
          "base_uri": "https://localhost:8080/"
        }
      },
      "execution_count": 177,
      "outputs": [
        {
          "output_type": "execute_result",
          "data": {
            "text/plain": [
              "array([ 1, -3,  5])"
            ]
          },
          "metadata": {},
          "execution_count": 177
        }
      ]
    },
    {
      "cell_type": "code",
      "source": [
        "A[:3]"
      ],
      "metadata": {
        "id": "8xngEdAECNGI",
        "outputId": "77652f81-1b78-40aa-db75-76f6b5d998f8",
        "colab": {
          "base_uri": "https://localhost:8080/"
        }
      },
      "execution_count": 178,
      "outputs": [
        {
          "output_type": "execute_result",
          "data": {
            "text/plain": [
              "array([ 1, -2, -3])"
            ]
          },
          "metadata": {},
          "execution_count": 178
        }
      ]
    },
    {
      "cell_type": "code",
      "source": [
        "A[3:]"
      ],
      "metadata": {
        "id": "g5uDCH8gCS_i",
        "outputId": "09b18566-b736-4e06-86b2-1ecaecce9662",
        "colab": {
          "base_uri": "https://localhost:8080/"
        }
      },
      "execution_count": 179,
      "outputs": [
        {
          "output_type": "execute_result",
          "data": {
            "text/plain": [
              "array([4, 5])"
            ]
          },
          "metadata": {},
          "execution_count": 179
        }
      ]
    },
    {
      "cell_type": "code",
      "source": [
        "A = np.array([1,2,3,4,5])"
      ],
      "metadata": {
        "id": "8r2W-mzgCYY4"
      },
      "execution_count": 180,
      "outputs": []
    },
    {
      "cell_type": "code",
      "source": [
        "A[-1]"
      ],
      "metadata": {
        "id": "Yvyo-d9BCg70",
        "outputId": "3b0d2bc9-77ea-4295-91cf-d0e83309e892",
        "colab": {
          "base_uri": "https://localhost:8080/"
        }
      },
      "execution_count": 181,
      "outputs": [
        {
          "output_type": "execute_result",
          "data": {
            "text/plain": [
              "5"
            ]
          },
          "metadata": {},
          "execution_count": 181
        }
      ]
    },
    {
      "cell_type": "code",
      "source": [
        "A[-3]"
      ],
      "metadata": {
        "id": "vGJGWVSxCkDo",
        "outputId": "627cdff0-bd02-425a-e8cf-300ecb862fa8",
        "colab": {
          "base_uri": "https://localhost:8080/"
        }
      },
      "execution_count": 182,
      "outputs": [
        {
          "output_type": "execute_result",
          "data": {
            "text/plain": [
              "3"
            ]
          },
          "metadata": {},
          "execution_count": 182
        }
      ]
    },
    {
      "cell_type": "code",
      "source": [
        "A[-3:]"
      ],
      "metadata": {
        "id": "ycJ2BWyVCn5I",
        "outputId": "aabf6c1e-bf3c-47db-8f91-e817fcc77b11",
        "colab": {
          "base_uri": "https://localhost:8080/"
        }
      },
      "execution_count": 183,
      "outputs": [
        {
          "output_type": "execute_result",
          "data": {
            "text/plain": [
              "array([3, 4, 5])"
            ]
          },
          "metadata": {},
          "execution_count": 183
        }
      ]
    },
    {
      "cell_type": "code",
      "source": [
        "A = np.array([[n+m*10 for n in range(5)] for m in range(5)])\n",
        "print(A)"
      ],
      "metadata": {
        "id": "NUBlkhd7CyI0",
        "outputId": "5d5d2740-2085-4178-b540-eb95a7b5e88e",
        "colab": {
          "base_uri": "https://localhost:8080/"
        }
      },
      "execution_count": 302,
      "outputs": [
        {
          "output_type": "stream",
          "name": "stdout",
          "text": [
            "[[ 0  1  2  3  4]\n",
            " [10 11 12 13 14]\n",
            " [20 21 22 23 24]\n",
            " [30 31 32 33 34]\n",
            " [40 41 42 43 44]]\n"
          ]
        }
      ]
    },
    {
      "cell_type": "code",
      "source": [
        "A[1:4, 1:3]"
      ],
      "metadata": {
        "id": "WbupMT1UDC6m",
        "outputId": "0e81374b-eb9f-44fc-8b08-30c4e99f67a4",
        "colab": {
          "base_uri": "https://localhost:8080/"
        }
      },
      "execution_count": 185,
      "outputs": [
        {
          "output_type": "execute_result",
          "data": {
            "text/plain": [
              "array([[11, 12],\n",
              "       [21, 22],\n",
              "       [31, 32]])"
            ]
          },
          "metadata": {},
          "execution_count": 185
        }
      ]
    },
    {
      "cell_type": "code",
      "source": [
        "A[::2, ::2]"
      ],
      "metadata": {
        "id": "aZfEqTbEDPP3",
        "outputId": "49e725a9-d5c4-44de-85f8-7d64f3c2ac10",
        "colab": {
          "base_uri": "https://localhost:8080/"
        }
      },
      "execution_count": 186,
      "outputs": [
        {
          "output_type": "execute_result",
          "data": {
            "text/plain": [
              "array([[ 0,  2,  4],\n",
              "       [20, 22, 24],\n",
              "       [40, 42, 44]])"
            ]
          },
          "metadata": {},
          "execution_count": 186
        }
      ]
    },
    {
      "cell_type": "markdown",
      "source": [
        "#### Fancy Indexing\n"
      ],
      "metadata": {
        "id": "9TDzP_o3DpFy"
      }
    },
    {
      "cell_type": "code",
      "source": [
        "row_indices = [1, 2, 3]\n",
        "A[row_indices]"
      ],
      "metadata": {
        "id": "B_pEfKG8Dj1t",
        "outputId": "5186e363-c1c2-4d5c-c85d-6471f06dfbf7",
        "colab": {
          "base_uri": "https://localhost:8080/"
        }
      },
      "execution_count": 187,
      "outputs": [
        {
          "output_type": "execute_result",
          "data": {
            "text/plain": [
              "array([[10, 11, 12, 13, 14],\n",
              "       [20, 21, 22, 23, 24],\n",
              "       [30, 31, 32, 33, 34]])"
            ]
          },
          "metadata": {},
          "execution_count": 187
        }
      ]
    },
    {
      "cell_type": "code",
      "source": [
        "col_indices = [1, 2, -1]\n",
        "A[row_indices, col_indices]"
      ],
      "metadata": {
        "id": "f9VYX_4dDwjy",
        "outputId": "266a703f-a8cd-45f2-8568-9d2286ec2f1b",
        "colab": {
          "base_uri": "https://localhost:8080/"
        }
      },
      "execution_count": 188,
      "outputs": [
        {
          "output_type": "execute_result",
          "data": {
            "text/plain": [
              "array([11, 22, 34])"
            ]
          },
          "metadata": {},
          "execution_count": 188
        }
      ]
    },
    {
      "cell_type": "markdown",
      "source": [
        "We can also use index masks: If the index mask is an Numpy array of data type bool, then an element is selected (True) or not (False) depending on the value of the index mask at the position of each element:"
      ],
      "metadata": {
        "id": "vOvV1xJhEngA"
      }
    },
    {
      "cell_type": "code",
      "source": [
        "B = np.array([n for n in range(5)])\n",
        "B"
      ],
      "metadata": {
        "id": "Opy-SCGAEBDj",
        "outputId": "f5e18749-4b9f-4c6d-af21-00bb0d2e3d79",
        "colab": {
          "base_uri": "https://localhost:8080/"
        }
      },
      "execution_count": 189,
      "outputs": [
        {
          "output_type": "execute_result",
          "data": {
            "text/plain": [
              "array([0, 1, 2, 3, 4])"
            ]
          },
          "metadata": {},
          "execution_count": 189
        }
      ]
    },
    {
      "cell_type": "code",
      "source": [
        "row_mask = np.array([True, False, True, False, False])\n",
        "B[row_mask]"
      ],
      "metadata": {
        "id": "1XhGg984EUHN",
        "outputId": "9b678bb6-336b-43f5-da99-92040be6bfa6",
        "colab": {
          "base_uri": "https://localhost:8080/"
        }
      },
      "execution_count": 190,
      "outputs": [
        {
          "output_type": "execute_result",
          "data": {
            "text/plain": [
              "array([0, 2])"
            ]
          },
          "metadata": {},
          "execution_count": 190
        }
      ]
    },
    {
      "cell_type": "code",
      "source": [
        "row_mask = np.array([1, 0, 1, 0, 0], dtype=bool) # same thing with the previous code line\n",
        "B[row_mask]"
      ],
      "metadata": {
        "id": "UjDMgBI_EuOK",
        "outputId": "a4b631d3-63ae-47b2-aa3d-1dede2c35ba8",
        "colab": {
          "base_uri": "https://localhost:8080/"
        }
      },
      "execution_count": 191,
      "outputs": [
        {
          "output_type": "execute_result",
          "data": {
            "text/plain": [
              "array([0, 2])"
            ]
          },
          "metadata": {},
          "execution_count": 191
        }
      ]
    },
    {
      "cell_type": "code",
      "source": [
        "x = np.arange(0, 10, 0.75)\n",
        "print(x)\n",
        "print(x.shape)"
      ],
      "metadata": {
        "id": "nSivcC-NE8Wa",
        "outputId": "03198f58-d64c-44e3-a5d1-6db7f4a017a7",
        "colab": {
          "base_uri": "https://localhost:8080/"
        }
      },
      "execution_count": 192,
      "outputs": [
        {
          "output_type": "stream",
          "name": "stdout",
          "text": [
            "[0.   0.75 1.5  2.25 3.   3.75 4.5  5.25 6.   6.75 7.5  8.25 9.   9.75]\n",
            "(14,)\n"
          ]
        }
      ]
    },
    {
      "cell_type": "code",
      "source": [
        "mask = (x>5) & (x<8.5)\n",
        "mask"
      ],
      "metadata": {
        "id": "UdLKjwfMFJhp",
        "outputId": "2f71eb42-8b4e-43c8-a48e-1292b8becd0a",
        "colab": {
          "base_uri": "https://localhost:8080/"
        }
      },
      "execution_count": 193,
      "outputs": [
        {
          "output_type": "execute_result",
          "data": {
            "text/plain": [
              "array([False, False, False, False, False, False, False,  True,  True,\n",
              "        True,  True,  True, False, False])"
            ]
          },
          "metadata": {},
          "execution_count": 193
        }
      ]
    },
    {
      "cell_type": "code",
      "source": [
        "x[mask]"
      ],
      "metadata": {
        "id": "sjv6k5qEFXuY",
        "outputId": "f5f108bb-0e03-4248-e8ed-b42e6bc56c04",
        "colab": {
          "base_uri": "https://localhost:8080/"
        }
      },
      "execution_count": 194,
      "outputs": [
        {
          "output_type": "execute_result",
          "data": {
            "text/plain": [
              "array([5.25, 6.  , 6.75, 7.5 , 8.25])"
            ]
          },
          "metadata": {},
          "execution_count": 194
        }
      ]
    },
    {
      "cell_type": "code",
      "source": [
        "idx = np.where(mask)\n",
        "print(idx)\n"
      ],
      "metadata": {
        "id": "_rwOMIEMFc2q",
        "outputId": "5064abd3-d716-4724-bbb7-a61b9e58285f",
        "colab": {
          "base_uri": "https://localhost:8080/"
        }
      },
      "execution_count": 195,
      "outputs": [
        {
          "output_type": "stream",
          "name": "stdout",
          "text": [
            "(array([ 7,  8,  9, 10, 11]),)\n"
          ]
        }
      ]
    },
    {
      "cell_type": "code",
      "source": [
        "x[idx]"
      ],
      "metadata": {
        "id": "Lp8LNykmF3Oy",
        "outputId": "1022a62e-f04c-4424-9e88-0af7ba316184",
        "colab": {
          "base_uri": "https://localhost:8080/"
        }
      },
      "execution_count": 196,
      "outputs": [
        {
          "output_type": "execute_result",
          "data": {
            "text/plain": [
              "array([5.25, 6.  , 6.75, 7.5 , 8.25])"
            ]
          },
          "metadata": {},
          "execution_count": 196
        }
      ]
    },
    {
      "cell_type": "code",
      "source": [
        "A"
      ],
      "metadata": {
        "id": "Xzh9kvGDGOZb",
        "outputId": "524d9b8b-abf2-4df1-f38f-7933da8ccbce",
        "colab": {
          "base_uri": "https://localhost:8080/"
        }
      },
      "execution_count": 197,
      "outputs": [
        {
          "output_type": "execute_result",
          "data": {
            "text/plain": [
              "array([[ 0,  1,  2,  3,  4],\n",
              "       [10, 11, 12, 13, 14],\n",
              "       [20, 21, 22, 23, 24],\n",
              "       [30, 31, 32, 33, 34],\n",
              "       [40, 41, 42, 43, 44]])"
            ]
          },
          "metadata": {},
          "execution_count": 197
        }
      ]
    },
    {
      "cell_type": "code",
      "source": [
        "np.diag(A)"
      ],
      "metadata": {
        "id": "V97S4qUPGRJL",
        "outputId": "1d726204-cfa4-4490-b0c4-385b73f2e540",
        "colab": {
          "base_uri": "https://localhost:8080/"
        }
      },
      "execution_count": 198,
      "outputs": [
        {
          "output_type": "execute_result",
          "data": {
            "text/plain": [
              "array([ 0, 11, 22, 33, 44])"
            ]
          },
          "metadata": {},
          "execution_count": 198
        }
      ]
    },
    {
      "cell_type": "code",
      "source": [
        "np.diag(A, -1)"
      ],
      "metadata": {
        "id": "UAdVz6i6GU53",
        "outputId": "96a1111f-9dc5-43c6-bfc5-eb1d885e13ef",
        "colab": {
          "base_uri": "https://localhost:8080/"
        }
      },
      "execution_count": 199,
      "outputs": [
        {
          "output_type": "execute_result",
          "data": {
            "text/plain": [
              "array([10, 21, 32, 43])"
            ]
          },
          "metadata": {},
          "execution_count": 199
        }
      ]
    },
    {
      "cell_type": "code",
      "source": [
        "# np.choose and np.take will be examined later #HHK"
      ],
      "metadata": {
        "id": "sPS9C6N3GZFL"
      },
      "execution_count": 200,
      "outputs": []
    },
    {
      "cell_type": "markdown",
      "source": [
        "## Linear Algebra"
      ],
      "metadata": {
        "id": "RQM4yCRNG1b_"
      }
    },
    {
      "cell_type": "code",
      "source": [
        "v1 = np.arange(0,5)\n",
        "v1"
      ],
      "metadata": {
        "id": "0uE-azjUGvFJ",
        "outputId": "947bbe1b-4cbb-4116-8af0-4e18424b8aea",
        "colab": {
          "base_uri": "https://localhost:8080/"
        }
      },
      "execution_count": 201,
      "outputs": [
        {
          "output_type": "execute_result",
          "data": {
            "text/plain": [
              "array([0, 1, 2, 3, 4])"
            ]
          },
          "metadata": {},
          "execution_count": 201
        }
      ]
    },
    {
      "cell_type": "code",
      "source": [
        "v1*2"
      ],
      "metadata": {
        "id": "swEEkKneHEqZ",
        "outputId": "f6de05a0-9a08-4aed-bcb9-402bbb722db1",
        "colab": {
          "base_uri": "https://localhost:8080/"
        }
      },
      "execution_count": 202,
      "outputs": [
        {
          "output_type": "execute_result",
          "data": {
            "text/plain": [
              "array([0, 2, 4, 6, 8])"
            ]
          },
          "metadata": {},
          "execution_count": 202
        }
      ]
    },
    {
      "cell_type": "code",
      "source": [
        "v1 + 2"
      ],
      "metadata": {
        "id": "5Q-dkRcWG_Fx",
        "outputId": "7933aad9-3b02-45a4-a94a-98e7d99670bd",
        "colab": {
          "base_uri": "https://localhost:8080/"
        }
      },
      "execution_count": 203,
      "outputs": [
        {
          "output_type": "execute_result",
          "data": {
            "text/plain": [
              "array([2, 3, 4, 5, 6])"
            ]
          },
          "metadata": {},
          "execution_count": 203
        }
      ]
    },
    {
      "cell_type": "markdown",
      "source": [
        "### Element-wise array-array operations"
      ],
      "metadata": {
        "id": "ULGoSJS-HM0Q"
      }
    },
    {
      "cell_type": "code",
      "source": [
        "A"
      ],
      "metadata": {
        "id": "5aQ0IcCrHB4a",
        "outputId": "61f7615b-e7cf-4d99-eaf1-70ccf7c315ee",
        "colab": {
          "base_uri": "https://localhost:8080/"
        }
      },
      "execution_count": 303,
      "outputs": [
        {
          "output_type": "execute_result",
          "data": {
            "text/plain": [
              "array([[ 0,  1,  2,  3,  4],\n",
              "       [10, 11, 12, 13, 14],\n",
              "       [20, 21, 22, 23, 24],\n",
              "       [30, 31, 32, 33, 34],\n",
              "       [40, 41, 42, 43, 44]])"
            ]
          },
          "metadata": {},
          "execution_count": 303
        }
      ]
    },
    {
      "cell_type": "code",
      "source": [
        "A * A # element-wise multiplication"
      ],
      "metadata": {
        "id": "QVGnPYMeHQS8",
        "outputId": "e250d7d5-21b3-4d41-f427-78e300540c50",
        "colab": {
          "base_uri": "https://localhost:8080/"
        }
      },
      "execution_count": 205,
      "outputs": [
        {
          "output_type": "execute_result",
          "data": {
            "text/plain": [
              "array([[   0,    1,    4,    9,   16],\n",
              "       [ 100,  121,  144,  169,  196],\n",
              "       [ 400,  441,  484,  529,  576],\n",
              "       [ 900,  961, 1024, 1089, 1156],\n",
              "       [1600, 1681, 1764, 1849, 1936]])"
            ]
          },
          "metadata": {},
          "execution_count": 205
        }
      ]
    },
    {
      "cell_type": "code",
      "source": [
        "v1"
      ],
      "metadata": {
        "id": "-7u1jizCHaY0",
        "outputId": "4299bf8f-81ac-492d-aaf0-16ce7f6d7ce6",
        "colab": {
          "base_uri": "https://localhost:8080/"
        }
      },
      "execution_count": 206,
      "outputs": [
        {
          "output_type": "execute_result",
          "data": {
            "text/plain": [
              "array([0, 1, 2, 3, 4])"
            ]
          },
          "metadata": {},
          "execution_count": 206
        }
      ]
    },
    {
      "cell_type": "code",
      "source": [
        "v1 * v1"
      ],
      "metadata": {
        "id": "Bkw7F41aHa9y",
        "outputId": "5c83b15a-8e04-41e3-db07-5913b10ba940",
        "colab": {
          "base_uri": "https://localhost:8080/"
        }
      },
      "execution_count": 207,
      "outputs": [
        {
          "output_type": "execute_result",
          "data": {
            "text/plain": [
              "array([ 0,  1,  4,  9, 16])"
            ]
          },
          "metadata": {},
          "execution_count": 207
        }
      ]
    },
    {
      "cell_type": "code",
      "source": [
        "A.shape, v1.shape"
      ],
      "metadata": {
        "id": "TyEeo5RQHcNP",
        "outputId": "4051ff49-39c9-4834-dcf7-d3d800f00d8a",
        "colab": {
          "base_uri": "https://localhost:8080/"
        }
      },
      "execution_count": 208,
      "outputs": [
        {
          "output_type": "execute_result",
          "data": {
            "text/plain": [
              "((5, 5), (5,))"
            ]
          },
          "metadata": {},
          "execution_count": 208
        }
      ]
    },
    {
      "cell_type": "code",
      "source": [
        "A * v1"
      ],
      "metadata": {
        "id": "ry54CoXnHgHK",
        "outputId": "992b7b13-79ab-4bd4-a1df-901029f15ac2",
        "colab": {
          "base_uri": "https://localhost:8080/"
        }
      },
      "execution_count": 209,
      "outputs": [
        {
          "output_type": "execute_result",
          "data": {
            "text/plain": [
              "array([[  0,   1,   4,   9,  16],\n",
              "       [  0,  11,  24,  39,  56],\n",
              "       [  0,  21,  44,  69,  96],\n",
              "       [  0,  31,  64,  99, 136],\n",
              "       [  0,  41,  84, 129, 176]])"
            ]
          },
          "metadata": {},
          "execution_count": 209
        }
      ]
    },
    {
      "cell_type": "code",
      "source": [
        "np.dot(A ,A)"
      ],
      "metadata": {
        "id": "pGhvZZRGHifU",
        "outputId": "362a18ee-2ab8-4790-89a2-b88d7af1f868",
        "colab": {
          "base_uri": "https://localhost:8080/"
        }
      },
      "execution_count": 210,
      "outputs": [
        {
          "output_type": "execute_result",
          "data": {
            "text/plain": [
              "array([[ 300,  310,  320,  330,  340],\n",
              "       [1300, 1360, 1420, 1480, 1540],\n",
              "       [2300, 2410, 2520, 2630, 2740],\n",
              "       [3300, 3460, 3620, 3780, 3940],\n",
              "       [4300, 4510, 4720, 4930, 5140]])"
            ]
          },
          "metadata": {},
          "execution_count": 210
        }
      ]
    },
    {
      "cell_type": "code",
      "source": [
        "np.dot(A, v1)"
      ],
      "metadata": {
        "id": "APpYpDwSH_av",
        "outputId": "b7f1f7cc-3772-48de-ec34-95d5c6426af1",
        "colab": {
          "base_uri": "https://localhost:8080/"
        }
      },
      "execution_count": 211,
      "outputs": [
        {
          "output_type": "execute_result",
          "data": {
            "text/plain": [
              "array([ 30, 130, 230, 330, 430])"
            ]
          },
          "metadata": {},
          "execution_count": 211
        }
      ]
    },
    {
      "cell_type": "code",
      "source": [
        "np.dot(v1, v1)"
      ],
      "metadata": {
        "id": "BlhUJp6-IiW-",
        "outputId": "b6dcf00c-f592-43af-9110-d733bcaa960c",
        "colab": {
          "base_uri": "https://localhost:8080/"
        }
      },
      "execution_count": 212,
      "outputs": [
        {
          "output_type": "execute_result",
          "data": {
            "text/plain": [
              "30"
            ]
          },
          "metadata": {},
          "execution_count": 212
        }
      ]
    },
    {
      "cell_type": "markdown",
      "source": [
        "Alternatively, we can cast the array objects to the type `matrix`. This changes the behavior of the standard arithmetic operators `+`, `-`, `*` to use matrix algebra."
      ],
      "metadata": {
        "id": "stRwoGnPiF4L"
      }
    },
    {
      "cell_type": "code",
      "source": [
        "M = np.matrix(A)\n",
        "M"
      ],
      "metadata": {
        "id": "INUVH-Y-l7U6",
        "outputId": "e7c5599c-c8ca-4258-f12c-052443d45e55",
        "colab": {
          "base_uri": "https://localhost:8080/"
        }
      },
      "execution_count": 214,
      "outputs": [
        {
          "output_type": "execute_result",
          "data": {
            "text/plain": [
              "matrix([[ 0,  1,  2,  3,  4],\n",
              "        [10, 11, 12, 13, 14],\n",
              "        [20, 21, 22, 23, 24],\n",
              "        [30, 31, 32, 33, 34],\n",
              "        [40, 41, 42, 43, 44]])"
            ]
          },
          "metadata": {},
          "execution_count": 214
        }
      ]
    },
    {
      "cell_type": "code",
      "source": [
        "v = np.matrix(v1).T\n",
        "v"
      ],
      "metadata": {
        "id": "CnXf-wFcl-Vo",
        "outputId": "b9f56c15-6685-4ba1-b119-14f32c050d52",
        "colab": {
          "base_uri": "https://localhost:8080/"
        }
      },
      "execution_count": 215,
      "outputs": [
        {
          "output_type": "execute_result",
          "data": {
            "text/plain": [
              "matrix([[0],\n",
              "        [1],\n",
              "        [2],\n",
              "        [3],\n",
              "        [4]])"
            ]
          },
          "metadata": {},
          "execution_count": 215
        }
      ]
    },
    {
      "cell_type": "code",
      "source": [
        "M * M"
      ],
      "metadata": {
        "id": "9ZpwHw9NmFhr",
        "outputId": "a74ded8a-f791-4040-c950-ddc46687504e",
        "colab": {
          "base_uri": "https://localhost:8080/"
        }
      },
      "execution_count": 216,
      "outputs": [
        {
          "output_type": "execute_result",
          "data": {
            "text/plain": [
              "matrix([[ 300,  310,  320,  330,  340],\n",
              "        [1300, 1360, 1420, 1480, 1540],\n",
              "        [2300, 2410, 2520, 2630, 2740],\n",
              "        [3300, 3460, 3620, 3780, 3940],\n",
              "        [4300, 4510, 4720, 4930, 5140]])"
            ]
          },
          "metadata": {},
          "execution_count": 216
        }
      ]
    },
    {
      "cell_type": "code",
      "source": [
        "M * v"
      ],
      "metadata": {
        "id": "Yu9D8FzLmIW-",
        "outputId": "2d42ae40-2c0f-47df-87e9-32e2684bf0f4",
        "colab": {
          "base_uri": "https://localhost:8080/"
        }
      },
      "execution_count": 218,
      "outputs": [
        {
          "output_type": "execute_result",
          "data": {
            "text/plain": [
              "matrix([[ 30],\n",
              "        [130],\n",
              "        [230],\n",
              "        [330],\n",
              "        [430]])"
            ]
          },
          "metadata": {},
          "execution_count": 218
        }
      ]
    },
    {
      "cell_type": "code",
      "source": [
        "v.T * v"
      ],
      "metadata": {
        "id": "kPaP7w30mOnJ",
        "outputId": "2cd93748-fd5b-42bb-d949-81c438356c5a",
        "colab": {
          "base_uri": "https://localhost:8080/"
        }
      },
      "execution_count": 219,
      "outputs": [
        {
          "output_type": "execute_result",
          "data": {
            "text/plain": [
              "matrix([[30]])"
            ]
          },
          "metadata": {},
          "execution_count": 219
        }
      ]
    },
    {
      "cell_type": "code",
      "source": [
        "v = np.matrix([1,2,3,4,5,6]).T"
      ],
      "metadata": {
        "id": "XsIIFvqcmSmZ"
      },
      "execution_count": 220,
      "outputs": []
    },
    {
      "cell_type": "code",
      "source": [
        "np.shape(v) , np.shape(M)"
      ],
      "metadata": {
        "id": "_0-FuEDZmj4-",
        "outputId": "955b5057-2986-481b-9f2a-767ff7ff1b74",
        "colab": {
          "base_uri": "https://localhost:8080/"
        }
      },
      "execution_count": 223,
      "outputs": [
        {
          "output_type": "execute_result",
          "data": {
            "text/plain": [
              "((6, 1), (5, 5))"
            ]
          },
          "metadata": {},
          "execution_count": 223
        }
      ]
    },
    {
      "cell_type": "markdown",
      "source": [
        "### Array/Matrix Transformations"
      ],
      "metadata": {
        "id": "sakWooxIm5Bj"
      }
    },
    {
      "cell_type": "code",
      "source": [
        "C = np.matrix([[1j, 2j], [1 + 4j, 3j]])\n",
        "np.transpose(C)"
      ],
      "metadata": {
        "id": "24SzBfZOmmEj",
        "outputId": "63c7e89d-3dc6-4761-a0cc-61eda71c4aa0",
        "colab": {
          "base_uri": "https://localhost:8080/"
        }
      },
      "execution_count": 226,
      "outputs": [
        {
          "output_type": "execute_result",
          "data": {
            "text/plain": [
              "matrix([[0.+1.j, 1.+4.j],\n",
              "        [0.+2.j, 0.+3.j]])"
            ]
          },
          "metadata": {},
          "execution_count": 226
        }
      ]
    },
    {
      "cell_type": "code",
      "source": [
        "np.conjugate(C) #conjugate"
      ],
      "metadata": {
        "id": "iYK9wHFUnCsk",
        "outputId": "9ebdb1c5-45bc-42c4-da02-ee94ca1d040c",
        "colab": {
          "base_uri": "https://localhost:8080/"
        }
      },
      "execution_count": 227,
      "outputs": [
        {
          "output_type": "execute_result",
          "data": {
            "text/plain": [
              "matrix([[0.-1.j, 0.-2.j],\n",
              "        [1.-4.j, 0.-3.j]])"
            ]
          },
          "metadata": {},
          "execution_count": 227
        }
      ]
    },
    {
      "cell_type": "code",
      "source": [
        "C.H # hermitian transpose"
      ],
      "metadata": {
        "id": "0fRnoB2_nMyL",
        "outputId": "00f966e3-3071-4af3-b3fd-b5b9b81d64c6",
        "colab": {
          "base_uri": "https://localhost:8080/"
        }
      },
      "execution_count": 228,
      "outputs": [
        {
          "output_type": "execute_result",
          "data": {
            "text/plain": [
              "matrix([[0.-1.j, 1.-4.j],\n",
              "        [0.-2.j, 0.-3.j]])"
            ]
          },
          "metadata": {},
          "execution_count": 228
        }
      ]
    },
    {
      "cell_type": "code",
      "source": [
        "np.real(C), np.imag(C)"
      ],
      "metadata": {
        "id": "cYJ-Q3IinVaT",
        "outputId": "04693172-a5a6-4f91-855d-5ee24a1f0d11",
        "colab": {
          "base_uri": "https://localhost:8080/"
        }
      },
      "execution_count": 230,
      "outputs": [
        {
          "output_type": "execute_result",
          "data": {
            "text/plain": [
              "(matrix([[0., 0.],\n",
              "         [1., 0.]]),\n",
              " matrix([[1., 2.],\n",
              "         [4., 3.]]))"
            ]
          },
          "metadata": {},
          "execution_count": 230
        }
      ]
    },
    {
      "cell_type": "code",
      "source": [
        "np.angle(C)"
      ],
      "metadata": {
        "id": "TnYrARzBnu1Y",
        "outputId": "c201d38d-9fc8-4848-cd85-0a2f15b31bba",
        "colab": {
          "base_uri": "https://localhost:8080/"
        }
      },
      "execution_count": 231,
      "outputs": [
        {
          "output_type": "execute_result",
          "data": {
            "text/plain": [
              "matrix([[1.57079633, 1.57079633],\n",
              "        [1.32581766, 1.57079633]])"
            ]
          },
          "metadata": {},
          "execution_count": 231
        }
      ]
    },
    {
      "cell_type": "code",
      "source": [
        "np.abs(C)"
      ],
      "metadata": {
        "id": "fHhNDsDFn214",
        "outputId": "15af569f-e41d-4f5f-dc3b-50f05ad9394e",
        "colab": {
          "base_uri": "https://localhost:8080/"
        }
      },
      "execution_count": 232,
      "outputs": [
        {
          "output_type": "execute_result",
          "data": {
            "text/plain": [
              "matrix([[1.        , 2.        ],\n",
              "        [4.12310563, 3.        ]])"
            ]
          },
          "metadata": {},
          "execution_count": 232
        }
      ]
    },
    {
      "cell_type": "markdown",
      "source": [
        "## Matrix Computations\n",
        "### Inverse"
      ],
      "metadata": {
        "id": "7uJLTwEIn-o4"
      }
    },
    {
      "cell_type": "code",
      "source": [
        "a = np.array([[1,2],[3,4]])\n",
        "np.linalg.inv(a)"
      ],
      "metadata": {
        "id": "SvcjdQPxn44d",
        "outputId": "3fc722f7-00c8-44b9-d16d-d263ba895716",
        "colab": {
          "base_uri": "https://localhost:8080/"
        }
      },
      "execution_count": 244,
      "outputs": [
        {
          "output_type": "execute_result",
          "data": {
            "text/plain": [
              "array([[-2. ,  1. ],\n",
              "       [ 1.5, -0.5]])"
            ]
          },
          "metadata": {},
          "execution_count": 244
        }
      ]
    },
    {
      "cell_type": "code",
      "source": [
        "# Check\n",
        "np.dot(a, np.linalg.inv(a))"
      ],
      "metadata": {
        "id": "wiKsTq9_opWh",
        "outputId": "25427e63-ad1a-4422-e0b9-c8e58fa80bde",
        "colab": {
          "base_uri": "https://localhost:8080/"
        }
      },
      "execution_count": 235,
      "outputs": [
        {
          "output_type": "execute_result",
          "data": {
            "text/plain": [
              "array([[1.0000000e+00, 0.0000000e+00],\n",
              "       [8.8817842e-16, 1.0000000e+00]])"
            ]
          },
          "metadata": {},
          "execution_count": 235
        }
      ]
    },
    {
      "cell_type": "code",
      "source": [
        "# FIX THE CODE:\n",
        "# np.dot(a, a.I) and a.I * a give the same error.\n",
        "a_ = np.matrix([[1,2],[3,4]])\n",
        "a_.I * a_"
      ],
      "metadata": {
        "id": "BE3FRjRaowrd",
        "outputId": "9ec1a00f-7596-476b-a3a2-6acb755e8c29",
        "colab": {
          "base_uri": "https://localhost:8080/"
        }
      },
      "execution_count": 241,
      "outputs": [
        {
          "output_type": "execute_result",
          "data": {
            "text/plain": [
              "matrix([[1.00000000e+00, 0.00000000e+00],\n",
              "        [1.11022302e-16, 1.00000000e+00]])"
            ]
          },
          "metadata": {},
          "execution_count": 241
        }
      ]
    },
    {
      "cell_type": "code",
      "source": [
        "np.linalg.det(a)"
      ],
      "metadata": {
        "id": "cuKU-wsQo3kB",
        "outputId": "fdb9d380-aa65-4a02-a5fb-50ac2e60b93a",
        "colab": {
          "base_uri": "https://localhost:8080/"
        }
      },
      "execution_count": 246,
      "outputs": [
        {
          "output_type": "execute_result",
          "data": {
            "text/plain": [
              "-2.0000000000000004"
            ]
          },
          "metadata": {},
          "execution_count": 246
        }
      ]
    },
    {
      "cell_type": "code",
      "source": [
        "np.linalg.det(np.linalg.inv(a))"
      ],
      "metadata": {
        "id": "4qVYAUBZqw8Z",
        "outputId": "c4bde92b-8a9e-476f-bd24-e4d3d32d7622",
        "colab": {
          "base_uri": "https://localhost:8080/"
        }
      },
      "execution_count": 247,
      "outputs": [
        {
          "output_type": "execute_result",
          "data": {
            "text/plain": [
              "-0.49999999999999967"
            ]
          },
          "metadata": {},
          "execution_count": 247
        }
      ]
    },
    {
      "cell_type": "code",
      "source": [
        "np.shape(data)"
      ],
      "metadata": {
        "id": "wh2dPm1HrIDa",
        "outputId": "cf828868-f05c-4f6c-8152-9ce9c2f932d2",
        "colab": {
          "base_uri": "https://localhost:8080/"
        }
      },
      "execution_count": 250,
      "outputs": [
        {
          "output_type": "execute_result",
          "data": {
            "text/plain": [
              "(77431, 7)"
            ]
          },
          "metadata": {},
          "execution_count": 250
        }
      ]
    },
    {
      "cell_type": "code",
      "source": [
        "np.mean(data[:,3]) # The mean of the third column"
      ],
      "metadata": {
        "id": "iwNjkgnzrPl3",
        "outputId": "289f12a8-b23f-438d-a958-a376ab762bbc",
        "colab": {
          "base_uri": "https://localhost:8080/"
        }
      },
      "execution_count": 252,
      "outputs": [
        {
          "output_type": "execute_result",
          "data": {
            "text/plain": [
              "6.197109684751585"
            ]
          },
          "metadata": {},
          "execution_count": 252
        }
      ]
    },
    {
      "cell_type": "code",
      "source": [
        "np.std(data[:, 3]), np.var(data[:,3])"
      ],
      "metadata": {
        "id": "qpE0WeHkrdKV",
        "outputId": "f3834c92-4702-4d39-a65d-9cac574dfd33",
        "colab": {
          "base_uri": "https://localhost:8080/"
        }
      },
      "execution_count": 253,
      "outputs": [
        {
          "output_type": "execute_result",
          "data": {
            "text/plain": [
              "(8.282271621340573, 68.59602320966341)"
            ]
          },
          "metadata": {},
          "execution_count": 253
        }
      ]
    },
    {
      "cell_type": "code",
      "source": [
        "np.min(data[:,3]) # data[:,3].min"
      ],
      "metadata": {
        "id": "z02JIOK9rnle",
        "outputId": "00da795e-f93b-4ba6-e6dd-b50b0b93e4c9",
        "colab": {
          "base_uri": "https://localhost:8080/"
        }
      },
      "execution_count": 254,
      "outputs": [
        {
          "output_type": "execute_result",
          "data": {
            "text/plain": [
              "-25.8"
            ]
          },
          "metadata": {},
          "execution_count": 254
        }
      ]
    },
    {
      "cell_type": "code",
      "source": [
        "np.max(data[:,3]) #data[:,3].max"
      ],
      "metadata": {
        "id": "_4hwI_xUrupz",
        "outputId": "6a81233e-a669-4a76-c719-03343cc74788",
        "colab": {
          "base_uri": "https://localhost:8080/"
        }
      },
      "execution_count": 255,
      "outputs": [
        {
          "output_type": "execute_result",
          "data": {
            "text/plain": [
              "28.3"
            ]
          },
          "metadata": {},
          "execution_count": 255
        }
      ]
    },
    {
      "cell_type": "code",
      "source": [
        "d = np.arange(0,10)"
      ],
      "metadata": {
        "id": "YjmQpSfQr9Or"
      },
      "execution_count": 256,
      "outputs": []
    },
    {
      "cell_type": "code",
      "source": [
        "np.sum(d)"
      ],
      "metadata": {
        "id": "YBqTaesesJL0",
        "outputId": "4c77054e-d06b-4fc1-9b8a-3885bc842276",
        "colab": {
          "base_uri": "https://localhost:8080/"
        }
      },
      "execution_count": 258,
      "outputs": [
        {
          "output_type": "execute_result",
          "data": {
            "text/plain": [
              "45"
            ]
          },
          "metadata": {},
          "execution_count": 258
        }
      ]
    },
    {
      "cell_type": "code",
      "source": [
        "np.prod(d + 1)"
      ],
      "metadata": {
        "id": "4xA84brcsMm1",
        "outputId": "ba47a3da-358c-448c-b3d6-8fe7ea36750e",
        "colab": {
          "base_uri": "https://localhost:8080/"
        }
      },
      "execution_count": 260,
      "outputs": [
        {
          "output_type": "execute_result",
          "data": {
            "text/plain": [
              "3628800"
            ]
          },
          "metadata": {},
          "execution_count": 260
        }
      ]
    },
    {
      "cell_type": "code",
      "source": [
        "np.cumsum(d)"
      ],
      "metadata": {
        "id": "CHTteDSNsQNv",
        "outputId": "2d3c69be-dcb5-4157-aa36-62142eee34f4",
        "colab": {
          "base_uri": "https://localhost:8080/"
        }
      },
      "execution_count": 261,
      "outputs": [
        {
          "output_type": "execute_result",
          "data": {
            "text/plain": [
              "array([ 0,  1,  3,  6, 10, 15, 21, 28, 36, 45])"
            ]
          },
          "metadata": {},
          "execution_count": 261
        }
      ]
    },
    {
      "cell_type": "code",
      "source": [
        "np.cumprod(d+1)"
      ],
      "metadata": {
        "id": "e58WOsZJsXJk",
        "outputId": "e45fc899-84b3-48ff-8a93-7bfdb6537d95",
        "colab": {
          "base_uri": "https://localhost:8080/"
        }
      },
      "execution_count": 263,
      "outputs": [
        {
          "output_type": "execute_result",
          "data": {
            "text/plain": [
              "array([      1,       2,       6,      24,     120,     720,    5040,\n",
              "         40320,  362880, 3628800])"
            ]
          },
          "metadata": {},
          "execution_count": 263
        }
      ]
    },
    {
      "cell_type": "code",
      "source": [
        "np.trace(A)"
      ],
      "metadata": {
        "id": "_QJ9kgOosZoX",
        "outputId": "aecd6308-c24d-4a92-a628-9db4eee1f7d1",
        "colab": {
          "base_uri": "https://localhost:8080/"
        }
      },
      "execution_count": 266,
      "outputs": [
        {
          "output_type": "execute_result",
          "data": {
            "text/plain": [
              "110"
            ]
          },
          "metadata": {},
          "execution_count": 266
        }
      ]
    },
    {
      "cell_type": "code",
      "source": [
        "np.unique(data[:,1])"
      ],
      "metadata": {
        "id": "YTiziPrmsgx-",
        "outputId": "2191a5d0-a268-4d26-e79e-9c1b690a7c24",
        "colab": {
          "base_uri": "https://localhost:8080/"
        }
      },
      "execution_count": 267,
      "outputs": [
        {
          "output_type": "execute_result",
          "data": {
            "text/plain": [
              "array([ 1.,  2.,  3.,  4.,  5.,  6.,  7.,  8.,  9., 10., 11., 12.])"
            ]
          },
          "metadata": {},
          "execution_count": 267
        }
      ]
    },
    {
      "cell_type": "code",
      "source": [
        "mask_feb = data[:,1] == 2"
      ],
      "metadata": {
        "id": "RAcCrZwas1Oj"
      },
      "execution_count": 268,
      "outputs": []
    },
    {
      "cell_type": "code",
      "source": [
        "np.mean(data[mask_feb,3])"
      ],
      "metadata": {
        "id": "d2OuZIcGs-EZ",
        "outputId": "1681a52d-b420-46cd-a6ea-5a1f3d0f02c9",
        "colab": {
          "base_uri": "https://localhost:8080/"
        }
      },
      "execution_count": 273,
      "outputs": [
        {
          "output_type": "execute_result",
          "data": {
            "text/plain": [
              "-3.212109570736596"
            ]
          },
          "metadata": {},
          "execution_count": 273
        }
      ]
    },
    {
      "cell_type": "code",
      "source": [
        "months = np.arange(1,13)\n",
        "monthly_mean = [np.mean(data[data[:,1] == month, 3]) for month in months]\n",
        "fig, ax = plt.subplots()\n",
        "ax.bar(months, monthly_mean)\n",
        "ax.set_xlabel(\"Month\")\n",
        "ax.set_ylabel(\"Monthly avg. temp.\");"
      ],
      "metadata": {
        "id": "oFqPbcMTtLjL",
        "outputId": "ff76be4d-be14-406c-b469-ee3e8f2b6dc2",
        "colab": {
          "base_uri": "https://localhost:8080/",
          "height": 449
        }
      },
      "execution_count": 275,
      "outputs": [
        {
          "output_type": "display_data",
          "data": {
            "text/plain": [
              "<Figure size 640x480 with 1 Axes>"
            ],
            "image/png": "[encoded data removed]"
          },
          "metadata": {}
        }
      ]
    },
    {
      "cell_type": "code",
      "source": [
        "m = np.random.rand(3,3)\n",
        "\n",
        "m.max(), m.min()"
      ],
      "metadata": {
        "id": "Vtg8f_4AtnU7",
        "outputId": "d270cf63-c0fc-4dc8-dff3-82d0a846a636",
        "colab": {
          "base_uri": "https://localhost:8080/"
        }
      },
      "execution_count": 278,
      "outputs": [
        {
          "output_type": "execute_result",
          "data": {
            "text/plain": [
              "(0.7038708355528208, 0.06322299202428339)"
            ]
          },
          "metadata": {},
          "execution_count": 278
        }
      ]
    },
    {
      "cell_type": "code",
      "source": [
        "m.max(axis=0) # max in each column"
      ],
      "metadata": {
        "id": "z2sgjxp1tvyq",
        "outputId": "8d221a7b-d074-46a3-c0fd-199523720598",
        "colab": {
          "base_uri": "https://localhost:8080/"
        }
      },
      "execution_count": 280,
      "outputs": [
        {
          "output_type": "execute_result",
          "data": {
            "text/plain": [
              "array([0.33570644, 0.70387084, 0.46893987])"
            ]
          },
          "metadata": {},
          "execution_count": 280
        }
      ]
    },
    {
      "cell_type": "code",
      "source": [
        "m.max(axis=1) # max in each row"
      ],
      "metadata": {
        "id": "-AhmFNzdt8z8",
        "outputId": "9b94e564-a8b2-4fd4-dff0-178342c8046e",
        "colab": {
          "base_uri": "https://localhost:8080/"
        }
      },
      "execution_count": 281,
      "outputs": [
        {
          "output_type": "execute_result",
          "data": {
            "text/plain": [
              "array([0.33570644, 0.70387084, 0.46371313])"
            ]
          },
          "metadata": {},
          "execution_count": 281
        }
      ]
    },
    {
      "cell_type": "markdown",
      "source": [
        "### Reshaping, Resizing and Stacking Arrays\n"
      ],
      "metadata": {
        "id": "86okuJ67wUV7"
      }
    },
    {
      "cell_type": "code",
      "source": [
        "A"
      ],
      "metadata": {
        "id": "NMirA4JduF_7",
        "outputId": "e78d5361-0ed2-477d-bcd0-400fbfc4b5bd",
        "colab": {
          "base_uri": "https://localhost:8080/"
        }
      },
      "execution_count": 304,
      "outputs": [
        {
          "output_type": "execute_result",
          "data": {
            "text/plain": [
              "array([[ 0,  1,  2,  3,  4],\n",
              "       [10, 11, 12, 13, 14],\n",
              "       [20, 21, 22, 23, 24],\n",
              "       [30, 31, 32, 33, 34],\n",
              "       [40, 41, 42, 43, 44]])"
            ]
          },
          "metadata": {},
          "execution_count": 304
        }
      ]
    },
    {
      "cell_type": "code",
      "source": [
        "n, m = A.shape"
      ],
      "metadata": {
        "id": "zJsACXYAuGks"
      },
      "execution_count": 305,
      "outputs": []
    },
    {
      "cell_type": "code",
      "source": [
        "B = A.reshape((1, n*m)) # WARNING : TWO BRACKETS, 2D DATA\n",
        "B"
      ],
      "metadata": {
        "id": "Oh9fKojluJnf",
        "outputId": "c5a82f5f-e550-437a-8364-9a56f93c97d4",
        "colab": {
          "base_uri": "https://localhost:8080/"
        }
      },
      "execution_count": 306,
      "outputs": [
        {
          "output_type": "execute_result",
          "data": {
            "text/plain": [
              "array([[ 0,  1,  2,  3,  4, 10, 11, 12, 13, 14, 20, 21, 22, 23, 24, 30,\n",
              "        31, 32, 33, 34, 40, 41, 42, 43, 44]])"
            ]
          },
          "metadata": {},
          "execution_count": 306
        }
      ]
    },
    {
      "cell_type": "code",
      "source": [
        "B[0, 0:5] = 5\n",
        "B"
      ],
      "metadata": {
        "id": "fQwKmgvvuSeZ",
        "outputId": "b527f66a-5c06-47a5-c823-a1f64e178857",
        "colab": {
          "base_uri": "https://localhost:8080/"
        }
      },
      "execution_count": 307,
      "outputs": [
        {
          "output_type": "execute_result",
          "data": {
            "text/plain": [
              "array([[ 5,  5,  5,  5,  5, 10, 11, 12, 13, 14, 20, 21, 22, 23, 24, 30,\n",
              "        31, 32, 33, 34, 40, 41, 42, 43, 44]])"
            ]
          },
          "metadata": {},
          "execution_count": 307
        }
      ]
    },
    {
      "cell_type": "code",
      "source": [
        "type(B)"
      ],
      "metadata": {
        "id": "wpsmb7Qgubec",
        "outputId": "b0147dec-3f14-49fd-9b04-2e49abd7095c",
        "colab": {
          "base_uri": "https://localhost:8080/"
        }
      },
      "execution_count": 308,
      "outputs": [
        {
          "output_type": "execute_result",
          "data": {
            "text/plain": [
              "numpy.ndarray"
            ]
          },
          "metadata": {},
          "execution_count": 308
        }
      ]
    },
    {
      "cell_type": "code",
      "source": [
        "np.shape(B)"
      ],
      "metadata": {
        "id": "F4CeyDrKu3x2",
        "outputId": "958b9577-1954-4a6e-e532-301ac2d63c5c",
        "colab": {
          "base_uri": "https://localhost:8080/"
        }
      },
      "execution_count": 309,
      "outputs": [
        {
          "output_type": "execute_result",
          "data": {
            "text/plain": [
              "(1, 25)"
            ]
          },
          "metadata": {},
          "execution_count": 309
        }
      ]
    },
    {
      "cell_type": "code",
      "source": [
        "A   # VERY IMPORTANT. thirdhe original variable is also changed. B is only a different view of the same data"
      ],
      "metadata": {
        "id": "3Pjksqa2u7nD",
        "outputId": "6b2a7e59-686f-4180-fbd6-a3f1f1d80166",
        "colab": {
          "base_uri": "https://localhost:8080/"
        }
      },
      "execution_count": 311,
      "outputs": [
        {
          "output_type": "execute_result",
          "data": {
            "text/plain": [
              "array([[ 5,  5,  5,  5,  5],\n",
              "       [10, 11, 12, 13, 14],\n",
              "       [20, 21, 22, 23, 24],\n",
              "       [30, 31, 32, 33, 34],\n",
              "       [40, 41, 42, 43, 44]])"
            ]
          },
          "metadata": {},
          "execution_count": 311
        }
      ]
    },
    {
      "cell_type": "code",
      "source": [
        "B = A.flatten() # WARNING : ONE BRACKETS, 1D DATA\n",
        "B"
      ],
      "metadata": {
        "id": "maG76nJKu750",
        "outputId": "7de4de6f-1fd8-48e9-f7a8-bee06a8e3adb",
        "colab": {
          "base_uri": "https://localhost:8080/"
        }
      },
      "execution_count": 314,
      "outputs": [
        {
          "output_type": "execute_result",
          "data": {
            "text/plain": [
              "array([ 5,  5,  5,  5,  5, 10, 11, 12, 13, 14, 20, 21, 22, 23, 24, 30, 31,\n",
              "       32, 33, 34, 40, 41, 42, 43, 44])"
            ]
          },
          "metadata": {},
          "execution_count": 314
        }
      ]
    },
    {
      "cell_type": "code",
      "source": [
        "B[0:5] = 10\n",
        "B"
      ],
      "metadata": {
        "id": "l_DVEbpHvF62",
        "outputId": "77aeaf1f-11d0-43a4-c609-f0685c4b2592",
        "colab": {
          "base_uri": "https://localhost:8080/"
        }
      },
      "execution_count": 316,
      "outputs": [
        {
          "output_type": "execute_result",
          "data": {
            "text/plain": [
              "array([10, 10, 10, 10, 10, 10, 11, 12, 13, 14, 20, 21, 22, 23, 24, 30, 31,\n",
              "       32, 33, 34, 40, 41, 42, 43, 44])"
            ]
          },
          "metadata": {},
          "execution_count": 316
        }
      ]
    },
    {
      "cell_type": "code",
      "source": [
        "A # now A has not changed, because B's data is a copy of A's, not referring to the same data"
      ],
      "metadata": {
        "id": "8GLJemAFv5OL",
        "outputId": "508a2578-f784-4575-d06c-281828c04c28",
        "colab": {
          "base_uri": "https://localhost:8080/"
        }
      },
      "execution_count": 317,
      "outputs": [
        {
          "output_type": "execute_result",
          "data": {
            "text/plain": [
              "array([[ 5,  5,  5,  5,  5],\n",
              "       [10, 11, 12, 13, 14],\n",
              "       [20, 21, 22, 23, 24],\n",
              "       [30, 31, 32, 33, 34],\n",
              "       [40, 41, 42, 43, 44]])"
            ]
          },
          "metadata": {},
          "execution_count": 317
        }
      ]
    },
    {
      "cell_type": "markdown",
      "source": [
        "### Adding A New Dimension: newaxis\n",
        "With `newaxis`, we can insert new dimensions in an array, for example converting a vector to a column or row matrix:\n",
        "\n"
      ],
      "metadata": {
        "id": "xPuEDqr4wOvx"
      }
    },
    {
      "cell_type": "code",
      "source": [
        "v = np.array([1,2,3])\n",
        "np.shape(v)"
      ],
      "metadata": {
        "id": "a_x5IJrDv9Js",
        "outputId": "24f2bef5-1d8c-445f-d308-2fd431ac8087",
        "colab": {
          "base_uri": "https://localhost:8080/"
        }
      },
      "execution_count": 321,
      "outputs": [
        {
          "output_type": "execute_result",
          "data": {
            "text/plain": [
              "(3,)"
            ]
          },
          "metadata": {},
          "execution_count": 321
        }
      ]
    },
    {
      "cell_type": "code",
      "source": [
        "v[:, np.newaxis] # make a column matrix of the vector v"
      ],
      "metadata": {
        "id": "8yRRmv29wonC",
        "outputId": "a83433a3-f44b-44b8-ed74-b61d019d8cbb",
        "colab": {
          "base_uri": "https://localhost:8080/"
        }
      },
      "execution_count": 323,
      "outputs": [
        {
          "output_type": "execute_result",
          "data": {
            "text/plain": [
              "array([[1],\n",
              "       [2],\n",
              "       [3]])"
            ]
          },
          "metadata": {},
          "execution_count": 323
        }
      ]
    },
    {
      "cell_type": "code",
      "source": [
        "v[:, np.newaxis].shape"
      ],
      "metadata": {
        "id": "TU73g1Eswv0A",
        "outputId": "0aa2b9bf-2d4f-4c57-a719-094752874835",
        "colab": {
          "base_uri": "https://localhost:8080/"
        }
      },
      "execution_count": 324,
      "outputs": [
        {
          "output_type": "execute_result",
          "data": {
            "text/plain": [
              "(3, 1)"
            ]
          },
          "metadata": {},
          "execution_count": 324
        }
      ]
    },
    {
      "cell_type": "code",
      "source": [
        "v[np.newaxis, :].shape"
      ],
      "metadata": {
        "id": "AUBUij4rw9ma",
        "outputId": "f3a7ea21-41da-410c-bf6f-315746f7d8db",
        "colab": {
          "base_uri": "https://localhost:8080/"
        }
      },
      "execution_count": 325,
      "outputs": [
        {
          "output_type": "execute_result",
          "data": {
            "text/plain": [
              "(1, 3)"
            ]
          },
          "metadata": {},
          "execution_count": 325
        }
      ]
    },
    {
      "cell_type": "markdown",
      "source": [
        "### Stacking and Repeating Arrays\n",
        "Using function `repeat`, `tile`, `vstack`, `hstack`, and `concatenate` we can create larger vectors and matrices from smaller ones"
      ],
      "metadata": {
        "id": "RtunYzdKxJaN"
      }
    },
    {
      "cell_type": "code",
      "source": [
        "a = np.array([[1, 2], [3, 4]])\n",
        "np.repeat(a, 3)"
      ],
      "metadata": {
        "id": "8IASW6UwxCPE",
        "outputId": "e658da96-cb33-40b0-ed72-02b053fee143",
        "colab": {
          "base_uri": "https://localhost:8080/"
        }
      },
      "execution_count": 327,
      "outputs": [
        {
          "output_type": "execute_result",
          "data": {
            "text/plain": [
              "array([1, 1, 1, 2, 2, 2, 3, 3, 3, 4, 4, 4])"
            ]
          },
          "metadata": {},
          "execution_count": 327
        }
      ]
    },
    {
      "cell_type": "code",
      "source": [
        "np.tile(a, 3)"
      ],
      "metadata": {
        "id": "J8ExZJayxcuo",
        "outputId": "e87066ac-d568-4b51-ae2c-40c177b09b27",
        "colab": {
          "base_uri": "https://localhost:8080/"
        }
      },
      "execution_count": 328,
      "outputs": [
        {
          "output_type": "execute_result",
          "data": {
            "text/plain": [
              "array([[1, 2, 1, 2, 1, 2],\n",
              "       [3, 4, 3, 4, 3, 4]])"
            ]
          },
          "metadata": {},
          "execution_count": 328
        }
      ]
    },
    {
      "cell_type": "code",
      "source": [
        "b = np.array([[5, 6]])\n",
        "np.concatenate((a, b), axis = 0)"
      ],
      "metadata": {
        "id": "6iFBZSjWxiC1",
        "outputId": "92ec7723-2eab-4418-dc9a-31da063b3fcf",
        "colab": {
          "base_uri": "https://localhost:8080/"
        }
      },
      "execution_count": 331,
      "outputs": [
        {
          "output_type": "execute_result",
          "data": {
            "text/plain": [
              "array([[1, 2],\n",
              "       [3, 4],\n",
              "       [5, 6]])"
            ]
          },
          "metadata": {},
          "execution_count": 331
        }
      ]
    },
    {
      "cell_type": "code",
      "source": [
        "np.concatenate((a,b.T), axis= 1)"
      ],
      "metadata": {
        "id": "epVS36YzxyY6",
        "outputId": "381ab81e-095d-4dc0-8ce2-e7cc8c0e3e75",
        "colab": {
          "base_uri": "https://localhost:8080/"
        }
      },
      "execution_count": 333,
      "outputs": [
        {
          "output_type": "execute_result",
          "data": {
            "text/plain": [
              "array([[1, 2, 5],\n",
              "       [3, 4, 6]])"
            ]
          },
          "metadata": {},
          "execution_count": 333
        }
      ]
    },
    {
      "cell_type": "code",
      "source": [
        "np.vstack((a,b))"
      ],
      "metadata": {
        "id": "gge0Leojx5wk",
        "outputId": "f1e61c37-def2-472d-ca4b-776094dce2f4",
        "colab": {
          "base_uri": "https://localhost:8080/"
        }
      },
      "execution_count": 334,
      "outputs": [
        {
          "output_type": "execute_result",
          "data": {
            "text/plain": [
              "array([[1, 2],\n",
              "       [3, 4],\n",
              "       [5, 6]])"
            ]
          },
          "metadata": {},
          "execution_count": 334
        }
      ]
    },
    {
      "cell_type": "code",
      "source": [
        "np.hstack((a,b.T))"
      ],
      "metadata": {
        "id": "dqLDwpaCyH_X",
        "outputId": "88023e92-6ee2-4ca1-9a1d-3222f31b9b6e",
        "colab": {
          "base_uri": "https://localhost:8080/"
        }
      },
      "execution_count": 336,
      "outputs": [
        {
          "output_type": "execute_result",
          "data": {
            "text/plain": [
              "array([[1, 2, 5],\n",
              "       [3, 4, 6]])"
            ]
          },
          "metadata": {},
          "execution_count": 336
        }
      ]
    },
    {
      "cell_type": "markdown",
      "source": [
        "## Copy and \"deep copy\"\n"
      ],
      "metadata": {
        "id": "jmqQT2rGyUdo"
      }
    },
    {
      "cell_type": "code",
      "source": [
        "A = np.array([[1, 2], [3, 4]])\n",
        "B = A # now B is referring to the same array data as A"
      ],
      "metadata": {
        "id": "2vXhyvmkyKbF"
      },
      "execution_count": 339,
      "outputs": []
    },
    {
      "cell_type": "code",
      "source": [
        "B[0,0] = 10\n",
        "B"
      ],
      "metadata": {
        "id": "5MX6Crozyicf",
        "outputId": "440fec58-91d3-4c46-c1c9-a6dd92086aeb",
        "colab": {
          "base_uri": "https://localhost:8080/"
        }
      },
      "execution_count": 342,
      "outputs": [
        {
          "output_type": "execute_result",
          "data": {
            "text/plain": [
              "array([[10,  2],\n",
              "       [ 3,  4]])"
            ]
          },
          "metadata": {},
          "execution_count": 342
        }
      ]
    },
    {
      "cell_type": "code",
      "source": [
        "A # changing B affects A"
      ],
      "metadata": {
        "id": "VjhBydpmymjq",
        "outputId": "bb1608c9-4d2f-46db-b137-666b5b51c6ba",
        "colab": {
          "base_uri": "https://localhost:8080/"
        }
      },
      "execution_count": 343,
      "outputs": [
        {
          "output_type": "execute_result",
          "data": {
            "text/plain": [
              "array([[10,  2],\n",
              "       [ 3,  4]])"
            ]
          },
          "metadata": {},
          "execution_count": 343
        }
      ]
    },
    {
      "cell_type": "markdown",
      "source": [
        "If we want to avoid this behavior, so that when we get a new completely independent object B copied from A, then we need to do a so-called \"deep copy\" using the function `copy`"
      ],
      "metadata": {
        "id": "obTEK55UywBs"
      }
    },
    {
      "cell_type": "code",
      "source": [
        "B = np.copy(A)"
      ],
      "metadata": {
        "id": "lR-2OdV7yneX"
      },
      "execution_count": 344,
      "outputs": []
    },
    {
      "cell_type": "code",
      "source": [
        "B"
      ],
      "metadata": {
        "id": "gxbJaTKVy1N3",
        "outputId": "113601ba-9bbe-41ed-e3ec-fb18fd2e0281",
        "colab": {
          "base_uri": "https://localhost:8080/"
        }
      },
      "execution_count": 345,
      "outputs": [
        {
          "output_type": "execute_result",
          "data": {
            "text/plain": [
              "array([[10,  2],\n",
              "       [ 3,  4]])"
            ]
          },
          "metadata": {},
          "execution_count": 345
        }
      ]
    },
    {
      "cell_type": "code",
      "source": [
        "B[0,0] = -1 # now, if we modify B, A is not affected"
      ],
      "metadata": {
        "id": "LCDbUJ8by2RD"
      },
      "execution_count": 349,
      "outputs": []
    },
    {
      "cell_type": "code",
      "source": [
        "B"
      ],
      "metadata": {
        "id": "iLc7lvrgy4yH",
        "outputId": "7fae7881-eb73-495a-e558-221e576bda2f",
        "colab": {
          "base_uri": "https://localhost:8080/"
        }
      },
      "execution_count": 351,
      "outputs": [
        {
          "output_type": "execute_result",
          "data": {
            "text/plain": [
              "array([[-1,  2],\n",
              "       [ 3,  4]])"
            ]
          },
          "metadata": {},
          "execution_count": 351
        }
      ]
    },
    {
      "cell_type": "code",
      "source": [
        "A"
      ],
      "metadata": {
        "id": "QtCIZ5y_y5YG",
        "outputId": "20594cfa-eb91-4b68-c3bf-3902b68e8b05",
        "colab": {
          "base_uri": "https://localhost:8080/"
        }
      },
      "execution_count": 352,
      "outputs": [
        {
          "output_type": "execute_result",
          "data": {
            "text/plain": [
              "array([[10,  2],\n",
              "       [ 3,  4]])"
            ]
          },
          "metadata": {},
          "execution_count": 352
        }
      ]
    },
    {
      "cell_type": "markdown",
      "source": [
        "### Iterating over array elements\n"
      ],
      "metadata": {
        "id": "oIBFwJ8AzGnn"
      }
    },
    {
      "cell_type": "code",
      "source": [
        "v = np.array([1,2,3,4])\n",
        "\n",
        "for element in v:\n",
        "  print(element)\n"
      ],
      "metadata": {
        "id": "HjvDM3tHy6Xy",
        "outputId": "ba232eb1-181b-4f80-da88-0134b37be32a",
        "colab": {
          "base_uri": "https://localhost:8080/"
        }
      },
      "execution_count": 354,
      "outputs": [
        {
          "output_type": "stream",
          "name": "stdout",
          "text": [
            "1\n",
            "2\n",
            "3\n",
            "4\n"
          ]
        }
      ]
    },
    {
      "cell_type": "code",
      "source": [
        "M = np.array([[1,2], [3,4]])\n",
        "\n",
        "for row in M:\n",
        "    print(\"row\", row)"
      ],
      "metadata": {
        "id": "J49q6d-4zTFC",
        "outputId": "070490e9-d5e2-4482-f64b-94a5eb8e6e4a",
        "colab": {
          "base_uri": "https://localhost:8080/"
        }
      },
      "execution_count": 356,
      "outputs": [
        {
          "output_type": "stream",
          "name": "stdout",
          "text": [
            "row [1 2]\n",
            "row [3 4]\n"
          ]
        }
      ]
    },
    {
      "cell_type": "code",
      "source": [
        "for row in M:\n",
        "    print(\"row\", row)\n",
        "\n",
        "    for element in row:\n",
        "        print(element)"
      ],
      "metadata": {
        "id": "g7aYVct9zj20",
        "outputId": "82d8054d-d26c-4637-8456-c41907960213",
        "colab": {
          "base_uri": "https://localhost:8080/"
        }
      },
      "execution_count": 357,
      "outputs": [
        {
          "output_type": "stream",
          "name": "stdout",
          "text": [
            "row [1 2]\n",
            "1\n",
            "2\n",
            "row [3 4]\n",
            "3\n",
            "4\n"
          ]
        }
      ]
    },
    {
      "cell_type": "markdown",
      "source": [
        "When we need to iterate over each element of an array and modify its elements, it is convenient to use the `enumerate` function to obtain both the element and its index in the for loop:\n",
        "\n"
      ],
      "metadata": {
        "id": "dQ22LEPbzqwf"
      }
    },
    {
      "cell_type": "code",
      "source": [
        "for row_idx, row in enumerate(M):\n",
        "    print(\"row_idx\", row_idx, \"row\", row)\n",
        "\n",
        "    for col_idx, element in enumerate(row):\n",
        "        print(\"col_idx\", col_idx, \"element\", element)\n",
        "\n",
        "        # update the matrix M: square each element\n",
        "        M[row_idx, col_idx] = element ** 2"
      ],
      "metadata": {
        "id": "kJbJTg5pzu7X",
        "outputId": "f8fae34d-0168-4d05-b343-55c828385ba4",
        "colab": {
          "base_uri": "https://localhost:8080/"
        }
      },
      "execution_count": 358,
      "outputs": [
        {
          "output_type": "stream",
          "name": "stdout",
          "text": [
            "row_idx 0 row [1 2]\n",
            "col_idx 0 element 1\n",
            "col_idx 1 element 2\n",
            "row_idx 1 row [3 4]\n",
            "col_idx 0 element 3\n",
            "col_idx 1 element 4\n"
          ]
        }
      ]
    },
    {
      "cell_type": "code",
      "source": [
        "# each element in M is now squared\n",
        "M"
      ],
      "metadata": {
        "id": "g0ZpdEbK0BwE",
        "outputId": "444150e8-8924-4f42-8827-40c2348f0b46",
        "colab": {
          "base_uri": "https://localhost:8080/"
        }
      },
      "execution_count": 359,
      "outputs": [
        {
          "output_type": "execute_result",
          "data": {
            "text/plain": [
              "array([[ 1,  4],\n",
              "       [ 9, 16]])"
            ]
          },
          "metadata": {},
          "execution_count": 359
        }
      ]
    },
    {
      "cell_type": "markdown",
      "source": [
        "### Vectorizing Functions\n"
      ],
      "metadata": {
        "id": "wFron6va0DFd"
      }
    },
    {
      "cell_type": "code",
      "source": [
        "def Theta(x):\n",
        "    \"\"\"\n",
        "    Scalar implementation of the Heaviside step function.\n",
        "    \"\"\"\n",
        "    if x >= 0:\n",
        "        return 1\n",
        "    else:\n",
        "        return 0"
      ],
      "metadata": {
        "id": "FxpUawM60Gg1"
      },
      "execution_count": 360,
      "outputs": []
    },
    {
      "cell_type": "code",
      "source": [
        "a = np.arange(-3,4)\n",
        "# Theta(a) gives an error. To fix it, one can use a.any() or a.all()\n",
        "Theta_vec = np.vectorize(Theta)\n",
        "Theta_vec(a)"
      ],
      "metadata": {
        "id": "K6wfe3W00YOd",
        "outputId": "cc303dda-974d-4b62-809e-560576cc466f",
        "colab": {
          "base_uri": "https://localhost:8080/"
        }
      },
      "execution_count": 363,
      "outputs": [
        {
          "output_type": "execute_result",
          "data": {
            "text/plain": [
              "array([0, 0, 0, 1, 1, 1, 1])"
            ]
          },
          "metadata": {},
          "execution_count": 363
        }
      ]
    },
    {
      "cell_type": "markdown",
      "source": [
        "We can also implement the function to accept a vector input from the beginning (requires more effort but might give better performance):"
      ],
      "metadata": {
        "id": "BAPXsrkB09UN"
      }
    },
    {
      "cell_type": "code",
      "source": [
        "def Theta(x):\n",
        "    \"\"\"\n",
        "    Vector-aware implementation of the Heaviside step function.\n",
        "    \"\"\"\n",
        "    return 1 * (x >= 0)\n",
        "\n",
        "Theta(a)"
      ],
      "metadata": {
        "id": "GzzySKr40m-6",
        "outputId": "ad623892-6175-4cb9-97e1-af1985e813cc",
        "colab": {
          "base_uri": "https://localhost:8080/"
        }
      },
      "execution_count": 365,
      "outputs": [
        {
          "output_type": "execute_result",
          "data": {
            "text/plain": [
              "array([0, 0, 0, 1, 1, 1, 1])"
            ]
          },
          "metadata": {},
          "execution_count": 365
        }
      ]
    },
    {
      "cell_type": "code",
      "source": [
        "Theta(-1.2), Theta(2.6)"
      ],
      "metadata": {
        "id": "SVaPH3Pw1Egd",
        "outputId": "4564d426-6ddc-4089-b7eb-a2be885482e2",
        "colab": {
          "base_uri": "https://localhost:8080/"
        }
      },
      "execution_count": 366,
      "outputs": [
        {
          "output_type": "execute_result",
          "data": {
            "text/plain": [
              "(0, 1)"
            ]
          },
          "metadata": {},
          "execution_count": 366
        }
      ]
    },
    {
      "cell_type": "markdown",
      "source": [
        "### Using arrays in conditions\n",
        "When using arrays in conditions,for example if statements and other boolean expressions, one needs to use `any` or `all`, which requires that any or all elements in the array evaluates to `True`:\n",
        "\n"
      ],
      "metadata": {
        "id": "iV7Caxux1Mgo"
      }
    },
    {
      "cell_type": "code",
      "source": [
        "M"
      ],
      "metadata": {
        "id": "2bf18yp11PEl",
        "outputId": "d640eab5-d355-48e7-967d-52ba28fe6fcc",
        "colab": {
          "base_uri": "https://localhost:8080/"
        }
      },
      "execution_count": 367,
      "outputs": [
        {
          "output_type": "execute_result",
          "data": {
            "text/plain": [
              "array([[ 1,  4],\n",
              "       [ 9, 16]])"
            ]
          },
          "metadata": {},
          "execution_count": 367
        }
      ]
    },
    {
      "cell_type": "code",
      "source": [
        "if (M > 5).any:\n",
        "  print(\"at least one element in M is larger than 5\")\n",
        "else:\n",
        "  print(\"no element in M is larger than 5\")"
      ],
      "metadata": {
        "id": "h8Wrvdiq1jOi",
        "outputId": "277bcbff-701d-47f2-e7f9-7b77e9658422",
        "colab": {
          "base_uri": "https://localhost:8080/"
        }
      },
      "execution_count": 369,
      "outputs": [
        {
          "output_type": "stream",
          "name": "stdout",
          "text": [
            "at least one element in M is larger than 5\n"
          ]
        }
      ]
    },
    {
      "cell_type": "code",
      "source": [
        "if (M > 5).all:\n",
        "  print(\"all elements in M are larger than 5\")\n",
        "else:\n",
        "  print(\"all elements in M are not larger than 5\")"
      ],
      "metadata": {
        "id": "cCjDRaFU13hS",
        "outputId": "a11a2a9b-395a-42fa-e91d-f5e4b967dd73",
        "colab": {
          "base_uri": "https://localhost:8080/"
        }
      },
      "execution_count": 370,
      "outputs": [
        {
          "output_type": "stream",
          "name": "stdout",
          "text": [
            "all elements in M are larger than 5\n"
          ]
        }
      ]
    },
    {
      "cell_type": "markdown",
      "source": [
        "### Type casting\n",
        "Since Numpy arrays are statically typed, the type of an array does not change once created. But we can explicitly cast an array of some type to another using the `astype` functions (see also the similar `asarray` function). This always creates a new array of new type:\n",
        "\n"
      ],
      "metadata": {
        "id": "Y66jsodr2Eo9"
      }
    },
    {
      "cell_type": "code",
      "source": [
        "M.dtype"
      ],
      "metadata": {
        "id": "0nPJ1yRU2Ccm",
        "outputId": "edc57d04-3c24-4e14-fc52-ad1554c1c92e",
        "colab": {
          "base_uri": "https://localhost:8080/"
        }
      },
      "execution_count": 371,
      "outputs": [
        {
          "output_type": "execute_result",
          "data": {
            "text/plain": [
              "dtype('int64')"
            ]
          },
          "metadata": {},
          "execution_count": 371
        }
      ]
    },
    {
      "cell_type": "code",
      "source": [
        "type(M)"
      ],
      "metadata": {
        "id": "cuglioQV2UVh",
        "outputId": "cdfa63f7-c647-48ec-8d25-4af58dc6ef38",
        "colab": {
          "base_uri": "https://localhost:8080/"
        }
      },
      "execution_count": 372,
      "outputs": [
        {
          "output_type": "execute_result",
          "data": {
            "text/plain": [
              "numpy.ndarray"
            ]
          },
          "metadata": {},
          "execution_count": 372
        }
      ]
    },
    {
      "cell_type": "code",
      "source": [
        "M2 = M.astype(float)\n",
        "M2.dtype"
      ],
      "metadata": {
        "id": "cDi43nuh2VBl",
        "outputId": "67bc1098-e405-47b7-af3a-d9c8761b188d",
        "colab": {
          "base_uri": "https://localhost:8080/"
        }
      },
      "execution_count": 375,
      "outputs": [
        {
          "output_type": "execute_result",
          "data": {
            "text/plain": [
              "dtype('float64')"
            ]
          },
          "metadata": {},
          "execution_count": 375
        }
      ]
    },
    {
      "cell_type": "code",
      "source": [
        "M2"
      ],
      "metadata": {
        "id": "kN7wkVkB2dSI",
        "outputId": "d61ac41c-8b39-4522-dc97-d5b8ffe960de",
        "colab": {
          "base_uri": "https://localhost:8080/"
        }
      },
      "execution_count": 376,
      "outputs": [
        {
          "output_type": "execute_result",
          "data": {
            "text/plain": [
              "array([[ 1.,  4.],\n",
              "       [ 9., 16.]])"
            ]
          },
          "metadata": {},
          "execution_count": 376
        }
      ]
    },
    {
      "cell_type": "code",
      "source": [
        "M3 = M.astype(bool)\n",
        "M3.dtype"
      ],
      "metadata": {
        "id": "LLE2vOhH2ic3",
        "outputId": "fa42abe3-2253-4137-d176-d92fa9c19283",
        "colab": {
          "base_uri": "https://localhost:8080/"
        }
      },
      "execution_count": 377,
      "outputs": [
        {
          "output_type": "execute_result",
          "data": {
            "text/plain": [
              "dtype('bool')"
            ]
          },
          "metadata": {},
          "execution_count": 377
        }
      ]
    },
    {
      "cell_type": "code",
      "source": [
        "M3"
      ],
      "metadata": {
        "id": "cVvj1Avj2mDd",
        "outputId": "f7c93c64-6dd7-4cf0-e464-ba1cdd91eb28",
        "colab": {
          "base_uri": "https://localhost:8080/"
        }
      },
      "execution_count": 378,
      "outputs": [
        {
          "output_type": "execute_result",
          "data": {
            "text/plain": [
              "array([[ True,  True],\n",
              "       [ True,  True]])"
            ]
          },
          "metadata": {},
          "execution_count": 378
        }
      ]
    },
    {
      "cell_type": "code",
      "source": [],
      "metadata": {
        "id": "5v8nXWHJ2nY3"
      },
      "execution_count": null,
      "outputs": []
    }
  ],
  "metadata": {
    "colab": {
      "name": "Overview of Colaboratory Features",
      "provenance": [],
      "include_colab_link": true
    },
    "kernelspec": {
      "display_name": "Python 3",
      "name": "python3"
    }
  },
  "nbformat": 4,
  "nbformat_minor": 0
}