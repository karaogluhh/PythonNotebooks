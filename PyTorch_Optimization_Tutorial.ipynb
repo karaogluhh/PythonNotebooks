{
  "cells": [
    {
      "cell_type": "markdown",
      "metadata": {
        "id": "view-in-github",
        "colab_type": "text"
      },
      "source": [
        "<a href=\"https://colab.research.google.com/github/karaogluhh/PythonNotebooks/blob/main/PyTorch_Optimization_Tutorial.ipynb\" target=\"_parent\"><img src=\"https://colab.research.google.com/assets/colab-badge.svg\" alt=\"Open In Colab\"/></a>"
      ]
    },
    {
      "cell_type": "code",
      "execution_count": 10,
      "metadata": {
        "id": "shrFKHv6yrUV"
      },
      "outputs": [],
      "source": [
        "# For tips on running notebooks in Google Colab, see\n",
        "# https://pytorch.org/tutorials/beginner/colab\n",
        "%matplotlib inline"
      ]
    },
    {
      "cell_type": "markdown",
      "metadata": {
        "id": "2geoddLyyrUX"
      },
      "source": [
        "\n",
        "[Learn the Basics](intro.html) ||\n",
        "[Quickstart](quickstart_tutorial.html) ||\n",
        "[Tensors](tensorqs_tutorial.html) ||\n",
        "[Datasets & DataLoaders](data_tutorial.html) ||\n",
        "[Transforms](transforms_tutorial.html) ||\n",
        "[Build Model](buildmodel_tutorial.html) ||\n",
        "[Autograd](autogradqs_tutorial.html) ||\n",
        "**Optimization** ||\n",
        "[Save & Load Model](saveloadrun_tutorial.html)\n",
        "\n",
        "# Optimizing Model Parameters\n",
        "\n",
        "Now that we have a model and data it's time to train, validate and test our model by optimizing its parameters on\n",
        "our data. Training a model is an iterative process; in each iteration the model makes a guess about the output, calculates\n",
        "the error in its guess (*loss*), collects the derivatives of the error with respect to its parameters (as we saw in\n",
        "the [previous section](autograd_tutorial.html)), and **optimizes** these parameters using gradient descent. For a more\n",
        "detailed walkthrough of this process, check out this video on [backpropagation from 3Blue1Brown](https://www.youtube.com/watch?v=tIeHLnjs5U8)_.\n",
        "\n",
        "## Prerequisite Code\n",
        "We load the code from the previous sections on [Datasets & DataLoaders](data_tutorial.html)\n",
        "and [Build Model](buildmodel_tutorial.html).\n"
      ]
    },
    {
      "cell_type": "code",
      "execution_count": 11,
      "metadata": {
        "id": "iQFvJJGYyrUY"
      },
      "outputs": [],
      "source": [
        "import torch\n",
        "from torch import nn\n",
        "from torch.utils.data import DataLoader\n",
        "from torchvision import datasets\n",
        "from torchvision.transforms import ToTensor\n",
        "\n",
        "training_data = datasets.FashionMNIST(\n",
        "    root=\"data\",\n",
        "    train=True,\n",
        "    download=True,\n",
        "    transform=ToTensor()\n",
        ")\n",
        "\n",
        "test_data = datasets.FashionMNIST(\n",
        "    root=\"data\",\n",
        "    train=False,\n",
        "    download=True,\n",
        "    transform=ToTensor()\n",
        ")\n",
        "\n",
        "train_dataloader = DataLoader(training_data, batch_size=64)\n",
        "test_dataloader = DataLoader(test_data, batch_size=64)\n",
        "\n",
        "class NeuralNetwork(nn.Module):\n",
        "    def __init__(self):\n",
        "        super().__init__()\n",
        "        self.flatten = nn.Flatten()\n",
        "        self.linear_relu_stack = nn.Sequential(\n",
        "            nn.Linear(28*28, 512),\n",
        "            nn.ReLU(),\n",
        "            nn.Linear(512, 512),\n",
        "            nn.ReLU(),\n",
        "            nn.Linear(512, 10),\n",
        "        )\n",
        "\n",
        "    def forward(self, x):\n",
        "        x = self.flatten(x)\n",
        "        logits = self.linear_relu_stack(x)\n",
        "        return logits\n",
        "\n",
        "model = NeuralNetwork()"
      ]
    },
    {
      "cell_type": "markdown",
      "metadata": {
        "id": "vTdMroTwyrUY"
      },
      "source": [
        "## Hyperparameters\n",
        "\n",
        "Hyperparameters are adjustable parameters that let you control the model optimization process.\n",
        "Different hyperparameter values can impact model training and convergence rates\n",
        "([read more](https://pytorch.org/tutorials/beginner/hyperparameter_tuning_tutorial.html)_ about hyperparameter tuning)\n",
        "\n",
        "We define the following hyperparameters for training:\n",
        " - **Number of Epochs** - the number times to iterate over the dataset\n",
        " - **Batch Size** - the number of data samples propagated through the network before the parameters are updated\n",
        " - **Learning Rate** - how much to update models parameters at each batch/epoch. Smaller values yield slow learning speed, while large values may result in unpredictable behavior during training.\n",
        "\n",
        "\n"
      ]
    },
    {
      "cell_type": "code",
      "execution_count": 12,
      "metadata": {
        "id": "Z9FrWY77yrUY"
      },
      "outputs": [],
      "source": [
        "learning_rate = 1e-3\n",
        "batch_size = 64\n",
        "epochs = 5"
      ]
    },
    {
      "cell_type": "markdown",
      "metadata": {
        "id": "IEIxmaB1yrUZ"
      },
      "source": [
        "## Optimization Loop\n",
        "\n",
        "Once we set our hyperparameters, we can then train and optimize our model with an optimization loop. Each\n",
        "iteration of the optimization loop is called an **epoch**.\n",
        "\n",
        "Each epoch consists of two main parts:\n",
        " - **The Train Loop** - iterate over the training dataset and try to converge to optimal parameters.\n",
        " - **The Validation/Test Loop** - iterate over the test dataset to check if model performance is improving.\n",
        "\n",
        "Let's briefly familiarize ourselves with some of the concepts used in the training loop. Jump ahead to\n",
        "see the `full-impl-label` of the optimization loop.\n",
        "\n",
        "### Loss Function\n",
        "\n",
        "When presented with some training data, our untrained network is likely not to give the correct\n",
        "answer. **Loss function** measures the degree of dissimilarity of obtained result to the target value,\n",
        "and it is the loss function that we want to minimize during training. To calculate the loss we make a\n",
        "prediction using the inputs of our given data sample and compare it against the true data label value.\n",
        "\n",
        "Common loss functions include [nn.MSELoss](https://pytorch.org/docs/stable/generated/torch.nn.MSELoss.html#torch.nn.MSELoss) (Mean Square Error) for regression tasks, and\n",
        "[nn.NLLLoss](https://pytorch.org/docs/stable/generated/torch.nn.NLLLoss.html#torch.nn.NLLLoss) (Negative Log Likelihood) for classification.\n",
        "[nn.CrossEntropyLoss](https://pytorch.org/docs/stable/generated/torch.nn.CrossEntropyLoss.html#torch.nn.CrossEntropyLoss) combines ``nn.LogSoftmax`` and ``nn.NLLLoss``.\n",
        "\n",
        "We pass our model's output logits to ``nn.CrossEntropyLoss``, which will normalize the logits and compute the prediction error.\n",
        "\n"
      ]
    },
    {
      "cell_type": "code",
      "execution_count": 13,
      "metadata": {
        "id": "mn57eeCNyrUZ"
      },
      "outputs": [],
      "source": [
        "# Initialize the loss function\n",
        "loss_fn = nn.CrossEntropyLoss()"
      ]
    },
    {
      "cell_type": "markdown",
      "metadata": {
        "id": "Tlrwc011yrUZ"
      },
      "source": [
        "### Optimizer\n",
        "\n",
        "Optimization is the process of adjusting model parameters to reduce model error in each training step. **Optimization algorithms** define how this process is performed (in this example we use Stochastic Gradient Descent).\n",
        "All optimization logic is encapsulated in  the ``optimizer`` object. Here, we use the SGD optimizer; additionally, there are many [different optimizers](https://pytorch.org/docs/stable/optim.html)\n",
        "available in PyTorch such as ADAM and RMSProp, that work better for different kinds of models and data.\n",
        "\n",
        "We initialize the optimizer by registering the model's parameters that need to be trained, and passing in the learning rate hyperparameter.\n",
        "\n"
      ]
    },
    {
      "cell_type": "code",
      "execution_count": 14,
      "metadata": {
        "id": "gI-5L-fUyrUZ"
      },
      "outputs": [],
      "source": [
        "optimizer = torch.optim.SGD(model.parameters(), lr=learning_rate)"
      ]
    },
    {
      "cell_type": "markdown",
      "metadata": {
        "id": "wt6N2-TGyrUa"
      },
      "source": [
        "Inside the training loop, optimization happens in three steps:\n",
        " * Call ``optimizer.zero_grad()`` to reset the gradients of model parameters. Gradients by default add up; to prevent double-counting, we explicitly zero them at each iteration.\n",
        " * Backpropagate the prediction loss with a call to ``loss.backward()``. PyTorch deposits the gradients of the loss w.r.t. each parameter.\n",
        " * Once we have our gradients, we call ``optimizer.step()`` to adjust the parameters by the gradients collected in the backward pass.\n",
        "\n"
      ]
    },
    {
      "cell_type": "markdown",
      "metadata": {
        "id": "Lb1TzsrJyrUa"
      },
      "source": [
        "\n",
        "## Full Implementation\n",
        "We define ``train_loop`` that loops over our optimization code, and ``test_loop`` that\n",
        "evaluates the model's performance against our test data.\n",
        "\n"
      ]
    },
    {
      "cell_type": "code",
      "execution_count": 15,
      "metadata": {
        "id": "Gf9swD-OyrUa"
      },
      "outputs": [],
      "source": [
        "def train_loop(dataloader, model, loss_fn, optimizer):\n",
        "    size = len(dataloader.dataset)\n",
        "    # Set the model to training mode - important for batch normalization and dropout layers\n",
        "    # Unnecessary in this situation but added for best practices\n",
        "    model.train()\n",
        "    for batch, (X, y) in enumerate(dataloader):\n",
        "        # Compute prediction and loss\n",
        "        pred = model(X)\n",
        "        loss = loss_fn(pred, y)\n",
        "\n",
        "        # Backpropagation\n",
        "        loss.backward()\n",
        "        optimizer.step()\n",
        "        optimizer.zero_grad()\n",
        "\n",
        "        if batch % 100 == 0:\n",
        "            loss, current = loss.item(), batch * batch_size + len(X)\n",
        "            print(f\"loss: {loss:>7f}  [{current:>5d}/{size:>5d}]\")\n",
        "\n",
        "\n",
        "def test_loop(dataloader, model, loss_fn):\n",
        "    # Set the model to evaluation mode - important for batch normalization and dropout layers\n",
        "    # Unnecessary in this situation but added for best practices\n",
        "    model.eval()\n",
        "    size = len(dataloader.dataset)\n",
        "    num_batches = len(dataloader)\n",
        "    test_loss, correct = 0, 0\n",
        "\n",
        "    # Evaluating the model with torch.no_grad() ensures that no gradients are computed during test mode\n",
        "    # also serves to reduce unnecessary gradient computations and memory usage for tensors with requires_grad=True\n",
        "    with torch.no_grad():\n",
        "        for X, y in dataloader:\n",
        "            pred = model(X)\n",
        "            test_loss += loss_fn(pred, y).item()\n",
        "            correct += (pred.argmax(1) == y).type(torch.float).sum().item()\n",
        "\n",
        "    test_loss /= num_batches\n",
        "    correct /= size\n",
        "    print(f\"Test Error: \\n Accuracy: {(100*correct):>0.1f}%, Avg loss: {test_loss:>8f} \\n\")"
      ]
    },
    {
      "cell_type": "markdown",
      "metadata": {
        "id": "YHwcOe9RyrUa"
      },
      "source": [
        "We initialize the loss function and optimizer, and pass it to ``train_loop`` and ``test_loop``.\n",
        "Feel free to increase the number of epochs to track the model's improving performance.\n",
        "\n"
      ]
    },
    {
      "cell_type": "code",
      "execution_count": 16,
      "metadata": {
        "id": "_BManWKhyrUb",
        "outputId": "a63d24b2-2b75-4717-cc54-af4b721e2f9a",
        "colab": {
          "base_uri": "https://localhost:8080/"
        }
      },
      "outputs": [
        {
          "output_type": "stream",
          "name": "stdout",
          "text": [
            "Epoch 1\n",
            "-------------------------------\n",
            "loss: 2.302751  [   64/60000]\n",
            "loss: 2.291859  [ 6464/60000]\n",
            "loss: 2.276465  [12864/60000]\n",
            "loss: 2.274635  [19264/60000]\n",
            "loss: 2.252979  [25664/60000]\n",
            "loss: 2.231234  [32064/60000]\n",
            "loss: 2.232908  [38464/60000]\n",
            "loss: 2.199977  [44864/60000]\n",
            "loss: 2.207407  [51264/60000]\n",
            "loss: 2.174442  [57664/60000]\n",
            "Test Error: \n",
            " Accuracy: 36.0%, Avg loss: 2.165248 \n",
            "\n",
            "Epoch 2\n",
            "-------------------------------\n",
            "loss: 2.181130  [   64/60000]\n",
            "loss: 2.166404  [ 6464/60000]\n",
            "loss: 2.115286  [12864/60000]\n",
            "loss: 2.131200  [19264/60000]\n",
            "loss: 2.081938  [25664/60000]\n",
            "loss: 2.021558  [32064/60000]\n",
            "loss: 2.049057  [38464/60000]\n",
            "loss: 1.969969  [44864/60000]\n",
            "loss: 1.980742  [51264/60000]\n",
            "loss: 1.910405  [57664/60000]\n",
            "Test Error: \n",
            " Accuracy: 45.6%, Avg loss: 1.906766 \n",
            "\n",
            "Epoch 3\n",
            "-------------------------------\n",
            "loss: 1.944738  [   64/60000]\n",
            "loss: 1.910415  [ 6464/60000]\n",
            "loss: 1.799620  [12864/60000]\n",
            "loss: 1.840032  [19264/60000]\n",
            "loss: 1.736718  [25664/60000]\n",
            "loss: 1.678312  [32064/60000]\n",
            "loss: 1.707986  [38464/60000]\n",
            "loss: 1.603972  [44864/60000]\n",
            "loss: 1.629843  [51264/60000]\n",
            "loss: 1.527207  [57664/60000]\n",
            "Test Error: \n",
            " Accuracy: 57.3%, Avg loss: 1.541110 \n",
            "\n",
            "Epoch 4\n",
            "-------------------------------\n",
            "loss: 1.611170  [   64/60000]\n",
            "loss: 1.568958  [ 6464/60000]\n",
            "loss: 1.423602  [12864/60000]\n",
            "loss: 1.496357  [19264/60000]\n",
            "loss: 1.381022  [25664/60000]\n",
            "loss: 1.369619  [32064/60000]\n",
            "loss: 1.390093  [38464/60000]\n",
            "loss: 1.309043  [44864/60000]\n",
            "loss: 1.341334  [51264/60000]\n",
            "loss: 1.249098  [57664/60000]\n",
            "Test Error: \n",
            " Accuracy: 62.5%, Avg loss: 1.268833 \n",
            "\n",
            "Epoch 5\n",
            "-------------------------------\n",
            "loss: 1.346371  [   64/60000]\n",
            "loss: 1.321298  [ 6464/60000]\n",
            "loss: 1.159048  [12864/60000]\n",
            "loss: 1.271264  [19264/60000]\n",
            "loss: 1.146106  [25664/60000]\n",
            "loss: 1.169023  [32064/60000]\n",
            "loss: 1.194987  [38464/60000]\n",
            "loss: 1.126677  [44864/60000]\n",
            "loss: 1.161781  [51264/60000]\n",
            "loss: 1.088479  [57664/60000]\n",
            "Test Error: \n",
            " Accuracy: 64.5%, Avg loss: 1.101160 \n",
            "\n",
            "Epoch 6\n",
            "-------------------------------\n",
            "loss: 1.171143  [   64/60000]\n",
            "loss: 1.166748  [ 6464/60000]\n",
            "loss: 0.987165  [12864/60000]\n",
            "loss: 1.131862  [19264/60000]\n",
            "loss: 1.002006  [25664/60000]\n",
            "loss: 1.034803  [32064/60000]\n",
            "loss: 1.074034  [38464/60000]\n",
            "loss: 1.011205  [44864/60000]\n",
            "loss: 1.046526  [51264/60000]\n",
            "loss: 0.987033  [57664/60000]\n",
            "Test Error: \n",
            " Accuracy: 65.9%, Avg loss: 0.993139 \n",
            "\n",
            "Epoch 7\n",
            "-------------------------------\n",
            "loss: 1.050254  [   64/60000]\n",
            "loss: 1.066605  [ 6464/60000]\n",
            "loss: 0.870233  [12864/60000]\n",
            "loss: 1.038135  [19264/60000]\n",
            "loss: 0.911636  [25664/60000]\n",
            "loss: 0.939504  [32064/60000]\n",
            "loss: 0.993936  [38464/60000]\n",
            "loss: 0.935331  [44864/60000]\n",
            "loss: 0.966191  [51264/60000]\n",
            "loss: 0.917979  [57664/60000]\n",
            "Test Error: \n",
            " Accuracy: 67.2%, Avg loss: 0.918840 \n",
            "\n",
            "Epoch 8\n",
            "-------------------------------\n",
            "loss: 0.960479  [   64/60000]\n",
            "loss: 0.997127  [ 6464/60000]\n",
            "loss: 0.785951  [12864/60000]\n",
            "loss: 0.970683  [19264/60000]\n",
            "loss: 0.850690  [25664/60000]\n",
            "loss: 0.868741  [32064/60000]\n",
            "loss: 0.936976  [38464/60000]\n",
            "loss: 0.883807  [44864/60000]\n",
            "loss: 0.907655  [51264/60000]\n",
            "loss: 0.867768  [57664/60000]\n",
            "Test Error: \n",
            " Accuracy: 68.5%, Avg loss: 0.864801 \n",
            "\n",
            "Epoch 9\n",
            "-------------------------------\n",
            "loss: 0.891137  [   64/60000]\n",
            "loss: 0.944889  [ 6464/60000]\n",
            "loss: 0.722507  [12864/60000]\n",
            "loss: 0.919922  [19264/60000]\n",
            "loss: 0.806650  [25664/60000]\n",
            "loss: 0.814972  [32064/60000]\n",
            "loss: 0.893753  [38464/60000]\n",
            "loss: 0.847521  [44864/60000]\n",
            "loss: 0.863459  [51264/60000]\n",
            "loss: 0.829034  [57664/60000]\n",
            "Test Error: \n",
            " Accuracy: 69.7%, Avg loss: 0.823510 \n",
            "\n",
            "Epoch 10\n",
            "-------------------------------\n",
            "loss: 0.835459  [   64/60000]\n",
            "loss: 0.902882  [ 6464/60000]\n",
            "loss: 0.672643  [12864/60000]\n",
            "loss: 0.880504  [19264/60000]\n",
            "loss: 0.772906  [25664/60000]\n",
            "loss: 0.773115  [32064/60000]\n",
            "loss: 0.858993  [38464/60000]\n",
            "loss: 0.820399  [44864/60000]\n",
            "loss: 0.828723  [51264/60000]\n",
            "loss: 0.797646  [57664/60000]\n",
            "Test Error: \n",
            " Accuracy: 71.0%, Avg loss: 0.790464 \n",
            "\n",
            "Done!\n"
          ]
        }
      ],
      "source": [
        "loss_fn = nn.CrossEntropyLoss()\n",
        "optimizer = torch.optim.SGD(model.parameters(), lr=learning_rate)\n",
        "\n",
        "epochs = 10\n",
        "for t in range(epochs):\n",
        "    print(f\"Epoch {t+1}\\n-------------------------------\")\n",
        "    train_loop(train_dataloader, model, loss_fn, optimizer)\n",
        "    test_loop(test_dataloader, model, loss_fn)\n",
        "print(\"Done!\")"
      ]
    },
    {
      "cell_type": "markdown",
      "metadata": {
        "id": "1BJ1LxVmyrUb"
      },
      "source": [
        "## Further Reading\n",
        "- [Loss Functions](https://pytorch.org/docs/stable/nn.html#loss-functions)\n",
        "- [torch.optim](https://pytorch.org/docs/stable/optim.html)\n",
        "- [Warmstart Training a Model](https://pytorch.org/tutorials/recipes/recipes/warmstarting_model_using_parameters_from_a_different_model.html)\n",
        "\n",
        "\n"
      ]
    }
  ],
  "metadata": {
    "kernelspec": {
      "display_name": "Python 3",
      "name": "python3"
    },
    "language_info": {
      "codemirror_mode": {
        "name": "ipython",
        "version": 3
      },
      "file_extension": ".py",
      "mimetype": "text/x-python",
      "name": "python",
      "nbconvert_exporter": "python",
      "pygments_lexer": "ipython3",
      "version": "3.10.13"
    },
    "colab": {
      "provenance": [],
      "gpuType": "T4",
      "include_colab_link": true
    },
    "accelerator": "GPU"
  },
  "nbformat": 4,
  "nbformat_minor": 0
}