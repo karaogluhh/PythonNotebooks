{
  "cells": [
    {
      "cell_type": "markdown",
      "metadata": {
        "id": "view-in-github",
        "colab_type": "text"
      },
      "source": [
        "<a href=\"https://colab.research.google.com/github/karaogluhh/PythonNotebooks/blob/main/001.%20Introduction2Python.ipynb\" target=\"_parent\"><img src=\"https://colab.research.google.com/assets/colab-badge.svg\" alt=\"Open In Colab\"/></a>"
      ]
    },
    {
      "cell_type": "markdown",
      "source": [
        "## Python ve İlgili Modüllerin Versiyonlarını Öğrenme\n",
        "\n"
      ],
      "metadata": {
        "id": "a7_5EeRfvi9x"
      }
    },
    {
      "cell_type": "code",
      "source": [
        "!python --version"
      ],
      "metadata": {
        "colab": {
          "base_uri": "https://localhost:8080/"
        },
        "id": "tU2Tx9WTuejh",
        "outputId": "9b79337e-94cf-42cc-d0ae-7016c130f148"
      },
      "execution_count": 13,
      "outputs": [
        {
          "output_type": "stream",
          "name": "stdout",
          "text": [
            "Python 3.10.12\n"
          ]
        }
      ]
    },
    {
      "cell_type": "code",
      "source": [
        "import numpy as np\n",
        "import matplotlib\n",
        "\n",
        "print(np.__version__)\n",
        "print(matplotlib.__version__)"
      ],
      "metadata": {
        "colab": {
          "base_uri": "https://localhost:8080/"
        },
        "id": "66EddYM3urtd",
        "outputId": "163059d5-4f17-49d5-e37d-487368564843"
      },
      "execution_count": 14,
      "outputs": [
        {
          "output_type": "stream",
          "name": "stdout",
          "text": [
            "1.25.2\n",
            "3.7.1\n"
          ]
        }
      ]
    },
    {
      "cell_type": "code",
      "source": [
        "# This is a comment line"
      ],
      "metadata": {
        "id": "Y_FEAGI9uyDc"
      },
      "execution_count": 15,
      "outputs": []
    },
    {
      "cell_type": "code",
      "source": [
        "!ls"
      ],
      "metadata": {
        "colab": {
          "base_uri": "https://localhost:8080/"
        },
        "id": "d5QwYacrws-T",
        "outputId": "f217db51-40c9-4ebe-d1ea-2ad93bdbb95d"
      },
      "execution_count": 16,
      "outputs": [
        {
          "output_type": "stream",
          "name": "stdout",
          "text": [
            "sample_data\n"
          ]
        }
      ]
    },
    {
      "cell_type": "markdown",
      "source": [
        "## Bir Modülü İçe Aktarmak"
      ],
      "metadata": {
        "id": "A8ROFFMayBwB"
      }
    },
    {
      "cell_type": "code",
      "source": [
        "import math\n",
        "\n",
        "x = math.cos(2 * math.pi)\n",
        "\n",
        "print(x)"
      ],
      "metadata": {
        "colab": {
          "base_uri": "https://localhost:8080/"
        },
        "id": "uGlY5FFjwzFJ",
        "outputId": "c9f54d5d-59e9-497f-fe65-77c1895fd7f4"
      },
      "execution_count": 17,
      "outputs": [
        {
          "output_type": "stream",
          "name": "stdout",
          "text": [
            "1.0\n"
          ]
        }
      ]
    },
    {
      "cell_type": "markdown",
      "source": [
        "## Bir Modülü İçe Aktarmak (Tüm Fonksiyon ve Değişkenler)"
      ],
      "metadata": {
        "id": "EQ1hNlkTyJem"
      }
    },
    {
      "cell_type": "code",
      "source": [
        "from math import *\n",
        "\n",
        "x = cos(2 * pi)\n",
        "\n",
        "print(x)"
      ],
      "metadata": {
        "colab": {
          "base_uri": "https://localhost:8080/"
        },
        "id": "68GgA4j6xsBV",
        "outputId": "3846c53c-e189-4deb-f02e-f4696311fb8b"
      },
      "execution_count": 18,
      "outputs": [
        {
          "output_type": "stream",
          "name": "stdout",
          "text": [
            "1.0\n"
          ]
        }
      ]
    },
    {
      "cell_type": "markdown",
      "source": [
        "This pattern can be very convenient, but in large programs that include many modules it is often a good idea to keep the symbols from each module in their own namespaces, by using the import math pattern. This would eliminate potentially confusing problems with name space collisions.\n",
        "\n",
        "As a third alternative, we can choose to import only a few selected symbols from a module by explicitly listing which ones we want to import instead of using the wildcard character *:"
      ],
      "metadata": {
        "id": "YAxkzC1CzKK9"
      }
    },
    {
      "cell_type": "code",
      "source": [
        "from math import cos, pi\n",
        "\n",
        "x = cos(2 * pi)\n",
        "\n",
        "print(x)"
      ],
      "metadata": {
        "colab": {
          "base_uri": "https://localhost:8080/"
        },
        "id": "tnCN4VPtzOK7",
        "outputId": "784a13a9-467e-45fd-a312-9dc8161d3f4b"
      },
      "execution_count": 19,
      "outputs": [
        {
          "output_type": "stream",
          "name": "stdout",
          "text": [
            "1.0\n"
          ]
        }
      ]
    },
    {
      "cell_type": "code",
      "source": [
        "import math\n",
        "print(dir(math))"
      ],
      "metadata": {
        "colab": {
          "base_uri": "https://localhost:8080/"
        },
        "id": "jT1T5Unpyjfk",
        "outputId": "ae6c9523-6656-4e1f-8174-579bbe6f0ded"
      },
      "execution_count": 20,
      "outputs": [
        {
          "output_type": "stream",
          "name": "stdout",
          "text": [
            "['__doc__', '__loader__', '__name__', '__package__', '__spec__', 'acos', 'acosh', 'asin', 'asinh', 'atan', 'atan2', 'atanh', 'ceil', 'comb', 'copysign', 'cos', 'cosh', 'degrees', 'dist', 'e', 'erf', 'erfc', 'exp', 'expm1', 'fabs', 'factorial', 'floor', 'fmod', 'frexp', 'fsum', 'gamma', 'gcd', 'hypot', 'inf', 'isclose', 'isfinite', 'isinf', 'isnan', 'isqrt', 'lcm', 'ldexp', 'lgamma', 'log', 'log10', 'log1p', 'log2', 'modf', 'nan', 'nextafter', 'perm', 'pi', 'pow', 'prod', 'radians', 'remainder', 'sin', 'sinh', 'sqrt', 'tan', 'tanh', 'tau', 'trunc', 'ulp']\n"
          ]
        }
      ]
    },
    {
      "cell_type": "code",
      "source": [
        "print(dir(np))"
      ],
      "metadata": {
        "colab": {
          "base_uri": "https://localhost:8080/"
        },
        "id": "Aw7xkgQqyvLO",
        "outputId": "7994b32b-2631-48ae-fbd6-daa1c8536729"
      },
      "execution_count": 21,
      "outputs": [
        {
          "output_type": "stream",
          "name": "stdout",
          "text": [
            "['ALLOW_THREADS', 'BUFSIZE', 'CLIP', 'DataSource', 'ERR_CALL', 'ERR_DEFAULT', 'ERR_IGNORE', 'ERR_LOG', 'ERR_PRINT', 'ERR_RAISE', 'ERR_WARN', 'FLOATING_POINT_SUPPORT', 'FPE_DIVIDEBYZERO', 'FPE_INVALID', 'FPE_OVERFLOW', 'FPE_UNDERFLOW', 'False_', 'Inf', 'Infinity', 'MAXDIMS', 'MAY_SHARE_BOUNDS', 'MAY_SHARE_EXACT', 'NAN', 'NINF', 'NZERO', 'NaN', 'PINF', 'PZERO', 'RAISE', 'RankWarning', 'SHIFT_DIVIDEBYZERO', 'SHIFT_INVALID', 'SHIFT_OVERFLOW', 'SHIFT_UNDERFLOW', 'ScalarType', 'True_', 'UFUNC_BUFSIZE_DEFAULT', 'UFUNC_PYVALS_NAME', 'WRAP', '_CopyMode', '_NoValue', '_UFUNC_API', '__NUMPY_SETUP__', '__all__', '__builtins__', '__cached__', '__config__', '__deprecated_attrs__', '__dir__', '__doc__', '__expired_functions__', '__file__', '__former_attrs__', '__future_scalars__', '__getattr__', '__git_version__', '__loader__', '__name__', '__package__', '__path__', '__spec__', '__version__', '_add_newdoc_ufunc', '_builtins', '_distributor_init', '_financial_names', '_get_promotion_state', '_globals', '_int_extended_msg', '_mat', '_no_nep50_warning', '_pyinstaller_hooks_dir', '_pytesttester', '_set_promotion_state', '_specific_msg', '_typing', '_using_numpy2_behavior', '_utils', '_version', 'abs', 'absolute', 'add', 'add_docstring', 'add_newdoc', 'add_newdoc_ufunc', 'all', 'allclose', 'alltrue', 'amax', 'amin', 'angle', 'any', 'append', 'apply_along_axis', 'apply_over_axes', 'arange', 'arccos', 'arccosh', 'arcsin', 'arcsinh', 'arctan', 'arctan2', 'arctanh', 'argmax', 'argmin', 'argpartition', 'argsort', 'argwhere', 'around', 'array', 'array2string', 'array_equal', 'array_equiv', 'array_repr', 'array_split', 'array_str', 'asanyarray', 'asarray', 'asarray_chkfinite', 'ascontiguousarray', 'asfarray', 'asfortranarray', 'asmatrix', 'atleast_1d', 'atleast_2d', 'atleast_3d', 'average', 'bartlett', 'base_repr', 'binary_repr', 'bincount', 'bitwise_and', 'bitwise_not', 'bitwise_or', 'bitwise_xor', 'blackman', 'block', 'bmat', 'bool_', 'broadcast', 'broadcast_arrays', 'broadcast_shapes', 'broadcast_to', 'busday_count', 'busday_offset', 'busdaycalendar', 'byte', 'byte_bounds', 'bytes_', 'c_', 'can_cast', 'cast', 'cbrt', 'cdouble', 'ceil', 'cfloat', 'char', 'character', 'chararray', 'choose', 'clip', 'clongdouble', 'clongfloat', 'column_stack', 'common_type', 'compare_chararrays', 'compat', 'complex128', 'complex256', 'complex64', 'complex_', 'complexfloating', 'compress', 'concatenate', 'conj', 'conjugate', 'convolve', 'copy', 'copysign', 'copyto', 'corrcoef', 'correlate', 'cos', 'cosh', 'count_nonzero', 'cov', 'cross', 'csingle', 'ctypeslib', 'cumprod', 'cumproduct', 'cumsum', 'datetime64', 'datetime_as_string', 'datetime_data', 'deg2rad', 'degrees', 'delete', 'deprecate', 'deprecate_with_doc', 'diag', 'diag_indices', 'diag_indices_from', 'diagflat', 'diagonal', 'diff', 'digitize', 'disp', 'divide', 'divmod', 'dot', 'double', 'dsplit', 'dstack', 'dtype', 'dtypes', 'e', 'ediff1d', 'einsum', 'einsum_path', 'emath', 'empty', 'empty_like', 'equal', 'errstate', 'euler_gamma', 'exceptions', 'exp', 'exp2', 'expand_dims', 'expm1', 'extract', 'eye', 'fabs', 'fastCopyAndTranspose', 'fft', 'fill_diagonal', 'find_common_type', 'finfo', 'fix', 'flatiter', 'flatnonzero', 'flexible', 'flip', 'fliplr', 'flipud', 'float128', 'float16', 'float32', 'float64', 'float_', 'float_power', 'floating', 'floor', 'floor_divide', 'fmax', 'fmin', 'fmod', 'format_float_positional', 'format_float_scientific', 'format_parser', 'frexp', 'from_dlpack', 'frombuffer', 'fromfile', 'fromfunction', 'fromiter', 'frompyfunc', 'fromregex', 'fromstring', 'full', 'full_like', 'gcd', 'generic', 'genfromtxt', 'geomspace', 'get_array_wrap', 'get_include', 'get_printoptions', 'getbufsize', 'geterr', 'geterrcall', 'geterrobj', 'gradient', 'greater', 'greater_equal', 'half', 'hamming', 'hanning', 'heaviside', 'histogram', 'histogram2d', 'histogram_bin_edges', 'histogramdd', 'hsplit', 'hstack', 'hypot', 'i0', 'identity', 'iinfo', 'imag', 'in1d', 'index_exp', 'indices', 'inexact', 'inf', 'info', 'infty', 'inner', 'insert', 'int16', 'int32', 'int64', 'int8', 'int_', 'intc', 'integer', 'interp', 'intersect1d', 'intp', 'invert', 'is_busday', 'isclose', 'iscomplex', 'iscomplexobj', 'isfinite', 'isfortran', 'isin', 'isinf', 'isnan', 'isnat', 'isneginf', 'isposinf', 'isreal', 'isrealobj', 'isscalar', 'issctype', 'issubclass_', 'issubdtype', 'issubsctype', 'iterable', 'ix_', 'kaiser', 'kernel_version', 'kron', 'lcm', 'ldexp', 'left_shift', 'less', 'less_equal', 'lexsort', 'lib', 'linalg', 'linspace', 'little_endian', 'load', 'loadtxt', 'log', 'log10', 'log1p', 'log2', 'logaddexp', 'logaddexp2', 'logical_and', 'logical_not', 'logical_or', 'logical_xor', 'logspace', 'longcomplex', 'longdouble', 'longfloat', 'longlong', 'lookfor', 'ma', 'mask_indices', 'mat', 'matmul', 'matrix', 'max', 'maximum', 'maximum_sctype', 'may_share_memory', 'mean', 'median', 'memmap', 'meshgrid', 'mgrid', 'min', 'min_scalar_type', 'minimum', 'mintypecode', 'mod', 'modf', 'moveaxis', 'msort', 'multiply', 'nan', 'nan_to_num', 'nanargmax', 'nanargmin', 'nancumprod', 'nancumsum', 'nanmax', 'nanmean', 'nanmedian', 'nanmin', 'nanpercentile', 'nanprod', 'nanquantile', 'nanstd', 'nansum', 'nanvar', 'nbytes', 'ndarray', 'ndenumerate', 'ndim', 'ndindex', 'nditer', 'negative', 'nested_iters', 'newaxis', 'nextafter', 'nonzero', 'not_equal', 'numarray', 'number', 'obj2sctype', 'object_', 'ogrid', 'oldnumeric', 'ones', 'ones_like', 'outer', 'packbits', 'pad', 'partition', 'percentile', 'pi', 'piecewise', 'place', 'poly', 'poly1d', 'polyadd', 'polyder', 'polydiv', 'polyfit', 'polyint', 'polymul', 'polynomial', 'polysub', 'polyval', 'positive', 'power', 'printoptions', 'prod', 'product', 'promote_types', 'ptp', 'put', 'put_along_axis', 'putmask', 'quantile', 'r_', 'rad2deg', 'radians', 'random', 'ravel', 'ravel_multi_index', 'real', 'real_if_close', 'rec', 'recarray', 'recfromcsv', 'recfromtxt', 'reciprocal', 'record', 'remainder', 'repeat', 'require', 'reshape', 'resize', 'result_type', 'right_shift', 'rint', 'roll', 'rollaxis', 'roots', 'rot90', 'round', 'round_', 'row_stack', 's_', 'safe_eval', 'save', 'savetxt', 'savez', 'savez_compressed', 'sctype2char', 'sctypeDict', 'sctypes', 'searchsorted', 'select', 'set_numeric_ops', 'set_printoptions', 'set_string_function', 'setbufsize', 'setdiff1d', 'seterr', 'seterrcall', 'seterrobj', 'setxor1d', 'shape', 'shares_memory', 'short', 'show_config', 'show_runtime', 'sign', 'signbit', 'signedinteger', 'sin', 'sinc', 'single', 'singlecomplex', 'sinh', 'size', 'sometrue', 'sort', 'sort_complex', 'source', 'spacing', 'split', 'sqrt', 'square', 'squeeze', 'stack', 'std', 'str_', 'string_', 'subtract', 'sum', 'swapaxes', 'take', 'take_along_axis', 'tan', 'tanh', 'tensordot', 'test', 'testing', 'tile', 'timedelta64', 'trace', 'tracemalloc_domain', 'transpose', 'trapz', 'tri', 'tril', 'tril_indices', 'tril_indices_from', 'trim_zeros', 'triu', 'triu_indices', 'triu_indices_from', 'true_divide', 'trunc', 'typecodes', 'typename', 'ubyte', 'ufunc', 'uint', 'uint16', 'uint32', 'uint64', 'uint8', 'uintc', 'uintp', 'ulonglong', 'unicode_', 'union1d', 'unique', 'unpackbits', 'unravel_index', 'unsignedinteger', 'unwrap', 'ushort', 'vander', 'var', 'vdot', 'vectorize', 'version', 'void', 'vsplit', 'vstack', 'where', 'who', 'zeros', 'zeros_like']\n"
          ]
        }
      ]
    },
    {
      "cell_type": "code",
      "source": [
        "help(np.abs)\n",
        "# help(np)"
      ],
      "metadata": {
        "colab": {
          "base_uri": "https://localhost:8080/"
        },
        "id": "KNF19TSBy3OF",
        "outputId": "0a2a4d5b-4e54-4cbc-95c3-2a2ef3a4d13d"
      },
      "execution_count": 22,
      "outputs": [
        {
          "output_type": "stream",
          "name": "stdout",
          "text": [
            "Help on ufunc:\n",
            "\n",
            "absolute = <ufunc 'absolute'>\n",
            "    absolute(x, /, out=None, *, where=True, casting='same_kind', order='K', dtype=None, subok=True[, signature, extobj])\n",
            "    \n",
            "    Calculate the absolute value element-wise.\n",
            "    \n",
            "    ``np.abs`` is a shorthand for this function.\n",
            "    \n",
            "    Parameters\n",
            "    ----------\n",
            "    x : array_like\n",
            "        Input array.\n",
            "    out : ndarray, None, or tuple of ndarray and None, optional\n",
            "        A location into which the result is stored. If provided, it must have\n",
            "        a shape that the inputs broadcast to. If not provided or None,\n",
            "        a freshly-allocated array is returned. A tuple (possible only as a\n",
            "        keyword argument) must have length equal to the number of outputs.\n",
            "    where : array_like, optional\n",
            "        This condition is broadcast over the input. At locations where the\n",
            "        condition is True, the `out` array will be set to the ufunc result.\n",
            "        Elsewhere, the `out` array will retain its original value.\n",
            "        Note that if an uninitialized `out` array is created via the default\n",
            "        ``out=None``, locations within it where the condition is False will\n",
            "        remain uninitialized.\n",
            "    **kwargs\n",
            "        For other keyword-only arguments, see the\n",
            "        :ref:`ufunc docs <ufuncs.kwargs>`.\n",
            "    \n",
            "    Returns\n",
            "    -------\n",
            "    absolute : ndarray\n",
            "        An ndarray containing the absolute value of\n",
            "        each element in `x`.  For complex input, ``a + ib``, the\n",
            "        absolute value is :math:`\\sqrt{ a^2 + b^2 }`.\n",
            "        This is a scalar if `x` is a scalar.\n",
            "    \n",
            "    Examples\n",
            "    --------\n",
            "    >>> x = np.array([-1.2, 1.2])\n",
            "    >>> np.absolute(x)\n",
            "    array([ 1.2,  1.2])\n",
            "    >>> np.absolute(1.2 + 1j)\n",
            "    1.5620499351813308\n",
            "    \n",
            "    Plot the function over ``[-10, 10]``:\n",
            "    \n",
            "    >>> import matplotlib.pyplot as plt\n",
            "    \n",
            "    >>> x = np.linspace(start=-10, stop=10, num=101)\n",
            "    >>> plt.plot(x, np.absolute(x))\n",
            "    >>> plt.show()\n",
            "    \n",
            "    Plot the function over the complex plane:\n",
            "    \n",
            "    >>> xx = x + 1j * x[:, np.newaxis]\n",
            "    >>> plt.imshow(np.abs(xx), extent=[-10, 10, -10, 10], cmap='gray')\n",
            "    >>> plt.show()\n",
            "    \n",
            "    The `abs` function can be used as a shorthand for ``np.absolute`` on\n",
            "    ndarrays.\n",
            "    \n",
            "    >>> x = np.array([-1.2, 1.2])\n",
            "    >>> abs(x)\n",
            "    array([1.2, 1.2])\n",
            "\n"
          ]
        }
      ]
    },
    {
      "cell_type": "code",
      "source": [
        "x = np.array([-1.2, 1.2])\n",
        "print(np.absolute(x))\n",
        "print(np.absolute(1.2 + 1j))"
      ],
      "metadata": {
        "colab": {
          "base_uri": "https://localhost:8080/"
        },
        "id": "bBt1-gOJOmk_",
        "outputId": "391b2bec-5da0-4764-c94d-d06bc69d1fe5"
      },
      "execution_count": 23,
      "outputs": [
        {
          "output_type": "stream",
          "name": "stdout",
          "text": [
            "[1.2 1.2]\n",
            "1.5620499351813308\n"
          ]
        }
      ]
    },
    {
      "cell_type": "code",
      "source": [
        "np.sqrt(np.power(1.2, 2) + 1)"
      ],
      "metadata": {
        "colab": {
          "base_uri": "https://localhost:8080/"
        },
        "id": "9xTNmGseOsgS",
        "outputId": "547d04eb-0610-49ac-de21-97e3789b4929"
      },
      "execution_count": 24,
      "outputs": [
        {
          "output_type": "execute_result",
          "data": {
            "text/plain": [
              "1.5620499351813308"
            ]
          },
          "metadata": {},
          "execution_count": 24
        }
      ]
    },
    {
      "cell_type": "markdown",
      "source": [
        "Some very useful modules form the Python standard library are  `os`, `sys`, `math`, `shutil`, `re`, `subprocess`, `multiprocessing`, `threading`."
      ],
      "metadata": {
        "id": "eL2cFSRcQXrh"
      }
    },
    {
      "cell_type": "markdown",
      "source": [
        "## Variables and Types\n",
        "\n"
      ],
      "metadata": {
        "id": "jSYghWu1RE1z"
      }
    },
    {
      "cell_type": "code",
      "source": [
        "x = 12\n",
        "print(type(x))\n",
        "x = 12.0\n",
        "print(type(x))"
      ],
      "metadata": {
        "colab": {
          "base_uri": "https://localhost:8080/"
        },
        "id": "-kQOYLvDRr8u",
        "outputId": "748db99e-64fb-40d3-8285-2c8b7b5ea40a"
      },
      "execution_count": 38,
      "outputs": [
        {
          "output_type": "stream",
          "name": "stdout",
          "text": [
            "<class 'int'>\n",
            "<class 'float'>\n"
          ]
        }
      ]
    },
    {
      "cell_type": "markdown",
      "source": [
        "If we try to use a variable that has not yet been defined we get an `NameError`:"
      ],
      "metadata": {
        "id": "GClb3ZNaTjy8"
      }
    },
    {
      "cell_type": "code",
      "source": [
        "print(y)"
      ],
      "metadata": {
        "colab": {
          "base_uri": "https://localhost:8080/"
        },
        "id": "nMjJafO0TMkQ",
        "outputId": "837bbfc1-75f0-4c72-9a77-7b707949ef1a"
      },
      "execution_count": 40,
      "outputs": [
        {
          "output_type": "stream",
          "name": "stdout",
          "text": [
            "[[2 3 4]\n",
            " [3 4 5]]\n"
          ]
        }
      ]
    },
    {
      "cell_type": "markdown",
      "source": [
        "### Fundamental Types"
      ],
      "metadata": {
        "id": "qPKy00WDUyVQ"
      }
    },
    {
      "cell_type": "code",
      "source": [
        "x = 1.0 - 1.0j\n",
        "print(type(x))\n",
        "y = np.array([[2, 3, 4], [3, 4, 5]])\n",
        "print(type(y))\n",
        "\n",
        "print(x)\n",
        "print(x.real, x.imag)"
      ],
      "metadata": {
        "id": "komIrS_hPaV8",
        "colab": {
          "base_uri": "https://localhost:8080/"
        },
        "outputId": "a8e56817-fb84-4f3e-b86b-eae114aa98b2"
      },
      "execution_count": 45,
      "outputs": [
        {
          "output_type": "stream",
          "name": "stdout",
          "text": [
            "<class 'complex'>\n",
            "<class 'numpy.ndarray'>\n",
            "(1-1j)\n",
            "1.0 -1.0\n"
          ]
        }
      ]
    },
    {
      "cell_type": "code",
      "source": [
        "x = 12.0\n",
        "\n",
        "print(type(x) is float)\n",
        "print(type(x) is complex)\n"
      ],
      "metadata": {
        "colab": {
          "base_uri": "https://localhost:8080/"
        },
        "id": "QMEzPM7iUDqB",
        "outputId": "7477e482-474d-43b4-edda-f82fab55e298"
      },
      "execution_count": 47,
      "outputs": [
        {
          "output_type": "stream",
          "name": "stdout",
          "text": [
            "True\n",
            "False\n"
          ]
        }
      ]
    },
    {
      "cell_type": "code",
      "source": [
        "isinstance(x, float)"
      ],
      "metadata": {
        "colab": {
          "base_uri": "https://localhost:8080/"
        },
        "id": "5OsCPnU4U6OU",
        "outputId": "d4d967a0-90b7-4165-d490-42d7e2ec0744"
      },
      "execution_count": 50,
      "outputs": [
        {
          "output_type": "execute_result",
          "data": {
            "text/plain": [
              "True"
            ]
          },
          "metadata": {},
          "execution_count": 50
        }
      ]
    },
    {
      "cell_type": "markdown",
      "source": [
        "### Operators and Comparisons\n"
      ],
      "metadata": {
        "id": "GZxJvGEGVoVu"
      }
    },
    {
      "cell_type": "markdown",
      "source": [],
      "metadata": {
        "id": "r4XPVIe4WkCC"
      }
    },
    {
      "cell_type": "code",
      "source": [
        "print(1 + 2)\n",
        "print(1 - 2)\n",
        "print(2 * 3)\n",
        "print(2**3) # Note! The power operators in python isn't ^, but **\n",
        "print(5/2)\n",
        "print(5//2)\n"
      ],
      "metadata": {
        "colab": {
          "base_uri": "https://localhost:8080/"
        },
        "id": "QEJ9_fcVVtK8",
        "outputId": "2e927ad2-e377-450e-d9dd-fb15984e415e"
      },
      "execution_count": 54,
      "outputs": [
        {
          "output_type": "stream",
          "name": "stdout",
          "text": [
            "3\n",
            "-1\n",
            "6\n",
            "8\n",
            "2.5\n",
            "2.0\n"
          ]
        }
      ]
    },
    {
      "cell_type": "code",
      "source": [
        "print(True and False)\n",
        "print(not False)\n",
        "print(False or True)"
      ],
      "metadata": {
        "colab": {
          "base_uri": "https://localhost:8080/"
        },
        "id": "iFp4aaNRV2hA",
        "outputId": "7a3d5293-7ab0-483c-861b-2a24db525382"
      },
      "execution_count": 58,
      "outputs": [
        {
          "output_type": "stream",
          "name": "stdout",
          "text": [
            "False\n",
            "True\n",
            "True\n"
          ]
        }
      ]
    },
    {
      "cell_type": "code",
      "source": [
        "print(2 > 1, 2 < 1)\n",
        "print(2 > 2, 2<3)\n",
        "print(2>= 2, 2<=2)\n"
      ],
      "metadata": {
        "colab": {
          "base_uri": "https://localhost:8080/"
        },
        "id": "Ih8eF-ApWzTy",
        "outputId": "2c49044d-b6e7-43bc-e8c5-2b0485288c19"
      },
      "execution_count": 62,
      "outputs": [
        {
          "output_type": "stream",
          "name": "stdout",
          "text": [
            "True False\n",
            "False True\n",
            "True True\n"
          ]
        }
      ]
    },
    {
      "cell_type": "code",
      "source": [
        "l1 = l2 = np.random.randint(3, 4, size = (3, 4))\n",
        "l1 is l2"
      ],
      "metadata": {
        "colab": {
          "base_uri": "https://localhost:8080/"
        },
        "id": "fdJ87JygX-Ns",
        "outputId": "8bebba60-d88a-4ac4-a106-d89bbeb2ddfd"
      },
      "execution_count": 66,
      "outputs": [
        {
          "output_type": "execute_result",
          "data": {
            "text/plain": [
              "True"
            ]
          },
          "metadata": {},
          "execution_count": 66
        }
      ]
    },
    {
      "cell_type": "markdown",
      "source": [
        "### Strings, Lists and Dictionaries"
      ],
      "metadata": {
        "id": "ueOO6jIQY9t1"
      }
    },
    {
      "cell_type": "code",
      "source": [
        "m = 'Hello World!'\n",
        "type(m)"
      ],
      "metadata": {
        "colab": {
          "base_uri": "https://localhost:8080/"
        },
        "id": "8rjhY5DwYUbT",
        "outputId": "82050a26-1dcf-4b60-c7bf-04de1706e61a"
      },
      "execution_count": 67,
      "outputs": [
        {
          "output_type": "execute_result",
          "data": {
            "text/plain": [
              "str"
            ]
          },
          "metadata": {},
          "execution_count": 67
        }
      ]
    },
    {
      "cell_type": "code",
      "source": [
        "print(len(m))"
      ],
      "metadata": {
        "colab": {
          "base_uri": "https://localhost:8080/"
        },
        "id": "cCllxIU1gMkf",
        "outputId": "a09281a7-dfff-492f-ea83-b55889afc34a"
      },
      "execution_count": 68,
      "outputs": [
        {
          "output_type": "stream",
          "name": "stdout",
          "text": [
            "12\n"
          ]
        }
      ]
    },
    {
      "cell_type": "code",
      "source": [
        "# Replacing in String Classes\n",
        "m2 = m.replace('World', 'Jupyter')\n",
        "print(m2)"
      ],
      "metadata": {
        "colab": {
          "base_uri": "https://localhost:8080/"
        },
        "id": "dYCRwbWogSGI",
        "outputId": "0f37ff5d-78c9-4802-d98f-af7054416f83"
      },
      "execution_count": 71,
      "outputs": [
        {
          "output_type": "stream",
          "name": "stdout",
          "text": [
            "Hello Jupyter!\n"
          ]
        }
      ]
    },
    {
      "cell_type": "code",
      "source": [
        "# Indexing in String Classes\n",
        "m[0]\n"
      ],
      "metadata": {
        "colab": {
          "base_uri": "https://localhost:8080/",
          "height": 35
        },
        "id": "tpLrAs5hgim8",
        "outputId": "e07200e8-8f04-449e-ed41-51ca403b8a17"
      },
      "execution_count": 74,
      "outputs": [
        {
          "output_type": "execute_result",
          "data": {
            "text/plain": [
              "'H'"
            ],
            "application/vnd.google.colaboratory.intrinsic+json": {
              "type": "string"
            }
          },
          "metadata": {},
          "execution_count": 74
        }
      ]
    },
    {
      "cell_type": "markdown",
      "source": [
        "### String Slicing"
      ],
      "metadata": {
        "id": "N0FXaFzOoIFj"
      }
    },
    {
      "cell_type": "code",
      "source": [
        "print(m[0:5]) # = print(m[:5])\n",
        "print(m[:5])\n",
        "print(m[6:12]) # = print(m[6:])\n",
        "print(m[6:])\n",
        "print(m[:])"
      ],
      "metadata": {
        "colab": {
          "base_uri": "https://localhost:8080/"
        },
        "id": "W8G8aiSGmQrB",
        "outputId": "b399d8e1-beb1-4982-de22-53e260950bf2"
      },
      "execution_count": 94,
      "outputs": [
        {
          "output_type": "stream",
          "name": "stdout",
          "text": [
            "Hello\n",
            "Hello\n",
            "World!\n",
            "World!\n",
            "Hello World!\n"
          ]
        }
      ]
    },
    {
      "cell_type": "code",
      "source": [
        "print(m[0:5:1])\n",
        "print(m[0:5:2])\n",
        "print(m[::1])\n",
        "print(m[:5:1])\n",
        "print(m[::2])"
      ],
      "metadata": {
        "colab": {
          "base_uri": "https://localhost:8080/"
        },
        "id": "-VCPll48mTR_",
        "outputId": "e579f98a-4235-4641-ca05-a8372594393a"
      },
      "execution_count": 95,
      "outputs": [
        {
          "output_type": "stream",
          "name": "stdout",
          "text": [
            "Hello\n",
            "Hlo\n",
            "Hello World!\n",
            "Hello\n",
            "HloWrd\n"
          ]
        }
      ]
    },
    {
      "cell_type": "markdown",
      "source": [
        "### Operations on String Data"
      ],
      "metadata": {
        "id": "sPF8EAG0pPDO"
      }
    },
    {
      "cell_type": "code",
      "source": [
        "print(\"str1\", \"str2\", \"str3\")\n",
        "print('str1', 'str2', 'str3')"
      ],
      "metadata": {
        "colab": {
          "base_uri": "https://localhost:8080/"
        },
        "id": "1IulgibLpIrt",
        "outputId": "bf43dd82-3c2e-4663-d70a-0fdb8f649a1e"
      },
      "execution_count": 98,
      "outputs": [
        {
          "output_type": "stream",
          "name": "stdout",
          "text": [
            "str1 str2 str3\n",
            "str1 str2 str3\n"
          ]
        }
      ]
    },
    {
      "cell_type": "code",
      "source": [
        "print(\"str1\" + \"str2\" + \"str3\") # Not same as \"print(\"str1\", \"str2\", \"str3\")\""
      ],
      "metadata": {
        "colab": {
          "base_uri": "https://localhost:8080/"
        },
        "id": "X9_BKvILpZ0Y",
        "outputId": "ed2810c2-fef6-4bc9-9579-8351d440a5b5"
      },
      "execution_count": 97,
      "outputs": [
        {
          "output_type": "stream",
          "name": "stdout",
          "text": [
            "str1str2str3\n"
          ]
        }
      ]
    },
    {
      "cell_type": "code",
      "source": [
        "print(\"str1\", 1.0, False, 1j)"
      ],
      "metadata": {
        "colab": {
          "base_uri": "https://localhost:8080/"
        },
        "id": "aM05B4Y9pl7w",
        "outputId": "557b5b94-7f50-4b33-b1d2-07dfeddae8e5"
      },
      "execution_count": 99,
      "outputs": [
        {
          "output_type": "stream",
          "name": "stdout",
          "text": [
            "str1 1.0 False 1j\n"
          ]
        }
      ]
    },
    {
      "cell_type": "markdown",
      "source": [
        "### String Formatting"
      ],
      "metadata": {
        "id": "sTEwdTjFsDkf"
      }
    },
    {
      "cell_type": "code",
      "source": [
        "s2 = \"Value 1 is %f and Value 2 is %d\" % (3, 4)"
      ],
      "metadata": {
        "id": "XMKpeJ6WqLoR"
      },
      "execution_count": 107,
      "outputs": []
    },
    {
      "cell_type": "code",
      "source": [
        "print(s2)"
      ],
      "metadata": {
        "colab": {
          "base_uri": "https://localhost:8080/"
        },
        "id": "7WczuLNvqSav",
        "outputId": "8d970deb-37aa-4824-d5df-9fd0afb76ca9"
      },
      "execution_count": 108,
      "outputs": [
        {
          "output_type": "stream",
          "name": "stdout",
          "text": [
            "Value 1 is 3.000000 and Value 2 is 4\n"
          ]
        }
      ]
    },
    {
      "cell_type": "code",
      "source": [
        "s3 = \"Value 1 is {0} Value 2 is {1}\".format(3, 4)"
      ],
      "metadata": {
        "id": "kNqjkrpBsAMO"
      },
      "execution_count": 111,
      "outputs": []
    },
    {
      "cell_type": "code",
      "source": [
        "print(s3)"
      ],
      "metadata": {
        "id": "EuaAxIDRsY-i",
        "outputId": "c62d2e94-01e9-445c-ca84-339bd2691850",
        "colab": {
          "base_uri": "https://localhost:8080/"
        }
      },
      "execution_count": 112,
      "outputs": [
        {
          "output_type": "stream",
          "name": "stdout",
          "text": [
            "Value 1 is 3 Value 2 is 4\n"
          ]
        }
      ]
    },
    {
      "cell_type": "markdown",
      "source": [
        "### Lists\n",
        "Lists are very similar to strings, except that each element can be of any type.\n",
        "\n",
        "The syntax for creating lists in Python is `[...]`"
      ],
      "metadata": {
        "id": "zO6rsY4Fspv8"
      }
    },
    {
      "cell_type": "code",
      "source": [
        "mm = [1, 2, 3, 4, 5]\n",
        "print(type(mm))\n",
        "print(mm)"
      ],
      "metadata": {
        "id": "DjiHJILusvLy",
        "outputId": "f1aa1520-47e1-4a2c-8eb8-d984edfdaa1f",
        "colab": {
          "base_uri": "https://localhost:8080/"
        }
      },
      "execution_count": 118,
      "outputs": [
        {
          "output_type": "stream",
          "name": "stdout",
          "text": [
            "<class 'list'>\n",
            "[1, 2, 3, 4, 5]\n"
          ]
        }
      ]
    },
    {
      "cell_type": "code",
      "source": [
        "mm[0]"
      ],
      "metadata": {
        "id": "pgDIeHOhtriH",
        "outputId": "1aabecde-72dc-4cbf-f4cf-b6ac2f5f944e",
        "colab": {
          "base_uri": "https://localhost:8080/"
        }
      },
      "execution_count": 119,
      "outputs": [
        {
          "output_type": "execute_result",
          "data": {
            "text/plain": [
              "1"
            ]
          },
          "metadata": {},
          "execution_count": 119
        }
      ]
    },
    {
      "cell_type": "code",
      "source": [
        "mm[0:6:1]"
      ],
      "metadata": {
        "id": "Uv-nTxV7xxPs",
        "outputId": "f0315cf1-f2e3-4fc6-e2f3-2406fdaa4c2e",
        "colab": {
          "base_uri": "https://localhost:8080/"
        }
      },
      "execution_count": 120,
      "outputs": [
        {
          "output_type": "execute_result",
          "data": {
            "text/plain": [
              "[1, 2, 3, 4, 5]"
            ]
          },
          "metadata": {},
          "execution_count": 120
        }
      ]
    },
    {
      "cell_type": "code",
      "source": [
        "mm[:6:1]"
      ],
      "metadata": {
        "id": "8P0WVyHdx069",
        "outputId": "e4f6aacd-d8ce-45e4-e752-85f64b268569",
        "colab": {
          "base_uri": "https://localhost:8080/"
        }
      },
      "execution_count": 121,
      "outputs": [
        {
          "output_type": "execute_result",
          "data": {
            "text/plain": [
              "[1, 2, 3, 4, 5]"
            ]
          },
          "metadata": {},
          "execution_count": 121
        }
      ]
    },
    {
      "cell_type": "code",
      "source": [
        "print(mm[::])\n",
        "print(mm[::2])"
      ],
      "metadata": {
        "id": "BsipkPUNx4G8",
        "outputId": "5916eb9c-813c-4ca5-89e2-959fddd1af52",
        "colab": {
          "base_uri": "https://localhost:8080/"
        }
      },
      "execution_count": 124,
      "outputs": [
        {
          "output_type": "stream",
          "name": "stdout",
          "text": [
            "[1, 2, 3, 4, 5]\n",
            "[1, 3, 5]\n"
          ]
        }
      ]
    },
    {
      "cell_type": "markdown",
      "source": [
        "Elements in a list do not all have to be of the same type."
      ],
      "metadata": {
        "id": "NjUlQXouyQNk"
      }
    },
    {
      "cell_type": "code",
      "source": [
        "n = [1, 'a', \"b\", 1.2, 1-3j]\n",
        "print(n)"
      ],
      "metadata": {
        "id": "L1QSWrb1x6Te",
        "outputId": "1f4cbcd8-eabb-4e63-9728-a946cf7ee7c8",
        "colab": {
          "base_uri": "https://localhost:8080/"
        }
      },
      "execution_count": 126,
      "outputs": [
        {
          "output_type": "stream",
          "name": "stdout",
          "text": [
            "[1, 'a', 'b', 1.2, (1-3j)]\n"
          ]
        }
      ]
    },
    {
      "cell_type": "markdown",
      "source": [
        "Python lists can be inhomogeneous and arbitrarily nested."
      ],
      "metadata": {
        "id": "KlVyOCSRyhaY"
      }
    },
    {
      "cell_type": "code",
      "source": [
        "nestedList = [1, [2, [3, [4]]]]\n",
        "print(nestedList)"
      ],
      "metadata": {
        "id": "Q3C1Ppebybz2",
        "outputId": "9a8a9b6c-5d71-4b52-a851-d3e53f70f2d5",
        "colab": {
          "base_uri": "https://localhost:8080/"
        }
      },
      "execution_count": 127,
      "outputs": [
        {
          "output_type": "stream",
          "name": "stdout",
          "text": [
            "[1, [2, [3, [4]]]]\n"
          ]
        }
      ]
    },
    {
      "cell_type": "code",
      "source": [
        "# nestedList.shape gives ERROR\n",
        "# nestedList.size gives ERROR"
      ],
      "metadata": {
        "id": "vJSnS8naytD-"
      },
      "execution_count": 140,
      "outputs": []
    },
    {
      "cell_type": "code",
      "source": [
        "start = 10\n",
        "stop = 30\n",
        "step = 2\n",
        "\n",
        "l = range(start, stop, step) # This line gives iterator no list\n",
        "list(l)"
      ],
      "metadata": {
        "id": "uZHZntRVzNbc",
        "outputId": "62c24abc-b202-464f-ba02-fdfcda5b7f32",
        "colab": {
          "base_uri": "https://localhost:8080/"
        }
      },
      "execution_count": 146,
      "outputs": [
        {
          "output_type": "execute_result",
          "data": {
            "text/plain": [
              "[10, 12, 14, 16, 18, 20, 22, 24, 26, 28]"
            ]
          },
          "metadata": {},
          "execution_count": 146
        }
      ]
    },
    {
      "cell_type": "code",
      "source": [
        "print(m2) # its type is \"string\"\n",
        "m2_ = list(m2)  # its type is \"list\"\n",
        "print(m2_)"
      ],
      "metadata": {
        "id": "o4pnb_PDyygW",
        "outputId": "fcfc63b2-2f03-4c15-bb9c-ec087d01f70f",
        "colab": {
          "base_uri": "https://localhost:8080/"
        }
      },
      "execution_count": 157,
      "outputs": [
        {
          "output_type": "stream",
          "name": "stdout",
          "text": [
            "Hello Jupyter!\n",
            "['H', 'e', 'l', 'l', 'o', ' ', 'J', 'u', 'p', 'y', 't', 'e', 'r', '!']\n"
          ]
        }
      ]
    },
    {
      "cell_type": "code",
      "source": [
        "print(m2_.sort()) # FIX THIS LINE"
      ],
      "metadata": {
        "id": "rFdTsi8O0RC8",
        "outputId": "abeb2a07-d2e7-482e-ba67-ac4cf45b96f5",
        "colab": {
          "base_uri": "https://localhost:8080/"
        }
      },
      "execution_count": 160,
      "outputs": [
        {
          "output_type": "stream",
          "name": "stdout",
          "text": [
            "None\n"
          ]
        }
      ]
    },
    {
      "cell_type": "code",
      "source": [
        "l = []\n",
        "\n",
        "# add an elements using `append`\n",
        "l.append(\"A\")\n",
        "l.append(\"d\")\n",
        "l.append(\"d\")\n",
        "\n",
        "print(l)"
      ],
      "metadata": {
        "id": "uRDZDw7F0xCA",
        "outputId": "1f6b9be0-baf8-43b7-a3ba-ad3d31d35851",
        "colab": {
          "base_uri": "https://localhost:8080/"
        }
      },
      "execution_count": 173,
      "outputs": [
        {
          "output_type": "stream",
          "name": "stdout",
          "text": [
            "['A', 'd', 'd']\n"
          ]
        }
      ]
    },
    {
      "cell_type": "code",
      "source": [
        "l[1] = 'g'\n",
        "l[2] = 34\n",
        "print(l)"
      ],
      "metadata": {
        "id": "NtBSlJOz1SfS",
        "outputId": "1183ff13-bcd2-4663-fc2d-fdaf3dd9e238",
        "colab": {
          "base_uri": "https://localhost:8080/"
        }
      },
      "execution_count": 174,
      "outputs": [
        {
          "output_type": "stream",
          "name": "stdout",
          "text": [
            "['A', 'g', 34]\n"
          ]
        }
      ]
    },
    {
      "cell_type": "code",
      "source": [
        "l.remove('g')\n",
        "l.append('h')\n",
        "l.append('a')\n",
        "l.append('s')\n",
        "l.append('a')\n",
        "l.append('n')\n",
        "print(l)\n"
      ],
      "metadata": {
        "id": "oObc16wf1Xpc",
        "outputId": "cf10389c-731d-479e-aee8-1a0810098e92",
        "colab": {
          "base_uri": "https://localhost:8080/"
        }
      },
      "execution_count": 175,
      "outputs": [
        {
          "output_type": "stream",
          "name": "stdout",
          "text": [
            "['A', 34, 'h', 'a', 's', 'a', 'n']\n"
          ]
        }
      ]
    },
    {
      "cell_type": "code",
      "source": [
        "l.insert(2, 'gozde')\n",
        "print(l)"
      ],
      "metadata": {
        "id": "CkpzaSUP1iff",
        "outputId": "aac58585-ce2c-4e9f-b094-ba9b09ff6190",
        "colab": {
          "base_uri": "https://localhost:8080/"
        }
      },
      "execution_count": 177,
      "outputs": [
        {
          "output_type": "stream",
          "name": "stdout",
          "text": [
            "['A', 34, 'gozde', 'gozde', 'h', 'a', 's', 'a', 'n']\n"
          ]
        }
      ]
    },
    {
      "cell_type": "code",
      "source": [
        "del l[2]\n",
        "del l[2]\n",
        "print(l)"
      ],
      "metadata": {
        "id": "OAicUoD42JC_",
        "outputId": "d2057586-c4e8-4c7c-83b5-c11637fe9841",
        "colab": {
          "base_uri": "https://localhost:8080/"
        }
      },
      "execution_count": 179,
      "outputs": [
        {
          "output_type": "stream",
          "name": "stdout",
          "text": [
            "['A', 34, 'a', 's', 'a', 'n']\n"
          ]
        }
      ]
    },
    {
      "cell_type": "code",
      "source": [
        "help(list)"
      ],
      "metadata": {
        "id": "odfQY12M2U0J",
        "outputId": "fbdf6302-6b84-490a-be2b-a59e3f2a18fa",
        "colab": {
          "base_uri": "https://localhost:8080/"
        }
      },
      "execution_count": 180,
      "outputs": [
        {
          "output_type": "stream",
          "name": "stdout",
          "text": [
            "Help on class list in module builtins:\n",
            "\n",
            "class list(object)\n",
            " |  list(iterable=(), /)\n",
            " |  \n",
            " |  Built-in mutable sequence.\n",
            " |  \n",
            " |  If no argument is given, the constructor creates a new empty list.\n",
            " |  The argument must be an iterable if specified.\n",
            " |  \n",
            " |  Methods defined here:\n",
            " |  \n",
            " |  __add__(self, value, /)\n",
            " |      Return self+value.\n",
            " |  \n",
            " |  __contains__(self, key, /)\n",
            " |      Return key in self.\n",
            " |  \n",
            " |  __delitem__(self, key, /)\n",
            " |      Delete self[key].\n",
            " |  \n",
            " |  __eq__(self, value, /)\n",
            " |      Return self==value.\n",
            " |  \n",
            " |  __ge__(self, value, /)\n",
            " |      Return self>=value.\n",
            " |  \n",
            " |  __getattribute__(self, name, /)\n",
            " |      Return getattr(self, name).\n",
            " |  \n",
            " |  __getitem__(...)\n",
            " |      x.__getitem__(y) <==> x[y]\n",
            " |  \n",
            " |  __gt__(self, value, /)\n",
            " |      Return self>value.\n",
            " |  \n",
            " |  __iadd__(self, value, /)\n",
            " |      Implement self+=value.\n",
            " |  \n",
            " |  __imul__(self, value, /)\n",
            " |      Implement self*=value.\n",
            " |  \n",
            " |  __init__(self, /, *args, **kwargs)\n",
            " |      Initialize self.  See help(type(self)) for accurate signature.\n",
            " |  \n",
            " |  __iter__(self, /)\n",
            " |      Implement iter(self).\n",
            " |  \n",
            " |  __le__(self, value, /)\n",
            " |      Return self<=value.\n",
            " |  \n",
            " |  __len__(self, /)\n",
            " |      Return len(self).\n",
            " |  \n",
            " |  __lt__(self, value, /)\n",
            " |      Return self<value.\n",
            " |  \n",
            " |  __mul__(self, value, /)\n",
            " |      Return self*value.\n",
            " |  \n",
            " |  __ne__(self, value, /)\n",
            " |      Return self!=value.\n",
            " |  \n",
            " |  __repr__(self, /)\n",
            " |      Return repr(self).\n",
            " |  \n",
            " |  __reversed__(self, /)\n",
            " |      Return a reverse iterator over the list.\n",
            " |  \n",
            " |  __rmul__(self, value, /)\n",
            " |      Return value*self.\n",
            " |  \n",
            " |  __setitem__(self, key, value, /)\n",
            " |      Set self[key] to value.\n",
            " |  \n",
            " |  __sizeof__(self, /)\n",
            " |      Return the size of the list in memory, in bytes.\n",
            " |  \n",
            " |  append(self, object, /)\n",
            " |      Append object to the end of the list.\n",
            " |  \n",
            " |  clear(self, /)\n",
            " |      Remove all items from list.\n",
            " |  \n",
            " |  copy(self, /)\n",
            " |      Return a shallow copy of the list.\n",
            " |  \n",
            " |  count(self, value, /)\n",
            " |      Return number of occurrences of value.\n",
            " |  \n",
            " |  extend(self, iterable, /)\n",
            " |      Extend list by appending elements from the iterable.\n",
            " |  \n",
            " |  index(self, value, start=0, stop=9223372036854775807, /)\n",
            " |      Return first index of value.\n",
            " |      \n",
            " |      Raises ValueError if the value is not present.\n",
            " |  \n",
            " |  insert(self, index, object, /)\n",
            " |      Insert object before index.\n",
            " |  \n",
            " |  pop(self, index=-1, /)\n",
            " |      Remove and return item at index (default last).\n",
            " |      \n",
            " |      Raises IndexError if list is empty or index is out of range.\n",
            " |  \n",
            " |  remove(self, value, /)\n",
            " |      Remove first occurrence of value.\n",
            " |      \n",
            " |      Raises ValueError if the value is not present.\n",
            " |  \n",
            " |  reverse(self, /)\n",
            " |      Reverse *IN PLACE*.\n",
            " |  \n",
            " |  sort(self, /, *, key=None, reverse=False)\n",
            " |      Sort the list in ascending order and return None.\n",
            " |      \n",
            " |      The sort is in-place (i.e. the list itself is modified) and stable (i.e. the\n",
            " |      order of two equal elements is maintained).\n",
            " |      \n",
            " |      If a key function is given, apply it once to each list item and sort them,\n",
            " |      ascending or descending, according to their function values.\n",
            " |      \n",
            " |      The reverse flag can be set to sort in descending order.\n",
            " |  \n",
            " |  ----------------------------------------------------------------------\n",
            " |  Class methods defined here:\n",
            " |  \n",
            " |  __class_getitem__(...) from builtins.type\n",
            " |      See PEP 585\n",
            " |  \n",
            " |  ----------------------------------------------------------------------\n",
            " |  Static methods defined here:\n",
            " |  \n",
            " |  __new__(*args, **kwargs) from builtins.type\n",
            " |      Create and return a new object.  See help(type) for accurate signature.\n",
            " |  \n",
            " |  ----------------------------------------------------------------------\n",
            " |  Data and other attributes defined here:\n",
            " |  \n",
            " |  __hash__ = None\n",
            "\n"
          ]
        }
      ]
    },
    {
      "cell_type": "code",
      "source": [
        "l.__len__()"
      ],
      "metadata": {
        "id": "nuoCdKLf2cYb",
        "outputId": "0703bfbb-c11f-4405-f651-b68c7c7ed68d",
        "colab": {
          "base_uri": "https://localhost:8080/"
        }
      },
      "execution_count": 182,
      "outputs": [
        {
          "output_type": "execute_result",
          "data": {
            "text/plain": [
              "6"
            ]
          },
          "metadata": {},
          "execution_count": 182
        }
      ]
    },
    {
      "cell_type": "code",
      "source": [
        "point = (10, 20)\n",
        "print(point, type(point))"
      ],
      "metadata": {
        "id": "vl8VyZfP2rCn",
        "outputId": "80d86d0e-e4b5-4518-8826-2c0f1d324af6",
        "colab": {
          "base_uri": "https://localhost:8080/"
        }
      },
      "execution_count": 186,
      "outputs": [
        {
          "output_type": "stream",
          "name": "stdout",
          "text": [
            "(10, 20) <class 'tuple'>\n"
          ]
        }
      ]
    },
    {
      "cell_type": "code",
      "source": [
        "a, b = point\n",
        "print(\"Value 1 is\", a)\n",
        "print(\"Value 2 is\", b)"
      ],
      "metadata": {
        "id": "pUCpaj1H262B",
        "outputId": "8760b3bd-9498-4338-c0f5-1f69e9ccf27b",
        "colab": {
          "base_uri": "https://localhost:8080/"
        }
      },
      "execution_count": 193,
      "outputs": [
        {
          "output_type": "stream",
          "name": "stdout",
          "text": [
            "Value 1 is 10\n",
            "Value 2 is 20\n"
          ]
        }
      ]
    },
    {
      "cell_type": "markdown",
      "source": [
        "If we try to assign a new value to an element in a tuple we get an error."
      ],
      "metadata": {
        "id": "t-MnFbzJ46SK"
      }
    },
    {
      "cell_type": "code",
      "source": [
        "point[0] = 20"
      ],
      "metadata": {
        "id": "umS5FvCJ3OKO",
        "outputId": "3ced1360-a34d-40a7-bc7a-a744b5d74a40",
        "colab": {
          "base_uri": "https://localhost:8080/",
          "height": 141
        }
      },
      "execution_count": 195,
      "outputs": [
        {
          "output_type": "error",
          "ename": "TypeError",
          "evalue": "'tuple' object does not support item assignment",
          "traceback": [
            "\u001b[0;31m---------------------------------------------------------------------------\u001b[0m",
            "\u001b[0;31mTypeError\u001b[0m                                 Traceback (most recent call last)",
            "\u001b[0;32m<ipython-input-195-ea5386a7fed3>\u001b[0m in \u001b[0;36m<cell line: 1>\u001b[0;34m()\u001b[0m\n\u001b[0;32m----> 1\u001b[0;31m \u001b[0mpoint\u001b[0m\u001b[0;34m[\u001b[0m\u001b[0;36m0\u001b[0m\u001b[0;34m]\u001b[0m \u001b[0;34m=\u001b[0m \u001b[0;36m20\u001b[0m\u001b[0;34m\u001b[0m\u001b[0;34m\u001b[0m\u001b[0m\n\u001b[0m",
            "\u001b[0;31mTypeError\u001b[0m: 'tuple' object does not support item assignment"
          ]
        }
      ]
    },
    {
      "cell_type": "code",
      "source": [
        "options = {\"epoch number\" : 1.0,\n",
        "           \"initial learning rate\" : 0.002,\n",
        "           \"normalization technique\" : \"bnorm\"}"
      ],
      "metadata": {
        "id": "UyTiLKit5GvF"
      },
      "execution_count": 198,
      "outputs": []
    },
    {
      "cell_type": "code",
      "source": [
        "print(options, type(options))"
      ],
      "metadata": {
        "id": "vFLcJbxi5guu",
        "outputId": "a438f41d-08fc-452a-f30a-998830226730",
        "colab": {
          "base_uri": "https://localhost:8080/"
        }
      },
      "execution_count": 199,
      "outputs": [
        {
          "output_type": "stream",
          "name": "stdout",
          "text": [
            "{'epoch number': 1.0, 'initial learning rate': 0.002, 'normalization technique': 'bnorm'} <class 'dict'>\n"
          ]
        }
      ]
    },
    {
      "cell_type": "code",
      "source": [
        "options2 = {\"parameter1\" : 1.0,\n",
        "            \"parameter2\" : 2.0,\n",
        "            \"parameter3\" : 3.0,}\n",
        "print(options2)\n"
      ],
      "metadata": {
        "id": "OYktPUX85o-D",
        "outputId": "bcaa581e-4ec2-418e-a41d-06ef6adb9137",
        "colab": {
          "base_uri": "https://localhost:8080/"
        }
      },
      "execution_count": 200,
      "outputs": [
        {
          "output_type": "stream",
          "name": "stdout",
          "text": [
            "{'parameter1': 1.0, 'parameter2': 2.0, 'parameter3': 3.0}\n"
          ]
        }
      ]
    },
    {
      "cell_type": "code",
      "source": [
        "print(\"parameter1 = \" + str(options2[\"parameter1\"]))\n",
        "print(\"parameter2 = \" + str(options2[\"parameter2\"]))\n",
        "print(\"parameter3 = \" + str(options2[\"parameter3\"]))"
      ],
      "metadata": {
        "id": "p2QCL7o058Sn",
        "outputId": "462b6972-f755-45c4-a9a4-218be3d79fe7",
        "colab": {
          "base_uri": "https://localhost:8080/"
        }
      },
      "execution_count": 203,
      "outputs": [
        {
          "output_type": "stream",
          "name": "stdout",
          "text": [
            "parameter1 = 1.0\n",
            "parameter2 = 2.0\n",
            "parameter3 = 3.0\n"
          ]
        }
      ]
    },
    {
      "cell_type": "code",
      "source": [
        "options2[\"parameter4\"] = 4.0"
      ],
      "metadata": {
        "id": "KYl7MZVb6ZEk"
      },
      "execution_count": 204,
      "outputs": []
    },
    {
      "cell_type": "code",
      "source": [
        "print(options2)"
      ],
      "metadata": {
        "id": "btE4em-o7FqU",
        "outputId": "170b6cf7-3904-4a74-a451-7d2926a47de3",
        "colab": {
          "base_uri": "https://localhost:8080/"
        }
      },
      "execution_count": 205,
      "outputs": [
        {
          "output_type": "stream",
          "name": "stdout",
          "text": [
            "{'parameter1': 1.0, 'parameter2': 2.0, 'parameter3': 3.0, 'parameter4': 4.0}\n"
          ]
        }
      ]
    },
    {
      "cell_type": "code",
      "source": [
        "statement1 = True\n",
        "statement2 = False\n",
        "\n",
        "if statement1:\n",
        "  print(\"Statement 1 is true\")\n",
        "\n",
        "elif statement2:\n",
        "  print(\"Statment 2 is true\")\n",
        "\n",
        "else:\n",
        "  print(\"statement1 and statement2 are false\")"
      ],
      "metadata": {
        "id": "feX4yOUD7IYk",
        "outputId": "3ada431c-442e-4ce3-ddc0-a6df007d2a3e",
        "colab": {
          "base_uri": "https://localhost:8080/"
        }
      },
      "execution_count": 207,
      "outputs": [
        {
          "output_type": "stream",
          "name": "stdout",
          "text": [
            "Statement 1 is true\n"
          ]
        }
      ]
    },
    {
      "cell_type": "code",
      "source": [
        "statement1 = statement2 = True\n",
        "\n",
        "if statement1:\n",
        "  if statement2:\n",
        "    print('Both statement1 and statement2 are true')"
      ],
      "metadata": {
        "id": "qiwbXEta8O6G",
        "outputId": "251e8c61-7059-483d-8733-3361895877ef",
        "colab": {
          "base_uri": "https://localhost:8080/"
        }
      },
      "execution_count": 208,
      "outputs": [
        {
          "output_type": "stream",
          "name": "stdout",
          "text": [
            "Both statement1 and statement2 are true\n"
          ]
        }
      ]
    },
    {
      "cell_type": "code",
      "source": [
        "# Bad indentation!\n",
        "statement1 = statement2 = True\n",
        "\n",
        "if statement1:\n",
        "  if statement2:\n",
        "  print('Both statement1 and statement2 are true')"
      ],
      "metadata": {
        "id": "OB8YUV0p8u2s",
        "outputId": "15a9dc46-7156-4101-fa5e-3141ce7bc03f",
        "colab": {
          "base_uri": "https://localhost:8080/",
          "height": 106
        }
      },
      "execution_count": 209,
      "outputs": [
        {
          "output_type": "error",
          "ename": "IndentationError",
          "evalue": "expected an indented block after 'if' statement on line 5 (<ipython-input-209-17aeb58a8c77>, line 6)",
          "traceback": [
            "\u001b[0;36m  File \u001b[0;32m\"<ipython-input-209-17aeb58a8c77>\"\u001b[0;36m, line \u001b[0;32m6\u001b[0m\n\u001b[0;31m    print('Both statement1 and statement2 are true')\u001b[0m\n\u001b[0m    ^\u001b[0m\n\u001b[0;31mIndentationError\u001b[0m\u001b[0;31m:\u001b[0m expected an indented block after 'if' statement on line 5\n"
          ]
        }
      ]
    },
    {
      "cell_type": "code",
      "source": [
        "statement1 = True\n",
        "\n",
        "if statement1:\n",
        "    print(\"printed if statement1 is True\")\n",
        "\n",
        "    print(\"still inside the if block\")"
      ],
      "metadata": {
        "id": "-2tjZP5u86YV",
        "outputId": "9fcdabd1-fa38-45ef-dcbc-f88c73c6744e",
        "colab": {
          "base_uri": "https://localhost:8080/"
        }
      },
      "execution_count": 212,
      "outputs": [
        {
          "output_type": "stream",
          "name": "stdout",
          "text": [
            "printed if statement1 is True\n",
            "still inside the if block\n"
          ]
        }
      ]
    },
    {
      "cell_type": "code",
      "source": [
        "if statement1:\n",
        "    print(\"printed if statement1 is True\")\n",
        "\n",
        "print(\"now outside the if block\")"
      ],
      "metadata": {
        "id": "HmqHIooi8-XJ",
        "outputId": "119bd1ca-eb71-4e90-a49a-37feda5915e3",
        "colab": {
          "base_uri": "https://localhost:8080/"
        }
      },
      "execution_count": 213,
      "outputs": [
        {
          "output_type": "stream",
          "name": "stdout",
          "text": [
            "printed if statement1 is True\n",
            "now outside the if block\n"
          ]
        }
      ]
    }
  ],
  "metadata": {
    "colab": {
      "name": "Overview of Colaboratory Features",
      "provenance": [],
      "include_colab_link": true
    },
    "kernelspec": {
      "display_name": "Python 3",
      "name": "python3"
    }
  },
  "nbformat": 4,
  "nbformat_minor": 0
}