{
  "cells": [
    {
      "cell_type": "markdown",
      "metadata": {
        "id": "view-in-github",
        "colab_type": "text"
      },
      "source": [
        "<a href=\"https://colab.research.google.com/github/karaogluhh/PythonNotebooks/blob/main/001.%20Introduction2Python.ipynb\" target=\"_parent\"><img src=\"https://colab.research.google.com/assets/colab-badge.svg\" alt=\"Open In Colab\"/></a>"
      ]
    },
    {
      "cell_type": "markdown",
      "source": [
        "### Python ve İlgili Modüllerin Versiyonlarını Öğrenme\n"
      ],
      "metadata": {
        "id": "a7_5EeRfvi9x"
      }
    },
    {
      "cell_type": "code",
      "source": [
        "!python --version"
      ],
      "metadata": {
        "colab": {
          "base_uri": "https://localhost:8080/"
        },
        "id": "tU2Tx9WTuejh",
        "outputId": "d6350367-d25f-47fb-c324-9062c3a05e9e"
      },
      "execution_count": 3,
      "outputs": [
        {
          "output_type": "stream",
          "name": "stdout",
          "text": [
            "Python 3.10.12\n"
          ]
        }
      ]
    },
    {
      "cell_type": "code",
      "source": [
        "import numpy as np\n",
        "import matplotlib\n",
        "\n",
        "print(np.__version__)\n",
        "print(matplotlib.__version__)"
      ],
      "metadata": {
        "colab": {
          "base_uri": "https://localhost:8080/"
        },
        "id": "66EddYM3urtd",
        "outputId": "67b34391-609f-4ce6-ce84-aede2293c59e"
      },
      "execution_count": 4,
      "outputs": [
        {
          "output_type": "stream",
          "name": "stdout",
          "text": [
            "1.25.2\n",
            "3.7.1\n"
          ]
        }
      ]
    },
    {
      "cell_type": "code",
      "source": [
        "# This is a comment line"
      ],
      "metadata": {
        "id": "Y_FEAGI9uyDc"
      },
      "execution_count": 5,
      "outputs": []
    },
    {
      "cell_type": "code",
      "source": [
        "!ls"
      ],
      "metadata": {
        "colab": {
          "base_uri": "https://localhost:8080/"
        },
        "id": "d5QwYacrws-T",
        "outputId": "41ffffec-f84c-446f-852b-b3f9f846d99f"
      },
      "execution_count": 6,
      "outputs": [
        {
          "output_type": "stream",
          "name": "stdout",
          "text": [
            "my_file.py  sample_data\n"
          ]
        }
      ]
    },
    {
      "cell_type": "markdown",
      "source": [
        "## Modüller"
      ],
      "metadata": {
        "id": "A8ROFFMayBwB"
      }
    },
    {
      "cell_type": "code",
      "source": [
        "import math\n",
        "\n",
        "x = math.cos(2 * math.pi)\n",
        "\n",
        "print(x)"
      ],
      "metadata": {
        "colab": {
          "base_uri": "https://localhost:8080/"
        },
        "id": "uGlY5FFjwzFJ",
        "outputId": "21dd650a-58cb-4e84-e69d-e382adacd0d3"
      },
      "execution_count": 7,
      "outputs": [
        {
          "output_type": "stream",
          "name": "stdout",
          "text": [
            "1.0\n"
          ]
        }
      ]
    },
    {
      "cell_type": "markdown",
      "source": [
        "### Bir Modülü İçe Aktarmak (Tüm Fonksiyon ve Değişkenler)"
      ],
      "metadata": {
        "id": "EQ1hNlkTyJem"
      }
    },
    {
      "cell_type": "code",
      "source": [
        "from math import *\n",
        "\n",
        "x = cos(2 * pi)\n",
        "\n",
        "print(x)"
      ],
      "metadata": {
        "colab": {
          "base_uri": "https://localhost:8080/"
        },
        "id": "68GgA4j6xsBV",
        "outputId": "0f6976a5-1322-4571-ab27-5da5b318c0e3"
      },
      "execution_count": 8,
      "outputs": [
        {
          "output_type": "stream",
          "name": "stdout",
          "text": [
            "1.0\n"
          ]
        }
      ]
    },
    {
      "cell_type": "markdown",
      "source": [
        "This pattern can be very convenient, but in large programs that include many modules it is often a good idea to keep the symbols from each module in their own namespaces, by using the import math pattern. This would eliminate potentially confusing problems with name space collisions.\n",
        "\n",
        "As a third alternative, we can choose to import only a few selected symbols from a module by explicitly listing which ones we want to import instead of using the wildcard character *:"
      ],
      "metadata": {
        "id": "YAxkzC1CzKK9"
      }
    },
    {
      "cell_type": "code",
      "source": [
        "from math import cos, pi\n",
        "\n",
        "x = cos(2 * pi)\n",
        "\n",
        "print(x)"
      ],
      "metadata": {
        "colab": {
          "base_uri": "https://localhost:8080/"
        },
        "id": "tnCN4VPtzOK7",
        "outputId": "d4791ec0-a4a6-4a2b-a79f-13565652be38"
      },
      "execution_count": 9,
      "outputs": [
        {
          "output_type": "stream",
          "name": "stdout",
          "text": [
            "1.0\n"
          ]
        }
      ]
    },
    {
      "cell_type": "code",
      "source": [
        "import math\n",
        "print(dir(math))"
      ],
      "metadata": {
        "colab": {
          "base_uri": "https://localhost:8080/"
        },
        "id": "jT1T5Unpyjfk",
        "outputId": "6e952205-2e3f-4c31-e21e-8494cf4e3b78"
      },
      "execution_count": 10,
      "outputs": [
        {
          "output_type": "stream",
          "name": "stdout",
          "text": [
            "['__doc__', '__loader__', '__name__', '__package__', '__spec__', 'acos', 'acosh', 'asin', 'asinh', 'atan', 'atan2', 'atanh', 'ceil', 'comb', 'copysign', 'cos', 'cosh', 'degrees', 'dist', 'e', 'erf', 'erfc', 'exp', 'expm1', 'fabs', 'factorial', 'floor', 'fmod', 'frexp', 'fsum', 'gamma', 'gcd', 'hypot', 'inf', 'isclose', 'isfinite', 'isinf', 'isnan', 'isqrt', 'lcm', 'ldexp', 'lgamma', 'log', 'log10', 'log1p', 'log2', 'modf', 'nan', 'nextafter', 'perm', 'pi', 'pow', 'prod', 'radians', 'remainder', 'sin', 'sinh', 'sqrt', 'tan', 'tanh', 'tau', 'trunc', 'ulp']\n"
          ]
        }
      ]
    },
    {
      "cell_type": "code",
      "source": [
        "print(dir(np))"
      ],
      "metadata": {
        "colab": {
          "base_uri": "https://localhost:8080/"
        },
        "id": "Aw7xkgQqyvLO",
        "outputId": "de9856e7-3028-4f45-944b-eab129dfad19"
      },
      "execution_count": 11,
      "outputs": [
        {
          "output_type": "stream",
          "name": "stdout",
          "text": [
            "['ALLOW_THREADS', 'BUFSIZE', 'CLIP', 'DataSource', 'ERR_CALL', 'ERR_DEFAULT', 'ERR_IGNORE', 'ERR_LOG', 'ERR_PRINT', 'ERR_RAISE', 'ERR_WARN', 'FLOATING_POINT_SUPPORT', 'FPE_DIVIDEBYZERO', 'FPE_INVALID', 'FPE_OVERFLOW', 'FPE_UNDERFLOW', 'False_', 'Inf', 'Infinity', 'MAXDIMS', 'MAY_SHARE_BOUNDS', 'MAY_SHARE_EXACT', 'NAN', 'NINF', 'NZERO', 'NaN', 'PINF', 'PZERO', 'RAISE', 'RankWarning', 'SHIFT_DIVIDEBYZERO', 'SHIFT_INVALID', 'SHIFT_OVERFLOW', 'SHIFT_UNDERFLOW', 'ScalarType', 'True_', 'UFUNC_BUFSIZE_DEFAULT', 'UFUNC_PYVALS_NAME', 'WRAP', '_CopyMode', '_NoValue', '_UFUNC_API', '__NUMPY_SETUP__', '__all__', '__builtins__', '__cached__', '__config__', '__deprecated_attrs__', '__dir__', '__doc__', '__expired_functions__', '__file__', '__former_attrs__', '__future_scalars__', '__getattr__', '__git_version__', '__loader__', '__name__', '__package__', '__path__', '__spec__', '__version__', '_add_newdoc_ufunc', '_builtins', '_distributor_init', '_financial_names', '_get_promotion_state', '_globals', '_int_extended_msg', '_mat', '_no_nep50_warning', '_pyinstaller_hooks_dir', '_pytesttester', '_set_promotion_state', '_specific_msg', '_typing', '_using_numpy2_behavior', '_utils', '_version', 'abs', 'absolute', 'add', 'add_docstring', 'add_newdoc', 'add_newdoc_ufunc', 'all', 'allclose', 'alltrue', 'amax', 'amin', 'angle', 'any', 'append', 'apply_along_axis', 'apply_over_axes', 'arange', 'arccos', 'arccosh', 'arcsin', 'arcsinh', 'arctan', 'arctan2', 'arctanh', 'argmax', 'argmin', 'argpartition', 'argsort', 'argwhere', 'around', 'array', 'array2string', 'array_equal', 'array_equiv', 'array_repr', 'array_split', 'array_str', 'asanyarray', 'asarray', 'asarray_chkfinite', 'ascontiguousarray', 'asfarray', 'asfortranarray', 'asmatrix', 'atleast_1d', 'atleast_2d', 'atleast_3d', 'average', 'bartlett', 'base_repr', 'binary_repr', 'bincount', 'bitwise_and', 'bitwise_not', 'bitwise_or', 'bitwise_xor', 'blackman', 'block', 'bmat', 'bool_', 'broadcast', 'broadcast_arrays', 'broadcast_shapes', 'broadcast_to', 'busday_count', 'busday_offset', 'busdaycalendar', 'byte', 'byte_bounds', 'bytes_', 'c_', 'can_cast', 'cast', 'cbrt', 'cdouble', 'ceil', 'cfloat', 'char', 'character', 'chararray', 'choose', 'clip', 'clongdouble', 'clongfloat', 'column_stack', 'common_type', 'compare_chararrays', 'compat', 'complex128', 'complex256', 'complex64', 'complex_', 'complexfloating', 'compress', 'concatenate', 'conj', 'conjugate', 'convolve', 'copy', 'copysign', 'copyto', 'corrcoef', 'correlate', 'cos', 'cosh', 'count_nonzero', 'cov', 'cross', 'csingle', 'ctypeslib', 'cumprod', 'cumproduct', 'cumsum', 'datetime64', 'datetime_as_string', 'datetime_data', 'deg2rad', 'degrees', 'delete', 'deprecate', 'deprecate_with_doc', 'diag', 'diag_indices', 'diag_indices_from', 'diagflat', 'diagonal', 'diff', 'digitize', 'disp', 'divide', 'divmod', 'dot', 'double', 'dsplit', 'dstack', 'dtype', 'dtypes', 'e', 'ediff1d', 'einsum', 'einsum_path', 'emath', 'empty', 'empty_like', 'equal', 'errstate', 'euler_gamma', 'exceptions', 'exp', 'exp2', 'expand_dims', 'expm1', 'extract', 'eye', 'fabs', 'fastCopyAndTranspose', 'fft', 'fill_diagonal', 'find_common_type', 'finfo', 'fix', 'flatiter', 'flatnonzero', 'flexible', 'flip', 'fliplr', 'flipud', 'float128', 'float16', 'float32', 'float64', 'float_', 'float_power', 'floating', 'floor', 'floor_divide', 'fmax', 'fmin', 'fmod', 'format_float_positional', 'format_float_scientific', 'format_parser', 'frexp', 'from_dlpack', 'frombuffer', 'fromfile', 'fromfunction', 'fromiter', 'frompyfunc', 'fromregex', 'fromstring', 'full', 'full_like', 'gcd', 'generic', 'genfromtxt', 'geomspace', 'get_array_wrap', 'get_include', 'get_printoptions', 'getbufsize', 'geterr', 'geterrcall', 'geterrobj', 'gradient', 'greater', 'greater_equal', 'half', 'hamming', 'hanning', 'heaviside', 'histogram', 'histogram2d', 'histogram_bin_edges', 'histogramdd', 'hsplit', 'hstack', 'hypot', 'i0', 'identity', 'iinfo', 'imag', 'in1d', 'index_exp', 'indices', 'inexact', 'inf', 'info', 'infty', 'inner', 'insert', 'int16', 'int32', 'int64', 'int8', 'int_', 'intc', 'integer', 'interp', 'intersect1d', 'intp', 'invert', 'is_busday', 'isclose', 'iscomplex', 'iscomplexobj', 'isfinite', 'isfortran', 'isin', 'isinf', 'isnan', 'isnat', 'isneginf', 'isposinf', 'isreal', 'isrealobj', 'isscalar', 'issctype', 'issubclass_', 'issubdtype', 'issubsctype', 'iterable', 'ix_', 'kaiser', 'kernel_version', 'kron', 'lcm', 'ldexp', 'left_shift', 'less', 'less_equal', 'lexsort', 'lib', 'linalg', 'linspace', 'little_endian', 'load', 'loadtxt', 'log', 'log10', 'log1p', 'log2', 'logaddexp', 'logaddexp2', 'logical_and', 'logical_not', 'logical_or', 'logical_xor', 'logspace', 'longcomplex', 'longdouble', 'longfloat', 'longlong', 'lookfor', 'ma', 'mask_indices', 'mat', 'matmul', 'matrix', 'max', 'maximum', 'maximum_sctype', 'may_share_memory', 'mean', 'median', 'memmap', 'meshgrid', 'mgrid', 'min', 'min_scalar_type', 'minimum', 'mintypecode', 'mod', 'modf', 'moveaxis', 'msort', 'multiply', 'nan', 'nan_to_num', 'nanargmax', 'nanargmin', 'nancumprod', 'nancumsum', 'nanmax', 'nanmean', 'nanmedian', 'nanmin', 'nanpercentile', 'nanprod', 'nanquantile', 'nanstd', 'nansum', 'nanvar', 'nbytes', 'ndarray', 'ndenumerate', 'ndim', 'ndindex', 'nditer', 'negative', 'nested_iters', 'newaxis', 'nextafter', 'nonzero', 'not_equal', 'numarray', 'number', 'obj2sctype', 'object_', 'ogrid', 'oldnumeric', 'ones', 'ones_like', 'outer', 'packbits', 'pad', 'partition', 'percentile', 'pi', 'piecewise', 'place', 'poly', 'poly1d', 'polyadd', 'polyder', 'polydiv', 'polyfit', 'polyint', 'polymul', 'polynomial', 'polysub', 'polyval', 'positive', 'power', 'printoptions', 'prod', 'product', 'promote_types', 'ptp', 'put', 'put_along_axis', 'putmask', 'quantile', 'r_', 'rad2deg', 'radians', 'random', 'ravel', 'ravel_multi_index', 'real', 'real_if_close', 'rec', 'recarray', 'recfromcsv', 'recfromtxt', 'reciprocal', 'record', 'remainder', 'repeat', 'require', 'reshape', 'resize', 'result_type', 'right_shift', 'rint', 'roll', 'rollaxis', 'roots', 'rot90', 'round', 'round_', 'row_stack', 's_', 'safe_eval', 'save', 'savetxt', 'savez', 'savez_compressed', 'sctype2char', 'sctypeDict', 'sctypes', 'searchsorted', 'select', 'set_numeric_ops', 'set_printoptions', 'set_string_function', 'setbufsize', 'setdiff1d', 'seterr', 'seterrcall', 'seterrobj', 'setxor1d', 'shape', 'shares_memory', 'short', 'show_config', 'show_runtime', 'sign', 'signbit', 'signedinteger', 'sin', 'sinc', 'single', 'singlecomplex', 'sinh', 'size', 'sometrue', 'sort', 'sort_complex', 'source', 'spacing', 'split', 'sqrt', 'square', 'squeeze', 'stack', 'std', 'str_', 'string_', 'subtract', 'sum', 'swapaxes', 'take', 'take_along_axis', 'tan', 'tanh', 'tensordot', 'test', 'testing', 'tile', 'timedelta64', 'trace', 'tracemalloc_domain', 'transpose', 'trapz', 'tri', 'tril', 'tril_indices', 'tril_indices_from', 'trim_zeros', 'triu', 'triu_indices', 'triu_indices_from', 'true_divide', 'trunc', 'typecodes', 'typename', 'ubyte', 'ufunc', 'uint', 'uint16', 'uint32', 'uint64', 'uint8', 'uintc', 'uintp', 'ulonglong', 'unicode_', 'union1d', 'unique', 'unpackbits', 'unravel_index', 'unsignedinteger', 'unwrap', 'ushort', 'vander', 'var', 'vdot', 'vectorize', 'version', 'void', 'vsplit', 'vstack', 'where', 'who', 'zeros', 'zeros_like']\n"
          ]
        }
      ]
    },
    {
      "cell_type": "code",
      "source": [
        "help(np.abs)\n",
        "# help(np)"
      ],
      "metadata": {
        "colab": {
          "base_uri": "https://localhost:8080/"
        },
        "id": "KNF19TSBy3OF",
        "outputId": "caebd9fe-c876-472b-8d25-be330f2fab89"
      },
      "execution_count": 12,
      "outputs": [
        {
          "output_type": "stream",
          "name": "stdout",
          "text": [
            "Help on ufunc:\n",
            "\n",
            "absolute = <ufunc 'absolute'>\n",
            "    absolute(x, /, out=None, *, where=True, casting='same_kind', order='K', dtype=None, subok=True[, signature, extobj])\n",
            "    \n",
            "    Calculate the absolute value element-wise.\n",
            "    \n",
            "    ``np.abs`` is a shorthand for this function.\n",
            "    \n",
            "    Parameters\n",
            "    ----------\n",
            "    x : array_like\n",
            "        Input array.\n",
            "    out : ndarray, None, or tuple of ndarray and None, optional\n",
            "        A location into which the result is stored. If provided, it must have\n",
            "        a shape that the inputs broadcast to. If not provided or None,\n",
            "        a freshly-allocated array is returned. A tuple (possible only as a\n",
            "        keyword argument) must have length equal to the number of outputs.\n",
            "    where : array_like, optional\n",
            "        This condition is broadcast over the input. At locations where the\n",
            "        condition is True, the `out` array will be set to the ufunc result.\n",
            "        Elsewhere, the `out` array will retain its original value.\n",
            "        Note that if an uninitialized `out` array is created via the default\n",
            "        ``out=None``, locations within it where the condition is False will\n",
            "        remain uninitialized.\n",
            "    **kwargs\n",
            "        For other keyword-only arguments, see the\n",
            "        :ref:`ufunc docs <ufuncs.kwargs>`.\n",
            "    \n",
            "    Returns\n",
            "    -------\n",
            "    absolute : ndarray\n",
            "        An ndarray containing the absolute value of\n",
            "        each element in `x`.  For complex input, ``a + ib``, the\n",
            "        absolute value is :math:`\\sqrt{ a^2 + b^2 }`.\n",
            "        This is a scalar if `x` is a scalar.\n",
            "    \n",
            "    Examples\n",
            "    --------\n",
            "    >>> x = np.array([-1.2, 1.2])\n",
            "    >>> np.absolute(x)\n",
            "    array([ 1.2,  1.2])\n",
            "    >>> np.absolute(1.2 + 1j)\n",
            "    1.5620499351813308\n",
            "    \n",
            "    Plot the function over ``[-10, 10]``:\n",
            "    \n",
            "    >>> import matplotlib.pyplot as plt\n",
            "    \n",
            "    >>> x = np.linspace(start=-10, stop=10, num=101)\n",
            "    >>> plt.plot(x, np.absolute(x))\n",
            "    >>> plt.show()\n",
            "    \n",
            "    Plot the function over the complex plane:\n",
            "    \n",
            "    >>> xx = x + 1j * x[:, np.newaxis]\n",
            "    >>> plt.imshow(np.abs(xx), extent=[-10, 10, -10, 10], cmap='gray')\n",
            "    >>> plt.show()\n",
            "    \n",
            "    The `abs` function can be used as a shorthand for ``np.absolute`` on\n",
            "    ndarrays.\n",
            "    \n",
            "    >>> x = np.array([-1.2, 1.2])\n",
            "    >>> abs(x)\n",
            "    array([1.2, 1.2])\n",
            "\n"
          ]
        }
      ]
    },
    {
      "cell_type": "code",
      "source": [
        "np.abs?"
      ],
      "metadata": {
        "id": "ni7zYc5YV780"
      },
      "execution_count": 13,
      "outputs": []
    },
    {
      "cell_type": "code",
      "source": [
        "x = np.array([-1.2, 1.2])\n",
        "print(np.absolute(x))\n",
        "print(np.absolute(1.2 + 1j))"
      ],
      "metadata": {
        "colab": {
          "base_uri": "https://localhost:8080/"
        },
        "id": "bBt1-gOJOmk_",
        "outputId": "e8e48455-75fa-4e83-f40b-9f39b14a164a"
      },
      "execution_count": 14,
      "outputs": [
        {
          "output_type": "stream",
          "name": "stdout",
          "text": [
            "[1.2 1.2]\n",
            "1.5620499351813308\n"
          ]
        }
      ]
    },
    {
      "cell_type": "code",
      "source": [
        "np.sqrt(np.power(1.2, 2) + 1)"
      ],
      "metadata": {
        "colab": {
          "base_uri": "https://localhost:8080/"
        },
        "id": "9xTNmGseOsgS",
        "outputId": "57fa94cc-5510-413e-af65-18fb97eb603f"
      },
      "execution_count": 15,
      "outputs": [
        {
          "output_type": "execute_result",
          "data": {
            "text/plain": [
              "1.5620499351813308"
            ]
          },
          "metadata": {},
          "execution_count": 15
        }
      ]
    },
    {
      "cell_type": "markdown",
      "source": [
        "Some very useful modules form the Python standard library are  `os`, `sys`, `math`, `shutil`, `re`, `subprocess`, `multiprocessing`, `threading`."
      ],
      "metadata": {
        "id": "eL2cFSRcQXrh"
      }
    },
    {
      "cell_type": "markdown",
      "source": [
        "### Magic Functions\n",
        "\n",
        "`run`, `whos`, `cd`, `ls`, `timeit`, `rm`, ..."
      ],
      "metadata": {
        "id": "NHUEGQ6Wab8w"
      }
    },
    {
      "cell_type": "code",
      "source": [
        "%run my_file.py"
      ],
      "metadata": {
        "id": "pRtefLGcXU5_",
        "outputId": "b9597b14-0d5a-4168-82ec-1235931c622f",
        "colab": {
          "base_uri": "https://localhost:8080/"
        }
      },
      "execution_count": 16,
      "outputs": [
        {
          "output_type": "stream",
          "name": "stdout",
          "text": [
            "Hello world\n"
          ]
        }
      ]
    },
    {
      "cell_type": "markdown",
      "source": [],
      "metadata": {
        "id": "HzVbKFlDX2LF"
      }
    },
    {
      "cell_type": "code",
      "source": [
        "s"
      ],
      "metadata": {
        "id": "kglGGsqHXdK_",
        "outputId": "7ed7c8f3-cdca-4392-db86-2f80188d7b41",
        "colab": {
          "base_uri": "https://localhost:8080/",
          "height": 35
        }
      },
      "execution_count": 17,
      "outputs": [
        {
          "output_type": "execute_result",
          "data": {
            "text/plain": [
              "'Hello world'"
            ],
            "application/vnd.google.colaboratory.intrinsic+json": {
              "type": "string"
            }
          },
          "metadata": {},
          "execution_count": 17
        }
      ]
    },
    {
      "cell_type": "code",
      "source": [
        "%whos"
      ],
      "metadata": {
        "id": "1vaD_Og8XgDt",
        "outputId": "5d77e0c1-21e1-4269-e2f0-f43b664dd903",
        "colab": {
          "base_uri": "https://localhost:8080/"
        }
      },
      "execution_count": 18,
      "outputs": [
        {
          "output_type": "stream",
          "name": "stdout",
          "text": [
            "Variable     Type                          Data/Info\n",
            "----------------------------------------------------\n",
            "acos         builtin_function_or_method    <built-in function acos>\n",
            "acosh        builtin_function_or_method    <built-in function acosh>\n",
            "asin         builtin_function_or_method    <built-in function asin>\n",
            "asinh        builtin_function_or_method    <built-in function asinh>\n",
            "atan         builtin_function_or_method    <built-in function atan>\n",
            "atan2        builtin_function_or_method    <built-in function atan2>\n",
            "atanh        builtin_function_or_method    <built-in function atanh>\n",
            "ceil         builtin_function_or_method    <built-in function ceil>\n",
            "comb         builtin_function_or_method    <built-in function comb>\n",
            "copysign     builtin_function_or_method    <built-in function copysign>\n",
            "cos          builtin_function_or_method    <built-in function cos>\n",
            "cosh         builtin_function_or_method    <built-in function cosh>\n",
            "degrees      builtin_function_or_method    <built-in function degrees>\n",
            "dist         builtin_function_or_method    <built-in function dist>\n",
            "e            float                         2.718281828459045\n",
            "erf          builtin_function_or_method    <built-in function erf>\n",
            "erfc         builtin_function_or_method    <built-in function erfc>\n",
            "exp          builtin_function_or_method    <built-in function exp>\n",
            "expm1        builtin_function_or_method    <built-in function expm1>\n",
            "fabs         builtin_function_or_method    <built-in function fabs>\n",
            "factorial    builtin_function_or_method    <built-in function factorial>\n",
            "floor        builtin_function_or_method    <built-in function floor>\n",
            "fmod         builtin_function_or_method    <built-in function fmod>\n",
            "frexp        builtin_function_or_method    <built-in function frexp>\n",
            "fsum         builtin_function_or_method    <built-in function fsum>\n",
            "gamma        builtin_function_or_method    <built-in function gamma>\n",
            "gcd          builtin_function_or_method    <built-in function gcd>\n",
            "hypot        builtin_function_or_method    <built-in function hypot>\n",
            "inf          float                         inf\n",
            "isclose      builtin_function_or_method    <built-in function isclose>\n",
            "isfinite     builtin_function_or_method    <built-in function isfinite>\n",
            "isinf        builtin_function_or_method    <built-in function isinf>\n",
            "isnan        builtin_function_or_method    <built-in function isnan>\n",
            "isqrt        builtin_function_or_method    <built-in function isqrt>\n",
            "lcm          builtin_function_or_method    <built-in function lcm>\n",
            "ldexp        builtin_function_or_method    <built-in function ldexp>\n",
            "lgamma       builtin_function_or_method    <built-in function lgamma>\n",
            "log          builtin_function_or_method    <built-in function log>\n",
            "log10        builtin_function_or_method    <built-in function log10>\n",
            "log1p        builtin_function_or_method    <built-in function log1p>\n",
            "log2         builtin_function_or_method    <built-in function log2>\n",
            "math         module                        <module 'math' (built-in)>\n",
            "matplotlib   module                        <module 'matplotlib' from<...>/matplotlib/__init__.py'>\n",
            "modf         builtin_function_or_method    <built-in function modf>\n",
            "nan          float                         nan\n",
            "nextafter    builtin_function_or_method    <built-in function nextafter>\n",
            "np           module                        <module 'numpy' from '/us<...>kages/numpy/__init__.py'>\n",
            "perm         builtin_function_or_method    <built-in function perm>\n",
            "pi           float                         3.141592653589793\n",
            "pow          builtin_function_or_method    <built-in function pow>\n",
            "prod         builtin_function_or_method    <built-in function prod>\n",
            "radians      builtin_function_or_method    <built-in function radians>\n",
            "remainder    builtin_function_or_method    <built-in function remainder>\n",
            "s            str                           Hello world\n",
            "sin          builtin_function_or_method    <built-in function sin>\n",
            "sinh         builtin_function_or_method    <built-in function sinh>\n",
            "sqrt         builtin_function_or_method    <built-in function sqrt>\n",
            "tan          builtin_function_or_method    <built-in function tan>\n",
            "tanh         builtin_function_or_method    <built-in function tanh>\n",
            "tau          float                         6.283185307179586\n",
            "trunc        builtin_function_or_method    <built-in function trunc>\n",
            "ulp          builtin_function_or_method    <built-in function ulp>\n",
            "x            ndarray                       2: 2 elems, type `float64`, 16 bytes\n"
          ]
        }
      ]
    },
    {
      "cell_type": "code",
      "source": [
        "%cd"
      ],
      "metadata": {
        "id": "xeY46h9EZOkB",
        "outputId": "3efe9c4a-400e-44f5-b38f-9ba44eccf63d",
        "colab": {
          "base_uri": "https://localhost:8080/"
        }
      },
      "execution_count": 109,
      "outputs": [
        {
          "output_type": "stream",
          "name": "stdout",
          "text": [
            "/root\n"
          ]
        }
      ]
    },
    {
      "cell_type": "code",
      "source": [
        "%ls"
      ],
      "metadata": {
        "id": "yHL0ijrYZtor"
      },
      "execution_count": 111,
      "outputs": []
    },
    {
      "cell_type": "code",
      "source": [
        "%magic"
      ],
      "metadata": {
        "id": "y_udCowEZ5hh"
      },
      "execution_count": 116,
      "outputs": []
    },
    {
      "cell_type": "markdown",
      "source": [
        "## Variables and Types\n",
        "\n"
      ],
      "metadata": {
        "id": "jSYghWu1RE1z"
      }
    },
    {
      "cell_type": "code",
      "source": [
        "x = 12\n",
        "print(type(x))\n",
        "x = 12.0\n",
        "print(type(x))"
      ],
      "metadata": {
        "colab": {
          "base_uri": "https://localhost:8080/"
        },
        "id": "-kQOYLvDRr8u",
        "outputId": "723e6077-e8ee-4608-edc4-5ecc0ccad020"
      },
      "execution_count": 20,
      "outputs": [
        {
          "output_type": "stream",
          "name": "stdout",
          "text": [
            "<class 'int'>\n",
            "<class 'float'>\n"
          ]
        }
      ]
    },
    {
      "cell_type": "markdown",
      "source": [
        "If we try to use a variable that has not yet been defined we get a `NameError`:"
      ],
      "metadata": {
        "id": "GClb3ZNaTjy8"
      }
    },
    {
      "cell_type": "code",
      "source": [
        "print(y)"
      ],
      "metadata": {
        "colab": {
          "base_uri": "https://localhost:8080/",
          "height": 141
        },
        "id": "nMjJafO0TMkQ",
        "outputId": "53100559-2441-4eec-a9bb-217de3d8e827"
      },
      "execution_count": 21,
      "outputs": [
        {
          "output_type": "error",
          "ename": "NameError",
          "evalue": "name 'y' is not defined",
          "traceback": [
            "\u001b[0;31m---------------------------------------------------------------------------\u001b[0m",
            "\u001b[0;31mNameError\u001b[0m                                 Traceback (most recent call last)",
            "\u001b[0;32m<ipython-input-21-d9183e048de3>\u001b[0m in \u001b[0;36m<cell line: 1>\u001b[0;34m()\u001b[0m\n\u001b[0;32m----> 1\u001b[0;31m \u001b[0mprint\u001b[0m\u001b[0;34m(\u001b[0m\u001b[0my\u001b[0m\u001b[0;34m)\u001b[0m\u001b[0;34m\u001b[0m\u001b[0;34m\u001b[0m\u001b[0m\n\u001b[0m",
            "\u001b[0;31mNameError\u001b[0m: name 'y' is not defined"
          ]
        }
      ]
    },
    {
      "cell_type": "markdown",
      "source": [
        "### Fundamental Types"
      ],
      "metadata": {
        "id": "qPKy00WDUyVQ"
      }
    },
    {
      "cell_type": "code",
      "source": [
        "x = 1.0 - 1.0j\n",
        "print(type(x))\n",
        "y = np.array([[2, 3, 4], [3, 4, 5]])\n",
        "print(type(y))\n",
        "\n",
        "print(x)\n",
        "print(x.real, x.imag)"
      ],
      "metadata": {
        "id": "komIrS_hPaV8",
        "colab": {
          "base_uri": "https://localhost:8080/"
        },
        "outputId": "6f1a8796-8617-4906-c80a-e7b1dc102f63"
      },
      "execution_count": 22,
      "outputs": [
        {
          "output_type": "stream",
          "name": "stdout",
          "text": [
            "<class 'complex'>\n",
            "<class 'numpy.ndarray'>\n",
            "(1-1j)\n",
            "1.0 -1.0\n"
          ]
        }
      ]
    },
    {
      "cell_type": "code",
      "source": [
        "x = 12.0\n",
        "\n",
        "print(type(x) is float)\n",
        "print(type(x) is complex)\n"
      ],
      "metadata": {
        "colab": {
          "base_uri": "https://localhost:8080/"
        },
        "id": "QMEzPM7iUDqB",
        "outputId": "a9338330-f440-4404-de4b-c64060f1af7b"
      },
      "execution_count": 23,
      "outputs": [
        {
          "output_type": "stream",
          "name": "stdout",
          "text": [
            "True\n",
            "False\n"
          ]
        }
      ]
    },
    {
      "cell_type": "code",
      "source": [
        "isinstance(x, float)"
      ],
      "metadata": {
        "colab": {
          "base_uri": "https://localhost:8080/"
        },
        "id": "5OsCPnU4U6OU",
        "outputId": "e1a68bcc-c47b-432e-d9f5-c5bae009046a"
      },
      "execution_count": 24,
      "outputs": [
        {
          "output_type": "execute_result",
          "data": {
            "text/plain": [
              "True"
            ]
          },
          "metadata": {},
          "execution_count": 24
        }
      ]
    },
    {
      "cell_type": "markdown",
      "source": [
        "### Operators and Comparisons\n"
      ],
      "metadata": {
        "id": "GZxJvGEGVoVu"
      }
    },
    {
      "cell_type": "markdown",
      "source": [],
      "metadata": {
        "id": "r4XPVIe4WkCC"
      }
    },
    {
      "cell_type": "code",
      "source": [
        "print(1 + 2)\n",
        "print(1 - 2)\n",
        "print(2 * 3)\n",
        "print(2**3) # Note! The power operators in python isn't ^, but **\n",
        "print(5/2)\n",
        "print(5//2)\n"
      ],
      "metadata": {
        "colab": {
          "base_uri": "https://localhost:8080/"
        },
        "id": "QEJ9_fcVVtK8",
        "outputId": "50070ffc-1fe3-4871-ca50-f02756505207"
      },
      "execution_count": 25,
      "outputs": [
        {
          "output_type": "stream",
          "name": "stdout",
          "text": [
            "3\n",
            "-1\n",
            "6\n",
            "8\n",
            "2.5\n",
            "2\n"
          ]
        }
      ]
    },
    {
      "cell_type": "code",
      "source": [
        "print(True and False)\n",
        "print(not False)\n",
        "print(False or True)"
      ],
      "metadata": {
        "colab": {
          "base_uri": "https://localhost:8080/"
        },
        "id": "iFp4aaNRV2hA",
        "outputId": "8eefecde-eedd-41b4-ac87-96bbae9c96a9"
      },
      "execution_count": 26,
      "outputs": [
        {
          "output_type": "stream",
          "name": "stdout",
          "text": [
            "False\n",
            "True\n",
            "True\n"
          ]
        }
      ]
    },
    {
      "cell_type": "code",
      "source": [
        "print(2 > 1, 2 < 1)\n",
        "print(2 > 2, 2<3)\n",
        "print(2>= 2, 2<=2)\n"
      ],
      "metadata": {
        "colab": {
          "base_uri": "https://localhost:8080/"
        },
        "id": "Ih8eF-ApWzTy",
        "outputId": "8ceba6a7-54b7-46f2-b9cb-2cc55fe8ab99"
      },
      "execution_count": 27,
      "outputs": [
        {
          "output_type": "stream",
          "name": "stdout",
          "text": [
            "True False\n",
            "False True\n",
            "True True\n"
          ]
        }
      ]
    },
    {
      "cell_type": "code",
      "source": [
        "l1 = l2 = np.random.randint(3, 4, size = (3, 4))\n",
        "l1 is l2"
      ],
      "metadata": {
        "colab": {
          "base_uri": "https://localhost:8080/"
        },
        "id": "fdJ87JygX-Ns",
        "outputId": "d1bc6164-f03f-4558-8350-e1dd7c088221"
      },
      "execution_count": 28,
      "outputs": [
        {
          "output_type": "execute_result",
          "data": {
            "text/plain": [
              "True"
            ]
          },
          "metadata": {},
          "execution_count": 28
        }
      ]
    },
    {
      "cell_type": "markdown",
      "source": [
        "### Strings, Lists and Dictionaries"
      ],
      "metadata": {
        "id": "ueOO6jIQY9t1"
      }
    },
    {
      "cell_type": "code",
      "source": [
        "m = 'Hello World!'\n",
        "type(m)"
      ],
      "metadata": {
        "colab": {
          "base_uri": "https://localhost:8080/"
        },
        "id": "8rjhY5DwYUbT",
        "outputId": "0ded615f-f87c-4298-9ded-1e536b4d677a"
      },
      "execution_count": 29,
      "outputs": [
        {
          "output_type": "execute_result",
          "data": {
            "text/plain": [
              "str"
            ]
          },
          "metadata": {},
          "execution_count": 29
        }
      ]
    },
    {
      "cell_type": "code",
      "source": [
        "print(len(m))"
      ],
      "metadata": {
        "colab": {
          "base_uri": "https://localhost:8080/"
        },
        "id": "cCllxIU1gMkf",
        "outputId": "d388d12f-a333-4054-af87-3b240c1b1390"
      },
      "execution_count": 30,
      "outputs": [
        {
          "output_type": "stream",
          "name": "stdout",
          "text": [
            "12\n"
          ]
        }
      ]
    },
    {
      "cell_type": "code",
      "source": [
        "# Replacing in String Classes\n",
        "m2 = m.replace('World', 'Jupyter')\n",
        "print(m2)"
      ],
      "metadata": {
        "colab": {
          "base_uri": "https://localhost:8080/"
        },
        "id": "dYCRwbWogSGI",
        "outputId": "0412e427-e397-4bbd-bf01-ae2856f20e69"
      },
      "execution_count": 31,
      "outputs": [
        {
          "output_type": "stream",
          "name": "stdout",
          "text": [
            "Hello Jupyter!\n"
          ]
        }
      ]
    },
    {
      "cell_type": "code",
      "source": [
        "# Indexing in String Classes\n",
        "m[0]\n"
      ],
      "metadata": {
        "colab": {
          "base_uri": "https://localhost:8080/",
          "height": 35
        },
        "id": "tpLrAs5hgim8",
        "outputId": "1e4449ab-f52b-4a42-d7ac-7ca1f9c76e9d"
      },
      "execution_count": 32,
      "outputs": [
        {
          "output_type": "execute_result",
          "data": {
            "text/plain": [
              "'H'"
            ],
            "application/vnd.google.colaboratory.intrinsic+json": {
              "type": "string"
            }
          },
          "metadata": {},
          "execution_count": 32
        }
      ]
    },
    {
      "cell_type": "markdown",
      "source": [
        "A string is an **immutable** object and it is not possible to modify its contents. One may however create new strings from the original one."
      ],
      "metadata": {
        "id": "bF8XPheweaXM"
      }
    },
    {
      "cell_type": "markdown",
      "source": [
        "### String Slicing"
      ],
      "metadata": {
        "id": "N0FXaFzOoIFj"
      }
    },
    {
      "cell_type": "code",
      "source": [
        "print(m[0:5]) # = print(m[:5])\n",
        "print(m[:5])\n",
        "print(m[6:12]) # = print(m[6:])\n",
        "print(m[6:])\n",
        "print(m[:])"
      ],
      "metadata": {
        "colab": {
          "base_uri": "https://localhost:8080/"
        },
        "id": "W8G8aiSGmQrB",
        "outputId": "7628f9bb-fac5-4873-a7d6-f6bb38e3b830"
      },
      "execution_count": 33,
      "outputs": [
        {
          "output_type": "stream",
          "name": "stdout",
          "text": [
            "Hello\n",
            "Hello\n",
            "World!\n",
            "World!\n",
            "Hello World!\n"
          ]
        }
      ]
    },
    {
      "cell_type": "code",
      "source": [
        "print(m[0:5:1])\n",
        "print(m[0:5:2])\n",
        "print(m[::1])\n",
        "print(m[:5:1])\n",
        "print(m[::2])"
      ],
      "metadata": {
        "colab": {
          "base_uri": "https://localhost:8080/"
        },
        "id": "-VCPll48mTR_",
        "outputId": "d63cf111-3f01-459c-ef2d-75bbd7797b70"
      },
      "execution_count": 34,
      "outputs": [
        {
          "output_type": "stream",
          "name": "stdout",
          "text": [
            "Hello\n",
            "Hlo\n",
            "Hello World!\n",
            "Hello\n",
            "HloWrd\n"
          ]
        }
      ]
    },
    {
      "cell_type": "markdown",
      "source": [
        "### Operations on String Data"
      ],
      "metadata": {
        "id": "sPF8EAG0pPDO"
      }
    },
    {
      "cell_type": "code",
      "source": [
        "print(\"str1\", \"str2\", \"str3\")\n",
        "print('str1', 'str2', 'str3')"
      ],
      "metadata": {
        "colab": {
          "base_uri": "https://localhost:8080/"
        },
        "id": "1IulgibLpIrt",
        "outputId": "d6dc7498-2541-420e-a390-191c4c940192"
      },
      "execution_count": 35,
      "outputs": [
        {
          "output_type": "stream",
          "name": "stdout",
          "text": [
            "str1 str2 str3\n",
            "str1 str2 str3\n"
          ]
        }
      ]
    },
    {
      "cell_type": "code",
      "source": [
        "print(\"str1\" + \"str2\" + \"str3\") # Not same as \"print(\"str1\", \"str2\", \"str3\")\""
      ],
      "metadata": {
        "colab": {
          "base_uri": "https://localhost:8080/"
        },
        "id": "X9_BKvILpZ0Y",
        "outputId": "070b7f44-ceb6-4e08-c4d2-2540d9370cc5"
      },
      "execution_count": 36,
      "outputs": [
        {
          "output_type": "stream",
          "name": "stdout",
          "text": [
            "str1str2str3\n"
          ]
        }
      ]
    },
    {
      "cell_type": "code",
      "source": [
        "print(\"str1\", 1.0, False, 1j)"
      ],
      "metadata": {
        "colab": {
          "base_uri": "https://localhost:8080/"
        },
        "id": "aM05B4Y9pl7w",
        "outputId": "b1882335-1425-47ba-9e40-1cb8a3df4b1c"
      },
      "execution_count": 37,
      "outputs": [
        {
          "output_type": "stream",
          "name": "stdout",
          "text": [
            "str1 1.0 False 1j\n"
          ]
        }
      ]
    },
    {
      "cell_type": "markdown",
      "source": [
        "### String Formatting"
      ],
      "metadata": {
        "id": "sTEwdTjFsDkf"
      }
    },
    {
      "cell_type": "code",
      "source": [
        "s2 = \"Value 1 is %f and Value 2 is %d\" % (3, 4)"
      ],
      "metadata": {
        "id": "XMKpeJ6WqLoR"
      },
      "execution_count": 38,
      "outputs": []
    },
    {
      "cell_type": "code",
      "source": [
        "print(s2)"
      ],
      "metadata": {
        "colab": {
          "base_uri": "https://localhost:8080/"
        },
        "id": "7WczuLNvqSav",
        "outputId": "f1b7e784-d788-476a-ce19-1f121e4b5c7b"
      },
      "execution_count": 39,
      "outputs": [
        {
          "output_type": "stream",
          "name": "stdout",
          "text": [
            "Value 1 is 3.000000 and Value 2 is 4\n"
          ]
        }
      ]
    },
    {
      "cell_type": "code",
      "source": [
        "s3 = \"Value 1 is {0} Value 2 is {1}\".format(3, 4)"
      ],
      "metadata": {
        "id": "kNqjkrpBsAMO"
      },
      "execution_count": 40,
      "outputs": []
    },
    {
      "cell_type": "code",
      "source": [
        "print(s3)"
      ],
      "metadata": {
        "id": "EuaAxIDRsY-i",
        "outputId": "7b862c06-e81f-4dd5-b740-af58b6c53791",
        "colab": {
          "base_uri": "https://localhost:8080/"
        }
      },
      "execution_count": 41,
      "outputs": [
        {
          "output_type": "stream",
          "name": "stdout",
          "text": [
            "Value 1 is 3 Value 2 is 4\n"
          ]
        }
      ]
    },
    {
      "cell_type": "markdown",
      "source": [
        "### Lists\n",
        "Lists are very similar to strings, except that each element can be of any type.\n",
        "\n",
        "The syntax for creating lists in Python is `[...]`"
      ],
      "metadata": {
        "id": "zO6rsY4Fspv8"
      }
    },
    {
      "cell_type": "code",
      "source": [
        "mm = [1, 2, 3, 4, 5]\n",
        "print(type(mm))\n",
        "print(mm)"
      ],
      "metadata": {
        "id": "DjiHJILusvLy",
        "outputId": "b0a905fc-17ea-4a79-fce5-f38e05019c85",
        "colab": {
          "base_uri": "https://localhost:8080/"
        }
      },
      "execution_count": 42,
      "outputs": [
        {
          "output_type": "stream",
          "name": "stdout",
          "text": [
            "<class 'list'>\n",
            "[1, 2, 3, 4, 5]\n"
          ]
        }
      ]
    },
    {
      "cell_type": "code",
      "source": [
        "mm[0]"
      ],
      "metadata": {
        "id": "pgDIeHOhtriH",
        "outputId": "af0176ef-0e6f-4210-939f-1ca9b3c80430",
        "colab": {
          "base_uri": "https://localhost:8080/"
        }
      },
      "execution_count": 43,
      "outputs": [
        {
          "output_type": "execute_result",
          "data": {
            "text/plain": [
              "1"
            ]
          },
          "metadata": {},
          "execution_count": 43
        }
      ]
    },
    {
      "cell_type": "code",
      "source": [
        "mm[0:6:1]"
      ],
      "metadata": {
        "id": "Uv-nTxV7xxPs",
        "outputId": "0d814252-9874-4d24-d9a7-a6e4c06168d6",
        "colab": {
          "base_uri": "https://localhost:8080/"
        }
      },
      "execution_count": 44,
      "outputs": [
        {
          "output_type": "execute_result",
          "data": {
            "text/plain": [
              "[1, 2, 3, 4, 5]"
            ]
          },
          "metadata": {},
          "execution_count": 44
        }
      ]
    },
    {
      "cell_type": "code",
      "source": [
        "mm[:6:1]"
      ],
      "metadata": {
        "id": "8P0WVyHdx069",
        "outputId": "83e824d3-9f15-41f2-8358-895355fffa15",
        "colab": {
          "base_uri": "https://localhost:8080/"
        }
      },
      "execution_count": 45,
      "outputs": [
        {
          "output_type": "execute_result",
          "data": {
            "text/plain": [
              "[1, 2, 3, 4, 5]"
            ]
          },
          "metadata": {},
          "execution_count": 45
        }
      ]
    },
    {
      "cell_type": "code",
      "source": [
        "print(mm[::])\n",
        "print(mm[::2])"
      ],
      "metadata": {
        "id": "BsipkPUNx4G8",
        "outputId": "fb9f4adb-d75f-4861-eb33-5890e0371e2a",
        "colab": {
          "base_uri": "https://localhost:8080/"
        }
      },
      "execution_count": 46,
      "outputs": [
        {
          "output_type": "stream",
          "name": "stdout",
          "text": [
            "[1, 2, 3, 4, 5]\n",
            "[1, 3, 5]\n"
          ]
        }
      ]
    },
    {
      "cell_type": "markdown",
      "source": [
        "Elements in a list do not all have to be of the same type."
      ],
      "metadata": {
        "id": "NjUlQXouyQNk"
      }
    },
    {
      "cell_type": "code",
      "source": [
        "n = [1, 'a', \"b\", 1.2, 1-3j]\n",
        "print(n)"
      ],
      "metadata": {
        "id": "L1QSWrb1x6Te",
        "outputId": "2647f1a2-fa50-4cc9-cd4d-fd853245dc2d",
        "colab": {
          "base_uri": "https://localhost:8080/"
        }
      },
      "execution_count": 47,
      "outputs": [
        {
          "output_type": "stream",
          "name": "stdout",
          "text": [
            "[1, 'a', 'b', 1.2, (1-3j)]\n"
          ]
        }
      ]
    },
    {
      "cell_type": "markdown",
      "source": [
        "Python lists can be inhomogeneous and arbitrarily nested."
      ],
      "metadata": {
        "id": "KlVyOCSRyhaY"
      }
    },
    {
      "cell_type": "code",
      "source": [
        "nestedList = [1, [2, [3, [4]]]]\n",
        "print(nestedList)"
      ],
      "metadata": {
        "id": "Q3C1Ppebybz2",
        "outputId": "d39fa50d-0dcd-41b3-ad76-2fedf976d838",
        "colab": {
          "base_uri": "https://localhost:8080/"
        }
      },
      "execution_count": 48,
      "outputs": [
        {
          "output_type": "stream",
          "name": "stdout",
          "text": [
            "[1, [2, [3, [4]]]]\n"
          ]
        }
      ]
    },
    {
      "cell_type": "code",
      "source": [
        "# nestedList.shape gives ERROR\n",
        "# nestedList.size gives ERROR"
      ],
      "metadata": {
        "id": "vJSnS8naytD-"
      },
      "execution_count": 49,
      "outputs": []
    },
    {
      "cell_type": "code",
      "source": [
        "start = 10\n",
        "stop = 30\n",
        "step = 2\n",
        "\n",
        "l = range(start, stop, step) # This line gives iterator no list\n",
        "list(l)"
      ],
      "metadata": {
        "id": "uZHZntRVzNbc",
        "outputId": "12f60708-f649-4c15-ed90-9a1b0a938e8a",
        "colab": {
          "base_uri": "https://localhost:8080/"
        }
      },
      "execution_count": 50,
      "outputs": [
        {
          "output_type": "execute_result",
          "data": {
            "text/plain": [
              "[10, 12, 14, 16, 18, 20, 22, 24, 26, 28]"
            ]
          },
          "metadata": {},
          "execution_count": 50
        }
      ]
    },
    {
      "cell_type": "code",
      "source": [
        "print(m2) # its type is \"string\"\n",
        "m2_ = list(m2)  # its type is \"list\"\n",
        "print(m2_)"
      ],
      "metadata": {
        "id": "o4pnb_PDyygW",
        "outputId": "cf26ebc2-7742-4fd5-d4a0-e86a928e1ef8",
        "colab": {
          "base_uri": "https://localhost:8080/"
        }
      },
      "execution_count": 51,
      "outputs": [
        {
          "output_type": "stream",
          "name": "stdout",
          "text": [
            "Hello Jupyter!\n",
            "['H', 'e', 'l', 'l', 'o', ' ', 'J', 'u', 'p', 'y', 't', 'e', 'r', '!']\n"
          ]
        }
      ]
    },
    {
      "cell_type": "code",
      "source": [
        "print(m2_.sort()) # FIX THIS LINE"
      ],
      "metadata": {
        "id": "rFdTsi8O0RC8",
        "outputId": "36cd5b10-8e22-4062-af8b-4b7de77ea28a",
        "colab": {
          "base_uri": "https://localhost:8080/"
        }
      },
      "execution_count": 52,
      "outputs": [
        {
          "output_type": "stream",
          "name": "stdout",
          "text": [
            "None\n"
          ]
        }
      ]
    },
    {
      "cell_type": "code",
      "source": [
        "l = []\n",
        "\n",
        "# add an elements using `append`\n",
        "l.append(\"A\")\n",
        "l.append(\"d\")\n",
        "l.append(\"d\")\n",
        "\n",
        "print(l)"
      ],
      "metadata": {
        "id": "uRDZDw7F0xCA",
        "outputId": "2876880e-6971-4e4e-b5eb-c51e95c07f7c",
        "colab": {
          "base_uri": "https://localhost:8080/"
        }
      },
      "execution_count": 53,
      "outputs": [
        {
          "output_type": "stream",
          "name": "stdout",
          "text": [
            "['A', 'd', 'd']\n"
          ]
        }
      ]
    },
    {
      "cell_type": "code",
      "source": [
        "l[1] = 'g'\n",
        "l[2] = 34\n",
        "print(l)"
      ],
      "metadata": {
        "id": "NtBSlJOz1SfS",
        "outputId": "e59d5354-0867-49c8-95b7-ab85f6845c85",
        "colab": {
          "base_uri": "https://localhost:8080/"
        }
      },
      "execution_count": 54,
      "outputs": [
        {
          "output_type": "stream",
          "name": "stdout",
          "text": [
            "['A', 'g', 34]\n"
          ]
        }
      ]
    },
    {
      "cell_type": "code",
      "source": [
        "l.remove('g')\n",
        "l.append('h')\n",
        "l.append('a')\n",
        "l.append('s')\n",
        "l.append('a')\n",
        "l.append('n')\n",
        "print(l)\n"
      ],
      "metadata": {
        "id": "oObc16wf1Xpc",
        "outputId": "50d66862-7cee-4547-8a5c-cd4fa14001b8",
        "colab": {
          "base_uri": "https://localhost:8080/"
        }
      },
      "execution_count": 55,
      "outputs": [
        {
          "output_type": "stream",
          "name": "stdout",
          "text": [
            "['A', 34, 'h', 'a', 's', 'a', 'n']\n"
          ]
        }
      ]
    },
    {
      "cell_type": "code",
      "source": [
        "l.insert(2, 'gozde')\n",
        "print(l)"
      ],
      "metadata": {
        "id": "CkpzaSUP1iff",
        "outputId": "f3c08c9f-9cbc-44a6-bcb3-d78b5d0c56af",
        "colab": {
          "base_uri": "https://localhost:8080/"
        }
      },
      "execution_count": 56,
      "outputs": [
        {
          "output_type": "stream",
          "name": "stdout",
          "text": [
            "['A', 34, 'gozde', 'h', 'a', 's', 'a', 'n']\n"
          ]
        }
      ]
    },
    {
      "cell_type": "code",
      "source": [
        "del l[2]\n",
        "del l[2]\n",
        "print(l)"
      ],
      "metadata": {
        "id": "OAicUoD42JC_",
        "outputId": "59370f51-c977-4ec6-cefb-81575813b893",
        "colab": {
          "base_uri": "https://localhost:8080/"
        }
      },
      "execution_count": 57,
      "outputs": [
        {
          "output_type": "stream",
          "name": "stdout",
          "text": [
            "['A', 34, 'a', 's', 'a', 'n']\n"
          ]
        }
      ]
    },
    {
      "cell_type": "code",
      "source": [
        "help(list)"
      ],
      "metadata": {
        "id": "odfQY12M2U0J",
        "outputId": "a922b678-33c2-447e-e8de-f5957dec3182",
        "colab": {
          "base_uri": "https://localhost:8080/"
        }
      },
      "execution_count": 58,
      "outputs": [
        {
          "output_type": "stream",
          "name": "stdout",
          "text": [
            "Help on class list in module builtins:\n",
            "\n",
            "class list(object)\n",
            " |  list(iterable=(), /)\n",
            " |  \n",
            " |  Built-in mutable sequence.\n",
            " |  \n",
            " |  If no argument is given, the constructor creates a new empty list.\n",
            " |  The argument must be an iterable if specified.\n",
            " |  \n",
            " |  Methods defined here:\n",
            " |  \n",
            " |  __add__(self, value, /)\n",
            " |      Return self+value.\n",
            " |  \n",
            " |  __contains__(self, key, /)\n",
            " |      Return key in self.\n",
            " |  \n",
            " |  __delitem__(self, key, /)\n",
            " |      Delete self[key].\n",
            " |  \n",
            " |  __eq__(self, value, /)\n",
            " |      Return self==value.\n",
            " |  \n",
            " |  __ge__(self, value, /)\n",
            " |      Return self>=value.\n",
            " |  \n",
            " |  __getattribute__(self, name, /)\n",
            " |      Return getattr(self, name).\n",
            " |  \n",
            " |  __getitem__(...)\n",
            " |      x.__getitem__(y) <==> x[y]\n",
            " |  \n",
            " |  __gt__(self, value, /)\n",
            " |      Return self>value.\n",
            " |  \n",
            " |  __iadd__(self, value, /)\n",
            " |      Implement self+=value.\n",
            " |  \n",
            " |  __imul__(self, value, /)\n",
            " |      Implement self*=value.\n",
            " |  \n",
            " |  __init__(self, /, *args, **kwargs)\n",
            " |      Initialize self.  See help(type(self)) for accurate signature.\n",
            " |  \n",
            " |  __iter__(self, /)\n",
            " |      Implement iter(self).\n",
            " |  \n",
            " |  __le__(self, value, /)\n",
            " |      Return self<=value.\n",
            " |  \n",
            " |  __len__(self, /)\n",
            " |      Return len(self).\n",
            " |  \n",
            " |  __lt__(self, value, /)\n",
            " |      Return self<value.\n",
            " |  \n",
            " |  __mul__(self, value, /)\n",
            " |      Return self*value.\n",
            " |  \n",
            " |  __ne__(self, value, /)\n",
            " |      Return self!=value.\n",
            " |  \n",
            " |  __repr__(self, /)\n",
            " |      Return repr(self).\n",
            " |  \n",
            " |  __reversed__(self, /)\n",
            " |      Return a reverse iterator over the list.\n",
            " |  \n",
            " |  __rmul__(self, value, /)\n",
            " |      Return value*self.\n",
            " |  \n",
            " |  __setitem__(self, key, value, /)\n",
            " |      Set self[key] to value.\n",
            " |  \n",
            " |  __sizeof__(self, /)\n",
            " |      Return the size of the list in memory, in bytes.\n",
            " |  \n",
            " |  append(self, object, /)\n",
            " |      Append object to the end of the list.\n",
            " |  \n",
            " |  clear(self, /)\n",
            " |      Remove all items from list.\n",
            " |  \n",
            " |  copy(self, /)\n",
            " |      Return a shallow copy of the list.\n",
            " |  \n",
            " |  count(self, value, /)\n",
            " |      Return number of occurrences of value.\n",
            " |  \n",
            " |  extend(self, iterable, /)\n",
            " |      Extend list by appending elements from the iterable.\n",
            " |  \n",
            " |  index(self, value, start=0, stop=9223372036854775807, /)\n",
            " |      Return first index of value.\n",
            " |      \n",
            " |      Raises ValueError if the value is not present.\n",
            " |  \n",
            " |  insert(self, index, object, /)\n",
            " |      Insert object before index.\n",
            " |  \n",
            " |  pop(self, index=-1, /)\n",
            " |      Remove and return item at index (default last).\n",
            " |      \n",
            " |      Raises IndexError if list is empty or index is out of range.\n",
            " |  \n",
            " |  remove(self, value, /)\n",
            " |      Remove first occurrence of value.\n",
            " |      \n",
            " |      Raises ValueError if the value is not present.\n",
            " |  \n",
            " |  reverse(self, /)\n",
            " |      Reverse *IN PLACE*.\n",
            " |  \n",
            " |  sort(self, /, *, key=None, reverse=False)\n",
            " |      Sort the list in ascending order and return None.\n",
            " |      \n",
            " |      The sort is in-place (i.e. the list itself is modified) and stable (i.e. the\n",
            " |      order of two equal elements is maintained).\n",
            " |      \n",
            " |      If a key function is given, apply it once to each list item and sort them,\n",
            " |      ascending or descending, according to their function values.\n",
            " |      \n",
            " |      The reverse flag can be set to sort in descending order.\n",
            " |  \n",
            " |  ----------------------------------------------------------------------\n",
            " |  Class methods defined here:\n",
            " |  \n",
            " |  __class_getitem__(...) from builtins.type\n",
            " |      See PEP 585\n",
            " |  \n",
            " |  ----------------------------------------------------------------------\n",
            " |  Static methods defined here:\n",
            " |  \n",
            " |  __new__(*args, **kwargs) from builtins.type\n",
            " |      Create and return a new object.  See help(type) for accurate signature.\n",
            " |  \n",
            " |  ----------------------------------------------------------------------\n",
            " |  Data and other attributes defined here:\n",
            " |  \n",
            " |  __hash__ = None\n",
            "\n"
          ]
        }
      ]
    },
    {
      "cell_type": "code",
      "source": [
        "l.__len__()"
      ],
      "metadata": {
        "id": "nuoCdKLf2cYb",
        "outputId": "6f98663e-e2db-4036-c82f-6dfea0679c4b",
        "colab": {
          "base_uri": "https://localhost:8080/"
        }
      },
      "execution_count": 59,
      "outputs": [
        {
          "output_type": "execute_result",
          "data": {
            "text/plain": [
              "6"
            ]
          },
          "metadata": {},
          "execution_count": 59
        }
      ]
    },
    {
      "cell_type": "code",
      "source": [
        "# Some Nice Methods of List Objects\n",
        "# append\n",
        "# extend\n",
        "# reverse\n",
        "# pop"
      ],
      "metadata": {
        "id": "CVgbBPdDdAS-"
      },
      "execution_count": 117,
      "outputs": []
    },
    {
      "cell_type": "markdown",
      "source": [
        "### Tuples"
      ],
      "metadata": {
        "id": "8fZW-Kt6mpm2"
      }
    },
    {
      "cell_type": "code",
      "source": [
        "point = (10, 20)\n",
        "print(point, type(point))"
      ],
      "metadata": {
        "id": "vl8VyZfP2rCn",
        "outputId": "ebee860e-a793-4531-893f-c29de897f75d",
        "colab": {
          "base_uri": "https://localhost:8080/"
        }
      },
      "execution_count": 60,
      "outputs": [
        {
          "output_type": "stream",
          "name": "stdout",
          "text": [
            "(10, 20) <class 'tuple'>\n"
          ]
        }
      ]
    },
    {
      "cell_type": "code",
      "source": [
        "a, b = point\n",
        "print(\"Value 1 is\", a)\n",
        "print(\"Value 2 is\", b)"
      ],
      "metadata": {
        "id": "pUCpaj1H262B",
        "outputId": "bda02e66-3644-40de-df00-d7883eb34d8c",
        "colab": {
          "base_uri": "https://localhost:8080/"
        }
      },
      "execution_count": 61,
      "outputs": [
        {
          "output_type": "stream",
          "name": "stdout",
          "text": [
            "Value 1 is 10\n",
            "Value 2 is 20\n"
          ]
        }
      ]
    },
    {
      "cell_type": "markdown",
      "source": [
        "If we try to assign a new value to an element in a tuple we get an error."
      ],
      "metadata": {
        "id": "t-MnFbzJ46SK"
      }
    },
    {
      "cell_type": "code",
      "source": [
        "point[0] = 20"
      ],
      "metadata": {
        "id": "umS5FvCJ3OKO",
        "outputId": "45f41ace-d8f4-4ebd-b849-3ca846326cf3",
        "colab": {
          "base_uri": "https://localhost:8080/",
          "height": 141
        }
      },
      "execution_count": 62,
      "outputs": [
        {
          "output_type": "error",
          "ename": "TypeError",
          "evalue": "'tuple' object does not support item assignment",
          "traceback": [
            "\u001b[0;31m---------------------------------------------------------------------------\u001b[0m",
            "\u001b[0;31mTypeError\u001b[0m                                 Traceback (most recent call last)",
            "\u001b[0;32m<ipython-input-62-9734b1daa940>\u001b[0m in \u001b[0;36m<cell line: 1>\u001b[0;34m()\u001b[0m\n\u001b[0;32m----> 1\u001b[0;31m \u001b[0mpoint\u001b[0m\u001b[0;34m[\u001b[0m\u001b[0;36m0\u001b[0m\u001b[0;34m]\u001b[0m \u001b[0;34m=\u001b[0m \u001b[0;36m20\u001b[0m\u001b[0;34m\u001b[0m\u001b[0;34m\u001b[0m\u001b[0m\n\u001b[0m",
            "\u001b[0;31mTypeError\u001b[0m: 'tuple' object does not support item assignment"
          ]
        }
      ]
    },
    {
      "cell_type": "markdown",
      "source": [
        "### Dictionaries"
      ],
      "metadata": {
        "id": "snV2ZuS7muHP"
      }
    },
    {
      "cell_type": "code",
      "source": [
        "options = {\"epoch number\" : 1.0,\n",
        "           \"initial learning rate\" : 0.002,\n",
        "           \"normalization technique\" : \"bnorm\"}"
      ],
      "metadata": {
        "id": "UyTiLKit5GvF"
      },
      "execution_count": 63,
      "outputs": []
    },
    {
      "cell_type": "code",
      "source": [
        "print(options, type(options))"
      ],
      "metadata": {
        "id": "vFLcJbxi5guu",
        "outputId": "583ea84d-953f-4408-cc09-0c2eb857e1b4",
        "colab": {
          "base_uri": "https://localhost:8080/"
        }
      },
      "execution_count": 64,
      "outputs": [
        {
          "output_type": "stream",
          "name": "stdout",
          "text": [
            "{'epoch number': 1.0, 'initial learning rate': 0.002, 'normalization technique': 'bnorm'} <class 'dict'>\n"
          ]
        }
      ]
    },
    {
      "cell_type": "code",
      "source": [
        "options2 = {\"parameter1\" : 1.0,\n",
        "            \"parameter2\" : 2.0,\n",
        "            \"parameter3\" : 3.0,}\n",
        "print(options2)\n"
      ],
      "metadata": {
        "id": "OYktPUX85o-D",
        "outputId": "2836c1f3-ed7c-40d6-ca79-789025b49001",
        "colab": {
          "base_uri": "https://localhost:8080/"
        }
      },
      "execution_count": 65,
      "outputs": [
        {
          "output_type": "stream",
          "name": "stdout",
          "text": [
            "{'parameter1': 1.0, 'parameter2': 2.0, 'parameter3': 3.0}\n"
          ]
        }
      ]
    },
    {
      "cell_type": "code",
      "source": [
        "print(\"parameter1 = \" + str(options2[\"parameter1\"]))\n",
        "print(\"parameter2 = \" + str(options2[\"parameter2\"]))\n",
        "print(\"parameter3 = \" + str(options2[\"parameter3\"]))"
      ],
      "metadata": {
        "id": "p2QCL7o058Sn",
        "outputId": "0c9f0b9a-57ca-44cc-bead-8ef112d9c169",
        "colab": {
          "base_uri": "https://localhost:8080/"
        }
      },
      "execution_count": 66,
      "outputs": [
        {
          "output_type": "stream",
          "name": "stdout",
          "text": [
            "parameter1 = 1.0\n",
            "parameter2 = 2.0\n",
            "parameter3 = 3.0\n"
          ]
        }
      ]
    },
    {
      "cell_type": "code",
      "source": [
        "options2[\"parameter4\"] = 4.0"
      ],
      "metadata": {
        "id": "KYl7MZVb6ZEk"
      },
      "execution_count": 67,
      "outputs": []
    },
    {
      "cell_type": "code",
      "source": [
        "print(options2)"
      ],
      "metadata": {
        "id": "btE4em-o7FqU",
        "outputId": "d09320e3-c61e-491d-bbff-7ce324dc2011",
        "colab": {
          "base_uri": "https://localhost:8080/"
        }
      },
      "execution_count": 68,
      "outputs": [
        {
          "output_type": "stream",
          "name": "stdout",
          "text": [
            "{'parameter1': 1.0, 'parameter2': 2.0, 'parameter3': 3.0, 'parameter4': 4.0}\n"
          ]
        }
      ]
    },
    {
      "cell_type": "code",
      "source": [
        "options.keys()"
      ],
      "metadata": {
        "id": "XDBrewASfAyg",
        "outputId": "b600fe2d-abeb-4bff-98ea-5219eb0cd221",
        "colab": {
          "base_uri": "https://localhost:8080/"
        }
      },
      "execution_count": 121,
      "outputs": [
        {
          "output_type": "execute_result",
          "data": {
            "text/plain": [
              "dict_keys(['epoch number', 'initial learning rate', 'normalization technique'])"
            ]
          },
          "metadata": {},
          "execution_count": 121
        }
      ]
    },
    {
      "cell_type": "code",
      "source": [
        "options.values()"
      ],
      "metadata": {
        "id": "WlxpO5KTieHA",
        "outputId": "7cb01482-9cc5-4fec-a313-d886b621e67e",
        "colab": {
          "base_uri": "https://localhost:8080/"
        }
      },
      "execution_count": 122,
      "outputs": [
        {
          "output_type": "execute_result",
          "data": {
            "text/plain": [
              "dict_values([1.0, 0.002, 'bnorm'])"
            ]
          },
          "metadata": {},
          "execution_count": 122
        }
      ]
    },
    {
      "cell_type": "code",
      "source": [
        "'normalization technique' in options"
      ],
      "metadata": {
        "id": "9kLwa81kirBU",
        "outputId": "9c6c7845-9e54-4163-f2f6-9177de51cea7",
        "colab": {
          "base_uri": "https://localhost:8080/"
        }
      },
      "execution_count": 127,
      "outputs": [
        {
          "output_type": "execute_result",
          "data": {
            "text/plain": [
              "True"
            ]
          },
          "metadata": {},
          "execution_count": 127
        }
      ]
    },
    {
      "cell_type": "markdown",
      "source": [
        "#### Iterating over dictionaries\n",
        "`items`and `sorted`\n",
        "\n",
        "Note The ordering of a dictionary is random, thus we use sorted() which will sort on the keys.\n"
      ],
      "metadata": {
        "id": "uGqT-4gNoYgC"
      }
    },
    {
      "cell_type": "code",
      "source": [
        "d = {'a': 1, 'b':1.2, 'c':1j}\n",
        "\n",
        "for key, val in sorted(d.items()):\n",
        "    print('Key: %s has value: %s' % (key, val))"
      ],
      "metadata": {
        "id": "pynlcfFYojiy",
        "outputId": "db0c7143-b16a-452c-d423-45e765b345fa",
        "colab": {
          "base_uri": "https://localhost:8080/"
        }
      },
      "execution_count": 128,
      "outputs": [
        {
          "output_type": "stream",
          "name": "stdout",
          "text": [
            "Key: a has value: 1\n",
            "Key: b has value: 1.2\n",
            "Key: c has value: 1j\n"
          ]
        }
      ]
    },
    {
      "cell_type": "code",
      "source": [
        "statement1 = True\n",
        "statement2 = False\n",
        "\n",
        "if statement1:\n",
        "  print(\"Statement 1 is true\")\n",
        "\n",
        "elif statement2:\n",
        "  print(\"Statment 2 is true\")\n",
        "\n",
        "else:\n",
        "  print(\"statement1 and statement2 are false\")"
      ],
      "metadata": {
        "id": "feX4yOUD7IYk",
        "outputId": "15252d60-dad7-4a68-a713-c91dd7243b83",
        "colab": {
          "base_uri": "https://localhost:8080/"
        }
      },
      "execution_count": 69,
      "outputs": [
        {
          "output_type": "stream",
          "name": "stdout",
          "text": [
            "Statement 1 is true\n"
          ]
        }
      ]
    },
    {
      "cell_type": "code",
      "source": [
        "statement1 = statement2 = True\n",
        "\n",
        "if statement1:\n",
        "  if statement2:\n",
        "    print('Both statement1 and statement2 are true')"
      ],
      "metadata": {
        "id": "qiwbXEta8O6G",
        "outputId": "7f1570b9-700a-4026-ee68-b627588fc31a",
        "colab": {
          "base_uri": "https://localhost:8080/"
        }
      },
      "execution_count": 70,
      "outputs": [
        {
          "output_type": "stream",
          "name": "stdout",
          "text": [
            "Both statement1 and statement2 are true\n"
          ]
        }
      ]
    },
    {
      "cell_type": "code",
      "source": [
        "# Bad indentation!\n",
        "statement1 = statement2 = True\n",
        "\n",
        "if statement1:\n",
        "  if statement2:\n",
        "  print('Both statement1 and statement2 are true')"
      ],
      "metadata": {
        "id": "OB8YUV0p8u2s",
        "outputId": "49ac341c-eb2d-4e5e-ca02-e93c667d56f6",
        "colab": {
          "base_uri": "https://localhost:8080/",
          "height": 106
        }
      },
      "execution_count": 71,
      "outputs": [
        {
          "output_type": "error",
          "ename": "IndentationError",
          "evalue": "expected an indented block after 'if' statement on line 5 (<ipython-input-71-17aeb58a8c77>, line 6)",
          "traceback": [
            "\u001b[0;36m  File \u001b[0;32m\"<ipython-input-71-17aeb58a8c77>\"\u001b[0;36m, line \u001b[0;32m6\u001b[0m\n\u001b[0;31m    print('Both statement1 and statement2 are true')\u001b[0m\n\u001b[0m    ^\u001b[0m\n\u001b[0;31mIndentationError\u001b[0m\u001b[0;31m:\u001b[0m expected an indented block after 'if' statement on line 5\n"
          ]
        }
      ]
    },
    {
      "cell_type": "code",
      "source": [
        "statement1 = True\n",
        "\n",
        "if statement1:\n",
        "    print(\"printed if statement1 is True\")\n",
        "\n",
        "    print(\"still inside the if block\")"
      ],
      "metadata": {
        "id": "-2tjZP5u86YV",
        "outputId": "6ee5ea42-65cf-4303-f79f-8f97a0dfc279",
        "colab": {
          "base_uri": "https://localhost:8080/"
        }
      },
      "execution_count": 72,
      "outputs": [
        {
          "output_type": "stream",
          "name": "stdout",
          "text": [
            "printed if statement1 is True\n",
            "still inside the if block\n"
          ]
        }
      ]
    },
    {
      "cell_type": "code",
      "source": [
        "if statement1:\n",
        "    print(\"printed if statement1 is True\")\n",
        "\n",
        "print(\"now outside the if block\")"
      ],
      "metadata": {
        "id": "HmqHIooi8-XJ",
        "outputId": "23780e63-6147-444d-9914-ba46d8b5626a",
        "colab": {
          "base_uri": "https://localhost:8080/"
        }
      },
      "execution_count": 73,
      "outputs": [
        {
          "output_type": "stream",
          "name": "stdout",
          "text": [
            "printed if statement1 is True\n",
            "now outside the if block\n"
          ]
        }
      ]
    },
    {
      "cell_type": "markdown",
      "source": [
        "### Loops\n",
        "Any kind of list can be used in the for loop."
      ],
      "metadata": {
        "id": "WqpdbHnbnW6V"
      }
    },
    {
      "cell_type": "code",
      "source": [
        "for x in [1,2,3, 100, -5]:\n",
        "  print(x)"
      ],
      "metadata": {
        "colab": {
          "base_uri": "https://localhost:8080/"
        },
        "id": "jbsOepesnZHr",
        "outputId": "d90dc0a6-1e86-413e-b8d1-621077fb30c3"
      },
      "execution_count": 74,
      "outputs": [
        {
          "output_type": "stream",
          "name": "stdout",
          "text": [
            "1\n",
            "2\n",
            "3\n",
            "100\n",
            "-5\n"
          ]
        }
      ]
    },
    {
      "cell_type": "code",
      "source": [
        "for x in range(5):\n",
        "  print(x)"
      ],
      "metadata": {
        "colab": {
          "base_uri": "https://localhost:8080/"
        },
        "id": "RnUWyzjBnjnF",
        "outputId": "877104c9-6e57-402e-e07b-a82814793c17"
      },
      "execution_count": 75,
      "outputs": [
        {
          "output_type": "stream",
          "name": "stdout",
          "text": [
            "0\n",
            "1\n",
            "2\n",
            "3\n",
            "4\n"
          ]
        }
      ]
    },
    {
      "cell_type": "code",
      "source": [
        "for x in range(-4,4): # list of integers\n",
        "  print(\"Value %d\" % (2*x))"
      ],
      "metadata": {
        "colab": {
          "base_uri": "https://localhost:8080/"
        },
        "id": "63g0FWE8n2mn",
        "outputId": "a6e71561-eba9-48e1-cf45-545c6a053076"
      },
      "execution_count": 76,
      "outputs": [
        {
          "output_type": "stream",
          "name": "stdout",
          "text": [
            "Value -8\n",
            "Value -6\n",
            "Value -4\n",
            "Value -2\n",
            "Value 0\n",
            "Value 2\n",
            "Value 4\n",
            "Value 6\n"
          ]
        }
      ]
    },
    {
      "cell_type": "code",
      "source": [
        "for word in [\"scientific\", \"computing\", \"with\", \"python\"]: # list of strings\n",
        "  print(word)"
      ],
      "metadata": {
        "colab": {
          "base_uri": "https://localhost:8080/"
        },
        "id": "iFVQyC5aoBlA",
        "outputId": "4905c0c0-271d-4bac-d910-f1a69bd829e5"
      },
      "execution_count": 77,
      "outputs": [
        {
          "output_type": "stream",
          "name": "stdout",
          "text": [
            "scientific\n",
            "computing\n",
            "with\n",
            "python\n"
          ]
        }
      ]
    },
    {
      "cell_type": "code",
      "source": [
        "for key, value in options.items():\n",
        "  print(key + \" = \" + str(value))"
      ],
      "metadata": {
        "colab": {
          "base_uri": "https://localhost:8080/"
        },
        "id": "sjT3qzRkobAP",
        "outputId": "e2d30298-a864-4665-eb61-8b89ab79edb9"
      },
      "execution_count": 78,
      "outputs": [
        {
          "output_type": "stream",
          "name": "stdout",
          "text": [
            "epoch number = 1.0\n",
            "initial learning rate = 0.002\n",
            "normalization technique = bnorm\n"
          ]
        }
      ]
    },
    {
      "cell_type": "code",
      "source": [
        "for key, value in options2.items():\n",
        "  print(key + \" = \" + str(value))"
      ],
      "metadata": {
        "colab": {
          "base_uri": "https://localhost:8080/"
        },
        "id": "vydqb8MdpKih",
        "outputId": "840e07cf-4f7b-47c8-fe0b-6f9ff0234658"
      },
      "execution_count": 79,
      "outputs": [
        {
          "output_type": "stream",
          "name": "stdout",
          "text": [
            "parameter1 = 1.0\n",
            "parameter2 = 2.0\n",
            "parameter3 = 3.0\n",
            "parameter4 = 4.0\n"
          ]
        }
      ]
    },
    {
      "cell_type": "code",
      "source": [
        "for idx, x in enumerate(range(-3,3)):\n",
        "  print(idx, x)"
      ],
      "metadata": {
        "colab": {
          "base_uri": "https://localhost:8080/"
        },
        "id": "oA3GTpYhrARo",
        "outputId": "e6838965-f6e0-446e-f54a-96e59f184e7e"
      },
      "execution_count": 80,
      "outputs": [
        {
          "output_type": "stream",
          "name": "stdout",
          "text": [
            "0 -3\n",
            "1 -2\n",
            "2 -1\n",
            "3 0\n",
            "4 1\n",
            "5 2\n"
          ]
        }
      ]
    },
    {
      "cell_type": "code",
      "source": [
        "l1 = [x**3 for x in range(0,4)]\n",
        "print(l1)"
      ],
      "metadata": {
        "colab": {
          "base_uri": "https://localhost:8080/"
        },
        "id": "-In52l49rZEk",
        "outputId": "cd51aad9-afcd-4be9-dd63-ca8e84007160"
      },
      "execution_count": 81,
      "outputs": [
        {
          "output_type": "stream",
          "name": "stdout",
          "text": [
            "[0, 1, 8, 27]\n"
          ]
        }
      ]
    },
    {
      "cell_type": "code",
      "source": [
        "i = 0\n",
        "\n",
        "while i<5:\n",
        "  print(i)\n",
        "  i = i + 1\n",
        "\n",
        "print('Done!')"
      ],
      "metadata": {
        "colab": {
          "base_uri": "https://localhost:8080/"
        },
        "id": "DE7CzkUXr3CV",
        "outputId": "72a8f0fc-faf2-47ee-90bb-154ebbcb9606"
      },
      "execution_count": 82,
      "outputs": [
        {
          "output_type": "stream",
          "name": "stdout",
          "text": [
            "0\n",
            "1\n",
            "2\n",
            "3\n",
            "4\n",
            "Done!\n"
          ]
        }
      ]
    },
    {
      "cell_type": "markdown",
      "source": [
        "### Functions\n",
        "A function in Python is defined using the keyword def, followed by a function name, a signature within parentheses (), and a colon :. The following code, with one additional level of indentation, is the function body."
      ],
      "metadata": {
        "id": "idAuDdbhvJyD"
      }
    },
    {
      "cell_type": "code",
      "source": [
        "def func0():\n",
        "  print('Welcome!')"
      ],
      "metadata": {
        "id": "DbOpOzlIsJp6"
      },
      "execution_count": 83,
      "outputs": []
    },
    {
      "cell_type": "code",
      "source": [
        "func0()"
      ],
      "metadata": {
        "colab": {
          "base_uri": "https://localhost:8080/"
        },
        "id": "7hmE7hVrvXRx",
        "outputId": "fdb22153-c610-406a-e86c-eaa146954964"
      },
      "execution_count": 84,
      "outputs": [
        {
          "output_type": "stream",
          "name": "stdout",
          "text": [
            "Welcome!\n"
          ]
        }
      ]
    },
    {
      "cell_type": "code",
      "source": [
        "def func1(s):\n",
        "  \"\"\"\n",
        "  Print a string 's' and tell how many characters it has\n",
        "  \"\"\"\n",
        "  print(s + \" has \" + str(len(s)) + \" characters\")\n"
      ],
      "metadata": {
        "id": "-CMWVDAWvdH6"
      },
      "execution_count": 85,
      "outputs": []
    },
    {
      "cell_type": "code",
      "source": [
        "help(func1)"
      ],
      "metadata": {
        "colab": {
          "base_uri": "https://localhost:8080/"
        },
        "id": "jcJE2KWEv_Yq",
        "outputId": "ef4b3a35-9da2-48a4-80f0-40d9b23ba8e9"
      },
      "execution_count": 86,
      "outputs": [
        {
          "output_type": "stream",
          "name": "stdout",
          "text": [
            "Help on function func1 in module __main__:\n",
            "\n",
            "func1(s)\n",
            "    Print a string 's' and tell how many characters it has\n",
            "\n"
          ]
        }
      ]
    },
    {
      "cell_type": "code",
      "source": [
        "func1(\"hasan huseyin karaoglu\")"
      ],
      "metadata": {
        "colab": {
          "base_uri": "https://localhost:8080/"
        },
        "id": "jzZCe4FkwNUc",
        "outputId": "7779c3c6-4d9e-40a8-eddd-8e23fd7af0a2"
      },
      "execution_count": 87,
      "outputs": [
        {
          "output_type": "stream",
          "name": "stdout",
          "text": [
            "hasan huseyin karaoglu has 22 characters\n"
          ]
        }
      ]
    },
    {
      "cell_type": "code",
      "source": [
        "def square(x):\n",
        "  \"\"\"\n",
        "  Return the square of x.\n",
        "  \"\"\"\n",
        "  return x**2\n",
        "\n",
        "square(5)"
      ],
      "metadata": {
        "colab": {
          "base_uri": "https://localhost:8080/"
        },
        "id": "dgDbT8HwwlOv",
        "outputId": "1f270cdb-ccfd-4a9b-8836-4a0cca4bafd4"
      },
      "execution_count": 88,
      "outputs": [
        {
          "output_type": "execute_result",
          "data": {
            "text/plain": [
              "25"
            ]
          },
          "metadata": {},
          "execution_count": 88
        }
      ]
    },
    {
      "cell_type": "code",
      "source": [
        "def powers(x):\n",
        "  \"\"\"\n",
        "  Return a few powers of x.\n",
        "  \"\"\"\n",
        "  return x**2, x**3, x**4\n",
        "\n",
        "powers(5)"
      ],
      "metadata": {
        "colab": {
          "base_uri": "https://localhost:8080/"
        },
        "id": "Tyl45_z07eA3",
        "outputId": "2fbd841a-2dfe-4dfc-a589-e7ae26a638e9"
      },
      "execution_count": 89,
      "outputs": [
        {
          "output_type": "execute_result",
          "data": {
            "text/plain": [
              "(25, 125, 625)"
            ]
          },
          "metadata": {},
          "execution_count": 89
        }
      ]
    },
    {
      "cell_type": "code",
      "source": [
        "x1, x2, x3 = powers(3)\n",
        "print(x1, x2, x3)\n",
        "print(\"The fourth power is\", x3)"
      ],
      "metadata": {
        "colab": {
          "base_uri": "https://localhost:8080/"
        },
        "id": "mSxWa2m77zRg",
        "outputId": "6441cad5-6db4-4696-da70-2c4d577dfa1c"
      },
      "execution_count": 90,
      "outputs": [
        {
          "output_type": "stream",
          "name": "stdout",
          "text": [
            "9 27 81\n",
            "The fourth power is 81\n"
          ]
        }
      ]
    },
    {
      "cell_type": "markdown",
      "source": [
        "In a definition of a function, we can give default values to the arguments the function takes:\n",
        "\n"
      ],
      "metadata": {
        "id": "nP8lDV3x8YnH"
      }
    },
    {
      "cell_type": "code",
      "source": [
        "def myfunc(x, p=2, debug=False):\n",
        "    if debug:\n",
        "        print(\"evaluating myfunc for x = \" + str(x) + \" using exponent p = \" + str(p))\n",
        "    return x**p\n",
        "\n",
        "myfunc(4) # Function call with the default parameters"
      ],
      "metadata": {
        "colab": {
          "base_uri": "https://localhost:8080/"
        },
        "id": "SCZ2lGSs76De",
        "outputId": "31e24f57-7083-4fb7-f1d9-a851522abe66"
      },
      "execution_count": 91,
      "outputs": [
        {
          "output_type": "execute_result",
          "data": {
            "text/plain": [
              "16"
            ]
          },
          "metadata": {},
          "execution_count": 91
        }
      ]
    },
    {
      "cell_type": "code",
      "source": [
        "myfunc(4, debug=True) # Function call when debug is true"
      ],
      "metadata": {
        "colab": {
          "base_uri": "https://localhost:8080/"
        },
        "id": "5lWLzigM8xzj",
        "outputId": "0345461c-b870-4b87-c9ab-2509efc75842"
      },
      "execution_count": 92,
      "outputs": [
        {
          "output_type": "stream",
          "name": "stdout",
          "text": [
            "evaluating myfunc for x = 4 using exponent p = 2\n"
          ]
        },
        {
          "output_type": "execute_result",
          "data": {
            "text/plain": [
              "16"
            ]
          },
          "metadata": {},
          "execution_count": 92
        }
      ]
    },
    {
      "cell_type": "code",
      "source": [
        "myfunc(4, p=3, debug=True) # Function call when the power is three and debug is true"
      ],
      "metadata": {
        "colab": {
          "base_uri": "https://localhost:8080/"
        },
        "id": "YcTOYtqu-sPZ",
        "outputId": "8853eee8-1b28-4a43-a307-b2a020de31e9"
      },
      "execution_count": 93,
      "outputs": [
        {
          "output_type": "stream",
          "name": "stdout",
          "text": [
            "evaluating myfunc for x = 4 using exponent p = 3\n"
          ]
        },
        {
          "output_type": "execute_result",
          "data": {
            "text/plain": [
              "64"
            ]
          },
          "metadata": {},
          "execution_count": 93
        }
      ]
    },
    {
      "cell_type": "markdown",
      "source": [
        "If we explicitly list the name of the arguments in the function calls, they do not need to come in the same order as in the function definition. This is called keyword arguments, and is often very useful in functions that takes a lot of optional arguments."
      ],
      "metadata": {
        "id": "tc4RaSle-9Eb"
      }
    },
    {
      "cell_type": "code",
      "source": [
        "myfunc(debug=True, p=4, x=3)"
      ],
      "metadata": {
        "colab": {
          "base_uri": "https://localhost:8080/"
        },
        "id": "1xP0WdDf-_cP",
        "outputId": "98c7ae46-cf23-490b-e037-0fd44757bebc"
      },
      "execution_count": 94,
      "outputs": [
        {
          "output_type": "stream",
          "name": "stdout",
          "text": [
            "evaluating myfunc for x = 3 using exponent p = 4\n"
          ]
        },
        {
          "output_type": "execute_result",
          "data": {
            "text/plain": [
              "81"
            ]
          },
          "metadata": {},
          "execution_count": 94
        }
      ]
    },
    {
      "cell_type": "markdown",
      "source": [
        "### Lambda Functions\n"
      ],
      "metadata": {
        "id": "lUyUYqkq_RH8"
      }
    },
    {
      "cell_type": "code",
      "source": [
        "f1 = lambda x: x**2\n",
        "\n",
        "f1(4)"
      ],
      "metadata": {
        "colab": {
          "base_uri": "https://localhost:8080/"
        },
        "id": "EQuVRNN3_XmW",
        "outputId": "6b87b564-8b0b-486b-cb59-0daa651012cf"
      },
      "execution_count": 95,
      "outputs": [
        {
          "output_type": "execute_result",
          "data": {
            "text/plain": [
              "16"
            ]
          },
          "metadata": {},
          "execution_count": 95
        }
      ]
    },
    {
      "cell_type": "code",
      "source": [
        "list(map(lambda x: x**2, range(-3,4)))\n"
      ],
      "metadata": {
        "colab": {
          "base_uri": "https://localhost:8080/"
        },
        "id": "qltDJO_C_jNS",
        "outputId": "7df26a95-8a84-4972-e417-b453a0be0f73"
      },
      "execution_count": 96,
      "outputs": [
        {
          "output_type": "execute_result",
          "data": {
            "text/plain": [
              "[9, 4, 1, 0, 1, 4, 9]"
            ]
          },
          "metadata": {},
          "execution_count": 96
        }
      ]
    },
    {
      "cell_type": "markdown",
      "source": [
        "### Classes"
      ],
      "metadata": {
        "id": "S3gOkcAJA3sc"
      }
    },
    {
      "cell_type": "code",
      "source": [
        "class Point:\n",
        "    \"\"\"\n",
        "    Simple class for representing a point in a Cartesian coordinate system.\n",
        "    \"\"\"\n",
        "\n",
        "    def __init__(self, x, y):\n",
        "        \"\"\"\n",
        "        Create a new Point at x, y.\n",
        "        \"\"\"\n",
        "        self.x = x\n",
        "        self.y = y\n",
        "\n",
        "    def translate(self, dx, dy):\n",
        "        \"\"\"\n",
        "        Translate the point by dx and dy in the x and y direction.\n",
        "        \"\"\"\n",
        "        self.x += dx\n",
        "        self.y += dy\n",
        "\n",
        "    def __str__(self):\n",
        "        return(\"Point at [%f, %f]\" % (self.x, self.y))"
      ],
      "metadata": {
        "id": "2JWqewAUA3MP"
      },
      "execution_count": 97,
      "outputs": []
    },
    {
      "cell_type": "code",
      "source": [
        "p1 = Point(0,0.5) # this will invoke the __init__ method in the Point class\n",
        "print(p1)         # this will invoke the __str__ method"
      ],
      "metadata": {
        "id": "Am4xqInzDS-8",
        "outputId": "f0c4f53a-cc5f-4cef-9d18-aedf40148299",
        "colab": {
          "base_uri": "https://localhost:8080/"
        }
      },
      "execution_count": 98,
      "outputs": [
        {
          "output_type": "stream",
          "name": "stdout",
          "text": [
            "Point at [0.000000, 0.500000]\n"
          ]
        }
      ]
    },
    {
      "cell_type": "code",
      "source": [
        "p2 = Point(1, 1)\n",
        "\n",
        "p1.translate(0.25, 1.5)\n",
        "\n",
        "print(p1)\n",
        "print(p2)"
      ],
      "metadata": {
        "id": "RUrxf0KNDWBF",
        "outputId": "8b5de90a-9be7-4d57-ae94-b20c2158a610",
        "colab": {
          "base_uri": "https://localhost:8080/"
        }
      },
      "execution_count": 99,
      "outputs": [
        {
          "output_type": "stream",
          "name": "stdout",
          "text": [
            "Point at [0.250000, 2.000000]\n",
            "Point at [1.000000, 1.000000]\n"
          ]
        }
      ]
    },
    {
      "cell_type": "markdown",
      "source": [
        "Note that calling class methods can modify the state of that particular class instance, but does not effect other class instances or any global variables.\n",
        "\n",
        "That is one of the nice things about object-oriented design: code such as functions and related variables are grouped in separate and independent entities."
      ],
      "metadata": {
        "id": "PpYxpMHtEc0G"
      }
    },
    {
      "cell_type": "markdown",
      "source": [
        "### Modules"
      ],
      "metadata": {
        "id": "9du9MjfgFyuP"
      }
    },
    {
      "cell_type": "code",
      "source": [
        "%%file mymodule.py\n",
        "\"\"\"\n",
        "Example of a python module. Contains a variable called my_variable,\n",
        "a function called my_function, and a class called MyClass.\n",
        "\"\"\"\n",
        "\n",
        "my_variable = 0\n",
        "\n",
        "def my_function():\n",
        "    \"\"\"\n",
        "    Example function\n",
        "    \"\"\"\n",
        "    return my_variable\n",
        "\n",
        "class MyClass:\n",
        "    \"\"\"\n",
        "    Example class.\n",
        "    \"\"\"\n",
        "\n",
        "    def __init__(self):\n",
        "        self.variable = my_variable\n",
        "\n",
        "    def set_variable(self, new_value):\n",
        "        \"\"\"\n",
        "        Set self.variable to a new value\n",
        "        \"\"\"\n",
        "        self.variable = new_value\n",
        "\n",
        "    def get_variable(self):\n",
        "        return self.variable"
      ],
      "metadata": {
        "id": "OfU6vfabFyfg",
        "outputId": "397860be-1634-4854-9b8f-7133425ccbfd",
        "colab": {
          "base_uri": "https://localhost:8080/"
        }
      },
      "execution_count": 100,
      "outputs": [
        {
          "output_type": "stream",
          "name": "stdout",
          "text": [
            "Writing mymodule.py\n"
          ]
        }
      ]
    },
    {
      "cell_type": "code",
      "source": [
        "import mymodule"
      ],
      "metadata": {
        "id": "Dw0zJ6O-F-dO"
      },
      "execution_count": 101,
      "outputs": []
    },
    {
      "cell_type": "code",
      "source": [
        "help(mymodule)"
      ],
      "metadata": {
        "id": "8dPTwFFaGA0z",
        "outputId": "1d6c8db4-d727-47ca-9974-34b9bb3f858e",
        "colab": {
          "base_uri": "https://localhost:8080/"
        }
      },
      "execution_count": 102,
      "outputs": [
        {
          "output_type": "stream",
          "name": "stdout",
          "text": [
            "Help on module mymodule:\n",
            "\n",
            "NAME\n",
            "    mymodule\n",
            "\n",
            "DESCRIPTION\n",
            "    Example of a python module. Contains a variable called my_variable,\n",
            "    a function called my_function, and a class called MyClass.\n",
            "\n",
            "CLASSES\n",
            "    builtins.object\n",
            "        MyClass\n",
            "    \n",
            "    class MyClass(builtins.object)\n",
            "     |  Example class.\n",
            "     |  \n",
            "     |  Methods defined here:\n",
            "     |  \n",
            "     |  __init__(self)\n",
            "     |      Initialize self.  See help(type(self)) for accurate signature.\n",
            "     |  \n",
            "     |  get_variable(self)\n",
            "     |  \n",
            "     |  set_variable(self, new_value)\n",
            "     |      Set self.variable to a new value\n",
            "     |  \n",
            "     |  ----------------------------------------------------------------------\n",
            "     |  Data descriptors defined here:\n",
            "     |  \n",
            "     |  __dict__\n",
            "     |      dictionary for instance variables (if defined)\n",
            "     |  \n",
            "     |  __weakref__\n",
            "     |      list of weak references to the object (if defined)\n",
            "\n",
            "FUNCTIONS\n",
            "    my_function()\n",
            "        Example function\n",
            "\n",
            "DATA\n",
            "    my_variable = 0\n",
            "\n",
            "FILE\n",
            "    /content/mymodule.py\n",
            "\n",
            "\n"
          ]
        }
      ]
    },
    {
      "cell_type": "code",
      "source": [
        "mymodule.my_variable"
      ],
      "metadata": {
        "id": "UfqxD0slGDJz",
        "outputId": "241d84c0-1ef9-44ce-aeb3-1a30ab532774",
        "colab": {
          "base_uri": "https://localhost:8080/"
        }
      },
      "execution_count": 103,
      "outputs": [
        {
          "output_type": "execute_result",
          "data": {
            "text/plain": [
              "0"
            ]
          },
          "metadata": {},
          "execution_count": 103
        }
      ]
    },
    {
      "cell_type": "code",
      "source": [
        "mymodule.my_function"
      ],
      "metadata": {
        "id": "lG3xkcKTGUS3",
        "outputId": "a8b49b53-3099-48ad-9669-3ffadf38b6b4",
        "colab": {
          "base_uri": "https://localhost:8080/",
          "height": 120
        }
      },
      "execution_count": 104,
      "outputs": [
        {
          "output_type": "execute_result",
          "data": {
            "text/plain": [
              "<function mymodule.my_function()>"
            ],
            "text/html": [
              "<div style=\"max-width:800px; border: 1px solid var(--colab-border-color);\"><style>\n",
              "      pre.function-repr-contents {\n",
              "        overflow-x: auto;\n",
              "        padding: 8px 12px;\n",
              "        max-height: 500px;\n",
              "      }\n",
              "\n",
              "      pre.function-repr-contents.function-repr-contents-collapsed {\n",
              "        cursor: pointer;\n",
              "        max-height: 100px;\n",
              "      }\n",
              "    </style>\n",
              "    <pre style=\"white-space: initial; background:\n",
              "         var(--colab-secondary-surface-color); padding: 8px 12px;\n",
              "         border-bottom: 1px solid var(--colab-border-color);\"><b>mymodule.my_function</b><br/>def my_function()</pre><pre class=\"function-repr-contents function-repr-contents-collapsed\" style=\"\"><a class=\"filepath\" style=\"display:none\" href=\"#\">/content/mymodule.py</a>Example function</pre>\n",
              "      <script>\n",
              "      if (google.colab.kernel.accessAllowed && google.colab.files && google.colab.files.view) {\n",
              "        for (const element of document.querySelectorAll('.filepath')) {\n",
              "          element.style.display = 'block'\n",
              "          element.onclick = (event) => {\n",
              "            event.preventDefault();\n",
              "            event.stopPropagation();\n",
              "            google.colab.files.view(element.textContent, 8);\n",
              "          };\n",
              "        }\n",
              "      }\n",
              "      for (const element of document.querySelectorAll('.function-repr-contents')) {\n",
              "        element.onclick = (event) => {\n",
              "          event.preventDefault();\n",
              "          event.stopPropagation();\n",
              "          element.classList.toggle('function-repr-contents-collapsed');\n",
              "        };\n",
              "      }\n",
              "      </script>\n",
              "      </div>"
            ]
          },
          "metadata": {},
          "execution_count": 104
        }
      ]
    },
    {
      "cell_type": "code",
      "source": [
        "mymodule.my_function()"
      ],
      "metadata": {
        "id": "aC0hUFV4GWjF",
        "outputId": "8a82935d-4836-4eba-ef35-d2b3f681a5e1",
        "colab": {
          "base_uri": "https://localhost:8080/"
        }
      },
      "execution_count": 105,
      "outputs": [
        {
          "output_type": "execute_result",
          "data": {
            "text/plain": [
              "0"
            ]
          },
          "metadata": {},
          "execution_count": 105
        }
      ]
    },
    {
      "cell_type": "code",
      "source": [
        "mymodule.MyClass"
      ],
      "metadata": {
        "id": "UPKocHcdGchX",
        "outputId": "f7a45b8e-79d0-44a4-8a63-134d98618a31",
        "colab": {
          "base_uri": "https://localhost:8080/",
          "height": 120
        }
      },
      "execution_count": 106,
      "outputs": [
        {
          "output_type": "execute_result",
          "data": {
            "text/plain": [
              "mymodule.MyClass"
            ],
            "text/html": [
              "<div style=\"max-width:800px; border: 1px solid var(--colab-border-color);\"><style>\n",
              "      pre.function-repr-contents {\n",
              "        overflow-x: auto;\n",
              "        padding: 8px 12px;\n",
              "        max-height: 500px;\n",
              "      }\n",
              "\n",
              "      pre.function-repr-contents.function-repr-contents-collapsed {\n",
              "        cursor: pointer;\n",
              "        max-height: 100px;\n",
              "      }\n",
              "    </style>\n",
              "    <pre style=\"white-space: initial; background:\n",
              "         var(--colab-secondary-surface-color); padding: 8px 12px;\n",
              "         border-bottom: 1px solid var(--colab-border-color);\"><b>mymodule.MyClass</b><br/>def __init__()</pre><pre class=\"function-repr-contents function-repr-contents-collapsed\" style=\"\"><a class=\"filepath\" style=\"display:none\" href=\"#\">/content/mymodule.py</a>Example class.</pre>\n",
              "      <script>\n",
              "      if (google.colab.kernel.accessAllowed && google.colab.files && google.colab.files.view) {\n",
              "        for (const element of document.querySelectorAll('.filepath')) {\n",
              "          element.style.display = 'block'\n",
              "          element.onclick = (event) => {\n",
              "            event.preventDefault();\n",
              "            event.stopPropagation();\n",
              "            google.colab.files.view(element.textContent, 14);\n",
              "          };\n",
              "        }\n",
              "      }\n",
              "      for (const element of document.querySelectorAll('.function-repr-contents')) {\n",
              "        element.onclick = (event) => {\n",
              "          event.preventDefault();\n",
              "          event.stopPropagation();\n",
              "          element.classList.toggle('function-repr-contents-collapsed');\n",
              "        };\n",
              "      }\n",
              "      </script>\n",
              "      </div>"
            ]
          },
          "metadata": {},
          "execution_count": 106
        }
      ]
    },
    {
      "cell_type": "code",
      "source": [
        "my_class = mymodule.MyClass()\n",
        "my_class.set_variable(10)\n",
        "my_class.get_variable()"
      ],
      "metadata": {
        "id": "DmQrN0wKGqOc",
        "outputId": "8b09c63d-ee8c-4682-9425-53f761a518aa",
        "colab": {
          "base_uri": "https://localhost:8080/"
        }
      },
      "execution_count": 107,
      "outputs": [
        {
          "output_type": "execute_result",
          "data": {
            "text/plain": [
              "10"
            ]
          },
          "metadata": {},
          "execution_count": 107
        }
      ]
    },
    {
      "cell_type": "markdown",
      "source": [
        "### Exceptions"
      ],
      "metadata": {
        "id": "ax56i5jVbsns"
      }
    },
    {
      "cell_type": "code",
      "source": [
        "# Şimdilik gerek yok."
      ],
      "metadata": {
        "id": "ZABSQoPXbmIu"
      },
      "execution_count": 108,
      "outputs": []
    }
  ],
  "metadata": {
    "colab": {
      "name": "Overview of Colaboratory Features",
      "provenance": [],
      "include_colab_link": true
    },
    "kernelspec": {
      "display_name": "Python 3",
      "name": "python3"
    }
  },
  "nbformat": 4,
  "nbformat_minor": 0
}