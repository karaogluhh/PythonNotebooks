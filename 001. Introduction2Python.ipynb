{
  "cells": [
    {
      "cell_type": "markdown",
      "metadata": {
        "id": "view-in-github",
        "colab_type": "text"
      },
      "source": [
        "<a href=\"https://colab.research.google.com/github/karaogluhh/PythonNotebooks/blob/main/001.%20Introduction2Python.ipynb\" target=\"_parent\"><img src=\"https://colab.research.google.com/assets/colab-badge.svg\" alt=\"Open In Colab\"/></a>"
      ]
    },
    {
      "cell_type": "markdown",
      "source": [
        "### Python ve İlgili Modüllerin Versiyonlarını Öğrenme\n"
      ],
      "metadata": {
        "id": "a7_5EeRfvi9x"
      }
    },
    {
      "cell_type": "code",
      "source": [
        "!python --version"
      ],
      "metadata": {
        "colab": {
          "base_uri": "https://localhost:8080/"
        },
        "id": "tU2Tx9WTuejh",
        "outputId": "46f8d8ba-7686-436a-cd8b-a9cfbbafa95f"
      },
      "execution_count": 3,
      "outputs": [
        {
          "output_type": "stream",
          "name": "stdout",
          "text": [
            "Python 3.10.12\n"
          ]
        }
      ]
    },
    {
      "cell_type": "code",
      "source": [
        "import numpy as np\n",
        "import matplotlib\n",
        "\n",
        "print(np.__version__)\n",
        "print(matplotlib.__version__)"
      ],
      "metadata": {
        "colab": {
          "base_uri": "https://localhost:8080/"
        },
        "id": "66EddYM3urtd",
        "outputId": "5fa4af94-b1e7-42df-faa6-ef8730db5bfc"
      },
      "execution_count": 4,
      "outputs": [
        {
          "output_type": "stream",
          "name": "stdout",
          "text": [
            "1.25.2\n",
            "3.7.1\n"
          ]
        }
      ]
    },
    {
      "cell_type": "code",
      "source": [
        "# This is a comment line"
      ],
      "metadata": {
        "id": "Y_FEAGI9uyDc"
      },
      "execution_count": 5,
      "outputs": []
    },
    {
      "cell_type": "code",
      "source": [
        "!ls"
      ],
      "metadata": {
        "colab": {
          "base_uri": "https://localhost:8080/"
        },
        "id": "d5QwYacrws-T",
        "outputId": "e4b7d347-66dc-4146-fc2e-86914be8c8f4"
      },
      "execution_count": 6,
      "outputs": [
        {
          "output_type": "stream",
          "name": "stdout",
          "text": [
            "drive  sample_data\n"
          ]
        }
      ]
    },
    {
      "cell_type": "markdown",
      "source": [
        "## Modüller"
      ],
      "metadata": {
        "id": "A8ROFFMayBwB"
      }
    },
    {
      "cell_type": "code",
      "source": [
        "import math\n",
        "\n",
        "x = math.cos(2 * math.pi)\n",
        "\n",
        "print(x)"
      ],
      "metadata": {
        "colab": {
          "base_uri": "https://localhost:8080/"
        },
        "id": "uGlY5FFjwzFJ",
        "outputId": "3cbec480-f8b5-482b-bb25-8939eadd1e63"
      },
      "execution_count": 7,
      "outputs": [
        {
          "output_type": "stream",
          "name": "stdout",
          "text": [
            "1.0\n"
          ]
        }
      ]
    },
    {
      "cell_type": "markdown",
      "source": [
        "### Bir Modülü İçe Aktarmak (Tüm Fonksiyon ve Değişkenler)"
      ],
      "metadata": {
        "id": "EQ1hNlkTyJem"
      }
    },
    {
      "cell_type": "code",
      "source": [
        "from math import *\n",
        "\n",
        "x = cos(2 * pi)\n",
        "\n",
        "print(x)"
      ],
      "metadata": {
        "colab": {
          "base_uri": "https://localhost:8080/"
        },
        "id": "68GgA4j6xsBV",
        "outputId": "65a28800-5e4c-4bde-81b3-6ce4c77ff4d1"
      },
      "execution_count": 8,
      "outputs": [
        {
          "output_type": "stream",
          "name": "stdout",
          "text": [
            "1.0\n"
          ]
        }
      ]
    },
    {
      "cell_type": "markdown",
      "source": [
        "This pattern can be very convenient, but in large programs that include many modules it is often a good idea to keep the symbols from each module in their own namespaces, by using the import math pattern. This would eliminate potentially confusing problems with name space collisions.\n",
        "\n",
        "As a third alternative, we can choose to import only a few selected symbols from a module by explicitly listing which ones we want to import instead of using the wildcard character *:"
      ],
      "metadata": {
        "id": "YAxkzC1CzKK9"
      }
    },
    {
      "cell_type": "code",
      "source": [
        "from math import cos, pi\n",
        "\n",
        "x = cos(2 * pi)\n",
        "\n",
        "print(x)"
      ],
      "metadata": {
        "colab": {
          "base_uri": "https://localhost:8080/"
        },
        "id": "tnCN4VPtzOK7",
        "outputId": "7659ebe5-2a9a-4606-fdeb-a3906eab24aa"
      },
      "execution_count": 9,
      "outputs": [
        {
          "output_type": "stream",
          "name": "stdout",
          "text": [
            "1.0\n"
          ]
        }
      ]
    },
    {
      "cell_type": "code",
      "source": [
        "import math\n",
        "print(dir(math))"
      ],
      "metadata": {
        "colab": {
          "base_uri": "https://localhost:8080/"
        },
        "id": "jT1T5Unpyjfk",
        "outputId": "2fa980d7-eaff-4577-cc6c-c80c35c4aec8"
      },
      "execution_count": 10,
      "outputs": [
        {
          "output_type": "stream",
          "name": "stdout",
          "text": [
            "['__doc__', '__loader__', '__name__', '__package__', '__spec__', 'acos', 'acosh', 'asin', 'asinh', 'atan', 'atan2', 'atanh', 'ceil', 'comb', 'copysign', 'cos', 'cosh', 'degrees', 'dist', 'e', 'erf', 'erfc', 'exp', 'expm1', 'fabs', 'factorial', 'floor', 'fmod', 'frexp', 'fsum', 'gamma', 'gcd', 'hypot', 'inf', 'isclose', 'isfinite', 'isinf', 'isnan', 'isqrt', 'lcm', 'ldexp', 'lgamma', 'log', 'log10', 'log1p', 'log2', 'modf', 'nan', 'nextafter', 'perm', 'pi', 'pow', 'prod', 'radians', 'remainder', 'sin', 'sinh', 'sqrt', 'tan', 'tanh', 'tau', 'trunc', 'ulp']\n"
          ]
        }
      ]
    },
    {
      "cell_type": "code",
      "source": [
        "print(dir(np))"
      ],
      "metadata": {
        "colab": {
          "base_uri": "https://localhost:8080/"
        },
        "id": "Aw7xkgQqyvLO",
        "outputId": "717ac86e-c161-4441-9919-61c0ba6bdfe9"
      },
      "execution_count": 11,
      "outputs": [
        {
          "output_type": "stream",
          "name": "stdout",
          "text": [
            "['ALLOW_THREADS', 'BUFSIZE', 'CLIP', 'DataSource', 'ERR_CALL', 'ERR_DEFAULT', 'ERR_IGNORE', 'ERR_LOG', 'ERR_PRINT', 'ERR_RAISE', 'ERR_WARN', 'FLOATING_POINT_SUPPORT', 'FPE_DIVIDEBYZERO', 'FPE_INVALID', 'FPE_OVERFLOW', 'FPE_UNDERFLOW', 'False_', 'Inf', 'Infinity', 'MAXDIMS', 'MAY_SHARE_BOUNDS', 'MAY_SHARE_EXACT', 'NAN', 'NINF', 'NZERO', 'NaN', 'PINF', 'PZERO', 'RAISE', 'RankWarning', 'SHIFT_DIVIDEBYZERO', 'SHIFT_INVALID', 'SHIFT_OVERFLOW', 'SHIFT_UNDERFLOW', 'ScalarType', 'True_', 'UFUNC_BUFSIZE_DEFAULT', 'UFUNC_PYVALS_NAME', 'WRAP', '_CopyMode', '_NoValue', '_UFUNC_API', '__NUMPY_SETUP__', '__all__', '__builtins__', '__cached__', '__config__', '__deprecated_attrs__', '__dir__', '__doc__', '__expired_functions__', '__file__', '__former_attrs__', '__future_scalars__', '__getattr__', '__git_version__', '__loader__', '__name__', '__package__', '__path__', '__spec__', '__version__', '_add_newdoc_ufunc', '_builtins', '_distributor_init', '_financial_names', '_get_promotion_state', '_globals', '_int_extended_msg', '_mat', '_no_nep50_warning', '_pyinstaller_hooks_dir', '_pytesttester', '_set_promotion_state', '_specific_msg', '_typing', '_using_numpy2_behavior', '_utils', '_version', 'abs', 'absolute', 'add', 'add_docstring', 'add_newdoc', 'add_newdoc_ufunc', 'all', 'allclose', 'alltrue', 'amax', 'amin', 'angle', 'any', 'append', 'apply_along_axis', 'apply_over_axes', 'arange', 'arccos', 'arccosh', 'arcsin', 'arcsinh', 'arctan', 'arctan2', 'arctanh', 'argmax', 'argmin', 'argpartition', 'argsort', 'argwhere', 'around', 'array', 'array2string', 'array_equal', 'array_equiv', 'array_repr', 'array_split', 'array_str', 'asanyarray', 'asarray', 'asarray_chkfinite', 'ascontiguousarray', 'asfarray', 'asfortranarray', 'asmatrix', 'atleast_1d', 'atleast_2d', 'atleast_3d', 'average', 'bartlett', 'base_repr', 'binary_repr', 'bincount', 'bitwise_and', 'bitwise_not', 'bitwise_or', 'bitwise_xor', 'blackman', 'block', 'bmat', 'bool_', 'broadcast', 'broadcast_arrays', 'broadcast_shapes', 'broadcast_to', 'busday_count', 'busday_offset', 'busdaycalendar', 'byte', 'byte_bounds', 'bytes_', 'c_', 'can_cast', 'cast', 'cbrt', 'cdouble', 'ceil', 'cfloat', 'char', 'character', 'chararray', 'choose', 'clip', 'clongdouble', 'clongfloat', 'column_stack', 'common_type', 'compare_chararrays', 'compat', 'complex128', 'complex256', 'complex64', 'complex_', 'complexfloating', 'compress', 'concatenate', 'conj', 'conjugate', 'convolve', 'copy', 'copysign', 'copyto', 'corrcoef', 'correlate', 'cos', 'cosh', 'count_nonzero', 'cov', 'cross', 'csingle', 'ctypeslib', 'cumprod', 'cumproduct', 'cumsum', 'datetime64', 'datetime_as_string', 'datetime_data', 'deg2rad', 'degrees', 'delete', 'deprecate', 'deprecate_with_doc', 'diag', 'diag_indices', 'diag_indices_from', 'diagflat', 'diagonal', 'diff', 'digitize', 'disp', 'divide', 'divmod', 'dot', 'double', 'dsplit', 'dstack', 'dtype', 'dtypes', 'e', 'ediff1d', 'einsum', 'einsum_path', 'emath', 'empty', 'empty_like', 'equal', 'errstate', 'euler_gamma', 'exceptions', 'exp', 'exp2', 'expand_dims', 'expm1', 'extract', 'eye', 'fabs', 'fastCopyAndTranspose', 'fft', 'fill_diagonal', 'find_common_type', 'finfo', 'fix', 'flatiter', 'flatnonzero', 'flexible', 'flip', 'fliplr', 'flipud', 'float128', 'float16', 'float32', 'float64', 'float_', 'float_power', 'floating', 'floor', 'floor_divide', 'fmax', 'fmin', 'fmod', 'format_float_positional', 'format_float_scientific', 'format_parser', 'frexp', 'from_dlpack', 'frombuffer', 'fromfile', 'fromfunction', 'fromiter', 'frompyfunc', 'fromregex', 'fromstring', 'full', 'full_like', 'gcd', 'generic', 'genfromtxt', 'geomspace', 'get_array_wrap', 'get_include', 'get_printoptions', 'getbufsize', 'geterr', 'geterrcall', 'geterrobj', 'gradient', 'greater', 'greater_equal', 'half', 'hamming', 'hanning', 'heaviside', 'histogram', 'histogram2d', 'histogram_bin_edges', 'histogramdd', 'hsplit', 'hstack', 'hypot', 'i0', 'identity', 'iinfo', 'imag', 'in1d', 'index_exp', 'indices', 'inexact', 'inf', 'info', 'infty', 'inner', 'insert', 'int16', 'int32', 'int64', 'int8', 'int_', 'intc', 'integer', 'interp', 'intersect1d', 'intp', 'invert', 'is_busday', 'isclose', 'iscomplex', 'iscomplexobj', 'isfinite', 'isfortran', 'isin', 'isinf', 'isnan', 'isnat', 'isneginf', 'isposinf', 'isreal', 'isrealobj', 'isscalar', 'issctype', 'issubclass_', 'issubdtype', 'issubsctype', 'iterable', 'ix_', 'kaiser', 'kernel_version', 'kron', 'lcm', 'ldexp', 'left_shift', 'less', 'less_equal', 'lexsort', 'lib', 'linalg', 'linspace', 'little_endian', 'load', 'loadtxt', 'log', 'log10', 'log1p', 'log2', 'logaddexp', 'logaddexp2', 'logical_and', 'logical_not', 'logical_or', 'logical_xor', 'logspace', 'longcomplex', 'longdouble', 'longfloat', 'longlong', 'lookfor', 'ma', 'mask_indices', 'mat', 'matmul', 'matrix', 'max', 'maximum', 'maximum_sctype', 'may_share_memory', 'mean', 'median', 'memmap', 'meshgrid', 'mgrid', 'min', 'min_scalar_type', 'minimum', 'mintypecode', 'mod', 'modf', 'moveaxis', 'msort', 'multiply', 'nan', 'nan_to_num', 'nanargmax', 'nanargmin', 'nancumprod', 'nancumsum', 'nanmax', 'nanmean', 'nanmedian', 'nanmin', 'nanpercentile', 'nanprod', 'nanquantile', 'nanstd', 'nansum', 'nanvar', 'nbytes', 'ndarray', 'ndenumerate', 'ndim', 'ndindex', 'nditer', 'negative', 'nested_iters', 'newaxis', 'nextafter', 'nonzero', 'not_equal', 'numarray', 'number', 'obj2sctype', 'object_', 'ogrid', 'oldnumeric', 'ones', 'ones_like', 'outer', 'packbits', 'pad', 'partition', 'percentile', 'pi', 'piecewise', 'place', 'poly', 'poly1d', 'polyadd', 'polyder', 'polydiv', 'polyfit', 'polyint', 'polymul', 'polynomial', 'polysub', 'polyval', 'positive', 'power', 'printoptions', 'prod', 'product', 'promote_types', 'ptp', 'put', 'put_along_axis', 'putmask', 'quantile', 'r_', 'rad2deg', 'radians', 'random', 'ravel', 'ravel_multi_index', 'real', 'real_if_close', 'rec', 'recarray', 'recfromcsv', 'recfromtxt', 'reciprocal', 'record', 'remainder', 'repeat', 'require', 'reshape', 'resize', 'result_type', 'right_shift', 'rint', 'roll', 'rollaxis', 'roots', 'rot90', 'round', 'round_', 'row_stack', 's_', 'safe_eval', 'save', 'savetxt', 'savez', 'savez_compressed', 'sctype2char', 'sctypeDict', 'sctypes', 'searchsorted', 'select', 'set_numeric_ops', 'set_printoptions', 'set_string_function', 'setbufsize', 'setdiff1d', 'seterr', 'seterrcall', 'seterrobj', 'setxor1d', 'shape', 'shares_memory', 'short', 'show_config', 'show_runtime', 'sign', 'signbit', 'signedinteger', 'sin', 'sinc', 'single', 'singlecomplex', 'sinh', 'size', 'sometrue', 'sort', 'sort_complex', 'source', 'spacing', 'split', 'sqrt', 'square', 'squeeze', 'stack', 'std', 'str_', 'string_', 'subtract', 'sum', 'swapaxes', 'take', 'take_along_axis', 'tan', 'tanh', 'tensordot', 'test', 'testing', 'tile', 'timedelta64', 'trace', 'tracemalloc_domain', 'transpose', 'trapz', 'tri', 'tril', 'tril_indices', 'tril_indices_from', 'trim_zeros', 'triu', 'triu_indices', 'triu_indices_from', 'true_divide', 'trunc', 'typecodes', 'typename', 'ubyte', 'ufunc', 'uint', 'uint16', 'uint32', 'uint64', 'uint8', 'uintc', 'uintp', 'ulonglong', 'unicode_', 'union1d', 'unique', 'unpackbits', 'unravel_index', 'unsignedinteger', 'unwrap', 'ushort', 'vander', 'var', 'vdot', 'vectorize', 'version', 'void', 'vsplit', 'vstack', 'where', 'who', 'zeros', 'zeros_like']\n"
          ]
        }
      ]
    },
    {
      "cell_type": "code",
      "source": [
        "help(np.abs)\n",
        "# help(np)"
      ],
      "metadata": {
        "colab": {
          "base_uri": "https://localhost:8080/"
        },
        "id": "KNF19TSBy3OF",
        "outputId": "86eaa02c-9aae-4ccc-bfd9-d98ad572cc93"
      },
      "execution_count": 12,
      "outputs": [
        {
          "output_type": "stream",
          "name": "stdout",
          "text": [
            "Help on ufunc:\n",
            "\n",
            "absolute = <ufunc 'absolute'>\n",
            "    absolute(x, /, out=None, *, where=True, casting='same_kind', order='K', dtype=None, subok=True[, signature, extobj])\n",
            "    \n",
            "    Calculate the absolute value element-wise.\n",
            "    \n",
            "    ``np.abs`` is a shorthand for this function.\n",
            "    \n",
            "    Parameters\n",
            "    ----------\n",
            "    x : array_like\n",
            "        Input array.\n",
            "    out : ndarray, None, or tuple of ndarray and None, optional\n",
            "        A location into which the result is stored. If provided, it must have\n",
            "        a shape that the inputs broadcast to. If not provided or None,\n",
            "        a freshly-allocated array is returned. A tuple (possible only as a\n",
            "        keyword argument) must have length equal to the number of outputs.\n",
            "    where : array_like, optional\n",
            "        This condition is broadcast over the input. At locations where the\n",
            "        condition is True, the `out` array will be set to the ufunc result.\n",
            "        Elsewhere, the `out` array will retain its original value.\n",
            "        Note that if an uninitialized `out` array is created via the default\n",
            "        ``out=None``, locations within it where the condition is False will\n",
            "        remain uninitialized.\n",
            "    **kwargs\n",
            "        For other keyword-only arguments, see the\n",
            "        :ref:`ufunc docs <ufuncs.kwargs>`.\n",
            "    \n",
            "    Returns\n",
            "    -------\n",
            "    absolute : ndarray\n",
            "        An ndarray containing the absolute value of\n",
            "        each element in `x`.  For complex input, ``a + ib``, the\n",
            "        absolute value is :math:`\\sqrt{ a^2 + b^2 }`.\n",
            "        This is a scalar if `x` is a scalar.\n",
            "    \n",
            "    Examples\n",
            "    --------\n",
            "    >>> x = np.array([-1.2, 1.2])\n",
            "    >>> np.absolute(x)\n",
            "    array([ 1.2,  1.2])\n",
            "    >>> np.absolute(1.2 + 1j)\n",
            "    1.5620499351813308\n",
            "    \n",
            "    Plot the function over ``[-10, 10]``:\n",
            "    \n",
            "    >>> import matplotlib.pyplot as plt\n",
            "    \n",
            "    >>> x = np.linspace(start=-10, stop=10, num=101)\n",
            "    >>> plt.plot(x, np.absolute(x))\n",
            "    >>> plt.show()\n",
            "    \n",
            "    Plot the function over the complex plane:\n",
            "    \n",
            "    >>> xx = x + 1j * x[:, np.newaxis]\n",
            "    >>> plt.imshow(np.abs(xx), extent=[-10, 10, -10, 10], cmap='gray')\n",
            "    >>> plt.show()\n",
            "    \n",
            "    The `abs` function can be used as a shorthand for ``np.absolute`` on\n",
            "    ndarrays.\n",
            "    \n",
            "    >>> x = np.array([-1.2, 1.2])\n",
            "    >>> abs(x)\n",
            "    array([1.2, 1.2])\n",
            "\n"
          ]
        }
      ]
    },
    {
      "cell_type": "code",
      "source": [
        "x = np.array([-1.2, 1.2])\n",
        "print(np.absolute(x))\n",
        "print(np.absolute(1.2 + 1j))"
      ],
      "metadata": {
        "colab": {
          "base_uri": "https://localhost:8080/"
        },
        "id": "bBt1-gOJOmk_",
        "outputId": "864dd6a8-cd30-40da-9014-0f2cd561255c"
      },
      "execution_count": 13,
      "outputs": [
        {
          "output_type": "stream",
          "name": "stdout",
          "text": [
            "[1.2 1.2]\n",
            "1.5620499351813308\n"
          ]
        }
      ]
    },
    {
      "cell_type": "code",
      "source": [
        "np.sqrt(np.power(1.2, 2) + 1)"
      ],
      "metadata": {
        "colab": {
          "base_uri": "https://localhost:8080/"
        },
        "id": "9xTNmGseOsgS",
        "outputId": "35ad296a-2a08-4e82-e0f8-bcba498b192b"
      },
      "execution_count": 14,
      "outputs": [
        {
          "output_type": "execute_result",
          "data": {
            "text/plain": [
              "1.5620499351813308"
            ]
          },
          "metadata": {},
          "execution_count": 14
        }
      ]
    },
    {
      "cell_type": "markdown",
      "source": [
        "Some very useful modules form the Python standard library are  `os`, `sys`, `math`, `shutil`, `re`, `subprocess`, `multiprocessing`, `threading`."
      ],
      "metadata": {
        "id": "eL2cFSRcQXrh"
      }
    },
    {
      "cell_type": "markdown",
      "source": [
        "## Variables and Types\n",
        "\n"
      ],
      "metadata": {
        "id": "jSYghWu1RE1z"
      }
    },
    {
      "cell_type": "code",
      "source": [
        "x = 12\n",
        "print(type(x))\n",
        "x = 12.0\n",
        "print(type(x))"
      ],
      "metadata": {
        "colab": {
          "base_uri": "https://localhost:8080/"
        },
        "id": "-kQOYLvDRr8u",
        "outputId": "067a722a-d512-4cc2-af4f-e739a3e29e6d"
      },
      "execution_count": 15,
      "outputs": [
        {
          "output_type": "stream",
          "name": "stdout",
          "text": [
            "<class 'int'>\n",
            "<class 'float'>\n"
          ]
        }
      ]
    },
    {
      "cell_type": "markdown",
      "source": [
        "If we try to use a variable that has not yet been defined we get a `NameError`:"
      ],
      "metadata": {
        "id": "GClb3ZNaTjy8"
      }
    },
    {
      "cell_type": "code",
      "source": [
        "print(y)"
      ],
      "metadata": {
        "colab": {
          "base_uri": "https://localhost:8080/",
          "height": 141
        },
        "id": "nMjJafO0TMkQ",
        "outputId": "fbb7d689-43c9-4447-fb0b-7d879e1f1506"
      },
      "execution_count": 16,
      "outputs": [
        {
          "output_type": "error",
          "ename": "NameError",
          "evalue": "name 'y' is not defined",
          "traceback": [
            "\u001b[0;31m---------------------------------------------------------------------------\u001b[0m",
            "\u001b[0;31mNameError\u001b[0m                                 Traceback (most recent call last)",
            "\u001b[0;32m<ipython-input-16-d9183e048de3>\u001b[0m in \u001b[0;36m<cell line: 1>\u001b[0;34m()\u001b[0m\n\u001b[0;32m----> 1\u001b[0;31m \u001b[0mprint\u001b[0m\u001b[0;34m(\u001b[0m\u001b[0my\u001b[0m\u001b[0;34m)\u001b[0m\u001b[0;34m\u001b[0m\u001b[0;34m\u001b[0m\u001b[0m\n\u001b[0m",
            "\u001b[0;31mNameError\u001b[0m: name 'y' is not defined"
          ]
        }
      ]
    },
    {
      "cell_type": "markdown",
      "source": [
        "### Fundamental Types"
      ],
      "metadata": {
        "id": "qPKy00WDUyVQ"
      }
    },
    {
      "cell_type": "code",
      "source": [
        "x = 1.0 - 1.0j\n",
        "print(type(x))\n",
        "y = np.array([[2, 3, 4], [3, 4, 5]])\n",
        "print(type(y))\n",
        "\n",
        "print(x)\n",
        "print(x.real, x.imag)"
      ],
      "metadata": {
        "id": "komIrS_hPaV8",
        "colab": {
          "base_uri": "https://localhost:8080/"
        },
        "outputId": "efd65372-928c-40e4-8d58-a91716d1b29e"
      },
      "execution_count": 17,
      "outputs": [
        {
          "output_type": "stream",
          "name": "stdout",
          "text": [
            "<class 'complex'>\n",
            "<class 'numpy.ndarray'>\n",
            "(1-1j)\n",
            "1.0 -1.0\n"
          ]
        }
      ]
    },
    {
      "cell_type": "code",
      "source": [
        "x = 12.0\n",
        "\n",
        "print(type(x) is float)\n",
        "print(type(x) is complex)\n"
      ],
      "metadata": {
        "colab": {
          "base_uri": "https://localhost:8080/"
        },
        "id": "QMEzPM7iUDqB",
        "outputId": "b2f61210-b887-4c90-9e8c-371eb7d2cd11"
      },
      "execution_count": 18,
      "outputs": [
        {
          "output_type": "stream",
          "name": "stdout",
          "text": [
            "True\n",
            "False\n"
          ]
        }
      ]
    },
    {
      "cell_type": "code",
      "source": [
        "isinstance(x, float)"
      ],
      "metadata": {
        "colab": {
          "base_uri": "https://localhost:8080/"
        },
        "id": "5OsCPnU4U6OU",
        "outputId": "d5988ea7-31de-49af-98ed-f2c7176b547c"
      },
      "execution_count": 19,
      "outputs": [
        {
          "output_type": "execute_result",
          "data": {
            "text/plain": [
              "True"
            ]
          },
          "metadata": {},
          "execution_count": 19
        }
      ]
    },
    {
      "cell_type": "markdown",
      "source": [
        "### Operators and Comparisons\n"
      ],
      "metadata": {
        "id": "GZxJvGEGVoVu"
      }
    },
    {
      "cell_type": "markdown",
      "source": [],
      "metadata": {
        "id": "r4XPVIe4WkCC"
      }
    },
    {
      "cell_type": "code",
      "source": [
        "print(1 + 2)\n",
        "print(1 - 2)\n",
        "print(2 * 3)\n",
        "print(2**3) # Note! The power operators in python isn't ^, but **\n",
        "print(5/2)\n",
        "print(5//2)\n"
      ],
      "metadata": {
        "colab": {
          "base_uri": "https://localhost:8080/"
        },
        "id": "QEJ9_fcVVtK8",
        "outputId": "d49a3556-154b-413b-ab57-3b8784224f2a"
      },
      "execution_count": 20,
      "outputs": [
        {
          "output_type": "stream",
          "name": "stdout",
          "text": [
            "3\n",
            "-1\n",
            "6\n",
            "8\n",
            "2.5\n",
            "2\n"
          ]
        }
      ]
    },
    {
      "cell_type": "code",
      "source": [
        "print(True and False)\n",
        "print(not False)\n",
        "print(False or True)"
      ],
      "metadata": {
        "colab": {
          "base_uri": "https://localhost:8080/"
        },
        "id": "iFp4aaNRV2hA",
        "outputId": "b58d6368-2cbd-4626-ac3d-81eeb097ac89"
      },
      "execution_count": 21,
      "outputs": [
        {
          "output_type": "stream",
          "name": "stdout",
          "text": [
            "False\n",
            "True\n",
            "True\n"
          ]
        }
      ]
    },
    {
      "cell_type": "code",
      "source": [
        "print(2 > 1, 2 < 1)\n",
        "print(2 > 2, 2<3)\n",
        "print(2>= 2, 2<=2)\n"
      ],
      "metadata": {
        "colab": {
          "base_uri": "https://localhost:8080/"
        },
        "id": "Ih8eF-ApWzTy",
        "outputId": "ee9f0358-3fe3-43f7-bed4-9581312a96bc"
      },
      "execution_count": 22,
      "outputs": [
        {
          "output_type": "stream",
          "name": "stdout",
          "text": [
            "True False\n",
            "False True\n",
            "True True\n"
          ]
        }
      ]
    },
    {
      "cell_type": "code",
      "source": [
        "l1 = l2 = np.random.randint(3, 4, size = (3, 4))\n",
        "l1 is l2"
      ],
      "metadata": {
        "colab": {
          "base_uri": "https://localhost:8080/"
        },
        "id": "fdJ87JygX-Ns",
        "outputId": "c657dd6b-8612-4e63-cebd-138f255ef737"
      },
      "execution_count": 23,
      "outputs": [
        {
          "output_type": "execute_result",
          "data": {
            "text/plain": [
              "True"
            ]
          },
          "metadata": {},
          "execution_count": 23
        }
      ]
    },
    {
      "cell_type": "markdown",
      "source": [
        "### Strings, Lists and Dictionaries"
      ],
      "metadata": {
        "id": "ueOO6jIQY9t1"
      }
    },
    {
      "cell_type": "code",
      "source": [
        "m = 'Hello World!'\n",
        "type(m)"
      ],
      "metadata": {
        "colab": {
          "base_uri": "https://localhost:8080/"
        },
        "id": "8rjhY5DwYUbT",
        "outputId": "418ffbd8-a499-46b6-f52e-5eec614cd509"
      },
      "execution_count": 24,
      "outputs": [
        {
          "output_type": "execute_result",
          "data": {
            "text/plain": [
              "str"
            ]
          },
          "metadata": {},
          "execution_count": 24
        }
      ]
    },
    {
      "cell_type": "code",
      "source": [
        "print(len(m))"
      ],
      "metadata": {
        "colab": {
          "base_uri": "https://localhost:8080/"
        },
        "id": "cCllxIU1gMkf",
        "outputId": "132a23bc-670e-4595-93c1-c89b77a33da9"
      },
      "execution_count": 25,
      "outputs": [
        {
          "output_type": "stream",
          "name": "stdout",
          "text": [
            "12\n"
          ]
        }
      ]
    },
    {
      "cell_type": "code",
      "source": [
        "# Replacing in String Classes\n",
        "m2 = m.replace('World', 'Jupyter')\n",
        "print(m2)"
      ],
      "metadata": {
        "colab": {
          "base_uri": "https://localhost:8080/"
        },
        "id": "dYCRwbWogSGI",
        "outputId": "d9792c02-37de-4673-e53f-4f7517a298fb"
      },
      "execution_count": 26,
      "outputs": [
        {
          "output_type": "stream",
          "name": "stdout",
          "text": [
            "Hello Jupyter!\n"
          ]
        }
      ]
    },
    {
      "cell_type": "code",
      "source": [
        "# Indexing in String Classes\n",
        "m[0]\n"
      ],
      "metadata": {
        "colab": {
          "base_uri": "https://localhost:8080/",
          "height": 35
        },
        "id": "tpLrAs5hgim8",
        "outputId": "ae479872-2507-490b-d094-db500367a652"
      },
      "execution_count": 27,
      "outputs": [
        {
          "output_type": "execute_result",
          "data": {
            "text/plain": [
              "'H'"
            ],
            "application/vnd.google.colaboratory.intrinsic+json": {
              "type": "string"
            }
          },
          "metadata": {},
          "execution_count": 27
        }
      ]
    },
    {
      "cell_type": "markdown",
      "source": [
        "### String Slicing"
      ],
      "metadata": {
        "id": "N0FXaFzOoIFj"
      }
    },
    {
      "cell_type": "code",
      "source": [
        "print(m[0:5]) # = print(m[:5])\n",
        "print(m[:5])\n",
        "print(m[6:12]) # = print(m[6:])\n",
        "print(m[6:])\n",
        "print(m[:])"
      ],
      "metadata": {
        "colab": {
          "base_uri": "https://localhost:8080/"
        },
        "id": "W8G8aiSGmQrB",
        "outputId": "31d60b43-88d3-44a7-c2e6-3a404a4e00f2"
      },
      "execution_count": 28,
      "outputs": [
        {
          "output_type": "stream",
          "name": "stdout",
          "text": [
            "Hello\n",
            "Hello\n",
            "World!\n",
            "World!\n",
            "Hello World!\n"
          ]
        }
      ]
    },
    {
      "cell_type": "code",
      "source": [
        "print(m[0:5:1])\n",
        "print(m[0:5:2])\n",
        "print(m[::1])\n",
        "print(m[:5:1])\n",
        "print(m[::2])"
      ],
      "metadata": {
        "colab": {
          "base_uri": "https://localhost:8080/"
        },
        "id": "-VCPll48mTR_",
        "outputId": "aa80818b-f4e4-435b-d98a-090c464a1f75"
      },
      "execution_count": 29,
      "outputs": [
        {
          "output_type": "stream",
          "name": "stdout",
          "text": [
            "Hello\n",
            "Hlo\n",
            "Hello World!\n",
            "Hello\n",
            "HloWrd\n"
          ]
        }
      ]
    },
    {
      "cell_type": "markdown",
      "source": [
        "### Operations on String Data"
      ],
      "metadata": {
        "id": "sPF8EAG0pPDO"
      }
    },
    {
      "cell_type": "code",
      "source": [
        "print(\"str1\", \"str2\", \"str3\")\n",
        "print('str1', 'str2', 'str3')"
      ],
      "metadata": {
        "colab": {
          "base_uri": "https://localhost:8080/"
        },
        "id": "1IulgibLpIrt",
        "outputId": "94e49ebc-30cc-441e-ddb2-baf0317dcfb0"
      },
      "execution_count": 30,
      "outputs": [
        {
          "output_type": "stream",
          "name": "stdout",
          "text": [
            "str1 str2 str3\n",
            "str1 str2 str3\n"
          ]
        }
      ]
    },
    {
      "cell_type": "code",
      "source": [
        "print(\"str1\" + \"str2\" + \"str3\") # Not same as \"print(\"str1\", \"str2\", \"str3\")\""
      ],
      "metadata": {
        "colab": {
          "base_uri": "https://localhost:8080/"
        },
        "id": "X9_BKvILpZ0Y",
        "outputId": "37777e4e-2850-44ca-f5df-4aba16c5292d"
      },
      "execution_count": 31,
      "outputs": [
        {
          "output_type": "stream",
          "name": "stdout",
          "text": [
            "str1str2str3\n"
          ]
        }
      ]
    },
    {
      "cell_type": "code",
      "source": [
        "print(\"str1\", 1.0, False, 1j)"
      ],
      "metadata": {
        "colab": {
          "base_uri": "https://localhost:8080/"
        },
        "id": "aM05B4Y9pl7w",
        "outputId": "e931e16e-3b81-404e-da03-7f552dd979c6"
      },
      "execution_count": 32,
      "outputs": [
        {
          "output_type": "stream",
          "name": "stdout",
          "text": [
            "str1 1.0 False 1j\n"
          ]
        }
      ]
    },
    {
      "cell_type": "markdown",
      "source": [
        "### String Formatting"
      ],
      "metadata": {
        "id": "sTEwdTjFsDkf"
      }
    },
    {
      "cell_type": "code",
      "source": [
        "s2 = \"Value 1 is %f and Value 2 is %d\" % (3, 4)"
      ],
      "metadata": {
        "id": "XMKpeJ6WqLoR"
      },
      "execution_count": 33,
      "outputs": []
    },
    {
      "cell_type": "code",
      "source": [
        "print(s2)"
      ],
      "metadata": {
        "colab": {
          "base_uri": "https://localhost:8080/"
        },
        "id": "7WczuLNvqSav",
        "outputId": "de221f77-3787-4924-f5db-4a44819e2e8c"
      },
      "execution_count": 34,
      "outputs": [
        {
          "output_type": "stream",
          "name": "stdout",
          "text": [
            "Value 1 is 3.000000 and Value 2 is 4\n"
          ]
        }
      ]
    },
    {
      "cell_type": "code",
      "source": [
        "s3 = \"Value 1 is {0} Value 2 is {1}\".format(3, 4)"
      ],
      "metadata": {
        "id": "kNqjkrpBsAMO"
      },
      "execution_count": 35,
      "outputs": []
    },
    {
      "cell_type": "code",
      "source": [
        "print(s3)"
      ],
      "metadata": {
        "id": "EuaAxIDRsY-i",
        "outputId": "f23c1af5-24bc-4593-b2ed-2909e5494f3a",
        "colab": {
          "base_uri": "https://localhost:8080/"
        }
      },
      "execution_count": 36,
      "outputs": [
        {
          "output_type": "stream",
          "name": "stdout",
          "text": [
            "Value 1 is 3 Value 2 is 4\n"
          ]
        }
      ]
    },
    {
      "cell_type": "markdown",
      "source": [
        "### Lists\n",
        "Lists are very similar to strings, except that each element can be of any type.\n",
        "\n",
        "The syntax for creating lists in Python is `[...]`"
      ],
      "metadata": {
        "id": "zO6rsY4Fspv8"
      }
    },
    {
      "cell_type": "code",
      "source": [
        "mm = [1, 2, 3, 4, 5]\n",
        "print(type(mm))\n",
        "print(mm)"
      ],
      "metadata": {
        "id": "DjiHJILusvLy",
        "outputId": "3acc186b-cade-4517-f3ea-e2224a43dc2a",
        "colab": {
          "base_uri": "https://localhost:8080/"
        }
      },
      "execution_count": 37,
      "outputs": [
        {
          "output_type": "stream",
          "name": "stdout",
          "text": [
            "<class 'list'>\n",
            "[1, 2, 3, 4, 5]\n"
          ]
        }
      ]
    },
    {
      "cell_type": "code",
      "source": [
        "mm[0]"
      ],
      "metadata": {
        "id": "pgDIeHOhtriH",
        "outputId": "43b6e8dd-b293-4fd7-dc56-13d3670be87a",
        "colab": {
          "base_uri": "https://localhost:8080/"
        }
      },
      "execution_count": 38,
      "outputs": [
        {
          "output_type": "execute_result",
          "data": {
            "text/plain": [
              "1"
            ]
          },
          "metadata": {},
          "execution_count": 38
        }
      ]
    },
    {
      "cell_type": "code",
      "source": [
        "mm[0:6:1]"
      ],
      "metadata": {
        "id": "Uv-nTxV7xxPs",
        "outputId": "951ce6a9-c255-47b5-d9a7-e3f24f9b08e4",
        "colab": {
          "base_uri": "https://localhost:8080/"
        }
      },
      "execution_count": 39,
      "outputs": [
        {
          "output_type": "execute_result",
          "data": {
            "text/plain": [
              "[1, 2, 3, 4, 5]"
            ]
          },
          "metadata": {},
          "execution_count": 39
        }
      ]
    },
    {
      "cell_type": "code",
      "source": [
        "mm[:6:1]"
      ],
      "metadata": {
        "id": "8P0WVyHdx069",
        "outputId": "82e6ffcf-36f7-42dd-a839-6b110a486cc3",
        "colab": {
          "base_uri": "https://localhost:8080/"
        }
      },
      "execution_count": 40,
      "outputs": [
        {
          "output_type": "execute_result",
          "data": {
            "text/plain": [
              "[1, 2, 3, 4, 5]"
            ]
          },
          "metadata": {},
          "execution_count": 40
        }
      ]
    },
    {
      "cell_type": "code",
      "source": [
        "print(mm[::])\n",
        "print(mm[::2])"
      ],
      "metadata": {
        "id": "BsipkPUNx4G8",
        "outputId": "b1f186f2-1444-40cb-bfbb-34db87d75adb",
        "colab": {
          "base_uri": "https://localhost:8080/"
        }
      },
      "execution_count": 41,
      "outputs": [
        {
          "output_type": "stream",
          "name": "stdout",
          "text": [
            "[1, 2, 3, 4, 5]\n",
            "[1, 3, 5]\n"
          ]
        }
      ]
    },
    {
      "cell_type": "markdown",
      "source": [
        "Elements in a list do not all have to be of the same type."
      ],
      "metadata": {
        "id": "NjUlQXouyQNk"
      }
    },
    {
      "cell_type": "code",
      "source": [
        "n = [1, 'a', \"b\", 1.2, 1-3j]\n",
        "print(n)"
      ],
      "metadata": {
        "id": "L1QSWrb1x6Te",
        "outputId": "ecaa3b04-7e7f-4e38-c8af-2ec020ad76c1",
        "colab": {
          "base_uri": "https://localhost:8080/"
        }
      },
      "execution_count": 42,
      "outputs": [
        {
          "output_type": "stream",
          "name": "stdout",
          "text": [
            "[1, 'a', 'b', 1.2, (1-3j)]\n"
          ]
        }
      ]
    },
    {
      "cell_type": "markdown",
      "source": [
        "Python lists can be inhomogeneous and arbitrarily nested."
      ],
      "metadata": {
        "id": "KlVyOCSRyhaY"
      }
    },
    {
      "cell_type": "code",
      "source": [
        "nestedList = [1, [2, [3, [4]]]]\n",
        "print(nestedList)"
      ],
      "metadata": {
        "id": "Q3C1Ppebybz2",
        "outputId": "05e03264-19de-4611-c026-6d56aba69d9f",
        "colab": {
          "base_uri": "https://localhost:8080/"
        }
      },
      "execution_count": 43,
      "outputs": [
        {
          "output_type": "stream",
          "name": "stdout",
          "text": [
            "[1, [2, [3, [4]]]]\n"
          ]
        }
      ]
    },
    {
      "cell_type": "code",
      "source": [
        "# nestedList.shape gives ERROR\n",
        "# nestedList.size gives ERROR"
      ],
      "metadata": {
        "id": "vJSnS8naytD-"
      },
      "execution_count": 44,
      "outputs": []
    },
    {
      "cell_type": "code",
      "source": [
        "start = 10\n",
        "stop = 30\n",
        "step = 2\n",
        "\n",
        "l = range(start, stop, step) # This line gives iterator no list\n",
        "list(l)"
      ],
      "metadata": {
        "id": "uZHZntRVzNbc",
        "outputId": "4e8b77f7-e84c-4ac5-f652-476cc90d5cb0",
        "colab": {
          "base_uri": "https://localhost:8080/"
        }
      },
      "execution_count": 45,
      "outputs": [
        {
          "output_type": "execute_result",
          "data": {
            "text/plain": [
              "[10, 12, 14, 16, 18, 20, 22, 24, 26, 28]"
            ]
          },
          "metadata": {},
          "execution_count": 45
        }
      ]
    },
    {
      "cell_type": "code",
      "source": [
        "print(m2) # its type is \"string\"\n",
        "m2_ = list(m2)  # its type is \"list\"\n",
        "print(m2_)"
      ],
      "metadata": {
        "id": "o4pnb_PDyygW",
        "outputId": "b9d1c21c-8d9f-44bc-a0b3-39a4ef9915c6",
        "colab": {
          "base_uri": "https://localhost:8080/"
        }
      },
      "execution_count": 46,
      "outputs": [
        {
          "output_type": "stream",
          "name": "stdout",
          "text": [
            "Hello Jupyter!\n",
            "['H', 'e', 'l', 'l', 'o', ' ', 'J', 'u', 'p', 'y', 't', 'e', 'r', '!']\n"
          ]
        }
      ]
    },
    {
      "cell_type": "code",
      "source": [
        "print(m2_.sort()) # FIX THIS LINE"
      ],
      "metadata": {
        "id": "rFdTsi8O0RC8",
        "outputId": "1af983a9-1aa0-40be-822b-1752619826c6",
        "colab": {
          "base_uri": "https://localhost:8080/"
        }
      },
      "execution_count": 47,
      "outputs": [
        {
          "output_type": "stream",
          "name": "stdout",
          "text": [
            "None\n"
          ]
        }
      ]
    },
    {
      "cell_type": "code",
      "source": [
        "l = []\n",
        "\n",
        "# add an elements using `append`\n",
        "l.append(\"A\")\n",
        "l.append(\"d\")\n",
        "l.append(\"d\")\n",
        "\n",
        "print(l)"
      ],
      "metadata": {
        "id": "uRDZDw7F0xCA",
        "outputId": "4261dc53-022d-4778-9551-c61e5fc6b7f3",
        "colab": {
          "base_uri": "https://localhost:8080/"
        }
      },
      "execution_count": 48,
      "outputs": [
        {
          "output_type": "stream",
          "name": "stdout",
          "text": [
            "['A', 'd', 'd']\n"
          ]
        }
      ]
    },
    {
      "cell_type": "code",
      "source": [
        "l[1] = 'g'\n",
        "l[2] = 34\n",
        "print(l)"
      ],
      "metadata": {
        "id": "NtBSlJOz1SfS",
        "outputId": "e6bfcbb3-cb10-4604-b8fe-e02ece9c3737",
        "colab": {
          "base_uri": "https://localhost:8080/"
        }
      },
      "execution_count": 49,
      "outputs": [
        {
          "output_type": "stream",
          "name": "stdout",
          "text": [
            "['A', 'g', 34]\n"
          ]
        }
      ]
    },
    {
      "cell_type": "code",
      "source": [
        "l.remove('g')\n",
        "l.append('h')\n",
        "l.append('a')\n",
        "l.append('s')\n",
        "l.append('a')\n",
        "l.append('n')\n",
        "print(l)\n"
      ],
      "metadata": {
        "id": "oObc16wf1Xpc",
        "outputId": "3471b253-7cef-450a-b379-109e620048c3",
        "colab": {
          "base_uri": "https://localhost:8080/"
        }
      },
      "execution_count": 50,
      "outputs": [
        {
          "output_type": "stream",
          "name": "stdout",
          "text": [
            "['A', 34, 'h', 'a', 's', 'a', 'n']\n"
          ]
        }
      ]
    },
    {
      "cell_type": "code",
      "source": [
        "l.insert(2, 'gozde')\n",
        "print(l)"
      ],
      "metadata": {
        "id": "CkpzaSUP1iff",
        "outputId": "fdcf18e5-277f-49d3-f8f4-f3c76ad4e419",
        "colab": {
          "base_uri": "https://localhost:8080/"
        }
      },
      "execution_count": 51,
      "outputs": [
        {
          "output_type": "stream",
          "name": "stdout",
          "text": [
            "['A', 34, 'gozde', 'h', 'a', 's', 'a', 'n']\n"
          ]
        }
      ]
    },
    {
      "cell_type": "code",
      "source": [
        "del l[2]\n",
        "del l[2]\n",
        "print(l)"
      ],
      "metadata": {
        "id": "OAicUoD42JC_",
        "outputId": "1793246f-6c9a-49dc-8c59-3b39445ce9ad",
        "colab": {
          "base_uri": "https://localhost:8080/"
        }
      },
      "execution_count": 52,
      "outputs": [
        {
          "output_type": "stream",
          "name": "stdout",
          "text": [
            "['A', 34, 'a', 's', 'a', 'n']\n"
          ]
        }
      ]
    },
    {
      "cell_type": "code",
      "source": [
        "help(list)"
      ],
      "metadata": {
        "id": "odfQY12M2U0J"
      },
      "execution_count": null,
      "outputs": []
    },
    {
      "cell_type": "code",
      "source": [
        "l.__len__()"
      ],
      "metadata": {
        "id": "nuoCdKLf2cYb",
        "outputId": "af4f35c8-09b9-4047-a452-c39c5de9c59e",
        "colab": {
          "base_uri": "https://localhost:8080/"
        }
      },
      "execution_count": 54,
      "outputs": [
        {
          "output_type": "execute_result",
          "data": {
            "text/plain": [
              "6"
            ]
          },
          "metadata": {},
          "execution_count": 54
        }
      ]
    },
    {
      "cell_type": "markdown",
      "source": [
        "### Tuples"
      ],
      "metadata": {
        "id": "8fZW-Kt6mpm2"
      }
    },
    {
      "cell_type": "code",
      "source": [
        "point = (10, 20)\n",
        "print(point, type(point))"
      ],
      "metadata": {
        "id": "vl8VyZfP2rCn",
        "outputId": "1bfe4da7-f5b3-4cea-9f18-675f64a5211d",
        "colab": {
          "base_uri": "https://localhost:8080/"
        }
      },
      "execution_count": 55,
      "outputs": [
        {
          "output_type": "stream",
          "name": "stdout",
          "text": [
            "(10, 20) <class 'tuple'>\n"
          ]
        }
      ]
    },
    {
      "cell_type": "code",
      "source": [
        "a, b = point\n",
        "print(\"Value 1 is\", a)\n",
        "print(\"Value 2 is\", b)"
      ],
      "metadata": {
        "id": "pUCpaj1H262B",
        "outputId": "51c131a4-0b66-444a-dead-9611fae04a0d",
        "colab": {
          "base_uri": "https://localhost:8080/"
        }
      },
      "execution_count": 56,
      "outputs": [
        {
          "output_type": "stream",
          "name": "stdout",
          "text": [
            "Value 1 is 10\n",
            "Value 2 is 20\n"
          ]
        }
      ]
    },
    {
      "cell_type": "markdown",
      "source": [
        "If we try to assign a new value to an element in a tuple we get an error."
      ],
      "metadata": {
        "id": "t-MnFbzJ46SK"
      }
    },
    {
      "cell_type": "code",
      "source": [
        "point[0] = 20"
      ],
      "metadata": {
        "id": "umS5FvCJ3OKO",
        "outputId": "d05c245c-47a0-45af-a81a-f77290fc12ef",
        "colab": {
          "base_uri": "https://localhost:8080/",
          "height": 141
        }
      },
      "execution_count": 58,
      "outputs": [
        {
          "output_type": "error",
          "ename": "TypeError",
          "evalue": "'tuple' object does not support item assignment",
          "traceback": [
            "\u001b[0;31m---------------------------------------------------------------------------\u001b[0m",
            "\u001b[0;31mTypeError\u001b[0m                                 Traceback (most recent call last)",
            "\u001b[0;32m<ipython-input-58-9734b1daa940>\u001b[0m in \u001b[0;36m<cell line: 1>\u001b[0;34m()\u001b[0m\n\u001b[0;32m----> 1\u001b[0;31m \u001b[0mpoint\u001b[0m\u001b[0;34m[\u001b[0m\u001b[0;36m0\u001b[0m\u001b[0;34m]\u001b[0m \u001b[0;34m=\u001b[0m \u001b[0;36m20\u001b[0m\u001b[0;34m\u001b[0m\u001b[0;34m\u001b[0m\u001b[0m\n\u001b[0m",
            "\u001b[0;31mTypeError\u001b[0m: 'tuple' object does not support item assignment"
          ]
        }
      ]
    },
    {
      "cell_type": "markdown",
      "source": [
        "### Dictionaries"
      ],
      "metadata": {
        "id": "snV2ZuS7muHP"
      }
    },
    {
      "cell_type": "code",
      "source": [
        "options = {\"epoch number\" : 1.0,\n",
        "           \"initial learning rate\" : 0.002,\n",
        "           \"normalization technique\" : \"bnorm\"}"
      ],
      "metadata": {
        "id": "UyTiLKit5GvF"
      },
      "execution_count": 59,
      "outputs": []
    },
    {
      "cell_type": "code",
      "source": [
        "print(options, type(options))"
      ],
      "metadata": {
        "id": "vFLcJbxi5guu",
        "outputId": "9345fdb7-f524-420f-e972-2a2ff27ca9d4",
        "colab": {
          "base_uri": "https://localhost:8080/"
        }
      },
      "execution_count": 60,
      "outputs": [
        {
          "output_type": "stream",
          "name": "stdout",
          "text": [
            "{'epoch number': 1.0, 'initial learning rate': 0.002, 'normalization technique': 'bnorm'} <class 'dict'>\n"
          ]
        }
      ]
    },
    {
      "cell_type": "code",
      "source": [
        "options2 = {\"parameter1\" : 1.0,\n",
        "            \"parameter2\" : 2.0,\n",
        "            \"parameter3\" : 3.0,}\n",
        "print(options2)\n"
      ],
      "metadata": {
        "id": "OYktPUX85o-D",
        "outputId": "15b655ab-c6af-4ac0-ab70-b0ca6dca7f1b",
        "colab": {
          "base_uri": "https://localhost:8080/"
        }
      },
      "execution_count": 61,
      "outputs": [
        {
          "output_type": "stream",
          "name": "stdout",
          "text": [
            "{'parameter1': 1.0, 'parameter2': 2.0, 'parameter3': 3.0}\n"
          ]
        }
      ]
    },
    {
      "cell_type": "code",
      "source": [
        "print(\"parameter1 = \" + str(options2[\"parameter1\"]))\n",
        "print(\"parameter2 = \" + str(options2[\"parameter2\"]))\n",
        "print(\"parameter3 = \" + str(options2[\"parameter3\"]))"
      ],
      "metadata": {
        "id": "p2QCL7o058Sn",
        "outputId": "bc97f6ea-608c-487a-9133-3f9b38c63fbf",
        "colab": {
          "base_uri": "https://localhost:8080/"
        }
      },
      "execution_count": 62,
      "outputs": [
        {
          "output_type": "stream",
          "name": "stdout",
          "text": [
            "parameter1 = 1.0\n",
            "parameter2 = 2.0\n",
            "parameter3 = 3.0\n"
          ]
        }
      ]
    },
    {
      "cell_type": "code",
      "source": [
        "options2[\"parameter4\"] = 4.0"
      ],
      "metadata": {
        "id": "KYl7MZVb6ZEk"
      },
      "execution_count": 63,
      "outputs": []
    },
    {
      "cell_type": "code",
      "source": [
        "print(options2)"
      ],
      "metadata": {
        "id": "btE4em-o7FqU",
        "outputId": "9d546a7b-a3fe-403c-a527-31ddfb9b6adf",
        "colab": {
          "base_uri": "https://localhost:8080/"
        }
      },
      "execution_count": 64,
      "outputs": [
        {
          "output_type": "stream",
          "name": "stdout",
          "text": [
            "{'parameter1': 1.0, 'parameter2': 2.0, 'parameter3': 3.0, 'parameter4': 4.0}\n"
          ]
        }
      ]
    },
    {
      "cell_type": "code",
      "source": [
        "statement1 = True\n",
        "statement2 = False\n",
        "\n",
        "if statement1:\n",
        "  print(\"Statement 1 is true\")\n",
        "\n",
        "elif statement2:\n",
        "  print(\"Statment 2 is true\")\n",
        "\n",
        "else:\n",
        "  print(\"statement1 and statement2 are false\")"
      ],
      "metadata": {
        "id": "feX4yOUD7IYk",
        "outputId": "a16e5559-7bfe-4350-b675-e377f080e5d0",
        "colab": {
          "base_uri": "https://localhost:8080/"
        }
      },
      "execution_count": 65,
      "outputs": [
        {
          "output_type": "stream",
          "name": "stdout",
          "text": [
            "Statement 1 is true\n"
          ]
        }
      ]
    },
    {
      "cell_type": "code",
      "source": [
        "statement1 = statement2 = True\n",
        "\n",
        "if statement1:\n",
        "  if statement2:\n",
        "    print('Both statement1 and statement2 are true')"
      ],
      "metadata": {
        "id": "qiwbXEta8O6G",
        "outputId": "d84cf4fd-c295-4786-c41c-8fc0df815cfb",
        "colab": {
          "base_uri": "https://localhost:8080/"
        }
      },
      "execution_count": 66,
      "outputs": [
        {
          "output_type": "stream",
          "name": "stdout",
          "text": [
            "Both statement1 and statement2 are true\n"
          ]
        }
      ]
    },
    {
      "cell_type": "code",
      "source": [
        "# Bad indentation!\n",
        "statement1 = statement2 = True\n",
        "\n",
        "if statement1:\n",
        "  if statement2:\n",
        "  print('Both statement1 and statement2 are true')"
      ],
      "metadata": {
        "id": "OB8YUV0p8u2s",
        "outputId": "f0ae8cb1-ef43-46f4-925a-d4847ee8c68c",
        "colab": {
          "base_uri": "https://localhost:8080/",
          "height": 106
        }
      },
      "execution_count": 67,
      "outputs": [
        {
          "output_type": "error",
          "ename": "IndentationError",
          "evalue": "expected an indented block after 'if' statement on line 5 (<ipython-input-67-17aeb58a8c77>, line 6)",
          "traceback": [
            "\u001b[0;36m  File \u001b[0;32m\"<ipython-input-67-17aeb58a8c77>\"\u001b[0;36m, line \u001b[0;32m6\u001b[0m\n\u001b[0;31m    print('Both statement1 and statement2 are true')\u001b[0m\n\u001b[0m    ^\u001b[0m\n\u001b[0;31mIndentationError\u001b[0m\u001b[0;31m:\u001b[0m expected an indented block after 'if' statement on line 5\n"
          ]
        }
      ]
    },
    {
      "cell_type": "code",
      "source": [
        "statement1 = True\n",
        "\n",
        "if statement1:\n",
        "    print(\"printed if statement1 is True\")\n",
        "\n",
        "    print(\"still inside the if block\")"
      ],
      "metadata": {
        "id": "-2tjZP5u86YV",
        "outputId": "6cf03c00-ef8f-42bb-e587-1cac595a3374",
        "colab": {
          "base_uri": "https://localhost:8080/"
        }
      },
      "execution_count": 68,
      "outputs": [
        {
          "output_type": "stream",
          "name": "stdout",
          "text": [
            "printed if statement1 is True\n",
            "still inside the if block\n"
          ]
        }
      ]
    },
    {
      "cell_type": "code",
      "source": [
        "if statement1:\n",
        "    print(\"printed if statement1 is True\")\n",
        "\n",
        "print(\"now outside the if block\")"
      ],
      "metadata": {
        "id": "HmqHIooi8-XJ",
        "outputId": "bbfeefc7-609e-47ce-961b-37efbda1f975",
        "colab": {
          "base_uri": "https://localhost:8080/"
        }
      },
      "execution_count": 69,
      "outputs": [
        {
          "output_type": "stream",
          "name": "stdout",
          "text": [
            "printed if statement1 is True\n",
            "now outside the if block\n"
          ]
        }
      ]
    },
    {
      "cell_type": "markdown",
      "source": [
        "### Loops\n",
        "Any kind of list can be used in the for loop."
      ],
      "metadata": {
        "id": "WqpdbHnbnW6V"
      }
    },
    {
      "cell_type": "code",
      "source": [
        "for x in [1,2,3, 100, -5]:\n",
        "  print(x)"
      ],
      "metadata": {
        "id": "jbsOepesnZHr",
        "outputId": "8bb4addc-43d7-4e33-f9a9-16dc23c9487f",
        "colab": {
          "base_uri": "https://localhost:8080/"
        }
      },
      "execution_count": 71,
      "outputs": [
        {
          "output_type": "stream",
          "name": "stdout",
          "text": [
            "1\n",
            "2\n",
            "3\n",
            "100\n",
            "-5\n"
          ]
        }
      ]
    },
    {
      "cell_type": "code",
      "source": [
        "for x in range(5):\n",
        "  print(x)"
      ],
      "metadata": {
        "id": "RnUWyzjBnjnF",
        "outputId": "caf2c5f2-a4b4-425d-94a5-601fc2f72639",
        "colab": {
          "base_uri": "https://localhost:8080/"
        }
      },
      "execution_count": 72,
      "outputs": [
        {
          "output_type": "stream",
          "name": "stdout",
          "text": [
            "0\n",
            "1\n",
            "2\n",
            "3\n",
            "4\n"
          ]
        }
      ]
    },
    {
      "cell_type": "code",
      "source": [
        "for x in range(-4,4): # list of integers\n",
        "  print(\"Value %d\" % (2*x))"
      ],
      "metadata": {
        "id": "63g0FWE8n2mn",
        "outputId": "4e215aa8-34e1-46ce-defa-56369aebc0f9",
        "colab": {
          "base_uri": "https://localhost:8080/"
        }
      },
      "execution_count": 75,
      "outputs": [
        {
          "output_type": "stream",
          "name": "stdout",
          "text": [
            "Value -8\n",
            "Value -6\n",
            "Value -4\n",
            "Value -2\n",
            "Value 0\n",
            "Value 2\n",
            "Value 4\n",
            "Value 6\n"
          ]
        }
      ]
    },
    {
      "cell_type": "code",
      "source": [
        "for word in [\"scientific\", \"computing\", \"with\", \"python\"]: # list of strings\n",
        "  print(word)"
      ],
      "metadata": {
        "id": "iFVQyC5aoBlA",
        "outputId": "db5b421a-9cb9-4959-bd96-c13cc6e40ddb",
        "colab": {
          "base_uri": "https://localhost:8080/"
        }
      },
      "execution_count": 76,
      "outputs": [
        {
          "output_type": "stream",
          "name": "stdout",
          "text": [
            "scientific\n",
            "computing\n",
            "with\n",
            "python\n"
          ]
        }
      ]
    },
    {
      "cell_type": "code",
      "source": [
        "for key, value in options.items():\n",
        "  print(key + \" = \" + str(value))"
      ],
      "metadata": {
        "id": "sjT3qzRkobAP",
        "outputId": "eddfd9fd-7211-4a15-88ac-de68cc5f59f6",
        "colab": {
          "base_uri": "https://localhost:8080/"
        }
      },
      "execution_count": 77,
      "outputs": [
        {
          "output_type": "stream",
          "name": "stdout",
          "text": [
            "epoch number = 1.0\n",
            "initial learning rate = 0.002\n",
            "normalization technique = bnorm\n"
          ]
        }
      ]
    },
    {
      "cell_type": "code",
      "source": [
        "for key, value in options2.items():\n",
        "  print(key + \" = \" + str(value))"
      ],
      "metadata": {
        "id": "vydqb8MdpKih",
        "outputId": "87bb2370-996a-48dc-9813-4d46ebcd819b",
        "colab": {
          "base_uri": "https://localhost:8080/"
        }
      },
      "execution_count": 78,
      "outputs": [
        {
          "output_type": "stream",
          "name": "stdout",
          "text": [
            "parameter1 = 1.0\n",
            "parameter2 = 2.0\n",
            "parameter3 = 3.0\n",
            "parameter4 = 4.0\n"
          ]
        }
      ]
    },
    {
      "cell_type": "code",
      "source": [
        "for idx, x in enumerate(range(-3,3)):\n",
        "  print(idx, x)"
      ],
      "metadata": {
        "id": "oA3GTpYhrARo",
        "outputId": "33bd6703-d101-4a07-95c4-b25dee898195",
        "colab": {
          "base_uri": "https://localhost:8080/"
        }
      },
      "execution_count": 84,
      "outputs": [
        {
          "output_type": "stream",
          "name": "stdout",
          "text": [
            "0 -3\n",
            "1 -2\n",
            "2 -1\n",
            "3 0\n",
            "4 1\n",
            "5 2\n"
          ]
        }
      ]
    },
    {
      "cell_type": "code",
      "source": [
        "l1 = [x**3 for x in range(0,4)]\n",
        "print(l1)"
      ],
      "metadata": {
        "id": "-In52l49rZEk",
        "outputId": "3c38caa3-923b-4587-83bb-192bb48fae64",
        "colab": {
          "base_uri": "https://localhost:8080/"
        }
      },
      "execution_count": 86,
      "outputs": [
        {
          "output_type": "stream",
          "name": "stdout",
          "text": [
            "[0, 1, 8, 27]\n"
          ]
        }
      ]
    },
    {
      "cell_type": "code",
      "source": [
        "i = 0\n",
        "\n",
        "while i<5:\n",
        "  print(i)\n",
        "  i = i + 1\n",
        "\n",
        "print('Done!')"
      ],
      "metadata": {
        "id": "DE7CzkUXr3CV",
        "outputId": "f8e9e833-ecf1-42ba-d037-eec450eaf63d",
        "colab": {
          "base_uri": "https://localhost:8080/"
        }
      },
      "execution_count": 87,
      "outputs": [
        {
          "output_type": "stream",
          "name": "stdout",
          "text": [
            "0\n",
            "1\n",
            "2\n",
            "3\n",
            "4\n",
            "Done!\n"
          ]
        }
      ]
    },
    {
      "cell_type": "markdown",
      "source": [
        "### Functions\n",
        "A function in Python is defined using the keyword def, followed by a function name, a signature within parentheses (), and a colon :. The following code, with one additional level of indentation, is the function body."
      ],
      "metadata": {
        "id": "idAuDdbhvJyD"
      }
    },
    {
      "cell_type": "code",
      "source": [
        "def func0():\n",
        "  print('Welcome!')"
      ],
      "metadata": {
        "id": "DbOpOzlIsJp6"
      },
      "execution_count": 89,
      "outputs": []
    },
    {
      "cell_type": "code",
      "source": [
        "func0()"
      ],
      "metadata": {
        "id": "7hmE7hVrvXRx",
        "outputId": "719d950f-e27d-4184-b306-feb37e568f55",
        "colab": {
          "base_uri": "https://localhost:8080/"
        }
      },
      "execution_count": 90,
      "outputs": [
        {
          "output_type": "stream",
          "name": "stdout",
          "text": [
            "Welcome!\n"
          ]
        }
      ]
    },
    {
      "cell_type": "code",
      "source": [
        "def func1(s):\n",
        "  \"\"\"\n",
        "  Print a string 's' and tell how many characters it has\n",
        "  \"\"\"\n",
        "  print(s + \" has \" + str(len(s)) + \" characters\")\n"
      ],
      "metadata": {
        "id": "-CMWVDAWvdH6"
      },
      "execution_count": 100,
      "outputs": []
    },
    {
      "cell_type": "code",
      "source": [
        "help(func1)"
      ],
      "metadata": {
        "id": "jcJE2KWEv_Yq",
        "outputId": "d8cc915c-14f6-4ff5-fbcc-38451558eff2",
        "colab": {
          "base_uri": "https://localhost:8080/"
        }
      },
      "execution_count": 101,
      "outputs": [
        {
          "output_type": "stream",
          "name": "stdout",
          "text": [
            "Help on function func1 in module __main__:\n",
            "\n",
            "func1(s)\n",
            "    Print a string 's' and tell how many characters it has\n",
            "\n"
          ]
        }
      ]
    },
    {
      "cell_type": "code",
      "source": [
        "func1(\"hasan huseyin karaoglu\")"
      ],
      "metadata": {
        "id": "jzZCe4FkwNUc",
        "outputId": "084f17f5-0c9a-4816-a6d7-a28036f670bb",
        "colab": {
          "base_uri": "https://localhost:8080/"
        }
      },
      "execution_count": 102,
      "outputs": [
        {
          "output_type": "stream",
          "name": "stdout",
          "text": [
            "hasan huseyin karaoglu has 22 characters\n"
          ]
        }
      ]
    },
    {
      "cell_type": "code",
      "source": [
        "def square(x):\n",
        "  \"\"\"\n",
        "  Return the square of x.\n",
        "  \"\"\"\n",
        "  return x**2\n",
        "\n",
        "square(5)"
      ],
      "metadata": {
        "id": "dgDbT8HwwlOv",
        "outputId": "3aef5c30-0353-48f1-a56d-d37bb85b50ff",
        "colab": {
          "base_uri": "https://localhost:8080/"
        }
      },
      "execution_count": 105,
      "outputs": [
        {
          "output_type": "execute_result",
          "data": {
            "text/plain": [
              "25"
            ]
          },
          "metadata": {},
          "execution_count": 105
        }
      ]
    },
    {
      "cell_type": "code",
      "source": [
        "def powers(x):\n",
        "  \"\"\"\n",
        "  Return a few powers of x.\n",
        "  \"\"\"\n",
        "  return x**2, x**3, x**4\n",
        "\n",
        "powers(5)"
      ],
      "metadata": {
        "id": "Tyl45_z07eA3",
        "outputId": "8f93b46c-c650-4934-dd48-9c75bde40f61",
        "colab": {
          "base_uri": "https://localhost:8080/"
        }
      },
      "execution_count": 108,
      "outputs": [
        {
          "output_type": "execute_result",
          "data": {
            "text/plain": [
              "(25, 125, 625)"
            ]
          },
          "metadata": {},
          "execution_count": 108
        }
      ]
    },
    {
      "cell_type": "code",
      "source": [
        "x1, x2, x3 = powers(3)\n",
        "print(x1, x2, x3)\n",
        "print(\"The fourth power is\", x3)"
      ],
      "metadata": {
        "id": "mSxWa2m77zRg",
        "outputId": "807f92a4-1301-44d3-c95a-c90b206931ba",
        "colab": {
          "base_uri": "https://localhost:8080/"
        }
      },
      "execution_count": 114,
      "outputs": [
        {
          "output_type": "stream",
          "name": "stdout",
          "text": [
            "9 27 81\n",
            "The fourth power is 81\n"
          ]
        }
      ]
    },
    {
      "cell_type": "markdown",
      "source": [
        "In a definition of a function, we can give default values to the arguments the function takes:\n",
        "\n"
      ],
      "metadata": {
        "id": "nP8lDV3x8YnH"
      }
    },
    {
      "cell_type": "code",
      "source": [
        "def myfunc(x, p=2, debug=False):\n",
        "    if debug:\n",
        "        print(\"evaluating myfunc for x = \" + str(x) + \" using exponent p = \" + str(p))\n",
        "    return x**p\n",
        "\n",
        "myfunc(4) # Function call with the default parameters"
      ],
      "metadata": {
        "id": "SCZ2lGSs76De",
        "outputId": "f94ed967-da0a-422d-b9eb-a4094079b6b1",
        "colab": {
          "base_uri": "https://localhost:8080/"
        }
      },
      "execution_count": 128,
      "outputs": [
        {
          "output_type": "execute_result",
          "data": {
            "text/plain": [
              "16"
            ]
          },
          "metadata": {},
          "execution_count": 128
        }
      ]
    },
    {
      "cell_type": "code",
      "source": [
        "myfunc(4, debug=True) # Function call when debug is true"
      ],
      "metadata": {
        "id": "5lWLzigM8xzj",
        "outputId": "57484d99-5919-4990-d2bb-013cdf2846c8",
        "colab": {
          "base_uri": "https://localhost:8080/"
        }
      },
      "execution_count": 129,
      "outputs": [
        {
          "output_type": "stream",
          "name": "stdout",
          "text": [
            "evaluating myfunc for x = 4 using exponent p = 2\n"
          ]
        },
        {
          "output_type": "execute_result",
          "data": {
            "text/plain": [
              "16"
            ]
          },
          "metadata": {},
          "execution_count": 129
        }
      ]
    },
    {
      "cell_type": "code",
      "source": [
        "myfunc(4, p=3, debug=True) # Function call when the power is three and debug is true"
      ],
      "metadata": {
        "id": "YcTOYtqu-sPZ",
        "outputId": "a12740d1-67fa-45cf-976a-df403641d6e5",
        "colab": {
          "base_uri": "https://localhost:8080/"
        }
      },
      "execution_count": 130,
      "outputs": [
        {
          "output_type": "stream",
          "name": "stdout",
          "text": [
            "evaluating myfunc for x = 4 using exponent p = 3\n"
          ]
        },
        {
          "output_type": "execute_result",
          "data": {
            "text/plain": [
              "64"
            ]
          },
          "metadata": {},
          "execution_count": 130
        }
      ]
    },
    {
      "cell_type": "markdown",
      "source": [
        "If we explicitly list the name of the arguments in the function calls, they do not need to come in the same order as in the function definition. This is called keyword arguments, and is often very useful in functions that takes a lot of optional arguments."
      ],
      "metadata": {
        "id": "tc4RaSle-9Eb"
      }
    },
    {
      "cell_type": "code",
      "source": [
        "myfunc(debug=True, p=4, x=3)"
      ],
      "metadata": {
        "id": "1xP0WdDf-_cP",
        "outputId": "c5e8b9e5-d1b8-4dc0-96dd-310e54336ab8",
        "colab": {
          "base_uri": "https://localhost:8080/"
        }
      },
      "execution_count": 131,
      "outputs": [
        {
          "output_type": "stream",
          "name": "stdout",
          "text": [
            "evaluating myfunc for x = 3 using exponent p = 4\n"
          ]
        },
        {
          "output_type": "execute_result",
          "data": {
            "text/plain": [
              "81"
            ]
          },
          "metadata": {},
          "execution_count": 131
        }
      ]
    },
    {
      "cell_type": "markdown",
      "source": [
        "### Lambda Functions\n"
      ],
      "metadata": {
        "id": "lUyUYqkq_RH8"
      }
    },
    {
      "cell_type": "code",
      "source": [
        "f1 = lambda x: x**2\n",
        "\n",
        "f1(4)"
      ],
      "metadata": {
        "id": "EQuVRNN3_XmW",
        "outputId": "36c36f94-5ff1-4152-8381-2a61c754f250",
        "colab": {
          "base_uri": "https://localhost:8080/"
        }
      },
      "execution_count": 132,
      "outputs": [
        {
          "output_type": "execute_result",
          "data": {
            "text/plain": [
              "16"
            ]
          },
          "metadata": {},
          "execution_count": 132
        }
      ]
    },
    {
      "cell_type": "code",
      "source": [
        "list(map(lambda x: x**2, range(-3,4)))\n"
      ],
      "metadata": {
        "id": "qltDJO_C_jNS",
        "outputId": "0af6706b-b654-4d22-fa99-2ea52dee9c08",
        "colab": {
          "base_uri": "https://localhost:8080/"
        }
      },
      "execution_count": 135,
      "outputs": [
        {
          "output_type": "execute_result",
          "data": {
            "text/plain": [
              "[9, 4, 1, 0, 1, 4, 9]"
            ]
          },
          "metadata": {},
          "execution_count": 135
        }
      ]
    },
    {
      "cell_type": "markdown",
      "source": [
        "### Classes"
      ],
      "metadata": {
        "id": "S3gOkcAJA3sc"
      }
    },
    {
      "cell_type": "code",
      "source": [
        "class Point:\n",
        "    \"\"\"\n",
        "    Simple class for representing a point in a Cartesian coordinate system.\n",
        "    \"\"\"\n",
        "\n",
        "    def __init__(self, x, y):\n",
        "        \"\"\"\n",
        "        Create a new Point at x, y.\n",
        "        \"\"\"\n",
        "        self.x = x\n",
        "        self.y = y\n",
        "\n",
        "    def translate(self, dx, dy):\n",
        "        \"\"\"\n",
        "        Translate the point by dx and dy in the x and y direction.\n",
        "        \"\"\"\n",
        "        self.x += dx\n",
        "        self.y += dy\n",
        "\n",
        "    def __str__(self):\n",
        "        return(\"Point at [%f, %f]\" % (self.x, self.y))"
      ],
      "metadata": {
        "id": "2JWqewAUA3MP"
      },
      "execution_count": null,
      "outputs": []
    }
  ],
  "metadata": {
    "colab": {
      "name": "Overview of Colaboratory Features",
      "provenance": [],
      "include_colab_link": true
    },
    "kernelspec": {
      "display_name": "Python 3",
      "name": "python3"
    }
  },
  "nbformat": 4,
  "nbformat_minor": 0
}